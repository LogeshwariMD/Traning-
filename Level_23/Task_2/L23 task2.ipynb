{
 "cells": [
  {
   "cell_type": "code",
   "execution_count": 2,
   "id": "4525c8f5-04df-46d6-9b4c-16e2662028a2",
   "metadata": {},
   "outputs": [],
   "source": [
    "import pandas as pd\n",
    "import plotly.express as px\n",
    "import matplotlib.pyplot as plt"
   ]
  },
  {
   "cell_type": "code",
   "execution_count": 3,
   "id": "9e4cdb48-6cf8-4b5c-85be-af14277b4f7e",
   "metadata": {},
   "outputs": [
    {
     "data": {
      "text/html": [
       "<div>\n",
       "<style scoped>\n",
       "    .dataframe tbody tr th:only-of-type {\n",
       "        vertical-align: middle;\n",
       "    }\n",
       "\n",
       "    .dataframe tbody tr th {\n",
       "        vertical-align: top;\n",
       "    }\n",
       "\n",
       "    .dataframe thead th {\n",
       "        text-align: right;\n",
       "    }\n",
       "</style>\n",
       "<table border=\"1\" class=\"dataframe\">\n",
       "  <thead>\n",
       "    <tr style=\"text-align: right;\">\n",
       "      <th></th>\n",
       "      <th>country</th>\n",
       "      <th>1800</th>\n",
       "      <th>1801</th>\n",
       "      <th>1802</th>\n",
       "      <th>1803</th>\n",
       "      <th>1804</th>\n",
       "      <th>1805</th>\n",
       "      <th>1806</th>\n",
       "      <th>1807</th>\n",
       "      <th>1808</th>\n",
       "      <th>...</th>\n",
       "      <th>2091</th>\n",
       "      <th>2092</th>\n",
       "      <th>2093</th>\n",
       "      <th>2094</th>\n",
       "      <th>2095</th>\n",
       "      <th>2096</th>\n",
       "      <th>2097</th>\n",
       "      <th>2098</th>\n",
       "      <th>2099</th>\n",
       "      <th>2100</th>\n",
       "    </tr>\n",
       "  </thead>\n",
       "  <tbody>\n",
       "    <tr>\n",
       "      <th>0</th>\n",
       "      <td>Afghanistan</td>\n",
       "      <td>1.330</td>\n",
       "      <td>1.330</td>\n",
       "      <td>1.330</td>\n",
       "      <td>1.330</td>\n",
       "      <td>1.330</td>\n",
       "      <td>1.330</td>\n",
       "      <td>1.330</td>\n",
       "      <td>1.330</td>\n",
       "      <td>1.330</td>\n",
       "      <td>...</td>\n",
       "      <td>10.7</td>\n",
       "      <td>10.9</td>\n",
       "      <td>11.2</td>\n",
       "      <td>11.4</td>\n",
       "      <td>11.7</td>\n",
       "      <td>12.0</td>\n",
       "      <td>12.3</td>\n",
       "      <td>12.6</td>\n",
       "      <td>12.8</td>\n",
       "      <td>13.2</td>\n",
       "    </tr>\n",
       "    <tr>\n",
       "      <th>1</th>\n",
       "      <td>Angola</td>\n",
       "      <td>0.779</td>\n",
       "      <td>0.781</td>\n",
       "      <td>0.785</td>\n",
       "      <td>0.789</td>\n",
       "      <td>0.791</td>\n",
       "      <td>0.795</td>\n",
       "      <td>0.799</td>\n",
       "      <td>0.802</td>\n",
       "      <td>0.806</td>\n",
       "      <td>...</td>\n",
       "      <td>19.8</td>\n",
       "      <td>20.2</td>\n",
       "      <td>20.6</td>\n",
       "      <td>21.0</td>\n",
       "      <td>21.4</td>\n",
       "      <td>21.9</td>\n",
       "      <td>22.3</td>\n",
       "      <td>22.7</td>\n",
       "      <td>23.2</td>\n",
       "      <td>23.6</td>\n",
       "    </tr>\n",
       "    <tr>\n",
       "      <th>2</th>\n",
       "      <td>Albania</td>\n",
       "      <td>0.919</td>\n",
       "      <td>0.921</td>\n",
       "      <td>0.924</td>\n",
       "      <td>0.927</td>\n",
       "      <td>0.929</td>\n",
       "      <td>0.932</td>\n",
       "      <td>0.935</td>\n",
       "      <td>0.937</td>\n",
       "      <td>0.940</td>\n",
       "      <td>...</td>\n",
       "      <td>56.7</td>\n",
       "      <td>57.4</td>\n",
       "      <td>58.0</td>\n",
       "      <td>58.6</td>\n",
       "      <td>59.2</td>\n",
       "      <td>59.8</td>\n",
       "      <td>60.5</td>\n",
       "      <td>61.1</td>\n",
       "      <td>61.7</td>\n",
       "      <td>62.3</td>\n",
       "    </tr>\n",
       "    <tr>\n",
       "      <th>3</th>\n",
       "      <td>Andorra</td>\n",
       "      <td>1.880</td>\n",
       "      <td>1.880</td>\n",
       "      <td>1.880</td>\n",
       "      <td>1.890</td>\n",
       "      <td>1.890</td>\n",
       "      <td>1.890</td>\n",
       "      <td>1.900</td>\n",
       "      <td>1.900</td>\n",
       "      <td>1.900</td>\n",
       "      <td>...</td>\n",
       "      <td>87.1</td>\n",
       "      <td>87.4</td>\n",
       "      <td>87.8</td>\n",
       "      <td>88.1</td>\n",
       "      <td>88.4</td>\n",
       "      <td>88.7</td>\n",
       "      <td>89.0</td>\n",
       "      <td>89.3</td>\n",
       "      <td>89.6</td>\n",
       "      <td>89.9</td>\n",
       "    </tr>\n",
       "    <tr>\n",
       "      <th>4</th>\n",
       "      <td>UAE</td>\n",
       "      <td>1.650</td>\n",
       "      <td>1.660</td>\n",
       "      <td>1.670</td>\n",
       "      <td>1.670</td>\n",
       "      <td>1.680</td>\n",
       "      <td>1.680</td>\n",
       "      <td>1.690</td>\n",
       "      <td>1.700</td>\n",
       "      <td>1.700</td>\n",
       "      <td>...</td>\n",
       "      <td>102.0</td>\n",
       "      <td>102.0</td>\n",
       "      <td>102.0</td>\n",
       "      <td>102.0</td>\n",
       "      <td>102.0</td>\n",
       "      <td>102.0</td>\n",
       "      <td>102.0</td>\n",
       "      <td>102.0</td>\n",
       "      <td>102.0</td>\n",
       "      <td>103.0</td>\n",
       "    </tr>\n",
       "  </tbody>\n",
       "</table>\n",
       "<p>5 rows × 302 columns</p>\n",
       "</div>"
      ],
      "text/plain": [
       "       country   1800   1801   1802   1803   1804   1805   1806   1807   1808  \\\n",
       "0  Afghanistan  1.330  1.330  1.330  1.330  1.330  1.330  1.330  1.330  1.330   \n",
       "1       Angola  0.779  0.781  0.785  0.789  0.791  0.795  0.799  0.802  0.806   \n",
       "2      Albania  0.919  0.921  0.924  0.927  0.929  0.932  0.935  0.937  0.940   \n",
       "3      Andorra  1.880  1.880  1.880  1.890  1.890  1.890  1.900  1.900  1.900   \n",
       "4          UAE  1.650  1.660  1.670  1.670  1.680  1.680  1.690  1.700  1.700   \n",
       "\n",
       "   ...   2091   2092   2093   2094   2095   2096   2097   2098   2099   2100  \n",
       "0  ...   10.7   10.9   11.2   11.4   11.7   12.0   12.3   12.6   12.8   13.2  \n",
       "1  ...   19.8   20.2   20.6   21.0   21.4   21.9   22.3   22.7   23.2   23.6  \n",
       "2  ...   56.7   57.4   58.0   58.6   59.2   59.8   60.5   61.1   61.7   62.3  \n",
       "3  ...   87.1   87.4   87.8   88.1   88.4   88.7   89.0   89.3   89.6   89.9  \n",
       "4  ...  102.0  102.0  102.0  102.0  102.0  102.0  102.0  102.0  102.0  103.0  \n",
       "\n",
       "[5 rows x 302 columns]"
      ]
     },
     "execution_count": 3,
     "metadata": {},
     "output_type": "execute_result"
    }
   ],
   "source": [
    "df = pd.read_csv(\"mincpcap_cppp.csv\")\n",
    "df.head()"
   ]
  },
  {
   "cell_type": "code",
   "execution_count": 4,
   "id": "a8cc5286-96e4-4ea5-90bd-11bfb5b11ec0",
   "metadata": {},
   "outputs": [
    {
     "name": "stdout",
     "output_type": "stream",
     "text": [
      "Column Names: Index(['country', '1800', '1801', '1802', '1803', '1804', '1805', '1806',\n",
      "       '1807', '1808',\n",
      "       ...\n",
      "       '2091', '2092', '2093', '2094', '2095', '2096', '2097', '2098', '2099',\n",
      "       '2100'],\n",
      "      dtype='object', length=302)\n"
     ]
    }
   ],
   "source": [
    "print(\"Column Names:\", df.columns)"
   ]
  },
  {
   "cell_type": "code",
   "execution_count": 5,
   "id": "1c0b61bb-ae9d-4cb5-90ea-d59a19592b08",
   "metadata": {},
   "outputs": [],
   "source": [
    "df_long = df.melt(id_vars=['country'], var_name='Year', value_name='Income')\n"
   ]
  },
  {
   "cell_type": "code",
   "execution_count": 6,
   "id": "40d26c8b-dfbf-4661-a07c-959a02723b8f",
   "metadata": {},
   "outputs": [],
   "source": [
    "df_long['Year'] = pd.to_numeric(df_long['Year'], errors='coerce')\n",
    "df_long['Income'] = pd.to_numeric(df_long['Income'], errors='coerce')"
   ]
  },
  {
   "cell_type": "code",
   "execution_count": 7,
   "id": "62f23046-1878-43c6-a4ef-dd613ac76ff8",
   "metadata": {},
   "outputs": [],
   "source": [
    "df_long.dropna(inplace=True)"
   ]
  },
  {
   "cell_type": "code",
   "execution_count": 8,
   "id": "d05e3a86-0f80-4144-9714-79ec40f0c95f",
   "metadata": {},
   "outputs": [],
   "source": [
    "summary = df_long.groupby('Year')['Income'].agg(['mean', 'min', 'max']).reset_index()\n",
    "summary.columns = ['Year', 'Average_Income', 'Min_Income', 'Max_Income']\n"
   ]
  },
  {
   "cell_type": "code",
   "execution_count": 9,
   "id": "fe7a24ec-ce2f-46c2-ae8e-9391d955df91",
   "metadata": {},
   "outputs": [
    {
     "data": {
      "text/plain": [
       "[<matplotlib.lines.Line2D at 0x25b4498fa10>]"
      ]
     },
     "execution_count": 9,
     "metadata": {},
     "output_type": "execute_result"
    },
    {
     "data": {
      "image/png": "[encoded data removed]",
      "text/plain": [
       "<Figure size 1400x600 with 1 Axes>"
      ]
     },
     "metadata": {},
     "output_type": "display_data"
    }
   ],
   "source": [
    "plt.figure(figsize=(14, 6))\n",
    "plt.plot(summary['Year'], summary['Average_Income'], label='Average Income', color='blue')\n",
    "plt.plot(summary['Year'], summary['Min_Income'], label='Min Income', color='red')\n",
    "plt.plot(summary['Year'], summary['Max_Income'], label='Max Income', color='green')\n"
   ]
  },
  {
   "cell_type": "code",
   "execution_count": null,
   "id": "fa46ebd3-52e6-4f45-bdc3-b56bda5805b0",
   "metadata": {},
   "outputs": [],
   "source": []
  },
  {
   "cell_type": "code",
   "execution_count": null,
   "id": "18a5b26c-20c4-461e-b241-f60ad7c0f83e",
   "metadata": {},
   "outputs": [],
   "source": []
  }
 ],
 "metadata": {
  "kernelspec": {
   "display_name": "Python 3 (ipykernel)",
   "language": "python",
   "name": "python3"
  },
  "language_info": {
   "codemirror_mode": {
    "name": "ipython",
    "version": 3
   },
   "file_extension": ".py",
   "mimetype": "text/x-python",
   "name": "python",
   "nbconvert_exporter": "python",
   "pygments_lexer": "ipython3",
   "version": "3.12.4"
  }
 },
 "nbformat": 4,
 "nbformat_minor": 5
}
