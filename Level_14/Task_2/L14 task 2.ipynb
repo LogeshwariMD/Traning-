{
 "cells": [
  {
   "cell_type": "markdown",
   "id": "e1ed20cf-b994-4739-81a5-39af5d352e18",
   "metadata": {},
   "source": [
    "Task 2: Scrape all matches"
   ]
  },
  {
   "cell_type": "code",
   "execution_count": 1,
   "id": "4bafbaf3-8776-4288-bd17-6a757a4461e1",
   "metadata": {},
   "outputs": [],
   "source": [
    "import time\n",
    "import pandas as pd\n",
    "from selenium import webdriver\n",
    "from selenium.webdriver.chrome.service import Service\n",
    "from selenium.webdriver.chrome.options import Options\n",
    "from bs4 import BeautifulSoup\n"
   ]
  },
  {
   "cell_type": "code",
   "execution_count": 2,
   "id": "0d8e5f82-fb4a-4225-bf9e-a3cf01355bbb",
   "metadata": {},
   "outputs": [],
   "source": [
    "chrome_driver_path = r\"C:\\Users\\loges\\Downloads\\chromedriver-win64\\chromedriver-win64\\chromedriver.exe\"\n",
    "chrome_options = Options()\n",
    "chrome_options.add_argument(\"--headless\")  \n",
    "chrome_options.add_argument(\"--no-sandbox\")\n",
    "chrome_options.add_argument(\"--disable-dev-shm-usage\")\n",
    "\n",
    "\n",
    "  \n",
    " \n",
    "\n"
   ]
  },
  {
   "cell_type": "code",
   "execution_count": 3,
   "id": "c14bfaf7-835d-4042-8ff4-ea2dbdbbe193",
   "metadata": {},
   "outputs": [],
   "source": [
    "service = Service(chrome_driver_path)\n",
    "driver = webdriver.Chrome(service=service, options=chrome_options)\n",
    "url = 'https://www.cricbuzz.com/cricket-series/3472/indian-premier-league-2021/matches'\n",
    "driver.get(url)\n",
    "time.sleep(3) \n",
    "soup = BeautifulSoup(driver.page_source, 'html.parser')\n",
    "driver.quit()\n",
    "matches = soup.find_all('div', class_='cb-col-60 cb-col cb-srs-mtchs-tm')\n",
    "\n",
    "\n",
    "\n",
    "\n"
   ]
  },
  {
   "cell_type": "code",
   "execution_count": 4,
   "id": "5dfda0b1-72d6-4a9e-9d24-3e2ab317ad90",
   "metadata": {},
   "outputs": [],
   "source": [
    "data = []\n",
    "\n",
    "for match in matches:\n",
    "    try:\n",
    "        match_link = match.find('a', href=True)\n",
    "        match_href = 'https://www.cricbuzz.com' + match_link['href'] if match_link else ''\n",
    "        match_name = match_link.text.strip() if match_link else ''\n",
    "\n",
    "        teams = match.find_all('div', class_='cb-hmscg-tm-nm')\n",
    "        team1 = teams[0].text.strip() if len(teams) > 0 else ''\n",
    "        team2 = teams[1].text.strip() if len(teams) > 1 else ''\n",
    "\n",
    "        date_div = match.find_next('div', class_='cb-col cb-col-100 cb-srs-mtchs-tm-dt')\n",
    "        match_datetime_start = date_div.text.strip() if date_div else ''\n",
    "\n",
    "        venue_div = match.find_next('div', class_='cb-col cb-col-100 cb-srs-mtchs-tm-vnu')\n",
    "        match_venue = venue_div.text.strip() if venue_div else ''\n",
    "\n",
    "        match_no_div = match.find_previous('h2')\n",
    "        match_no = match_no_div.text.strip() if match_no_div else ''\n",
    "\n",
    "       \n",
    "        row = {\n",
    "            'year': '2021',\n",
    "            'series_type': 'T20',\n",
    "            'series_name': 'Indian Premier League 2021',\n",
    "            'match_no': match_no,\n",
    "            'match_type': 'League',\n",
    "            'match_name': match_name,\n",
    "            'match_href': match_href,\n",
    "            'match_team1': team1,\n",
    "            'match_team2': team2,\n",
    "            'match_datetime_start': match_datetime_start,\n",
    "            'match_date_end': match_datetime_start,\n",
    "            'match_venue': match_venue\n",
    "        }\n",
    "        data.append(row)\n",
    "    except Exception as e:\n",
    "        print(f\"Error processing match: {e}\")\n",
    "\n",
    "   \n",
    "            \n",
    "\n"
   ]
  },
  {
   "cell_type": "code",
   "execution_count": 6,
   "id": "7b82703c-a55c-4ae8-825c-331862d91e88",
   "metadata": {},
   "outputs": [
    {
     "name": "stdout",
     "output_type": "stream",
     "text": [
      "   year series_type                 series_name match_no match_type  \\\n",
      "0  2021         T20  Indian Premier League 2021              League   \n",
      "1  2021         T20  Indian Premier League 2021              League   \n",
      "2  2021         T20  Indian Premier League 2021              League   \n",
      "3  2021         T20  Indian Premier League 2021              League   \n",
      "4  2021         T20  Indian Premier League 2021              League   \n",
      "\n",
      "                                          match_name  \\\n",
      "0  MUMBAI INDIANS vs ROYAL CHALLENGERS BENGALURU,...   \n",
      "1   CHENNAI SUPER KINGS vs DELHI CAPITALS, 2nd Match   \n",
      "2  SUNRISERS HYDERABAD vs KOLKATA KNIGHT RIDERS, ...   \n",
      "3        RAJASTHAN ROYALS vs PUNJAB KINGS, 4th Match   \n",
      "4  KOLKATA KNIGHT RIDERS vs MUMBAI INDIANS, 5th M...   \n",
      "\n",
      "                                          match_href match_team1 match_team2  \\\n",
      "0  https://www.cricbuzz.com/cricket-scores/35612/...                           \n",
      "1  https://www.cricbuzz.com/cricket-scores/35617/...                           \n",
      "2  https://www.cricbuzz.com/cricket-scores/35618/...                           \n",
      "3  https://www.cricbuzz.com/cricket-scores/35622/...                           \n",
      "4  https://www.cricbuzz.com/cricket-scores/35627/...                           \n",
      "\n",
      "  match_datetime_start match_date_end match_venue  \n",
      "0                                                  \n",
      "1                                                  \n",
      "2                                                  \n",
      "3                                                  \n",
      "4                                                  \n",
      "Data scraped and saved successfully!\n"
     ]
    }
   ],
   "source": [
    "df = pd.DataFrame(data)\n",
    "df.to_csv('ipl_2021_matches.csv', index=False)\n",
    "print(df.head())\n",
    "print(\"Data scraped and saved successfully!\")"
   ]
  },
  {
   "cell_type": "code",
   "execution_count": null,
   "id": "5b7d18bb-c269-440a-a84b-41458de0bda3",
   "metadata": {},
   "outputs": [],
   "source": [
    "\n",
    "   \n",
    "\n",
    "\n",
    "\n",
    "\n",
    "        "
   ]
  },
  {
   "cell_type": "code",
   "execution_count": null,
   "id": "597d3145-c857-40a1-8872-e21fb0fe84f2",
   "metadata": {},
   "outputs": [],
   "source": [
    "\n",
    "   "
   ]
  },
  {
   "cell_type": "code",
   "execution_count": null,
   "id": "76726804-fe12-4549-ab2b-744097b72d77",
   "metadata": {},
   "outputs": [],
   "source": [
    "\n",
    "\n"
   ]
  },
  {
   "cell_type": "code",
   "execution_count": null,
   "id": "e44a8a9b-c374-4958-af85-b6f80e7e64a8",
   "metadata": {},
   "outputs": [],
   "source": []
  }
 ],
 "metadata": {
  "kernelspec": {
   "display_name": "Python 3 (ipykernel)",
   "language": "python",
   "name": "python3"
  },
  "language_info": {
   "codemirror_mode": {
    "name": "ipython",
    "version": 3
   },
   "file_extension": ".py",
   "mimetype": "text/x-python",
   "name": "python",
   "nbconvert_exporter": "python",
   "pygments_lexer": "ipython3",
   "version": "3.12.4"
  }
 },
 "nbformat": 4,
 "nbformat_minor": 5
}
