{
 "cells": [
  {
   "cell_type": "markdown",
   "id": "73afb4cd-15f3-4c35-a278-831db3b40ccd",
   "metadata": {},
   "source": [
    "task 3 \t\n",
    "Scrape ball by ball commentary"
   ]
  },
  {
   "cell_type": "code",
   "execution_count": 1,
   "id": "ea2b7163-3dc4-40cc-9bfa-0bb9ea400a7a",
   "metadata": {},
   "outputs": [],
   "source": [
    "import requests\n",
    "from bs4 import BeautifulSoup"
   ]
  },
  {
   "cell_type": "code",
   "execution_count": 2,
   "id": "547a63db-9053-4b45-a820-4280de8e45cd",
   "metadata": {},
   "outputs": [],
   "source": [
    "url = 'https://www.cricbuzz.com/cricket-full-commentary/35612/mi-vs-rcb-1st-match-indian-premier-league-2021'"
   ]
  },
  {
   "cell_type": "code",
   "execution_count": 3,
   "id": "a55434fb-2814-4398-8793-506c303363f1",
   "metadata": {},
   "outputs": [],
   "source": [
    "response = requests.get(url)"
   ]
  },
  {
   "cell_type": "code",
   "execution_count": 4,
   "id": "5edcfea5-4d63-4b73-a75d-37b21f4b7812",
   "metadata": {},
   "outputs": [
    {
     "name": "stdout",
     "output_type": "stream",
     "text": [
      "Unable to get commentary because it is loaded dynamically.\n"
     ]
    }
   ],
   "source": [
    "if response.status_code == 200:\n",
    "    soup = BeautifulSoup(response.text, 'html.parser')\n",
    "    commentary = soup.find_all('div', class_='cb-col cb-col-100 cb-col cb-com-ln')\n",
    "    if commentary:\n",
    "        for ball in commentary:\n",
    "            over = ball.find('span', class_='cb-col cb-col-8 cb-com-ln-time').text.strip() if ball.find('span', class_='cb-col cb-col-8 cb-com-ln-time') else ''\n",
    "            text = ball.find('div', class_='cb-col cb-col-92 cb-com-ln-text').text.strip() if ball.find('div', class_='cb-col cb-col-92 cb-com-ln-text') else ''\n",
    "            print(f'{over} | {text}')\n",
    "    else:\n",
    "        print(\"Unable to get commentary because it is loaded dynamically.\")\n",
    "else:\n",
    "    print(\"Failed to fetch the page.\")"
   ]
  },
  {
   "cell_type": "code",
   "execution_count": null,
   "id": "85e142b1-096a-4eec-a922-e06931e208b7",
   "metadata": {},
   "outputs": [],
   "source": []
  }
 ],
 "metadata": {
  "kernelspec": {
   "display_name": "Python 3 (ipykernel)",
   "language": "python",
   "name": "python3"
  },
  "language_info": {
   "codemirror_mode": {
    "name": "ipython",
    "version": 3
   },
   "file_extension": ".py",
   "mimetype": "text/x-python",
   "name": "python",
   "nbconvert_exporter": "python",
   "pygments_lexer": "ipython3",
   "version": "3.12.4"
  }
 },
 "nbformat": 4,
 "nbformat_minor": 5
}
