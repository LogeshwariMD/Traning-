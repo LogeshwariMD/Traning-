{
 "cells": [
  {
   "cell_type": "code",
   "execution_count": 6,
   "id": "7d552cd3-8d5f-46db-ab65-eb7e5be79e67",
   "metadata": {},
   "outputs": [],
   "source": [
    "import sqlite3\n",
    "import threading\n",
    "import time\n"
   ]
  },
  {
   "cell_type": "code",
   "execution_count": 7,
   "id": "93935ace-d5cc-45a6-882d-f775019cacf2",
   "metadata": {},
   "outputs": [],
   "source": [
    "connection = sqlite3.connect('acid_demo.db', check_same_thread=False)\n",
    "connection.execute(\"PRAGMA foreign_keys = ON;\")\n",
    "lock = threading.Lock()"
   ]
  },
  {
   "cell_type": "code",
   "execution_count": 8,
   "id": "ea53471f-3a7f-4cf0-8641-6ee2eeb8225b",
   "metadata": {},
   "outputs": [],
   "source": [
    "def setup_database():\n",
    "    with connection:\n",
    "        connection.execute(\"DROP TABLE IF EXISTS accounts;\")\n",
    "        connection.execute(\"CREATE TABLE accounts (id INTEGER PRIMARY KEY, name TEXT, balance REAL CHECK(balance >= 0));\")\n",
    "        connection.execute(\"INSERT INTO accounts (name, balance) VALUES ('Alice', 1000.0), ('Bob', 500.0);\")\n",
    "\n",
    "\n",
    "def demonstrate_atomicity():\n",
    "    try:\n",
    "        with connection:\n",
    "            connection.execute(\"UPDATE accounts SET balance = balance - 200 WHERE name = 'Alice';\")\n",
    "            \n",
    "            connection.execute(\"UPDATE accounts SET balance = balance + 200 WHERE name = 'Charlie';\")\n",
    "    except sqlite3.Error as e:\n",
    "        print(\"Atomicity Violation - Transaction Rolled Back:\", e)\n",
    "\n",
    "\n",
    "def demonstrate_consistency():\n",
    "    try:\n",
    "        with connection:\n",
    "            connection.execute(\"UPDATE accounts SET balance = -100 WHERE name = 'Alice';\")\n",
    "    except sqlite3.Error as e:\n",
    "        print(\"Consistency Violation - Transaction Aborted:\", e)\n",
    "\n",
    "\n",
    "def demonstrate_isolation():\n",
    "    def transaction_1():\n",
    "        with lock:\n",
    "            local_conn = sqlite3.connect('acid_demo.db')\n",
    "            local_conn.execute(\"BEGIN;\")\n",
    "            local_conn.execute(\"UPDATE accounts SET balance = balance - 300 WHERE name = 'Alice';\")\n",
    "            time.sleep(2)\n",
    "            local_conn.execute(\"COMMIT;\")\n",
    "            local_conn.close()\n",
    "\n",
    "    def transaction_2():\n",
    "        with lock:\n",
    "            local_conn = sqlite3.connect('acid_demo.db')\n",
    "            local_conn.execute(\"BEGIN;\")\n",
    "            local_conn.execute(\"UPDATE accounts SET balance = balance + 300 WHERE name = 'Bob';\")\n",
    "            local_conn.execute(\"COMMIT;\")\n",
    "            local_conn.close()\n",
    "\n",
    "    thread1 = threading.Thread(target=transaction_1)\n",
    "    thread2 = threading.Thread(target=transaction_2)\n",
    "    thread1.start()\n",
    "    thread2.start()\n",
    "    thread1.join()\n",
    "    thread2.join()\n",
    "\n",
    "\n",
    "def demonstrate_durability():\n",
    "    with connection:\n",
    "        connection.execute(\"UPDATE accounts SET balance = balance + 100 WHERE name = 'Alice';\")\n",
    "    # Reopen connection to verify\n",
    "    connection.close()\n",
    "    durable_conn = sqlite3.connect('acid_demo.db')\n",
    "    cursor = durable_conn.execute(\"SELECT * FROM accounts;\")\n",
    "    for row in cursor:\n",
    "        print(row)\n",
    "    durable_conn.close()\n",
    "\n",
    "\n",
    "def check_balances():\n",
    "    cursor = connection.execute(\"SELECT * FROM accounts;\")\n",
    "    for row in cursor:\n",
    "        print(row)\n",
    "\n"
   ]
  },
  {
   "cell_type": "code",
   "execution_count": 9,
   "id": "95d395e2-1b84-4f38-9c36-9b7bc6e9b28a",
   "metadata": {},
   "outputs": [
    {
     "name": "stdout",
     "output_type": "stream",
     "text": [
      "Balances before transactions:\n",
      "(1, 'Alice', 1000.0)\n",
      "(2, 'Bob', 500.0)\n",
      "\n",
      "After Atomicity Demonstration:\n",
      "(1, 'Alice', 800.0)\n",
      "(2, 'Bob', 500.0)\n",
      "Consistency Violation - Transaction Aborted: CHECK constraint failed: balance >= 0\n",
      "\n",
      "After Consistency Demonstration:\n",
      "(1, 'Alice', 800.0)\n",
      "(2, 'Bob', 500.0)\n",
      "\n",
      "After Isolation Demonstration:\n",
      "(1, 'Alice', 500.0)\n",
      "(2, 'Bob', 800.0)\n",
      "(1, 'Alice', 600.0)\n",
      "(2, 'Bob', 800.0)\n",
      "\n",
      "After Durability Demonstration:\n"
     ]
    }
   ],
   "source": [
    "# Run demo\n",
    "setup_database()\n",
    "print(\"Balances before transactions:\")\n",
    "check_balances()\n",
    "\n",
    "demonstrate_atomicity()\n",
    "print(\"\\nAfter Atomicity Demonstration:\")\n",
    "check_balances()\n",
    "\n",
    "demonstrate_consistency()\n",
    "print(\"\\nAfter Consistency Demonstration:\")\n",
    "check_balances()\n",
    "\n",
    "demonstrate_isolation()\n",
    "print(\"\\nAfter Isolation Demonstration:\")\n",
    "check_balances()\n",
    "\n",
    "demonstrate_durability()\n",
    "print(\"\\nAfter Durability Demonstration:\")\n"
   ]
  },
  {
   "cell_type": "code",
   "execution_count": null,
   "id": "9fed3eaa-ca72-497b-b191-680571563806",
   "metadata": {},
   "outputs": [],
   "source": []
  }
 ],
 "metadata": {
  "kernelspec": {
   "display_name": "Python 3 (ipykernel)",
   "language": "python",
   "name": "python3"
  },
  "language_info": {
   "codemirror_mode": {
    "name": "ipython",
    "version": 3
   },
   "file_extension": ".py",
   "mimetype": "text/x-python",
   "name": "python",
   "nbconvert_exporter": "python",
   "pygments_lexer": "ipython3",
   "version": "3.12.4"
  }
 },
 "nbformat": 4,
 "nbformat_minor": 5
}
