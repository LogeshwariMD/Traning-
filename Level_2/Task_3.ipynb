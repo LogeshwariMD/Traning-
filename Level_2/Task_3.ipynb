{
 "cells": [
  {
   "cell_type": "markdown",
   "id": "f3d7749e-f953-404a-b5a5-37e16626d0ac",
   "metadata": {},
   "source": [
    "Task 3: Function Calculator"
   ]
  },
  {
   "cell_type": "code",
   "execution_count": 1,
   "id": "f4fdd570-3457-4a74-80dc-3e3921cfbd61",
   "metadata": {},
   "outputs": [],
   "source": [
    "def calc_area(len, wid =8):\n",
    "    return len * wid"
   ]
  },
  {
   "cell_type": "code",
   "execution_count": 2,
   "id": "f9f36a24-9d53-47a6-8091-5cadeb96a576",
   "metadata": {},
   "outputs": [
    {
     "name": "stdout",
     "output_type": "stream",
     "text": [
      "AREA: 40\n"
     ]
    }
   ],
   "source": [
    "area = calc_area(5)\n",
    "print('AREA:' , area)"
   ]
  },
  {
   "cell_type": "code",
   "execution_count": 3,
   "id": "2e7d00b3-1caa-4c7c-b582-ff30af745936",
   "metadata": {},
   "outputs": [],
   "source": [
    "def add_num(num1, num2):\n",
    "    return num1+num2"
   ]
  },
  {
   "cell_type": "code",
   "execution_count": 4,
   "id": "05c83af2-8ded-47cd-94c9-907af6c7dc59",
   "metadata": {},
   "outputs": [
    {
     "data": {
      "text/plain": [
       "59"
      ]
     },
     "execution_count": 4,
     "metadata": {},
     "output_type": "execute_result"
    }
   ],
   "source": [
    "val = add_num(23,36)\n",
    "val"
   ]
  },
  {
   "cell_type": "code",
   "execution_count": 5,
   "id": "25c06f7c-dc51-4705-a955-c1d61b9d8e42",
   "metadata": {},
   "outputs": [],
   "source": [
    "def hello(*args,**kwargs):\n",
    "    print(args)\n",
    "    print(kwargs)"
   ]
  },
  {
   "cell_type": "code",
   "execution_count": 6,
   "id": "a89322f8-9646-4d7b-a759-6063c3dbd0c0",
   "metadata": {},
   "outputs": [
    {
     "name": "stdout",
     "output_type": "stream",
     "text": [
      "('aa', 'mm')\n",
      "{'age': 24, 'dob': 1990}\n"
     ]
    }
   ],
   "source": [
    "hello(\"aa\",'mm',age=24,dob=1990)"
   ]
  },
  {
   "cell_type": "code",
   "execution_count": null,
   "id": "f04f255e-e76a-45c8-9ae4-60b7911c70e6",
   "metadata": {},
   "outputs": [],
   "source": []
  }
 ],
 "metadata": {
  "kernelspec": {
   "display_name": "Python 3 (ipykernel)",
   "language": "python",
   "name": "python3"
  },
  "language_info": {
   "codemirror_mode": {
    "name": "ipython",
    "version": 3
   },
   "file_extension": ".py",
   "mimetype": "text/x-python",
   "name": "python",
   "nbconvert_exporter": "python",
   "pygments_lexer": "ipython3",
   "version": "3.12.4"
  }
 },
 "nbformat": 4,
 "nbformat_minor": 5
}
