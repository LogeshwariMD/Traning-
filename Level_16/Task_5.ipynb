{
 "cells": [
  {
   "cell_type": "code",
   "execution_count": 0,
   "metadata": {
    "application/vnd.databricks.v1+cell": {
     "cellMetadata": {
      "byteLimit": 2048000,
      "rowLimit": 10000
     },
     "inputWidgets": {},
     "nuid": "74e2189e-bd7d-4cef-ba98-cde6db647d21",
     "showTitle": false,
     "tableResultSettingsMap": {},
     "title": ""
    }
   },
   "outputs": [],
   "source": [
    "from pyspark.sql import SparkSession\n",
    "from pyspark.sql.functions import col, countDistinct"
   ]
  },
  {
   "cell_type": "code",
   "execution_count": 0,
   "metadata": {
    "application/vnd.databricks.v1+cell": {
     "cellMetadata": {
      "byteLimit": 2048000,
      "rowLimit": 10000
     },
     "inputWidgets": {},
     "nuid": "6ac2a9a6-63ab-4a0c-8f88-cf91c5155097",
     "showTitle": false,
     "tableResultSettingsMap": {},
     "title": ""
    }
   },
   "outputs": [],
   "source": [
    "spark = SparkSession.builder.appName(\"IPL EDA\").getOrCreate()"
   ]
  },
  {
   "cell_type": "code",
   "execution_count": 0,
   "metadata": {
    "application/vnd.databricks.v1+cell": {
     "cellMetadata": {
      "byteLimit": 2048000,
      "rowLimit": 10000
     },
     "inputWidgets": {},
     "nuid": "a3ab81aa-27cd-4fde-bde2-4bd072ba14d8",
     "showTitle": false,
     "tableResultSettingsMap": {},
     "title": ""
    }
   },
   "outputs": [],
   "source": [
    "df = spark.read.option(\"header\", True).option(\"inferSchema\", True).csv(\"/FileStore/tables/matches.csv\")"
   ]
  },
  {
   "cell_type": "code",
   "execution_count": 0,
   "metadata": {
    "application/vnd.databricks.v1+cell": {
     "cellMetadata": {
      "byteLimit": 2048000,
      "rowLimit": 10000
     },
     "inputWidgets": {},
     "nuid": "52e498f1-6c33-44eb-9420-f1cbff257262",
     "showTitle": false,
     "tableResultSettingsMap": {},
     "title": ""
    }
   },
   "outputs": [
    {
     "output_type": "stream",
     "name": "stdout",
     "output_type": "stream",
     "text": [
      "+------+-------+----------+----------+----------+---------------+--------------------+--------------------+--------------------+--------------------+-------------+--------------------+-------+-------------+-----------+------------+----------+------+---------+--------------+\n|    id| season|      city|      date|match_type|player_of_match|               venue|               team1|               team2|         toss_winner|toss_decision|              winner| result|result_margin|target_runs|target_overs|super_over|method|  umpire1|       umpire2|\n+------+-------+----------+----------+----------+---------------+--------------------+--------------------+--------------------+--------------------+-------------+--------------------+-------+-------------+-----------+------------+----------+------+---------+--------------+\n|335982|2007/08| Bangalore|2008-04-18|    League|    BB McCullum|M Chinnaswamy Sta...|Royal Challengers...|Kolkata Knight Ri...|Royal Challengers...|        field|Kolkata Knight Ri...|   runs|          140|        223|          20|         N|    NA|Asad Rauf|   RE Koertzen|\n|335983|2007/08|Chandigarh|2008-04-19|    League|     MEK Hussey|Punjab Cricket As...|     Kings XI Punjab| Chennai Super Kings| Chennai Super Kings|          bat| Chennai Super Kings|   runs|           33|        241|          20|         N|    NA|MR Benson|    SL Shastri|\n|335984|2007/08|     Delhi|2008-04-19|    League|    MF Maharoof|    Feroz Shah Kotla|    Delhi Daredevils|    Rajasthan Royals|    Rajasthan Royals|          bat|    Delhi Daredevils|wickets|            9|        130|          20|         N|    NA|Aleem Dar|GA Pratapkumar|\n|335985|2007/08|    Mumbai|2008-04-20|    League|     MV Boucher|    Wankhede Stadium|      Mumbai Indians|Royal Challengers...|      Mumbai Indians|          bat|Royal Challengers...|wickets|            5|        166|          20|         N|    NA| SJ Davis|     DJ Harper|\n|335986|2007/08|   Kolkata|2008-04-20|    League|      DJ Hussey|        Eden Gardens|Kolkata Knight Ri...|     Deccan Chargers|     Deccan Chargers|          bat|Kolkata Knight Ri...|wickets|            5|        111|          20|         N|    NA|BF Bowden|   K Hariharan|\n+------+-------+----------+----------+----------+---------------+--------------------+--------------------+--------------------+--------------------+-------------+--------------------+-------+-------------+-----------+------------+----------+------+---------+--------------+\nonly showing top 5 rows\n\n"
     ]
    }
   ],
   "source": [
    "df.show(5)"
   ]
  },
  {
   "cell_type": "code",
   "execution_count": 0,
   "metadata": {
    "application/vnd.databricks.v1+cell": {
     "cellMetadata": {
      "byteLimit": 2048000,
      "rowLimit": 10000
     },
     "inputWidgets": {},
     "nuid": "f4b7c189-11ec-405a-9249-00c9b031e2a2",
     "showTitle": false,
     "tableResultSettingsMap": {},
     "title": ""
    }
   },
   "outputs": [
    {
     "output_type": "stream",
     "name": "stdout",
     "output_type": "stream",
     "text": [
      "root\n |-- id: integer (nullable = true)\n |-- season: string (nullable = true)\n |-- city: string (nullable = true)\n |-- date: string (nullable = true)\n |-- match_type: string (nullable = true)\n |-- player_of_match: string (nullable = true)\n |-- venue: string (nullable = true)\n |-- team1: string (nullable = true)\n |-- team2: string (nullable = true)\n |-- toss_winner: string (nullable = true)\n |-- toss_decision: string (nullable = true)\n |-- winner: string (nullable = true)\n |-- result: string (nullable = true)\n |-- result_margin: string (nullable = true)\n |-- target_runs: string (nullable = true)\n |-- target_overs: string (nullable = true)\n |-- super_over: string (nullable = true)\n |-- method: string (nullable = true)\n |-- umpire1: string (nullable = true)\n |-- umpire2: string (nullable = true)\n\n"
     ]
    }
   ],
   "source": [
    "df.printSchema()"
   ]
  },
  {
   "cell_type": "code",
   "execution_count": 0,
   "metadata": {
    "application/vnd.databricks.v1+cell": {
     "cellMetadata": {
      "byteLimit": 2048000,
      "rowLimit": 10000
     },
     "inputWidgets": {},
     "nuid": "1bbe6798-dde6-41f2-a114-7358494ab778",
     "showTitle": false,
     "tableResultSettingsMap": {},
     "title": ""
    }
   },
   "outputs": [
    {
     "output_type": "stream",
     "name": "stdout",
     "output_type": "stream",
     "text": [
      "+---------------------------+\n|team1                      |\n+---------------------------+\n|Sunrisers Hyderabad        |\n|Lucknow Super Giants       |\n|Chennai Super Kings        |\n|Gujarat Titans             |\n|Royal Challengers Bengaluru|\n|Rising Pune Supergiant     |\n|Deccan Chargers            |\n|Kochi Tuskers Kerala       |\n|Rajasthan Royals           |\n|Gujarat Lions              |\n|Royal Challengers Bangalore|\n|Kolkata Knight Riders      |\n|Rising Pune Supergiants    |\n|Kings XI Punjab            |\n|Punjab Kings               |\n|Pune Warriors              |\n|Delhi Daredevils           |\n|Delhi Capitals             |\n|Mumbai Indians             |\n+---------------------------+\n\n✅ Total number of unique teams: 19\n"
     ]
    }
   ],
   "source": [
    "teams_df = df.select(\"team1\").union(df.select(\"team2\")).distinct()\n",
    "teams_df.show(truncate=False)\n",
    "print(f\" Total number of unique teams: {teams_df.count()}\")\n",
    "\n"
   ]
  },
  {
   "cell_type": "code",
   "execution_count": 0,
   "metadata": {
    "application/vnd.databricks.v1+cell": {
     "cellMetadata": {
      "byteLimit": 2048000,
      "rowLimit": 10000
     },
     "inputWidgets": {},
     "nuid": "8f8ce212-7ccd-4ddb-b468-7ee61ec831d4",
     "showTitle": false,
     "tableResultSettingsMap": {},
     "title": ""
    }
   },
   "outputs": [
    {
     "output_type": "stream",
     "name": "stdout",
     "output_type": "stream",
     "text": [
      "✅ Tie-breaker techniques used when result is 'tie':\n+-------+--------------------+--------------------+----------+------+\n| season|               team1|               team2|super_over|method|\n+-------+--------------------+--------------------+----------+------+\n|   2021|      Delhi Capitals| Sunrisers Hyderabad|         Y|    NA|\n|2009/10| Chennai Super Kings|     Kings XI Punjab|         Y|    NA|\n|   2009|Kolkata Knight Ri...|    Rajasthan Royals|         Y|    NA|\n|2020/21|      Delhi Capitals|     Kings XI Punjab|         Y|    NA|\n|   2019|Kolkata Knight Ri...|      Delhi Capitals|         Y|    NA|\n|2020/21|      Mumbai Indians|     Kings XI Punjab|         Y|    NA|\n|   2014|Kolkata Knight Ri...|    Rajasthan Royals|         Y|    NA|\n|   2019|      Mumbai Indians| Sunrisers Hyderabad|         Y|    NA|\n|   2013|Royal Challengers...|    Delhi Daredevils|         Y|    NA|\n|   2017|       Gujarat Lions|      Mumbai Indians|         Y|    NA|\n|2020/21|Royal Challengers...|      Mumbai Indians|         Y|    NA|\n|   2013| Sunrisers Hyderabad|Royal Challengers...|         Y|    NA|\n|2020/21|Kolkata Knight Ri...| Sunrisers Hyderabad|         Y|    NA|\n|   2015|    Rajasthan Royals|     Kings XI Punjab|         Y|    NA|\n+-------+--------------------+--------------------+----------+------+\n\n"
     ]
    }
   ],
   "source": [
    "print(\" Tie-breaker techniques used when result is 'tie':\")\n",
    "df.filter(col(\"result\") == \"tie\").select(\"season\", \"team1\", \"team2\", \"super_over\", \"method\").distinct().show()\n"
   ]
  },
  {
   "cell_type": "code",
   "execution_count": 0,
   "metadata": {
    "application/vnd.databricks.v1+cell": {
     "cellMetadata": {
      "byteLimit": 2048000,
      "rowLimit": 10000
     },
     "inputWidgets": {},
     "nuid": "9b18b900-a468-4da5-85a5-2f76bf539494",
     "showTitle": false,
     "tableResultSettingsMap": {},
     "title": ""
    }
   },
   "outputs": [
    {
     "output_type": "stream",
     "name": "stdout",
     "output_type": "stream",
     "text": [
      "Completed matches:\n+-------+--------------------+--------------------+--------------------+-------+-------------+\n| season|               team1|               team2|              winner| result|result_margin|\n+-------+--------------------+--------------------+--------------------+-------+-------------+\n|2007/08|Royal Challengers...|Kolkata Knight Ri...|Kolkata Knight Ri...|   runs|          140|\n|2007/08|     Kings XI Punjab| Chennai Super Kings| Chennai Super Kings|   runs|           33|\n|2007/08|    Delhi Daredevils|    Rajasthan Royals|    Delhi Daredevils|wickets|            9|\n|2007/08|      Mumbai Indians|Royal Challengers...|Royal Challengers...|wickets|            5|\n|2007/08|Kolkata Knight Ri...|     Deccan Chargers|Kolkata Knight Ri...|wickets|            5|\n+-------+--------------------+--------------------+--------------------+-------+-------------+\nonly showing top 5 rows\n\n"
     ]
    }
   ],
   "source": [
    "completed_matches = df.filter((col(\"result\").isNotNull()) & (col(\"result\") != \"no result\"))\n",
    "print(\"Completed matches:\")\n",
    "completed_matches.select(\"season\", \"team1\", \"team2\", \"winner\", \"result\", \"result_margin\").show(5)\n"
   ]
  },
  {
   "cell_type": "code",
   "execution_count": 0,
   "metadata": {
    "application/vnd.databricks.v1+cell": {
     "cellMetadata": {
      "byteLimit": 2048000,
      "rowLimit": 10000
     },
     "inputWidgets": {},
     "nuid": "c8d3b41b-5982-4d80-96d2-41524b215672",
     "showTitle": false,
     "tableResultSettingsMap": {},
     "title": ""
    }
   },
   "outputs": [
    {
     "output_type": "stream",
     "name": "stdout",
     "output_type": "stream",
     "text": [
      " Cleaned DataFrame:\n+-------+----------+----------+----------+---------------+--------------------+--------------------+--------------------+--------------------+-------------+--------------------+-------+-------------+-----------+------------+----------+------+\n| season|      city|      date|match_type|player_of_match|               venue|               team1|               team2|         toss_winner|toss_decision|              winner| result|result_margin|target_runs|target_overs|super_over|method|\n+-------+----------+----------+----------+---------------+--------------------+--------------------+--------------------+--------------------+-------------+--------------------+-------+-------------+-----------+------------+----------+------+\n|2007/08| Bangalore|2008-04-18|    League|    BB McCullum|M Chinnaswamy Sta...|Royal Challengers...|Kolkata Knight Ri...|Royal Challengers...|        field|Kolkata Knight Ri...|   runs|          140|        223|          20|         N|    NA|\n|2007/08|Chandigarh|2008-04-19|    League|     MEK Hussey|Punjab Cricket As...|     Kings XI Punjab| Chennai Super Kings| Chennai Super Kings|          bat| Chennai Super Kings|   runs|           33|        241|          20|         N|    NA|\n|2007/08|     Delhi|2008-04-19|    League|    MF Maharoof|    Feroz Shah Kotla|    Delhi Daredevils|    Rajasthan Royals|    Rajasthan Royals|          bat|    Delhi Daredevils|wickets|            9|        130|          20|         N|    NA|\n|2007/08|    Mumbai|2008-04-20|    League|     MV Boucher|    Wankhede Stadium|      Mumbai Indians|Royal Challengers...|      Mumbai Indians|          bat|Royal Challengers...|wickets|            5|        166|          20|         N|    NA|\n|2007/08|   Kolkata|2008-04-20|    League|      DJ Hussey|        Eden Gardens|Kolkata Knight Ri...|     Deccan Chargers|     Deccan Chargers|          bat|Kolkata Knight Ri...|wickets|            5|        111|          20|         N|    NA|\n+-------+----------+----------+----------+---------------+--------------------+--------------------+--------------------+--------------------+-------------+--------------------+-------+-------------+-----------+------------+----------+------+\nonly showing top 5 rows\n\n"
     ]
    }
   ],
   "source": [
    "columns_to_drop = [\"umpire1\", \"umpire2\", \"id\"]\n",
    "cleaned_df = completed_matches.drop(*columns_to_drop)\n",
    "print(\" Cleaned DataFrame:\")\n",
    "cleaned_df.show(5)"
   ]
  },
  {
   "cell_type": "code",
   "execution_count": 0,
   "metadata": {
    "application/vnd.databricks.v1+cell": {
     "cellMetadata": {
      "byteLimit": 2048000,
      "rowLimit": 10000
     },
     "inputWidgets": {},
     "nuid": "d24fb042-ab50-451c-958d-584d606a2c6a",
     "showTitle": false,
     "tableResultSettingsMap": {},
     "title": ""
    }
   },
   "outputs": [
    {
     "output_type": "stream",
     "name": "stdout",
     "output_type": "stream",
     "text": [
      " Total matches played: 1090\n"
     ]
    }
   ],
   "source": [
    "print(f\" Total matches played: {cleaned_df.count()}\")"
   ]
  },
  {
   "cell_type": "code",
   "execution_count": 0,
   "metadata": {
    "application/vnd.databricks.v1+cell": {
     "cellMetadata": {
      "byteLimit": 2048000,
      "rowLimit": 10000
     },
     "inputWidgets": {},
     "nuid": "fd9898e6-3dff-40ae-8ac7-adc767eba007",
     "showTitle": false,
     "tableResultSettingsMap": {},
     "title": ""
    }
   },
   "outputs": [
    {
     "output_type": "stream",
     "name": "stdout",
     "output_type": "stream",
     "text": [
      " Matches per season:\n+-------+-----+\n| season|count|\n+-------+-----+\n|2007/08|   58|\n|   2009|   57|\n|2009/10|   60|\n|   2011|   72|\n|   2012|   74|\n|   2013|   76|\n|   2014|   60|\n|   2015|   57|\n|   2016|   60|\n|   2017|   59|\n|   2018|   60|\n|   2019|   59|\n|2020/21|   60|\n|   2021|   60|\n|   2022|   74|\n|   2023|   73|\n|   2024|   71|\n+-------+-----+\n\n"
     ]
    }
   ],
   "source": [
    "print(\" Matches per season:\")\n",
    "cleaned_df.groupBy(\"season\").count().orderBy(\"season\").show()\n"
   ]
  },
  {
   "cell_type": "code",
   "execution_count": 0,
   "metadata": {
    "application/vnd.databricks.v1+cell": {
     "cellMetadata": {
      "byteLimit": 2048000,
      "rowLimit": 10000
     },
     "inputWidgets": {},
     "nuid": "40a0baa6-41fc-4325-afa2-a0bc59b0cc5f",
     "showTitle": false,
     "tableResultSettingsMap": {},
     "title": ""
    }
   },
   "outputs": [
    {
     "output_type": "stream",
     "name": "stdout",
     "output_type": "stream",
     "text": [
      " Top 5 winning teams:\n+--------------------+-----+\n|              winner|count|\n+--------------------+-----+\n|      Mumbai Indians|  144|\n| Chennai Super Kings|  138|\n|Kolkata Knight Ri...|  131|\n|Royal Challengers...|  116|\n|    Rajasthan Royals|  112|\n+--------------------+-----+\nonly showing top 5 rows\n\n"
     ]
    }
   ],
   "source": [
    "print(\" Top 5 winning teams:\")\n",
    "cleaned_df.groupBy(\"winner\").count().orderBy(col(\"count\").desc()).show(5)\n"
   ]
  },
  {
   "cell_type": "code",
   "execution_count": 0,
   "metadata": {
    "application/vnd.databricks.v1+cell": {
     "cellMetadata": {
      "byteLimit": 2048000,
      "rowLimit": 10000
     },
     "inputWidgets": {},
     "nuid": "67589f25-38ba-4933-8d5c-c518a4e543f9",
     "showTitle": false,
     "tableResultSettingsMap": {},
     "title": ""
    }
   },
   "outputs": [
    {
     "output_type": "stream",
     "name": "stdout",
     "output_type": "stream",
     "text": [
      " Top 5 most used venues:\n+--------------------+-----+\n|               venue|count|\n+--------------------+-----+\n|        Eden Gardens|   77|\n|    Wankhede Stadium|   73|\n|M Chinnaswamy Sta...|   63|\n|    Feroz Shah Kotla|   59|\n|Rajiv Gandhi Inte...|   49|\n+--------------------+-----+\nonly showing top 5 rows\n\n"
     ]
    }
   ],
   "source": [
    "print(\" Top 5 most used venues:\")\n",
    "cleaned_df.groupBy(\"venue\").count().orderBy(col(\"count\").desc()).show(5)"
   ]
  },
  {
   "cell_type": "code",
   "execution_count": 0,
   "metadata": {
    "application/vnd.databricks.v1+cell": {
     "cellMetadata": {
      "byteLimit": 2048000,
      "rowLimit": 10000
     },
     "inputWidgets": {},
     "nuid": "d74a5586-11b7-449f-8a69-36477a09fcec",
     "showTitle": false,
     "tableResultSettingsMap": {},
     "title": ""
    }
   },
   "outputs": [
    {
     "output_type": "stream",
     "name": "stdout",
     "output_type": "stream",
     "text": [
      " Tie-breaker techniques used (e.g., Super Over or Method like DLS):\n+----------+------+---------+\n|super_over|method|result   |\n+----------+------+---------+\n|N         |D/L   |runs     |\n|N         |D/L   |wickets  |\n|N         |NA    |no result|\n|N         |NA    |runs     |\n|N         |NA    |wickets  |\n|Y         |NA    |tie      |\n+----------+------+---------+\n\n"
     ]
    }
   ],
   "source": [
    "tie_breakers = df.select(\"super_over\", \"method\", \"result\") \\\n",
    "    .where((col(\"result\") == \"tie\") | (col(\"super_over\") == \"Y\") | (col(\"method\").isNotNull())) \\\n",
    "    .distinct()\n",
    "\n",
    "print(\" Tie-breaker techniques used (e.g., Super Over or Method like DLS):\")\n",
    "tie_breakers.show(truncate=False)"
   ]
  },
  {
   "cell_type": "code",
   "execution_count": 0,
   "metadata": {
    "application/vnd.databricks.v1+cell": {
     "cellMetadata": {
      "byteLimit": 2048000,
      "rowLimit": 10000
     },
     "inputWidgets": {},
     "nuid": "0fb91c6c-d501-493e-9b2a-d3095837792f",
     "showTitle": false,
     "tableResultSettingsMap": {},
     "title": ""
    }
   },
   "outputs": [],
   "source": [
    "cleaned_df = df.filter((col(\"result\").isNotNull()) & (col(\"result\") != \"no result\")) \\\n",
    "               .drop(\"id\", \"umpire1\", \"umpire2\")"
   ]
  },
  {
   "cell_type": "code",
   "execution_count": 0,
   "metadata": {
    "application/vnd.databricks.v1+cell": {
     "cellMetadata": {
      "byteLimit": 2048000,
      "rowLimit": 10000
     },
     "inputWidgets": {},
     "nuid": "40103506-ce38-45f0-a2bd-db65e5882d18",
     "showTitle": false,
     "tableResultSettingsMap": {},
     "title": ""
    }
   },
   "outputs": [],
   "source": [
    "cleaned_df.write.format(\"delta\").mode(\"overwrite\").saveAsTable(\"ipl_completed_matches_delta\")"
   ]
  },
  {
   "cell_type": "code",
   "execution_count": 0,
   "metadata": {
    "application/vnd.databricks.v1+cell": {
     "cellMetadata": {
      "byteLimit": 2048000,
      "rowLimit": 10000
     },
     "inputWidgets": {},
     "nuid": "38493c0e-6f0b-4cb0-ba2e-61dfb1657106",
     "showTitle": false,
     "tableResultSettingsMap": {},
     "title": ""
    }
   },
   "outputs": [
    {
     "output_type": "stream",
     "name": "stdout",
     "output_type": "stream",
     "text": [
      "+--------+--------------------+-----------+\n|database|           tableName|isTemporary|\n+--------+--------------------+-----------+\n| default|ipl_completed_mat...|      false|\n+--------+--------------------+-----------+\n\n"
     ]
    }
   ],
   "source": [
    "spark.sql(\"SHOW TABLES\").show()"
   ]
  },
  {
   "cell_type": "code",
   "execution_count": 0,
   "metadata": {
    "application/vnd.databricks.v1+cell": {
     "cellMetadata": {
      "byteLimit": 2048000,
      "rowLimit": 10000
     },
     "inputWidgets": {},
     "nuid": "81050a4c-84fe-4443-b7eb-1fb388aeb0ed",
     "showTitle": false,
     "tableResultSettingsMap": {},
     "title": ""
    }
   },
   "outputs": [
    {
     "output_type": "stream",
     "name": "stdout",
     "output_type": "stream",
     "text": [
      "+-------+----------+----------+----------+---------------+--------------------+--------------------+--------------------+--------------------+-------------+--------------------+-------+-------------+-----------+------------+----------+------+\n| season|      city|      date|match_type|player_of_match|               venue|               team1|               team2|         toss_winner|toss_decision|              winner| result|result_margin|target_runs|target_overs|super_over|method|\n+-------+----------+----------+----------+---------------+--------------------+--------------------+--------------------+--------------------+-------------+--------------------+-------+-------------+-----------+------------+----------+------+\n|2007/08| Bangalore|2008-04-18|    League|    BB McCullum|M Chinnaswamy Sta...|Royal Challengers...|Kolkata Knight Ri...|Royal Challengers...|        field|Kolkata Knight Ri...|   runs|          140|        223|          20|         N|    NA|\n|2007/08|Chandigarh|2008-04-19|    League|     MEK Hussey|Punjab Cricket As...|     Kings XI Punjab| Chennai Super Kings| Chennai Super Kings|          bat| Chennai Super Kings|   runs|           33|        241|          20|         N|    NA|\n|2007/08|     Delhi|2008-04-19|    League|    MF Maharoof|    Feroz Shah Kotla|    Delhi Daredevils|    Rajasthan Royals|    Rajasthan Royals|          bat|    Delhi Daredevils|wickets|            9|        130|          20|         N|    NA|\n|2007/08|    Mumbai|2008-04-20|    League|     MV Boucher|    Wankhede Stadium|      Mumbai Indians|Royal Challengers...|      Mumbai Indians|          bat|Royal Challengers...|wickets|            5|        166|          20|         N|    NA|\n|2007/08|   Kolkata|2008-04-20|    League|      DJ Hussey|        Eden Gardens|Kolkata Knight Ri...|     Deccan Chargers|     Deccan Chargers|          bat|Kolkata Knight Ri...|wickets|            5|        111|          20|         N|    NA|\n+-------+----------+----------+----------+---------------+--------------------+--------------------+--------------------+--------------------+-------------+--------------------+-------+-------------+-----------+------------+----------+------+\n\n"
     ]
    }
   ],
   "source": [
    "spark.sql(\"SELECT * FROM ipl_completed_matches_delta LIMIT 5\").show()"
   ]
  },
  {
   "cell_type": "code",
   "execution_count": 0,
   "metadata": {
    "application/vnd.databricks.v1+cell": {
     "cellMetadata": {},
     "inputWidgets": {},
     "nuid": "8109d8fb-a92e-4428-8084-9c6a630d1560",
     "showTitle": false,
     "tableResultSettingsMap": {},
     "title": ""
    }
   },
   "outputs": [],
   "source": []
  }
 ],
 "metadata": {
  "application/vnd.databricks.v1+notebook": {
   "computePreferences": null,
   "dashboards": [],
   "environmentMetadata": {
    "base_environment": "",
    "environment_version": "1"
   },
   "inputWidgetPreferences": null,
   "language": "python",
   "notebookMetadata": {
    "pythonIndentUnit": 4
   },
   "notebookName": "L16 task 5",
   "widgets": {}
  }
 },
 "nbformat": 4,
 "nbformat_minor": 0
}