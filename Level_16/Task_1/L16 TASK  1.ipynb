{
 "cells": [
  {
   "cell_type": "code",
   "execution_count": 0,
   "metadata": {
    "application/vnd.databricks.v1+cell": {
     "cellMetadata": {
      "byteLimit": 2048000,
      "rowLimit": 10000
     },
     "inputWidgets": {},
     "nuid": "0d552cba-6616-40d1-baa9-ed5360a6d25b",
     "showTitle": false,
     "tableResultSettingsMap": {},
     "title": ""
    }
   },
   "outputs": [],
   "source": [
    "file_path = \"dbfs:/FileStore/tables/ipl_2021_matches.csv\"\n"
   ]
  },
  {
   "cell_type": "code",
   "execution_count": 0,
   "metadata": {
    "application/vnd.databricks.v1+cell": {
     "cellMetadata": {
      "byteLimit": 2048000,
      "rowLimit": 10000
     },
     "inputWidgets": {},
     "nuid": "7b88e54d-ac12-44a9-9406-de8c2b97d8a4",
     "showTitle": false,
     "tableResultSettingsMap": {},
     "title": ""
    }
   },
   "outputs": [
    {
     "output_type": "stream",
     "name": "stdout",
     "output_type": "stream",
     "text": [
      "+----+-----------+--------------------+--------+----------+--------------------+--------------------+-----------+-----------+--------------------+--------------+-----------+\n|year|series_type|         series_name|match_no|match_type|          match_name|          match_href|match_team1|match_team2|match_datetime_start|match_date_end|match_venue|\n+----+-----------+--------------------+--------+----------+--------------------+--------------------+-----------+-----------+--------------------+--------------+-----------+\n|2021|        T20|Indian Premier Le...|    null|    League|MUMBAI INDIANS vs...|https://www.cricb...|       null|       null|                null|          null|       null|\n|2021|        T20|Indian Premier Le...|    null|    League|CHENNAI SUPER KIN...|https://www.cricb...|       null|       null|                null|          null|       null|\n|2021|        T20|Indian Premier Le...|    null|    League|SUNRISERS HYDERAB...|https://www.cricb...|       null|       null|                null|          null|       null|\n|2021|        T20|Indian Premier Le...|    null|    League|RAJASTHAN ROYALS ...|https://www.cricb...|       null|       null|                null|          null|       null|\n|2021|        T20|Indian Premier Le...|    null|    League|KOLKATA KNIGHT RI...|https://www.cricb...|       null|       null|                null|          null|       null|\n+----+-----------+--------------------+--------+----------+--------------------+--------------------+-----------+-----------+--------------------+--------------+-----------+\nonly showing top 5 rows\n\nroot\n |-- year: string (nullable = true)\n |-- series_type: string (nullable = true)\n |-- series_name: string (nullable = true)\n |-- match_no: string (nullable = true)\n |-- match_type: string (nullable = true)\n |-- match_name: string (nullable = true)\n |-- match_href: string (nullable = true)\n |-- match_team1: string (nullable = true)\n |-- match_team2: string (nullable = true)\n |-- match_datetime_start: string (nullable = true)\n |-- match_date_end: string (nullable = true)\n |-- match_venue: string (nullable = true)\n\n"
     ]
    }
   ],
   "source": [
    "raw_df = spark.read.option(\"header\", True).csv(file_path)\n",
    "raw_df.show(5)\n",
    "raw_df.printSchema()\n"
   ]
  },
  {
   "cell_type": "code",
   "execution_count": 0,
   "metadata": {
    "application/vnd.databricks.v1+cell": {
     "cellMetadata": {
      "byteLimit": 2048000,
      "rowLimit": 10000
     },
     "inputWidgets": {},
     "nuid": "f18ec6d0-1208-4caf-ad93-c20703fa5288",
     "showTitle": false,
     "tableResultSettingsMap": {},
     "title": ""
    }
   },
   "outputs": [
    {
     "output_type": "stream",
     "name": "stdout",
     "output_type": "stream",
     "text": [
      "+--------+------+--------------------+-----+-------+--------------------+--------------------+------------+-------+-----------+------+------------+------+-------+\n|match_id|season|          start_date|venue|innings|                ball|        batting_team|bowling_team|striker|non_striker|bowler|runs_off_bat|extras|wickets|\n+--------+------+--------------------+-----+-------+--------------------+--------------------+------------+-------+-----------+------+------------+------+-------+\n|    2021|   T20|Indian Premier Le...| null| League|MUMBAI INDIANS vs...|https://www.cricb...|        null|   null|       null|  null|        null|  null|   null|\n|    2021|   T20|Indian Premier Le...| null| League|CHENNAI SUPER KIN...|https://www.cricb...|        null|   null|       null|  null|        null|  null|   null|\n|    2021|   T20|Indian Premier Le...| null| League|SUNRISERS HYDERAB...|https://www.cricb...|        null|   null|       null|  null|        null|  null|   null|\n|    2021|   T20|Indian Premier Le...| null| League|RAJASTHAN ROYALS ...|https://www.cricb...|        null|   null|       null|  null|        null|  null|   null|\n|    2021|   T20|Indian Premier Le...| null| League|KOLKATA KNIGHT RI...|https://www.cricb...|        null|   null|       null|  null|        null|  null|   null|\n+--------+------+--------------------+-----+-------+--------------------+--------------------+------------+-------+-----------+------+------------+------+-------+\nonly showing top 5 rows\n\nroot\n |-- match_id: string (nullable = true)\n |-- season: string (nullable = true)\n |-- start_date: string (nullable = true)\n |-- venue: string (nullable = true)\n |-- innings: string (nullable = true)\n |-- ball: string (nullable = true)\n |-- batting_team: string (nullable = true)\n |-- bowling_team: string (nullable = true)\n |-- striker: string (nullable = true)\n |-- non_striker: string (nullable = true)\n |-- bowler: string (nullable = true)\n |-- runs_off_bat: integer (nullable = true)\n |-- extras: integer (nullable = true)\n |-- wickets: integer (nullable = true)\n\n"
     ]
    }
   ],
   "source": [
    "string_schema = \"\"\"\n",
    "match_id STRING,\n",
    "season STRING,\n",
    "start_date STRING,\n",
    "venue STRING,\n",
    "innings STRING,\n",
    "ball STRING,\n",
    "batting_team STRING,\n",
    "bowling_team STRING,\n",
    "striker STRING,\n",
    "non_striker STRING,\n",
    "bowler STRING,\n",
    "runs_off_bat INT,\n",
    "extras INT,\n",
    "wickets INT\n",
    "\"\"\"\n",
    "ipl_df_string_schema = spark.read \\\n",
    "    .option(\"header\", True) \\\n",
    "    .schema(string_schema) \\\n",
    "    .csv(file_path)\n",
    "\n",
    "ipl_df_string_schema.show(5)\n",
    "ipl_df_string_schema.printSchema()\n"
   ]
  },
  {
   "cell_type": "code",
   "execution_count": 0,
   "metadata": {
    "application/vnd.databricks.v1+cell": {
     "cellMetadata": {
      "byteLimit": 2048000,
      "rowLimit": 10000
     },
     "inputWidgets": {},
     "nuid": "f5c9eb8e-7969-4a5b-828a-e339d0d85a63",
     "showTitle": false,
     "tableResultSettingsMap": {},
     "title": ""
    }
   },
   "outputs": [
    {
     "output_type": "stream",
     "name": "stdout",
     "output_type": "stream",
     "text": [
      "+--------+------+--------------------+-----+-------+--------------------+--------------------+------------+-------+-----------+------+------------+------+-------+\n|match_id|season|          start_date|venue|innings|                ball|        batting_team|bowling_team|striker|non_striker|bowler|runs_off_bat|extras|wickets|\n+--------+------+--------------------+-----+-------+--------------------+--------------------+------------+-------+-----------+------+------------+------+-------+\n|    2021|   T20|Indian Premier Le...| null| League|MUMBAI INDIANS vs...|https://www.cricb...|        null|   null|       null|  null|        null|  null|   null|\n|    2021|   T20|Indian Premier Le...| null| League|CHENNAI SUPER KIN...|https://www.cricb...|        null|   null|       null|  null|        null|  null|   null|\n|    2021|   T20|Indian Premier Le...| null| League|SUNRISERS HYDERAB...|https://www.cricb...|        null|   null|       null|  null|        null|  null|   null|\n|    2021|   T20|Indian Premier Le...| null| League|RAJASTHAN ROYALS ...|https://www.cricb...|        null|   null|       null|  null|        null|  null|   null|\n|    2021|   T20|Indian Premier Le...| null| League|KOLKATA KNIGHT RI...|https://www.cricb...|        null|   null|       null|  null|        null|  null|   null|\n+--------+------+--------------------+-----+-------+--------------------+--------------------+------------+-------+-----------+------+------------+------+-------+\nonly showing top 5 rows\n\nroot\n |-- match_id: string (nullable = true)\n |-- season: string (nullable = true)\n |-- start_date: string (nullable = true)\n |-- venue: string (nullable = true)\n |-- innings: string (nullable = true)\n |-- ball: string (nullable = true)\n |-- batting_team: string (nullable = true)\n |-- bowling_team: string (nullable = true)\n |-- striker: string (nullable = true)\n |-- non_striker: string (nullable = true)\n |-- bowler: string (nullable = true)\n |-- runs_off_bat: integer (nullable = true)\n |-- extras: integer (nullable = true)\n |-- wickets: integer (nullable = true)\n\n"
     ]
    }
   ],
   "source": [
    "from pyspark.sql.types import StructType, StructField, StringType, IntegerType\n",
    "\n",
    "struct_schema = StructType([\n",
    "    StructField(\"match_id\", StringType(), True),\n",
    "    StructField(\"season\", StringType(), True),\n",
    "    StructField(\"start_date\", StringType(), True),\n",
    "    StructField(\"venue\", StringType(), True),\n",
    "    StructField(\"innings\", StringType(), True),\n",
    "    StructField(\"ball\", StringType(), True),\n",
    "    StructField(\"batting_team\", StringType(), True),\n",
    "    StructField(\"bowling_team\", StringType(), True),\n",
    "    StructField(\"striker\", StringType(), True),\n",
    "    StructField(\"non_striker\", StringType(), True),\n",
    "    StructField(\"bowler\", StringType(), True),\n",
    "    StructField(\"runs_off_bat\", IntegerType(), True),\n",
    "    StructField(\"extras\", IntegerType(), True),\n",
    "    StructField(\"wickets\", IntegerType(), True)\n",
    "])\n",
    "\n",
    "ipl_df_struct_schema = spark.read \\\n",
    "    .option(\"header\", True) \\\n",
    "    .schema(struct_schema) \\\n",
    "    .csv(file_path)\n",
    "\n",
    "ipl_df_struct_schema.show(5)\n",
    "ipl_df_struct_schema.printSchema()\n"
   ]
  },
  {
   "cell_type": "code",
   "execution_count": 0,
   "metadata": {
    "application/vnd.databricks.v1+cell": {
     "cellMetadata": {
      "byteLimit": 2048000,
      "rowLimit": 10000
     },
     "inputWidgets": {},
     "nuid": "5a37c702-7a32-40b4-95ff-7f9631804898",
     "showTitle": false,
     "tableResultSettingsMap": {},
     "title": ""
    }
   },
   "outputs": [
    {
     "output_type": "display_data",
     "data": {
      "text/html": [
       "<div>\n",
       "<style scoped>\n",
       "    .dataframe tbody tr th:only-of-type {\n",
       "        vertical-align: middle;\n",
       "    }\n",
       "\n",
       "    .dataframe tbody tr th {\n",
       "        vertical-align: top;\n",
       "    }\n",
       "\n",
       "    .dataframe thead th {\n",
       "        text-align: right;\n",
       "    }\n",
       "</style>\n",
       "<table border=\"1\" class=\"dataframe\">\n",
       "  <thead>\n",
       "    <tr style=\"text-align: right;\">\n",
       "      <th></th>\n",
       "      <th>match_id</th>\n",
       "      <th>season</th>\n",
       "      <th>start_date</th>\n",
       "      <th>venue</th>\n",
       "      <th>innings</th>\n",
       "      <th>ball</th>\n",
       "      <th>batting_team</th>\n",
       "      <th>bowling_team</th>\n",
       "      <th>striker</th>\n",
       "      <th>non_striker</th>\n",
       "      <th>bowler</th>\n",
       "      <th>runs_off_bat</th>\n",
       "      <th>extras</th>\n",
       "      <th>wickets</th>\n",
       "    </tr>\n",
       "  </thead>\n",
       "  <tbody>\n",
       "    <tr>\n",
       "      <th>0</th>\n",
       "      <td>2021</td>\n",
       "      <td>T20</td>\n",
       "      <td>Indian Premier League 2021</td>\n",
       "      <td>None</td>\n",
       "      <td>League</td>\n",
       "      <td>MUMBAI INDIANS vs ROYAL CHALLENGERS BENGALURU,...</td>\n",
       "      <td>https://www.cricbuzz.com/cricket-scores/35612/...</td>\n",
       "      <td>None</td>\n",
       "      <td>None</td>\n",
       "      <td>None</td>\n",
       "      <td>None</td>\n",
       "      <td>NaN</td>\n",
       "      <td>NaN</td>\n",
       "      <td>NaN</td>\n",
       "    </tr>\n",
       "    <tr>\n",
       "      <th>1</th>\n",
       "      <td>2021</td>\n",
       "      <td>T20</td>\n",
       "      <td>Indian Premier League 2021</td>\n",
       "      <td>None</td>\n",
       "      <td>League</td>\n",
       "      <td>CHENNAI SUPER KINGS vs DELHI CAPITALS, 2nd Match</td>\n",
       "      <td>https://www.cricbuzz.com/cricket-scores/35617/...</td>\n",
       "      <td>None</td>\n",
       "      <td>None</td>\n",
       "      <td>None</td>\n",
       "      <td>None</td>\n",
       "      <td>NaN</td>\n",
       "      <td>NaN</td>\n",
       "      <td>NaN</td>\n",
       "    </tr>\n",
       "    <tr>\n",
       "      <th>2</th>\n",
       "      <td>2021</td>\n",
       "      <td>T20</td>\n",
       "      <td>Indian Premier League 2021</td>\n",
       "      <td>None</td>\n",
       "      <td>League</td>\n",
       "      <td>SUNRISERS HYDERABAD vs KOLKATA KNIGHT RIDERS, ...</td>\n",
       "      <td>https://www.cricbuzz.com/cricket-scores/35618/...</td>\n",
       "      <td>None</td>\n",
       "      <td>None</td>\n",
       "      <td>None</td>\n",
       "      <td>None</td>\n",
       "      <td>NaN</td>\n",
       "      <td>NaN</td>\n",
       "      <td>NaN</td>\n",
       "    </tr>\n",
       "    <tr>\n",
       "      <th>3</th>\n",
       "      <td>2021</td>\n",
       "      <td>T20</td>\n",
       "      <td>Indian Premier League 2021</td>\n",
       "      <td>None</td>\n",
       "      <td>League</td>\n",
       "      <td>RAJASTHAN ROYALS vs PUNJAB KINGS, 4th Match</td>\n",
       "      <td>https://www.cricbuzz.com/cricket-scores/35622/...</td>\n",
       "      <td>None</td>\n",
       "      <td>None</td>\n",
       "      <td>None</td>\n",
       "      <td>None</td>\n",
       "      <td>NaN</td>\n",
       "      <td>NaN</td>\n",
       "      <td>NaN</td>\n",
       "    </tr>\n",
       "    <tr>\n",
       "      <th>4</th>\n",
       "      <td>2021</td>\n",
       "      <td>T20</td>\n",
       "      <td>Indian Premier League 2021</td>\n",
       "      <td>None</td>\n",
       "      <td>League</td>\n",
       "      <td>KOLKATA KNIGHT RIDERS vs MUMBAI INDIANS, 5th M...</td>\n",
       "      <td>https://www.cricbuzz.com/cricket-scores/35627/...</td>\n",
       "      <td>None</td>\n",
       "      <td>None</td>\n",
       "      <td>None</td>\n",
       "      <td>None</td>\n",
       "      <td>NaN</td>\n",
       "      <td>NaN</td>\n",
       "      <td>NaN</td>\n",
       "    </tr>\n",
       "    <tr>\n",
       "      <th>...</th>\n",
       "      <td>...</td>\n",
       "      <td>...</td>\n",
       "      <td>...</td>\n",
       "      <td>...</td>\n",
       "      <td>...</td>\n",
       "      <td>...</td>\n",
       "      <td>...</td>\n",
       "      <td>...</td>\n",
       "      <td>...</td>\n",
       "      <td>...</td>\n",
       "      <td>...</td>\n",
       "      <td>...</td>\n",
       "      <td>...</td>\n",
       "      <td>...</td>\n",
       "    </tr>\n",
       "    <tr>\n",
       "      <th>57</th>\n",
       "      <td>2021</td>\n",
       "      <td>T20</td>\n",
       "      <td>Indian Premier League 2021</td>\n",
       "      <td>None</td>\n",
       "      <td>League</td>\n",
       "      <td>ROYAL CHALLENGERS BENGALURU vs DELHI CAPITALS,...</td>\n",
       "      <td>https://www.cricbuzz.com/cricket-scores/37661/...</td>\n",
       "      <td>None</td>\n",
       "      <td>None</td>\n",
       "      <td>None</td>\n",
       "      <td>None</td>\n",
       "      <td>NaN</td>\n",
       "      <td>NaN</td>\n",
       "      <td>NaN</td>\n",
       "    </tr>\n",
       "    <tr>\n",
       "      <th>58</th>\n",
       "      <td>2021</td>\n",
       "      <td>T20</td>\n",
       "      <td>Indian Premier League 2021</td>\n",
       "      <td>None</td>\n",
       "      <td>League</td>\n",
       "      <td>DELHI CAPITALS vs CHENNAI SUPER KINGS, Qualifi...</td>\n",
       "      <td>https://www.cricbuzz.com/cricket-scores/37666/...</td>\n",
       "      <td>None</td>\n",
       "      <td>None</td>\n",
       "      <td>None</td>\n",
       "      <td>None</td>\n",
       "      <td>NaN</td>\n",
       "      <td>NaN</td>\n",
       "      <td>NaN</td>\n",
       "    </tr>\n",
       "    <tr>\n",
       "      <th>59</th>\n",
       "      <td>2021</td>\n",
       "      <td>T20</td>\n",
       "      <td>Indian Premier League 2021</td>\n",
       "      <td>None</td>\n",
       "      <td>League</td>\n",
       "      <td>ROYAL CHALLENGERS BENGALURU vs KOLKATA KNIGHT ...</td>\n",
       "      <td>https://www.cricbuzz.com/cricket-scores/37671/...</td>\n",
       "      <td>None</td>\n",
       "      <td>None</td>\n",
       "      <td>None</td>\n",
       "      <td>None</td>\n",
       "      <td>NaN</td>\n",
       "      <td>NaN</td>\n",
       "      <td>NaN</td>\n",
       "    </tr>\n",
       "    <tr>\n",
       "      <th>60</th>\n",
       "      <td>2021</td>\n",
       "      <td>T20</td>\n",
       "      <td>Indian Premier League 2021</td>\n",
       "      <td>None</td>\n",
       "      <td>League</td>\n",
       "      <td>DELHI CAPITALS vs KOLKATA KNIGHT RIDERS, Quali...</td>\n",
       "      <td>https://www.cricbuzz.com/cricket-scores/37672/...</td>\n",
       "      <td>None</td>\n",
       "      <td>None</td>\n",
       "      <td>None</td>\n",
       "      <td>None</td>\n",
       "      <td>NaN</td>\n",
       "      <td>NaN</td>\n",
       "      <td>NaN</td>\n",
       "    </tr>\n",
       "    <tr>\n",
       "      <th>61</th>\n",
       "      <td>2021</td>\n",
       "      <td>T20</td>\n",
       "      <td>Indian Premier League 2021</td>\n",
       "      <td>None</td>\n",
       "      <td>League</td>\n",
       "      <td>CHENNAI SUPER KINGS vs KOLKATA KNIGHT RIDERS, ...</td>\n",
       "      <td>https://www.cricbuzz.com/cricket-scores/37676/...</td>\n",
       "      <td>None</td>\n",
       "      <td>None</td>\n",
       "      <td>None</td>\n",
       "      <td>None</td>\n",
       "      <td>NaN</td>\n",
       "      <td>NaN</td>\n",
       "      <td>NaN</td>\n",
       "    </tr>\n",
       "  </tbody>\n",
       "</table>\n",
       "<p>62 rows × 14 columns</p>\n",
       "</div>"
      ]
     },
     "metadata": {
      "application/vnd.databricks.v1+output": {
       "addedWidgets": {},
       "arguments": {},
       "data": "<div>\n<style scoped>\n    .dataframe tbody tr th:only-of-type {\n        vertical-align: middle;\n    }\n\n    .dataframe tbody tr th {\n        vertical-align: top;\n    }\n\n    .dataframe thead th {\n        text-align: right;\n    }\n</style>\n<table border=\"1\" class=\"dataframe\">\n  <thead>\n    <tr style=\"text-align: right;\">\n      <th></th>\n      <th>match_id</th>\n      <th>season</th>\n      <th>start_date</th>\n      <th>venue</th>\n      <th>innings</th>\n      <th>ball</th>\n      <th>batting_team</th>\n      <th>bowling_team</th>\n      <th>striker</th>\n      <th>non_striker</th>\n      <th>bowler</th>\n      <th>runs_off_bat</th>\n      <th>extras</th>\n      <th>wickets</th>\n    </tr>\n  </thead>\n  <tbody>\n    <tr>\n      <th>0</th>\n      <td>2021</td>\n      <td>T20</td>\n      <td>Indian Premier League 2021</td>\n      <td>None</td>\n      <td>League</td>\n      <td>MUMBAI INDIANS vs ROYAL CHALLENGERS BENGALURU,...</td>\n      <td>https://www.cricbuzz.com/cricket-scores/35612/...</td>\n      <td>None</td>\n      <td>None</td>\n      <td>None</td>\n      <td>None</td>\n      <td>NaN</td>\n      <td>NaN</td>\n      <td>NaN</td>\n    </tr>\n    <tr>\n      <th>1</th>\n      <td>2021</td>\n      <td>T20</td>\n      <td>Indian Premier League 2021</td>\n      <td>None</td>\n      <td>League</td>\n      <td>CHENNAI SUPER KINGS vs DELHI CAPITALS, 2nd Match</td>\n      <td>https://www.cricbuzz.com/cricket-scores/35617/...</td>\n      <td>None</td>\n      <td>None</td>\n      <td>None</td>\n      <td>None</td>\n      <td>NaN</td>\n      <td>NaN</td>\n      <td>NaN</td>\n    </tr>\n    <tr>\n      <th>2</th>\n      <td>2021</td>\n      <td>T20</td>\n      <td>Indian Premier League 2021</td>\n      <td>None</td>\n      <td>League</td>\n      <td>SUNRISERS HYDERABAD vs KOLKATA KNIGHT RIDERS, ...</td>\n      <td>https://www.cricbuzz.com/cricket-scores/35618/...</td>\n      <td>None</td>\n      <td>None</td>\n      <td>None</td>\n      <td>None</td>\n      <td>NaN</td>\n      <td>NaN</td>\n      <td>NaN</td>\n    </tr>\n    <tr>\n      <th>3</th>\n      <td>2021</td>\n      <td>T20</td>\n      <td>Indian Premier League 2021</td>\n      <td>None</td>\n      <td>League</td>\n      <td>RAJASTHAN ROYALS vs PUNJAB KINGS, 4th Match</td>\n      <td>https://www.cricbuzz.com/cricket-scores/35622/...</td>\n      <td>None</td>\n      <td>None</td>\n      <td>None</td>\n      <td>None</td>\n      <td>NaN</td>\n      <td>NaN</td>\n      <td>NaN</td>\n    </tr>\n    <tr>\n      <th>4</th>\n      <td>2021</td>\n      <td>T20</td>\n      <td>Indian Premier League 2021</td>\n      <td>None</td>\n      <td>League</td>\n      <td>KOLKATA KNIGHT RIDERS vs MUMBAI INDIANS, 5th M...</td>\n      <td>https://www.cricbuzz.com/cricket-scores/35627/...</td>\n      <td>None</td>\n      <td>None</td>\n      <td>None</td>\n      <td>None</td>\n      <td>NaN</td>\n      <td>NaN</td>\n      <td>NaN</td>\n    </tr>\n    <tr>\n      <th>...</th>\n      <td>...</td>\n      <td>...</td>\n      <td>...</td>\n      <td>...</td>\n      <td>...</td>\n      <td>...</td>\n      <td>...</td>\n      <td>...</td>\n      <td>...</td>\n      <td>...</td>\n      <td>...</td>\n      <td>...</td>\n      <td>...</td>\n      <td>...</td>\n    </tr>\n    <tr>\n      <th>57</th>\n      <td>2021</td>\n      <td>T20</td>\n      <td>Indian Premier League 2021</td>\n      <td>None</td>\n      <td>League</td>\n      <td>ROYAL CHALLENGERS BENGALURU vs DELHI CAPITALS,...</td>\n      <td>https://www.cricbuzz.com/cricket-scores/37661/...</td>\n      <td>None</td>\n      <td>None</td>\n      <td>None</td>\n      <td>None</td>\n      <td>NaN</td>\n      <td>NaN</td>\n      <td>NaN</td>\n    </tr>\n    <tr>\n      <th>58</th>\n      <td>2021</td>\n      <td>T20</td>\n      <td>Indian Premier League 2021</td>\n      <td>None</td>\n      <td>League</td>\n      <td>DELHI CAPITALS vs CHENNAI SUPER KINGS, Qualifi...</td>\n      <td>https://www.cricbuzz.com/cricket-scores/37666/...</td>\n      <td>None</td>\n      <td>None</td>\n      <td>None</td>\n      <td>None</td>\n      <td>NaN</td>\n      <td>NaN</td>\n      <td>NaN</td>\n    </tr>\n    <tr>\n      <th>59</th>\n      <td>2021</td>\n      <td>T20</td>\n      <td>Indian Premier League 2021</td>\n      <td>None</td>\n      <td>League</td>\n      <td>ROYAL CHALLENGERS BENGALURU vs KOLKATA KNIGHT ...</td>\n      <td>https://www.cricbuzz.com/cricket-scores/37671/...</td>\n      <td>None</td>\n      <td>None</td>\n      <td>None</td>\n      <td>None</td>\n      <td>NaN</td>\n      <td>NaN</td>\n      <td>NaN</td>\n    </tr>\n    <tr>\n      <th>60</th>\n      <td>2021</td>\n      <td>T20</td>\n      <td>Indian Premier League 2021</td>\n      <td>None</td>\n      <td>League</td>\n      <td>DELHI CAPITALS vs KOLKATA KNIGHT RIDERS, Quali...</td>\n      <td>https://www.cricbuzz.com/cricket-scores/37672/...</td>\n      <td>None</td>\n      <td>None</td>\n      <td>None</td>\n      <td>None</td>\n      <td>NaN</td>\n      <td>NaN</td>\n      <td>NaN</td>\n    </tr>\n    <tr>\n      <th>61</th>\n      <td>2021</td>\n      <td>T20</td>\n      <td>Indian Premier League 2021</td>\n      <td>None</td>\n      <td>League</td>\n      <td>CHENNAI SUPER KINGS vs KOLKATA KNIGHT RIDERS, ...</td>\n      <td>https://www.cricbuzz.com/cricket-scores/37676/...</td>\n      <td>None</td>\n      <td>None</td>\n      <td>None</td>\n      <td>None</td>\n      <td>NaN</td>\n      <td>NaN</td>\n      <td>NaN</td>\n    </tr>\n  </tbody>\n</table>\n<p>62 rows × 14 columns</p>\n</div>",
       "datasetInfos": [],
       "metadata": {},
       "removedWidgets": [],
       "textData": null,
       "type": "htmlSandbox"
      }
     },
     "output_type": "display_data"
    }
   ],
   "source": [
    "ipl_df_struct_schema.toPandas()\n"
   ]
  },
  {
   "cell_type": "code",
   "execution_count": 0,
   "metadata": {
    "application/vnd.databricks.v1+cell": {
     "cellMetadata": {
      "byteLimit": 2048000,
      "rowLimit": 10000
     },
     "inputWidgets": {},
     "nuid": "01569dbf-fb67-4471-a76c-a9813252871e",
     "showTitle": false,
     "tableResultSettingsMap": {},
     "title": ""
    }
   },
   "outputs": [
    {
     "output_type": "stream",
     "name": "stdout",
     "output_type": "stream",
     "text": [
      "+--------+------+--------------------------+-----+-------+----------------------------------------------------------------+-----------------------------------------------------------------------------------------------+------------+-------+-----------+------+------------+------+-------+\n|match_id|season|start_date                |venue|innings|ball                                                            |batting_team                                                                                   |bowling_team|striker|non_striker|bowler|runs_off_bat|extras|wickets|\n+--------+------+--------------------------+-----+-------+----------------------------------------------------------------+-----------------------------------------------------------------------------------------------+------------+-------+-----------+------+------------+------+-------+\n|2021    |T20   |Indian Premier League 2021|null |League |MUMBAI INDIANS vs ROYAL CHALLENGERS BENGALURU, 1st Match        |https://www.cricbuzz.com/cricket-scores/35612/mi-vs-rcb-1st-match-indian-premier-league-2021   |null        |null   |null       |null  |null        |null  |null   |\n|2021    |T20   |Indian Premier League 2021|null |League |CHENNAI SUPER KINGS vs DELHI CAPITALS, 2nd Match                |https://www.cricbuzz.com/cricket-scores/35617/csk-vs-dc-2nd-match-indian-premier-league-2021   |null        |null   |null       |null  |null        |null  |null   |\n|2021    |T20   |Indian Premier League 2021|null |League |SUNRISERS HYDERABAD vs KOLKATA KNIGHT RIDERS, 3rd Match         |https://www.cricbuzz.com/cricket-scores/35618/srh-vs-kkr-3rd-match-indian-premier-league-2021  |null        |null   |null       |null  |null        |null  |null   |\n|2021    |T20   |Indian Premier League 2021|null |League |RAJASTHAN ROYALS vs PUNJAB KINGS, 4th Match                     |https://www.cricbuzz.com/cricket-scores/35622/rr-vs-pbks-4th-match-indian-premier-league-2021  |null        |null   |null       |null  |null        |null  |null   |\n|2021    |T20   |Indian Premier League 2021|null |League |KOLKATA KNIGHT RIDERS vs MUMBAI INDIANS, 5th Match              |https://www.cricbuzz.com/cricket-scores/35627/kkr-vs-mi-5th-match-indian-premier-league-2021   |null        |null   |null       |null  |null        |null  |null   |\n|2021    |T20   |Indian Premier League 2021|null |League |SUNRISERS HYDERABAD vs ROYAL CHALLENGERS BENGALURU, 6th Match   |https://www.cricbuzz.com/cricket-scores/35628/srh-vs-rcb-6th-match-indian-premier-league-2021  |null        |null   |null       |null  |null        |null  |null   |\n|2021    |T20   |Indian Premier League 2021|null |League |RAJASTHAN ROYALS vs DELHI CAPITALS, 7th Match                   |https://www.cricbuzz.com/cricket-scores/35632/rr-vs-dc-7th-match-indian-premier-league-2021    |null        |null   |null       |null  |null        |null  |null   |\n|2021    |T20   |Indian Premier League 2021|null |League |PUNJAB KINGS vs CHENNAI SUPER KINGS, 8th Match                  |https://www.cricbuzz.com/cricket-scores/35637/pbks-vs-csk-8th-match-indian-premier-league-2021 |null        |null   |null       |null  |null        |null  |null   |\n|2021    |T20   |Indian Premier League 2021|null |League |MUMBAI INDIANS vs SUNRISERS HYDERABAD, 9th Match                |https://www.cricbuzz.com/cricket-scores/35642/mi-vs-srh-9th-match-indian-premier-league-2021   |null        |null   |null       |null  |null        |null  |null   |\n|2021    |T20   |Indian Premier League 2021|null |League |ROYAL CHALLENGERS BENGALURU vs KOLKATA KNIGHT RIDERS, 10th Match|https://www.cricbuzz.com/cricket-scores/35643/rcb-vs-kkr-10th-match-indian-premier-league-2021 |null        |null   |null       |null  |null        |null  |null   |\n|2021    |T20   |Indian Premier League 2021|null |League |DELHI CAPITALS vs PUNJAB KINGS, 11th Match                      |https://www.cricbuzz.com/cricket-scores/35647/dc-vs-pbks-11th-match-indian-premier-league-2021 |null        |null   |null       |null  |null        |null  |null   |\n|2021    |T20   |Indian Premier League 2021|null |League |CHENNAI SUPER KINGS vs RAJASTHAN ROYALS, 12th Match             |https://www.cricbuzz.com/cricket-scores/35648/csk-vs-rr-12th-match-indian-premier-league-2021  |null        |null   |null       |null  |null        |null  |null   |\n|2021    |T20   |Indian Premier League 2021|null |League |DELHI CAPITALS vs MUMBAI INDIANS, 13th Match                    |https://www.cricbuzz.com/cricket-scores/35653/dc-vs-mi-13th-match-indian-premier-league-2021   |null        |null   |null       |null  |null        |null  |null   |\n|2021    |T20   |Indian Premier League 2021|null |League |PUNJAB KINGS vs SUNRISERS HYDERABAD, 14th Match                 |https://www.cricbuzz.com/cricket-scores/35657/pbks-vs-srh-14th-match-indian-premier-league-2021|null        |null   |null       |null  |null        |null  |null   |\n|2021    |T20   |Indian Premier League 2021|null |League |KOLKATA KNIGHT RIDERS vs CHENNAI SUPER KINGS, 15th Match        |https://www.cricbuzz.com/cricket-scores/35662/kkr-vs-csk-15th-match-indian-premier-league-2021 |null        |null   |null       |null  |null        |null  |null   |\n|2021    |T20   |Indian Premier League 2021|null |League |ROYAL CHALLENGERS BENGALURU vs RAJASTHAN ROYALS, 16th Match     |https://www.cricbuzz.com/cricket-scores/35663/rcb-vs-rr-16th-match-indian-premier-league-2021  |null        |null   |null       |null  |null        |null  |null   |\n|2021    |T20   |Indian Premier League 2021|null |League |PUNJAB KINGS vs MUMBAI INDIANS, 17th Match                      |https://www.cricbuzz.com/cricket-scores/35668/pbks-vs-mi-17th-match-indian-premier-league-2021 |null        |null   |null       |null  |null        |null  |null   |\n|2021    |T20   |Indian Premier League 2021|null |League |RAJASTHAN ROYALS vs KOLKATA KNIGHT RIDERS, 18th Match           |https://www.cricbuzz.com/cricket-scores/35673/rr-vs-kkr-18th-match-indian-premier-league-2021  |null        |null   |null       |null  |null        |null  |null   |\n|2021    |T20   |Indian Premier League 2021|null |League |CHENNAI SUPER KINGS vs ROYAL CHALLENGERS BENGALURU, 19th Match  |https://www.cricbuzz.com/cricket-scores/35678/csk-vs-rcb-19th-match-indian-premier-league-2021 |null        |null   |null       |null  |null        |null  |null   |\n|2021    |T20   |Indian Premier League 2021|null |League |SUNRISERS HYDERABAD vs DELHI CAPITALS, 20th Match               |https://www.cricbuzz.com/cricket-scores/35683/srh-vs-dc-20th-match-indian-premier-league-2021  |null        |null   |null       |null  |null        |null  |null   |\n|2021    |T20   |Indian Premier League 2021|null |League |PUNJAB KINGS vs KOLKATA KNIGHT RIDERS, 21st Match               |https://www.cricbuzz.com/cricket-scores/35688/pbks-vs-kkr-21st-match-indian-premier-league-2021|null        |null   |null       |null  |null        |null  |null   |\n|2021    |T20   |Indian Premier League 2021|null |League |DELHI CAPITALS vs ROYAL CHALLENGERS BENGALURU, 22nd Match       |https://www.cricbuzz.com/cricket-scores/35693/dc-vs-rcb-22nd-match-indian-premier-league-2021  |null        |null   |null       |null  |null        |null  |null   |\n|2021    |T20   |Indian Premier League 2021|null |League |CHENNAI SUPER KINGS vs SUNRISERS HYDERABAD, 23rd Match          |https://www.cricbuzz.com/cricket-scores/35698/csk-vs-srh-23rd-match-indian-premier-league-2021 |null        |null   |null       |null  |null        |null  |null   |\n|2021    |T20   |Indian Premier League 2021|null |League |MUMBAI INDIANS vs RAJASTHAN ROYALS, 24th Match                  |https://www.cricbuzz.com/cricket-scores/35702/mi-vs-rr-24th-match-indian-premier-league-2021   |null        |null   |null       |null  |null        |null  |null   |\n|2021    |T20   |Indian Premier League 2021|null |League |DELHI CAPITALS vs KOLKATA KNIGHT RIDERS, 25th Match             |https://www.cricbuzz.com/cricket-scores/35703/dc-vs-kkr-25th-match-indian-premier-league-2021  |null        |null   |null       |null  |null        |null  |null   |\n|2021    |T20   |Indian Premier League 2021|null |League |PUNJAB KINGS vs ROYAL CHALLENGERS BENGALURU, 26th Match         |https://www.cricbuzz.com/cricket-scores/35708/pbks-vs-rcb-26th-match-indian-premier-league-2021|null        |null   |null       |null  |null        |null  |null   |\n|2021    |T20   |Indian Premier League 2021|null |League |MUMBAI INDIANS vs CHENNAI SUPER KINGS, 27th Match               |https://www.cricbuzz.com/cricket-scores/35712/mi-vs-csk-27th-match-indian-premier-league-2021  |null        |null   |null       |null  |null        |null  |null   |\n|2021    |T20   |Indian Premier League 2021|null |League |RAJASTHAN ROYALS vs SUNRISERS HYDERABAD, 28th Match             |https://www.cricbuzz.com/cricket-scores/35713/rr-vs-srh-28th-match-indian-premier-league-2021  |null        |null   |null       |null  |null        |null  |null   |\n|2021    |T20   |Indian Premier League 2021|null |League |PUNJAB KINGS vs DELHI CAPITALS, 29th Match                      |https://www.cricbuzz.com/cricket-scores/35717/pbks-vs-dc-29th-match-indian-premier-league-2021 |null        |null   |null       |null  |null        |null  |null   |\n|2021    |T20   |Indian Premier League 2021|null |League |KOLKATA KNIGHT RIDERS vs ROYAL CHALLENGERS BENGALURU, 30th Match|https://www.cricbuzz.com/cricket-scores/35718/kkr-vs-rcb-30th-match-indian-premier-league-2021 |null        |null   |null       |null  |null        |null  |null   |\n|2021    |T20   |Indian Premier League 2021|null |League |SUNRISERS HYDERABAD vs MUMBAI INDIANS, 31st Match               |https://www.cricbuzz.com/cricket-scores/35723/srh-vs-mi-31st-match-indian-premier-league-2021  |null        |null   |null       |null  |null        |null  |null   |\n|2021    |T20   |Indian Premier League 2021|null |League |CHENNAI SUPER KINGS vs MUMBAI INDIANS, 30th Match               |https://www.cricbuzz.com/cricket-scores/37556/csk-vs-mi-30th-match-indian-premier-league-2021  |null        |null   |null       |null  |null        |null  |null   |\n|2021    |T20   |Indian Premier League 2021|null |League |KOLKATA KNIGHT RIDERS vs ROYAL CHALLENGERS BENGALURU, 31st Match|https://www.cricbuzz.com/cricket-scores/37557/kkr-vs-rcb-31st-match-indian-premier-league-2021 |null        |null   |null       |null  |null        |null  |null   |\n|2021    |T20   |Indian Premier League 2021|null |League |PUNJAB KINGS vs RAJASTHAN ROYALS, 32nd Match                    |https://www.cricbuzz.com/cricket-scores/37562/pbks-vs-rr-32nd-match-indian-premier-league-2021 |null        |null   |null       |null  |null        |null  |null   |\n|2021    |T20   |Indian Premier League 2021|null |League |DELHI CAPITALS vs SUNRISERS HYDERABAD, 33rd Match               |https://www.cricbuzz.com/cricket-scores/37567/dc-vs-srh-33rd-match-indian-premier-league-2021  |null        |null   |null       |null  |null        |null  |null   |\n|2021    |T20   |Indian Premier League 2021|null |League |MUMBAI INDIANS vs KOLKATA KNIGHT RIDERS, 34th Match             |https://www.cricbuzz.com/cricket-scores/37572/mi-vs-kkr-34th-match-indian-premier-league-2021  |null        |null   |null       |null  |null        |null  |null   |\n|2021    |T20   |Indian Premier League 2021|null |League |ROYAL CHALLENGERS BENGALURU vs CHENNAI SUPER KINGS, 35th Match  |https://www.cricbuzz.com/cricket-scores/37577/rcb-vs-csk-35th-match-indian-premier-league-2021 |null        |null   |null       |null  |null        |null  |null   |\n|2021    |T20   |Indian Premier League 2021|null |League |DELHI CAPITALS vs RAJASTHAN ROYALS, 36th Match                  |https://www.cricbuzz.com/cricket-scores/37581/dc-vs-rr-36th-match-indian-premier-league-2021   |null        |null   |null       |null  |null        |null  |null   |\n|2021    |T20   |Indian Premier League 2021|null |League |SUNRISERS HYDERABAD vs PUNJAB KINGS, 37th Match                 |https://www.cricbuzz.com/cricket-scores/37582/srh-vs-pbks-37th-match-indian-premier-league-2021|null        |null   |null       |null  |null        |null  |null   |\n|2021    |T20   |Indian Premier League 2021|null |League |CHENNAI SUPER KINGS vs KOLKATA KNIGHT RIDERS, 38th Match        |https://www.cricbuzz.com/cricket-scores/37586/csk-vs-kkr-38th-match-indian-premier-league-2021 |null        |null   |null       |null  |null        |null  |null   |\n|2021    |T20   |Indian Premier League 2021|null |League |ROYAL CHALLENGERS BENGALURU vs MUMBAI INDIANS, 39th Match       |https://www.cricbuzz.com/cricket-scores/37591/rcb-vs-mi-39th-match-indian-premier-league-2021  |null        |null   |null       |null  |null        |null  |null   |\n|2021    |T20   |Indian Premier League 2021|null |League |SUNRISERS HYDERABAD vs RAJASTHAN ROYALS, 40th Match             |https://www.cricbuzz.com/cricket-scores/37596/srh-vs-rr-40th-match-indian-premier-league-2021  |null        |null   |null       |null  |null        |null  |null   |\n|2021    |T20   |Indian Premier League 2021|null |League |KOLKATA KNIGHT RIDERS vs DELHI CAPITALS, 41st Match             |https://www.cricbuzz.com/cricket-scores/37601/kkr-vs-dc-41st-match-indian-premier-league-2021  |null        |null   |null       |null  |null        |null  |null   |\n|2021    |T20   |Indian Premier League 2021|null |League |MUMBAI INDIANS vs PUNJAB KINGS, 42nd Match                      |https://www.cricbuzz.com/cricket-scores/37606/mi-vs-pbks-42nd-match-indian-premier-league-2021 |null        |null   |null       |null  |null        |null  |null   |\n|2021    |T20   |Indian Premier League 2021|null |League |RAJASTHAN ROYALS vs ROYAL CHALLENGERS BENGALURU, 43rd Match     |https://www.cricbuzz.com/cricket-scores/37611/rr-vs-rcb-43rd-match-indian-premier-league-2021  |null        |null   |null       |null  |null        |null  |null   |\n|2021    |T20   |Indian Premier League 2021|null |League |SUNRISERS HYDERABAD vs CHENNAI SUPER KINGS, 44th Match          |https://www.cricbuzz.com/cricket-scores/37616/srh-vs-csk-44th-match-indian-premier-league-2021 |null        |null   |null       |null  |null        |null  |null   |\n|2021    |T20   |Indian Premier League 2021|null |League |KOLKATA KNIGHT RIDERS vs PUNJAB KINGS, 45th Match               |https://www.cricbuzz.com/cricket-scores/37617/kkr-vs-pbks-45th-match-indian-premier-league-2021|null        |null   |null       |null  |null        |null  |null   |\n|2021    |T20   |Indian Premier League 2021|null |League |MUMBAI INDIANS vs DELHI CAPITALS, 46th Match                    |https://www.cricbuzz.com/cricket-scores/37621/mi-vs-dc-46th-match-indian-premier-league-2021   |null        |null   |null       |null  |null        |null  |null   |\n|2021    |T20   |Indian Premier League 2021|null |League |RAJASTHAN ROYALS vs CHENNAI SUPER KINGS, 47th Match             |https://www.cricbuzz.com/cricket-scores/37626/rr-vs-csk-47th-match-indian-premier-league-2021  |null        |null   |null       |null  |null        |null  |null   |\n|2021    |T20   |Indian Premier League 2021|null |League |ROYAL CHALLENGERS BENGALURU vs PUNJAB KINGS, 48th Match         |https://www.cricbuzz.com/cricket-scores/37627/rcb-vs-pbks-48th-match-indian-premier-league-2021|null        |null   |null       |null  |null        |null  |null   |\n|2021    |T20   |Indian Premier League 2021|null |League |KOLKATA KNIGHT RIDERS vs SUNRISERS HYDERABAD, 49th Match        |https://www.cricbuzz.com/cricket-scores/37631/kkr-vs-srh-49th-match-indian-premier-league-2021 |null        |null   |null       |null  |null        |null  |null   |\n|2021    |T20   |Indian Premier League 2021|null |League |DELHI CAPITALS vs CHENNAI SUPER KINGS, 50th Match               |https://www.cricbuzz.com/cricket-scores/37632/dc-vs-csk-50th-match-indian-premier-league-2021  |null        |null   |null       |null  |null        |null  |null   |\n|2021    |T20   |Indian Premier League 2021|null |League |RAJASTHAN ROYALS vs MUMBAI INDIANS, 51st Match                  |https://www.cricbuzz.com/cricket-scores/37637/rr-vs-mi-51st-match-indian-premier-league-2021   |null        |null   |null       |null  |null        |null  |null   |\n|2021    |T20   |Indian Premier League 2021|null |League |ROYAL CHALLENGERS BENGALURU vs SUNRISERS HYDERABAD, 52nd Match  |https://www.cricbuzz.com/cricket-scores/37642/rcb-vs-srh-52nd-match-indian-premier-league-2021 |null        |null   |null       |null  |null        |null  |null   |\n|2021    |T20   |Indian Premier League 2021|null |League |CHENNAI SUPER KINGS vs PUNJAB KINGS, 53rd Match                 |https://www.cricbuzz.com/cricket-scores/37646/csk-vs-pbks-53rd-match-indian-premier-league-2021|null        |null   |null       |null  |null        |null  |null   |\n|2021    |T20   |Indian Premier League 2021|null |League |KOLKATA KNIGHT RIDERS vs RAJASTHAN ROYALS, 54th Match           |https://www.cricbuzz.com/cricket-scores/37651/kkr-vs-rr-54th-match-indian-premier-league-2021  |null        |null   |null       |null  |null        |null  |null   |\n|2021    |T20   |Indian Premier League 2021|null |League |SUNRISERS HYDERABAD vs MUMBAI INDIANS, 55th Match               |https://www.cricbuzz.com/cricket-scores/37656/srh-vs-mi-55th-match-indian-premier-league-2021  |null        |null   |null       |null  |null        |null  |null   |\n|2021    |T20   |Indian Premier League 2021|null |League |ROYAL CHALLENGERS BENGALURU vs DELHI CAPITALS, 56th Match       |https://www.cricbuzz.com/cricket-scores/37661/rcb-vs-dc-56th-match-indian-premier-league-2021  |null        |null   |null       |null  |null        |null  |null   |\n|2021    |T20   |Indian Premier League 2021|null |League |DELHI CAPITALS vs CHENNAI SUPER KINGS, Qualifier 1              |https://www.cricbuzz.com/cricket-scores/37666/dc-vs-csk-qualifier-1-indian-premier-league-2021 |null        |null   |null       |null  |null        |null  |null   |\n|2021    |T20   |Indian Premier League 2021|null |League |ROYAL CHALLENGERS BENGALURU vs KOLKATA KNIGHT RIDERS, Eliminator|https://www.cricbuzz.com/cricket-scores/37671/rcb-vs-kkr-eliminator-indian-premier-league-2021 |null        |null   |null       |null  |null        |null  |null   |\n|2021    |T20   |Indian Premier League 2021|null |League |DELHI CAPITALS vs KOLKATA KNIGHT RIDERS, Qualifier 2            |https://www.cricbuzz.com/cricket-scores/37672/dc-vs-kkr-qualifier-2-indian-premier-league-2021 |null        |null   |null       |null  |null        |null  |null   |\n|2021    |T20   |Indian Premier League 2021|null |League |CHENNAI SUPER KINGS vs KOLKATA KNIGHT RIDERS, Final             |https://www.cricbuzz.com/cricket-scores/37676/csk-vs-kkr-final-indian-premier-league-2021      |null        |null   |null       |null  |null        |null  |null   |\n+--------+------+--------------------------+-----+-------+----------------------------------------------------------------+-----------------------------------------------------------------------------------------------+------------+-------+-----------+------+------------+------+-------+\n\n"
     ]
    }
   ],
   "source": [
    "total_rows = ipl_df_struct_schema.count()\n",
    "ipl_df_struct_schema.show(total_rows, truncate=False)\n"
   ]
  },
  {
   "cell_type": "code",
   "execution_count": 0,
   "metadata": {
    "application/vnd.databricks.v1+cell": {
     "cellMetadata": {
      "byteLimit": 2048000,
      "rowLimit": 10000
     },
     "inputWidgets": {},
     "nuid": "efdf7629-231a-47e8-aca1-4df3de08f72a",
     "showTitle": false,
     "tableResultSettingsMap": {},
     "title": ""
    }
   },
   "outputs": [
    {
     "output_type": "stream",
     "name": "stdout",
     "output_type": "stream",
     "text": [
      "+--------+------+----------+-----+-------+-----+------------+------------+-------+-----------+------+------------+------+-------+\n|match_id|season|start_date|venue|innings| ball|batting_team|bowling_team|striker|non_striker|bowler|runs_off_bat|extras|wickets|\n+--------+------+----------+-----+-------+-----+------------+------------+-------+-----------+------+------------+------+-------+\n|   false| false|     false| true|  false|false|       false|        true|   true|       true|  true|        true|  true|   true|\n|   false| false|     false| true|  false|false|       false|        true|   true|       true|  true|        true|  true|   true|\n|   false| false|     false| true|  false|false|       false|        true|   true|       true|  true|        true|  true|   true|\n|   false| false|     false| true|  false|false|       false|        true|   true|       true|  true|        true|  true|   true|\n|   false| false|     false| true|  false|false|       false|        true|   true|       true|  true|        true|  true|   true|\n+--------+------+----------+-----+-------+-----+------------+------------+-------+-----------+------+------------+------+-------+\nonly showing top 5 rows\n\n+--------+------+----------+-----+-------+----+------------+------------+-------+-----------+------+------------+------+-------+\n|match_id|season|start_date|venue|innings|ball|batting_team|bowling_team|striker|non_striker|bowler|runs_off_bat|extras|wickets|\n+--------+------+----------+-----+-------+----+------------+------------+-------+-----------+------+------------+------+-------+\n+--------+------+----------+-----+-------+----+------------+------------+-------+-----------+------+------------+------+-------+\n\n"
     ]
    }
   ],
   "source": [
    "from pyspark.sql.functions import col, isnan\n",
    "ipl_df_struct_schema.select([col(c).isNull().alias(c) for c in ipl_df_struct_schema.columns]).show(5)\n",
    "ipl_df_struct_schema.filter(col(\"match_id\").isNull()).show()\n"
   ]
  },
  {
   "cell_type": "code",
   "execution_count": 0,
   "metadata": {
    "application/vnd.databricks.v1+cell": {
     "cellMetadata": {
      "byteLimit": 2048000,
      "rowLimit": 10000
     },
     "inputWidgets": {},
     "nuid": "c22ad0c2-82c8-4ddb-bc98-56a3ca628f04",
     "showTitle": false,
     "tableResultSettingsMap": {},
     "title": ""
    }
   },
   "outputs": [],
   "source": [
    "ipl_df_struct_schema.write.mode(\"overwrite\").parquet(\"dbfs:/FileStore/ipl/cleaned_ipl_2021\")\n"
   ]
  }
 ],
 "metadata": {
  "application/vnd.databricks.v1+notebook": {
   "computePreferences": null,
   "dashboards": [],
   "environmentMetadata": {
    "base_environment": "",
    "environment_version": "1"
   },
   "inputWidgetPreferences": null,
   "language": "python",
   "notebookMetadata": {
    "pythonIndentUnit": 4
   },
   "notebookName": "L16 TASK  1",
   "widgets": {}
  }
 },
 "nbformat": 4,
 "nbformat_minor": 0
}