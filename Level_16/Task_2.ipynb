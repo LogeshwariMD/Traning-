{
 "cells": [
  {
   "cell_type": "code",
   "execution_count": 0,
   "metadata": {
    "application/vnd.databricks.v1+cell": {
     "cellMetadata": {
      "byteLimit": 2048000,
      "rowLimit": 10000
     },
     "inputWidgets": {},
     "nuid": "5aaca8b5-e695-43bf-9df0-6f4390813044",
     "showTitle": false,
     "tableResultSettingsMap": {},
     "title": ""
    }
   },
   "outputs": [],
   "source": [
    "from pyspark.sql import SparkSession\n",
    "from pyspark.sql.functions import col"
   ]
  },
  {
   "cell_type": "code",
   "execution_count": 0,
   "metadata": {
    "application/vnd.databricks.v1+cell": {
     "cellMetadata": {
      "byteLimit": 2048000,
      "rowLimit": 10000
     },
     "inputWidgets": {},
     "nuid": "f65b08d0-d354-43d4-8a35-f282b4e18e6b",
     "showTitle": false,
     "tableResultSettingsMap": {},
     "title": ""
    }
   },
   "outputs": [],
   "source": [
    "spark = SparkSession.builder \\\n",
    "    .appName(\"Pandas vs PySpark DataFrame\") \\\n",
    "    .getOrCreate()\n"
   ]
  },
  {
   "cell_type": "code",
   "execution_count": 0,
   "metadata": {
    "application/vnd.databricks.v1+cell": {
     "cellMetadata": {
      "byteLimit": 2048000,
      "rowLimit": 10000
     },
     "inputWidgets": {},
     "nuid": "8c345df6-d2f8-4889-8da3-7bd54cae8e68",
     "showTitle": false,
     "tableResultSettingsMap": {},
     "title": ""
    }
   },
   "outputs": [],
   "source": [
    "data = [\n",
    "    (1, \"Mumbai Indians\", 170),\n",
    "    (2, \"Delhi Capitals\", 150),\n",
    "    (3, \"Royal Challengers Bangalore\", 180),\n",
    "    (4, \"Kolkata Knight Riders\", 160)\n",
    "]"
   ]
  },
  {
   "cell_type": "code",
   "execution_count": 0,
   "metadata": {
    "application/vnd.databricks.v1+cell": {
     "cellMetadata": {
      "byteLimit": 2048000,
      "rowLimit": 10000
     },
     "inputWidgets": {},
     "nuid": "4a359689-a58e-4ec1-bec4-335b6e152a49",
     "showTitle": false,
     "tableResultSettingsMap": {},
     "title": ""
    }
   },
   "outputs": [],
   "source": [
    "columns = [\"match_id\", \"team_name\", \"score\"]"
   ]
  },
  {
   "cell_type": "code",
   "execution_count": 0,
   "metadata": {
    "application/vnd.databricks.v1+cell": {
     "cellMetadata": {
      "byteLimit": 2048000,
      "rowLimit": 10000
     },
     "inputWidgets": {},
     "nuid": "d24158f9-6a4f-4369-8805-a24d34aef9a3",
     "showTitle": false,
     "tableResultSettingsMap": {},
     "title": ""
    }
   },
   "outputs": [],
   "source": [
    "df_spark = spark.createDataFrame(data, columns)"
   ]
  },
  {
   "cell_type": "code",
   "execution_count": 0,
   "metadata": {
    "application/vnd.databricks.v1+cell": {
     "cellMetadata": {
      "byteLimit": 2048000,
      "rowLimit": 10000
     },
     "inputWidgets": {},
     "nuid": "fcfeb752-d7bd-46c0-ad71-82572e472b37",
     "showTitle": false,
     "tableResultSettingsMap": {},
     "title": ""
    }
   },
   "outputs": [
    {
     "output_type": "stream",
     "name": "stdout",
     "output_type": "stream",
     "text": [
      "+--------+--------------------+-----+\n|match_id|           team_name|score|\n+--------+--------------------+-----+\n|       1|      Mumbai Indians|  170|\n|       2|      Delhi Capitals|  150|\n|       3|Royal Challengers...|  180|\n|       4|Kolkata Knight Ri...|  160|\n+--------+--------------------+-----+\n\n"
     ]
    }
   ],
   "source": [
    "df_spark.show()"
   ]
  },
  {
   "cell_type": "code",
   "execution_count": 0,
   "metadata": {
    "application/vnd.databricks.v1+cell": {
     "cellMetadata": {
      "byteLimit": 2048000,
      "rowLimit": 10000
     },
     "inputWidgets": {},
     "nuid": "f308c7d1-60f8-4bc8-b037-91756ede85e6",
     "showTitle": false,
     "tableResultSettingsMap": {},
     "title": ""
    }
   },
   "outputs": [
    {
     "output_type": "stream",
     "name": "stdout",
     "output_type": "stream",
     "text": [
      "Explanation (Simple):\n== Physical Plan ==\n*(1) Scan ExistingRDD[match_id#150L,team_name#151,score#152L]\n\n\n"
     ]
    }
   ],
   "source": [
    "print(\"Explanation (Simple):\")\n",
    "df_spark.explain(extended=False) "
   ]
  },
  {
   "cell_type": "code",
   "execution_count": 0,
   "metadata": {
    "application/vnd.databricks.v1+cell": {
     "cellMetadata": {
      "byteLimit": 2048000,
      "rowLimit": 10000
     },
     "inputWidgets": {},
     "nuid": "ea220b1a-3dc5-4a30-8687-93b4b4d5f75b",
     "showTitle": false,
     "tableResultSettingsMap": {},
     "title": ""
    }
   },
   "outputs": [
    {
     "output_type": "stream",
     "name": "stdout",
     "output_type": "stream",
     "text": [
      "\nExplanation (Extended):\n== Parsed Logical Plan ==\nLogicalRDD [match_id#150L, team_name#151, score#152L], false\n\n== Analyzed Logical Plan ==\nmatch_id: bigint, team_name: string, score: bigint\nLogicalRDD [match_id#150L, team_name#151, score#152L], false\n\n== Optimized Logical Plan ==\nLogicalRDD [match_id#150L, team_name#151, score#152L], false\n\n== Physical Plan ==\n*(1) Scan ExistingRDD[match_id#150L,team_name#151,score#152L]\n\n"
     ]
    }
   ],
   "source": [
    "print(\"\\nExplanation (Extended):\")\n",
    "df_spark.explain(extended=True) "
   ]
  },
  {
   "cell_type": "code",
   "execution_count": 0,
   "metadata": {
    "application/vnd.databricks.v1+cell": {
     "cellMetadata": {
      "byteLimit": 2048000,
      "rowLimit": 10000
     },
     "inputWidgets": {},
     "nuid": "8084b763-dc25-464b-9ae5-fe4858715214",
     "showTitle": false,
     "tableResultSettingsMap": {},
     "title": ""
    }
   },
   "outputs": [
    {
     "output_type": "stream",
     "name": "stdout",
     "output_type": "stream",
     "text": [
      "\nExplanation (Codegen):\nFound 1 WholeStageCodegen subtrees.\n== Subtree 1 / 1 (maxMethodCodeSize:252; maxConstantPoolSize:115(0.18% used); numInnerClasses:0) ==\n*(1) Scan ExistingRDD[match_id#150L,team_name#151,score#152L]\n\nGenerated code:\n/* 001 */ public Object generate(Object[] references) {\n/* 002 */   return new GeneratedIteratorForCodegenStage1(references);\n/* 003 */ }\n/* 004 */\n/* 005 */ // codegenStageId=1\n/* 006 */ final class GeneratedIteratorForCodegenStage1 extends org.apache.spark.sql.execution.BufferedRowIterator {\n/* 007 */   private Object[] references;\n/* 008 */   private scala.collection.Iterator[] inputs;\n/* 009 */   private scala.collection.Iterator rdd_input_0;\n/* 010 */   private org.apache.spark.sql.catalyst.expressions.codegen.UnsafeRowWriter[] rdd_mutableStateArray_0 = new org.apache.spark.sql.catalyst.expressions.codegen.UnsafeRowWriter[1];\n/* 011 */\n/* 012 */   public GeneratedIteratorForCodegenStage1(Object[] references) {\n/* 013 */     this.references = references;\n/* 014 */   }\n/* 015 */\n/* 016 */   public void init(int index, scala.collection.Iterator[] inputs) {\n/* 017 */     partitionIndex = index;\n/* 018 */     this.inputs = inputs;\n/* 019 */     rdd_input_0 = inputs[0];\n/* 020 */     rdd_mutableStateArray_0[0] = new org.apache.spark.sql.catalyst.expressions.codegen.UnsafeRowWriter(3, 32);\n/* 021 */\n/* 022 */   }\n/* 023 */\n/* 024 */   protected void processNext() throws java.io.IOException {\n/* 025 */     while ( rdd_input_0.hasNext()) {\n/* 026 */       InternalRow rdd_row_0 = (InternalRow) rdd_input_0.next();\n/* 027 */       ((org.apache.spark.sql.execution.metric.SQLMetric) references[0] /* numOutputRows */).add(1);\n/* 028 */       final boolean rdd_isNull_0 = (rdd_row_0.isNullAt(0));\n/* 029 */       final long rdd_value_0 = (rdd_isNull_0 ? -1L : (rdd_row_0.getLong(0)));\n/* 030 */       final boolean rdd_isNull_1 = (rdd_row_0.isNullAt(1));\n/* 031 */       final UTF8String rdd_value_1 = (rdd_isNull_1 ? null : (rdd_row_0.getUTF8String(1)));\n/* 032 */       final boolean rdd_isNull_2 = (rdd_row_0.isNullAt(2));\n/* 033 */       final long rdd_value_2 = (rdd_isNull_2 ? -1L : (rdd_row_0.getLong(2)));\n/* 034 */       rdd_mutableStateArray_0[0].reset();\n/* 035 */\n/* 036 */       rdd_mutableStateArray_0[0].zeroOutNullBytes();\n/* 037 */\n/* 038 */       if (rdd_isNull_0) {\n/* 039 */         rdd_mutableStateArray_0[0].setNullAt(0);\n/* 040 */       } else {\n/* 041 */         rdd_mutableStateArray_0[0].write(0, rdd_value_0);\n/* 042 */       }\n/* 043 */\n/* 044 */       if (rdd_isNull_1) {\n/* 045 */         rdd_mutableStateArray_0[0].setNullAt(1);\n/* 046 */       } else {\n/* 047 */         rdd_mutableStateArray_0[0].write(1, rdd_value_1);\n/* 048 */       }\n/* 049 */\n/* 050 */       if (rdd_isNull_2) {\n/* 051 */         rdd_mutableStateArray_0[0].setNullAt(2);\n/* 052 */       } else {\n/* 053 */         rdd_mutableStateArray_0[0].write(2, rdd_value_2);\n/* 054 */       }\n/* 055 */       append((rdd_mutableStateArray_0[0].getRow()));\n/* 056 */       if (shouldStop()) return;\n/* 057 */     }\n/* 058 */   }\n/* 059 */\n/* 060 */ }\n\n\n"
     ]
    }
   ],
   "source": [
    "print(\"\\nExplanation (Codegen):\")\n",
    "df_spark.explain(mode=\"codegen\") "
   ]
  },
  {
   "cell_type": "code",
   "execution_count": 0,
   "metadata": {
    "application/vnd.databricks.v1+cell": {
     "cellMetadata": {
      "byteLimit": 2048000,
      "rowLimit": 10000
     },
     "inputWidgets": {},
     "nuid": "8be8f136-07c8-483c-b13a-4ce47391038c",
     "showTitle": false,
     "tableResultSettingsMap": {},
     "title": ""
    }
   },
   "outputs": [
    {
     "output_type": "stream",
     "name": "stdout",
     "output_type": "stream",
     "text": [
      "\nExplanation (Cost):\n== Optimized Logical Plan ==\nLogicalRDD [match_id#150L, team_name#151, score#152L], false, Statistics(sizeInBytes=8.0 EiB)\n\n== Physical Plan ==\n*(1) Scan ExistingRDD[match_id#150L,team_name#151,score#152L]\n\n\n"
     ]
    }
   ],
   "source": [
    "print(\"\\nExplanation (Cost):\")\n",
    "df_spark.explain(mode=\"cost\") "
   ]
  },
  {
   "cell_type": "code",
   "execution_count": 0,
   "metadata": {
    "application/vnd.databricks.v1+cell": {
     "cellMetadata": {
      "byteLimit": 2048000,
      "rowLimit": 10000
     },
     "inputWidgets": {},
     "nuid": "cbfd5777-b0d1-4032-bdcc-6f05afede5eb",
     "showTitle": false,
     "tableResultSettingsMap": {},
     "title": ""
    }
   },
   "outputs": [
    {
     "output_type": "stream",
     "name": "stdout",
     "output_type": "stream",
     "text": [
      "\nExplanation (Formatted):\n== Physical Plan ==\n* Scan ExistingRDD (1)\n\n\n(1) Scan ExistingRDD [codegen id : 1]\nOutput [3]: [match_id#150L, team_name#151, score#152L]\nArguments: [match_id#150L, team_name#151, score#152L], MapPartitionsRDD[12] at applySchemaToPythonRDD at NativeMethodAccessorImpl.java:0, ExistingRDD, UnknownPartitioning(0)\n\n\n"
     ]
    }
   ],
   "source": [
    "print(\"\\nExplanation (Formatted):\")\n",
    "df_spark.explain(mode=\"formatted\")  "
   ]
  },
  {
   "cell_type": "code",
   "execution_count": 0,
   "metadata": {
    "application/vnd.databricks.v1+cell": {
     "cellMetadata": {
      "byteLimit": 2048000,
      "rowLimit": 10000
     },
     "inputWidgets": {},
     "nuid": "43888698-a9e7-4c0d-a010-1352302cf36a",
     "showTitle": false,
     "tableResultSettingsMap": {},
     "title": ""
    }
   },
   "outputs": [],
   "source": [
    "import pandas as pd"
   ]
  },
  {
   "cell_type": "code",
   "execution_count": 0,
   "metadata": {
    "application/vnd.databricks.v1+cell": {
     "cellMetadata": {
      "byteLimit": 2048000,
      "rowLimit": 10000
     },
     "inputWidgets": {},
     "nuid": "6d67bd6c-f7c9-4d14-a88a-53746dcc16a9",
     "showTitle": false,
     "tableResultSettingsMap": {},
     "title": ""
    }
   },
   "outputs": [],
   "source": [
    "df_pandas = pd.DataFrame(data, columns=columns)\n"
   ]
  },
  {
   "cell_type": "code",
   "execution_count": 0,
   "metadata": {
    "application/vnd.databricks.v1+cell": {
     "cellMetadata": {
      "byteLimit": 2048000,
      "rowLimit": 10000
     },
     "inputWidgets": {},
     "nuid": "6d0cbf4a-5007-40e2-8bc9-414dab10caf1",
     "showTitle": false,
     "tableResultSettingsMap": {},
     "title": ""
    }
   },
   "outputs": [
    {
     "output_type": "stream",
     "name": "stdout",
     "output_type": "stream",
     "text": [
      "\nPandas DataFrame:\n   match_id                    team_name  score\n0         1               Mumbai Indians    170\n1         2               Delhi Capitals    150\n2         3  Royal Challengers Bangalore    180\n3         4        Kolkata Knight Riders    160\n"
     ]
    }
   ],
   "source": [
    "print(\"\\nPandas DataFrame:\")\n",
    "print(df_pandas)"
   ]
  },
  {
   "cell_type": "code",
   "execution_count": 0,
   "metadata": {
    "application/vnd.databricks.v1+cell": {
     "cellMetadata": {},
     "inputWidgets": {},
     "nuid": "22a20a69-c21a-4a45-bdb1-51888dcdfe70",
     "showTitle": false,
     "tableResultSettingsMap": {},
     "title": ""
    }
   },
   "outputs": [],
   "source": []
  }
 ],
 "metadata": {
  "application/vnd.databricks.v1+notebook": {
   "computePreferences": null,
   "dashboards": [],
   "environmentMetadata": {
    "base_environment": "",
    "environment_version": "1"
   },
   "inputWidgetPreferences": null,
   "language": "python",
   "notebookMetadata": {
    "pythonIndentUnit": 4
   },
   "notebookName": "L16 task 2",
   "widgets": {}
  }
 },
 "nbformat": 4,
 "nbformat_minor": 0
}