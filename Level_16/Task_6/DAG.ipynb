{
 "cells": [
  {
   "cell_type": "code",
   "execution_count": 0,
   "metadata": {
    "application/vnd.databricks.v1+cell": {
     "cellMetadata": {
      "byteLimit": 2048000,
      "rowLimit": 10000
     },
     "inputWidgets": {},
     "nuid": "8dbbec8c-5fb9-4ecd-afa2-0229d6ba26b4",
     "showTitle": false,
     "tableResultSettingsMap": {},
     "title": ""
    }
   },
   "outputs": [
    {
     "output_type": "stream",
     "name": "stdout",
     "output_type": "stream",
     "text": [
      "Initial Data:\n+--------+------+--------------------+--------------------+----+----+-----------+-------+-----------+------------+----------+----------+-----------+---------+----------------+--------------+-------+\n|match_id|inning|        batting_team|        bowling_team|over|ball|     batter| bowler|non_striker|batsman_runs|extra_runs|total_runs|extras_type|is_wicket|player_dismissed|dismissal_kind|fielder|\n+--------+------+--------------------+--------------------+----+----+-----------+-------+-----------+------------+----------+----------+-----------+---------+----------------+--------------+-------+\n|  335982|     1|Kolkata Knight Ri...|Royal Challengers...|   0|   1| SC Ganguly|P Kumar|BB McCullum|           0|         1|         1|    legbyes|        0|              NA|            NA|     NA|\n|  335982|     1|Kolkata Knight Ri...|Royal Challengers...|   0|   2|BB McCullum|P Kumar| SC Ganguly|           0|         0|         0|       null|        0|              NA|            NA|     NA|\n|  335982|     1|Kolkata Knight Ri...|Royal Challengers...|   0|   3|BB McCullum|P Kumar| SC Ganguly|           0|         1|         1|      wides|        0|              NA|            NA|     NA|\n|  335982|     1|Kolkata Knight Ri...|Royal Challengers...|   0|   4|BB McCullum|P Kumar| SC Ganguly|           0|         0|         0|       null|        0|              NA|            NA|     NA|\n|  335982|     1|Kolkata Knight Ri...|Royal Challengers...|   0|   5|BB McCullum|P Kumar| SC Ganguly|           0|         0|         0|       null|        0|              NA|            NA|     NA|\n+--------+------+--------------------+--------------------+----+----+-----------+-------+-----------+------------+----------+----------+-----------+---------+----------------+--------------+-------+\nonly showing top 5 rows\n\nSelected Columns Data:\n+--------+------+--------------------+--------------------+----+----+-----------+-------+-----------+\n|match_id|inning|        batting_team|        bowling_team|over|ball|     batter| bowler|non_striker|\n+--------+------+--------------------+--------------------+----+----+-----------+-------+-----------+\n|  335982|     1|Kolkata Knight Ri...|Royal Challengers...|   0|   1| SC Ganguly|P Kumar|BB McCullum|\n|  335982|     1|Kolkata Knight Ri...|Royal Challengers...|   0|   2|BB McCullum|P Kumar| SC Ganguly|\n|  335982|     1|Kolkata Knight Ri...|Royal Challengers...|   0|   3|BB McCullum|P Kumar| SC Ganguly|\n|  335982|     1|Kolkata Knight Ri...|Royal Challengers...|   0|   4|BB McCullum|P Kumar| SC Ganguly|\n|  335982|     1|Kolkata Knight Ri...|Royal Challengers...|   0|   5|BB McCullum|P Kumar| SC Ganguly|\n+--------+------+--------------------+--------------------+----+----+-----------+-------+-----------+\nonly showing top 5 rows\n\nAggregated Data:\n+--------------------+-----------+\n|        batting_team|total_balls|\n+--------------------+-----------+\n| Chennai Super Kings|      28651|\n|     Deccan Chargers|       9034|\n|    Rajasthan Royals|      26242|\n|Royal Challengers...|      28205|\n|Kolkata Knight Ri...|      29514|\n|     Kings XI Punjab|      22646|\n|    Delhi Daredevils|      18786|\n|      Mumbai Indians|      31437|\n| Sunrisers Hyderabad|      21843|\n|Kochi Tuskers Kerala|       1582|\n|       Pune Warriors|       5443|\n|Rising Pune Super...|       1900|\n|       Gujarat Lions|       3566|\n|Rising Pune Super...|       1580|\n|        Punjab Kings|       6833|\n|      Delhi Capitals|      10946|\n|Lucknow Super Giants|       5400|\n|      Gujarat Titans|       5494|\n|Royal Challengers...|       1818|\n+--------------------+-----------+\n\nData written to Delta table successfully!\nDelta Table Data:\n+--------------------+-----------+\n|        batting_team|total_balls|\n+--------------------+-----------+\n| Chennai Super Kings|      28651|\n|     Deccan Chargers|       9034|\n|    Rajasthan Royals|      26242|\n|Royal Challengers...|      28205|\n|Kolkata Knight Ri...|      29514|\n|     Kings XI Punjab|      22646|\n|    Delhi Daredevils|      18786|\n|      Mumbai Indians|      31437|\n| Sunrisers Hyderabad|      21843|\n|Kochi Tuskers Kerala|       1582|\n|       Pune Warriors|       5443|\n|Rising Pune Super...|       1900|\n|       Gujarat Lions|       3566|\n|Rising Pune Super...|       1580|\n|        Punjab Kings|       6833|\n|      Delhi Capitals|      10946|\n|Lucknow Super Giants|       5400|\n|      Gujarat Titans|       5494|\n|Royal Challengers...|       1818|\n+--------------------+-----------+\n\n"
     ]
    }
   ],
   "source": [
    "# Step 1: Read the CSV into DataFrame\n",
    "# Make sure the file path is correct for your environment\n",
    "deliveries_df = spark.read.option(\"header\", True).csv(\"/FileStore/tables/deliveries.csv\")\n",
    "\n",
    "# Step 2: Show the Data\n",
    "print(\"Initial Data:\")\n",
    "deliveries_df.show(5)\n",
    "\n",
    "# Step 3: Select relevant columns (transformation step 1)\n",
    "selected_df = deliveries_df.select(\n",
    "    \"match_id\",\n",
    "    \"inning\",\n",
    "    \"batting_team\",\n",
    "    \"bowling_team\",\n",
    "    \"over\",\n",
    "    \"ball\",\n",
    "    \"batter\",\n",
    "    \"bowler\",\n",
    "    \"non_striker\"\n",
    ")\n",
    "\n",
    "print(\"Selected Columns Data:\")\n",
    "selected_df.show(5)\n",
    "\n",
    "# Step 4: Perform aggregation to create stages in the DAG (transformation step 2)\n",
    "from pyspark.sql.functions import count\n",
    "\n",
    "aggregated_df = selected_df.groupBy(\"batting_team\").agg(\n",
    "    count(\"ball\").alias(\"total_balls\")\n",
    ")\n",
    "\n",
    "print(\"Aggregated Data:\")\n",
    "aggregated_df.show()\n",
    "\n",
    "# Step 5: Write the aggregated data as a Delta Table (action step)\n",
    "aggregated_df.write.format(\"delta\").mode(\"overwrite\").save(\"/FileStore/tables/aggregated_deliveries_delta\")\n",
    "\n",
    "print(\"Data written to Delta table successfully!\")\n",
    "\n",
    "# Optional: Step 6: Read back the Delta table to check\n",
    "delta_df = spark.read.format(\"delta\").load(\"/FileStore/tables/aggregated_deliveries_delta\")\n",
    "print(\"Delta Table Data:\")\n",
    "delta_df.show()\n"
   ]
  },
  {
   "cell_type": "code",
   "execution_count": 0,
   "metadata": {
    "application/vnd.databricks.v1+cell": {
     "cellMetadata": {},
     "inputWidgets": {},
     "nuid": "46b0a0e1-5598-41ef-88a4-b99eebf513a5",
     "showTitle": false,
     "tableResultSettingsMap": {},
     "title": ""
    }
   },
   "outputs": [],
   "source": []
  }
 ],
 "metadata": {
  "application/vnd.databricks.v1+notebook": {
   "computePreferences": null,
   "dashboards": [],
   "environmentMetadata": {
    "base_environment": "",
    "environment_version": "1"
   },
   "inputWidgetPreferences": null,
   "language": "python",
   "notebookMetadata": {
    "pythonIndentUnit": 4
   },
   "notebookName": "DAG",
   "widgets": {}
  }
 },
 "nbformat": 4,
 "nbformat_minor": 0
}