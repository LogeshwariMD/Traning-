{
 "cells": [
  {
   "cell_type": "code",
   "execution_count": 10,
   "id": "7f55522f-49fc-4f65-ad59-3e607693bb34",
   "metadata": {},
   "outputs": [],
   "source": [
    "import threading"
   ]
  },
  {
   "cell_type": "code",
   "execution_count": 11,
   "id": "fc353fbb-d927-41ee-9745-17dbc529c09d",
   "metadata": {},
   "outputs": [],
   "source": [
    "def print_numbers():\n",
    "    print([1, 2, 3])"
   ]
  },
  {
   "cell_type": "code",
   "execution_count": 12,
   "id": "210a42b7-b9c7-479e-ac70-bdc5f068e035",
   "metadata": {},
   "outputs": [],
   "source": [
    "def print_letters():\n",
    "    print([\"A\", \"B\", \"C\"])"
   ]
  },
  {
   "cell_type": "code",
   "execution_count": 13,
   "id": "a46dea69-581e-4fe3-a3d1-bf17b8e6be34",
   "metadata": {},
   "outputs": [],
   "source": [
    "thread1 = threading.Thread(target=print_numbers)\n",
    "thread2 = threading.Thread(target=print_letters)"
   ]
  },
  {
   "cell_type": "code",
   "execution_count": 14,
   "id": "7202951d-4ea2-48c8-9dfe-b290d6c90a33",
   "metadata": {},
   "outputs": [
    {
     "name": "stdout",
     "output_type": "stream",
     "text": [
      "[1, 2, 3]\n",
      "['A', 'B', 'C']\n"
     ]
    }
   ],
   "source": [
    "thread1.start()\n",
    "thread2.start()\n"
   ]
  },
  {
   "cell_type": "code",
   "execution_count": 15,
   "id": "00fd559a-67bb-4991-97be-d0addc8be09f",
   "metadata": {},
   "outputs": [],
   "source": [
    "thread1.join()\n",
    "thread2.join()"
   ]
  },
  {
   "cell_type": "code",
   "execution_count": null,
   "id": "685eafb0-4fe8-4fe5-b860-4bd2d74184ca",
   "metadata": {},
   "outputs": [],
   "source": []
  }
 ],
 "metadata": {
  "kernelspec": {
   "display_name": "Python 3 (ipykernel)",
   "language": "python",
   "name": "python3"
  },
  "language_info": {
   "codemirror_mode": {
    "name": "ipython",
    "version": 3
   },
   "file_extension": ".py",
   "mimetype": "text/x-python",
   "name": "python",
   "nbconvert_exporter": "python",
   "pygments_lexer": "ipython3",
   "version": "3.12.4"
  }
 },
 "nbformat": 4,
 "nbformat_minor": 5
}
