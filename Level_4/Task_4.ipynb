{
 "cells": [
  {
   "cell_type": "markdown",
   "id": "03c0333b-043e-4110-9d9d-d0b2ee829ed5",
   "metadata": {},
   "source": [
    "Task 4: Logging Setup"
   ]
  },
  {
   "cell_type": "code",
   "execution_count": 1,
   "id": "6769c1f2-3d4a-4e0c-8f03-df0baf2b3796",
   "metadata": {},
   "outputs": [],
   "source": [
    "import logging "
   ]
  },
  {
   "cell_type": "code",
   "execution_count": 7,
   "id": "2a4294b5-cf6b-424f-a28e-225ef8e8c3d2",
   "metadata": {},
   "outputs": [],
   "source": [
    "logging.basicConfig(filename=\"app.log\", level=logging.INFO, \n",
    "                    format=\"%(asctime)s - %(levelname)s - %(message)s\")\n"
   ]
  },
  {
   "cell_type": "code",
   "execution_count": 8,
   "id": "ba75c35b-f260-464e-ae55-e2f9261a2219",
   "metadata": {},
   "outputs": [],
   "source": [
    "logging.info(\"Script has started.\")"
   ]
  },
  {
   "cell_type": "code",
   "execution_count": 9,
   "id": "71aa589c-5f47-47b2-a6b7-fde220204774",
   "metadata": {},
   "outputs": [],
   "source": [
    "task_result = \"Task completed successfully.\""
   ]
  },
  {
   "cell_type": "code",
   "execution_count": 10,
   "id": "82f2f9e5-cd35-4b22-959d-f0257f8e7364",
   "metadata": {},
   "outputs": [],
   "source": [
    "logging.info(task_result)"
   ]
  },
  {
   "cell_type": "code",
   "execution_count": 11,
   "id": "ab27679c-8716-4356-a976-b5b6df46207a",
   "metadata": {},
   "outputs": [
    {
     "name": "stdout",
     "output_type": "stream",
     "text": [
      "Logging setup complete. Check 'app.log' for entries.\n"
     ]
    }
   ],
   "source": [
    "print(\"Logging setup complete. Check 'app.log' for entries.\")"
   ]
  },
  {
   "cell_type": "code",
   "execution_count": null,
   "id": "96c9b947-2add-48f6-a856-661a65cde239",
   "metadata": {},
   "outputs": [],
   "source": []
  }
 ],
 "metadata": {
  "kernelspec": {
   "display_name": "Python 3 (ipykernel)",
   "language": "python",
   "name": "python3"
  },
  "language_info": {
   "codemirror_mode": {
    "name": "ipython",
    "version": 3
   },
   "file_extension": ".py",
   "mimetype": "text/x-python",
   "name": "python",
   "nbconvert_exporter": "python",
   "pygments_lexer": "ipython3",
   "version": "3.12.4"
  }
 },
 "nbformat": 4,
 "nbformat_minor": 5
}
