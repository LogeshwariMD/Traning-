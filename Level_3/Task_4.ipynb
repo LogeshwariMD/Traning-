{
 "cells": [
  {
   "cell_type": "markdown",
   "id": "daf6c308-0955-4fc9-aebe-22bd9a78e6f4",
   "metadata": {},
   "source": [
    "Task 4: Generator Sequence"
   ]
  },
  {
   "cell_type": "code",
   "execution_count": 1,
   "id": "716c8b1b-e48a-454e-ac96-910636614808",
   "metadata": {},
   "outputs": [],
   "source": [
    "def fib(n):\n",
    "    a, b = 0, 1\n",
    "    for _ in range(n):\n",
    "        yield a\n",
    "        a, b = b, a + b"
   ]
  },
  {
   "cell_type": "code",
   "execution_count": 2,
   "id": "c3230ecc-e3cd-4b64-9bcb-6ffd64cbe556",
   "metadata": {},
   "outputs": [
    {
     "name": "stdout",
     "output_type": "stream",
     "text": [
      "[0, 1, 1, 2, 3]\n"
     ]
    }
   ],
   "source": [
    "print(list(fib(5)))"
   ]
  },
  {
   "cell_type": "code",
   "execution_count": null,
   "id": "a008d32c-eef2-4404-b620-67c549cbfc66",
   "metadata": {},
   "outputs": [],
   "source": []
  }
 ],
 "metadata": {
  "kernelspec": {
   "display_name": "Python 3 (ipykernel)",
   "language": "python",
   "name": "python3"
  },
  "language_info": {
   "codemirror_mode": {
    "name": "ipython",
    "version": 3
   },
   "file_extension": ".py",
   "mimetype": "text/x-python",
   "name": "python",
   "nbconvert_exporter": "python",
   "pygments_lexer": "ipython3",
   "version": "3.12.4"
  }
 },
 "nbformat": 4,
 "nbformat_minor": 5
}
