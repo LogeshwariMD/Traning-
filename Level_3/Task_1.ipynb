{
 "cells": [
  {
   "cell_type": "markdown",
   "id": "2f02f04b-447e-408d-9c57-00ec3d6b0451",
   "metadata": {},
   "source": [
    "\r\n",
    "Task 1: Exception Handler"
   ]
  },
  {
   "cell_type": "code",
   "execution_count": 1,
   "id": "7216ea48-9f89-47f3-a3a8-ca13c692f871",
   "metadata": {},
   "outputs": [
    {
     "name": "stdout",
     "output_type": "stream",
     "text": [
      "Cannot divide by zero\n"
     ]
    }
   ],
   "source": [
    "try:\n",
    "    result = 10 / 0  \n",
    "except ZeroDivisionError:\n",
    "    print(\"Cannot divide by zero\")"
   ]
  },
  {
   "cell_type": "code",
   "execution_count": null,
   "id": "65f2447c-4a4c-4450-aa7e-3cabd5db1afe",
   "metadata": {},
   "outputs": [],
   "source": []
  }
 ],
 "metadata": {
  "kernelspec": {
   "display_name": "Python 3 (ipykernel)",
   "language": "python",
   "name": "python3"
  },
  "language_info": {
   "codemirror_mode": {
    "name": "ipython",
    "version": 3
   },
   "file_extension": ".py",
   "mimetype": "text/x-python",
   "name": "python",
   "nbconvert_exporter": "python",
   "pygments_lexer": "ipython3",
   "version": "3.12.4"
  }
 },
 "nbformat": 4,
 "nbformat_minor": 5
}
