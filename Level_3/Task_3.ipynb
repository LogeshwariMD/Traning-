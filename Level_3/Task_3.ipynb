{
 "cells": [
  {
   "cell_type": "markdown",
   "id": "ce9c11cf-eef9-4269-a6f4-f4309dff4008",
   "metadata": {},
   "source": [
    " Task 3: Decorator Timer"
   ]
  },
  {
   "cell_type": "code",
   "execution_count": 2,
   "id": "297392a5-4a6c-473a-a720-19479b4e801d",
   "metadata": {},
   "outputs": [],
   "source": [
    "import time"
   ]
  },
  {
   "cell_type": "code",
   "execution_count": 3,
   "id": "8a1e2a79-c42b-45eb-ab46-47a5b3bbc366",
   "metadata": {},
   "outputs": [],
   "source": [
    "def timer_decorator(func):\n",
    "    def wrapper():\n",
    "        start_time = time.time()\n",
    "        func()\n",
    "        end_time = time.time()\n",
    "        print(f\"Elapsed time: {end_time - start_time:.2f} seconds\")\n",
    "    return wrapper\n"
   ]
  },
  {
   "cell_type": "code",
   "execution_count": 6,
   "id": "e91eb2df-adf1-41cf-8c1e-860f87057955",
   "metadata": {},
   "outputs": [],
   "source": [
    "@timer_decorator\n",
    "def sample_function():\n",
    "    time.sleep(1)"
   ]
  },
  {
   "cell_type": "code",
   "execution_count": 7,
   "id": "922abc04-c080-4b5a-8a80-541b3fb800a9",
   "metadata": {},
   "outputs": [
    {
     "name": "stdout",
     "output_type": "stream",
     "text": [
      "Elapsed time: 1.00 seconds\n"
     ]
    }
   ],
   "source": [
    "sample_function()"
   ]
  },
  {
   "cell_type": "code",
   "execution_count": null,
   "id": "37e2fb76-2e6e-4a8d-aab4-a2d46b8e4e28",
   "metadata": {},
   "outputs": [],
   "source": []
  }
 ],
 "metadata": {
  "kernelspec": {
   "display_name": "Python 3 (ipykernel)",
   "language": "python",
   "name": "python3"
  },
  "language_info": {
   "codemirror_mode": {
    "name": "ipython",
    "version": 3
   },
   "file_extension": ".py",
   "mimetype": "text/x-python",
   "name": "python",
   "nbconvert_exporter": "python",
   "pygments_lexer": "ipython3",
   "version": "3.12.4"
  }
 },
 "nbformat": 4,
 "nbformat_minor": 5
}
