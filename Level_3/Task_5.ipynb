{
 "cells": [
  {
   "cell_type": "markdown",
   "id": "575ca0f7-e6a6-49fc-a102-373e13cda8bd",
   "metadata": {},
   "source": [
    " Task 5: Deep Copy Test"
   ]
  },
  {
   "cell_type": "code",
   "execution_count": 1,
   "id": "97a3db1c-38a3-4acc-a6bc-943586f29595",
   "metadata": {},
   "outputs": [],
   "source": [
    "import copy"
   ]
  },
  {
   "cell_type": "code",
   "execution_count": 2,
   "id": "e5df34ee-1f4d-4946-b14d-44d363a97a93",
   "metadata": {},
   "outputs": [],
   "source": [
    "original_list = [[9, 2], [3, 4]]\n",
    "shallow_copy = copy.copy(original_list)\n",
    "deep_copy = copy.deepcopy(original_list)\n",
    "shallow_copy[0][0] = 8\n",
    "deep_copy[0][0] = 7\n"
   ]
  },
  {
   "cell_type": "code",
   "execution_count": 3,
   "id": "dbc92c7c-b264-4a0b-b250-a22d1d6bc621",
   "metadata": {},
   "outputs": [
    {
     "name": "stdout",
     "output_type": "stream",
     "text": [
      "Original: [[8, 2], [3, 4]]\n",
      "Shallow Copy: [[8, 2], [3, 4]]\n",
      "Deep Copy: [[7, 2], [3, 4]]\n"
     ]
    }
   ],
   "source": [
    "print(\"Original:\", original_list)\n",
    "print(\"Shallow Copy:\", shallow_copy)\n",
    "print(\"Deep Copy:\", deep_copy)"
   ]
  },
  {
   "cell_type": "code",
   "execution_count": null,
   "id": "9ca23ea3-b424-4c8a-b58e-c127d1f6de95",
   "metadata": {},
   "outputs": [],
   "source": []
  }
 ],
 "metadata": {
  "kernelspec": {
   "display_name": "Python 3 (ipykernel)",
   "language": "python",
   "name": "python3"
  },
  "language_info": {
   "codemirror_mode": {
    "name": "ipython",
    "version": 3
   },
   "file_extension": ".py",
   "mimetype": "text/x-python",
   "name": "python",
   "nbconvert_exporter": "python",
   "pygments_lexer": "ipython3",
   "version": "3.12.4"
  }
 },
 "nbformat": 4,
 "nbformat_minor": 5
}
