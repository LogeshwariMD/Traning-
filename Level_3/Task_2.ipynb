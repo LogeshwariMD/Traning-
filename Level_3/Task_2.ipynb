{
 "cells": [
  {
   "cell_type": "markdown",
   "id": "58b9d983-9d98-4950-aff1-0284b29ab594",
   "metadata": {},
   "source": [
    " Task 2: Basic Class with Inheritance"
   ]
  },
  {
   "cell_type": "code",
   "execution_count": 1,
   "id": "1844e4ed-64f6-426b-aaf5-88e1fb5b46d2",
   "metadata": {},
   "outputs": [],
   "source": [
    "class Animal:\n",
    "    def sound(self):\n",
    "        return \"Generic animal sound\"\n",
    "    "
   ]
  },
  {
   "cell_type": "code",
   "execution_count": 2,
   "id": "55fea5e8-f69f-46a2-861d-be5c66dd811f",
   "metadata": {},
   "outputs": [],
   "source": [
    "class Dog(Animal):\n",
    "    def sound(self):\n",
    "        return \"Woof\""
   ]
  },
  {
   "cell_type": "code",
   "execution_count": 3,
   "id": "ae3ca837-9a55-4a49-afed-0994f7f25fe1",
   "metadata": {},
   "outputs": [
    {
     "name": "stdout",
     "output_type": "stream",
     "text": [
      "Woof\n"
     ]
    }
   ],
   "source": [
    "dog = Dog()\n",
    "print(dog.sound())"
   ]
  },
  {
   "cell_type": "code",
   "execution_count": null,
   "id": "c1173bb0-a9ec-4f1e-a9ba-0c0de368ce6d",
   "metadata": {},
   "outputs": [],
   "source": []
  }
 ],
 "metadata": {
  "kernelspec": {
   "display_name": "Python 3 (ipykernel)",
   "language": "python",
   "name": "python3"
  },
  "language_info": {
   "codemirror_mode": {
    "name": "ipython",
    "version": 3
   },
   "file_extension": ".py",
   "mimetype": "text/x-python",
   "name": "python",
   "nbconvert_exporter": "python",
   "pygments_lexer": "ipython3",
   "version": "3.12.4"
  }
 },
 "nbformat": 4,
 "nbformat_minor": 5
}
