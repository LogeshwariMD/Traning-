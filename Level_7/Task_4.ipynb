{
 "cells": [
  {
   "cell_type": "markdown",
   "id": "90d444ec-ea2f-4cdd-8e69-919ab49fd53d",
   "metadata": {},
   "source": [
    " Task 4: Chi-Square Test"
   ]
  },
  {
   "cell_type": "code",
   "execution_count": 1,
   "id": "d1abf882-ebd9-4212-9ace-02697181b111",
   "metadata": {},
   "outputs": [],
   "source": [
    "from scipy import stats"
   ]
  },
  {
   "cell_type": "code",
   "execution_count": 2,
   "id": "02e83443-2537-4526-a795-8b21024cd43f",
   "metadata": {},
   "outputs": [],
   "source": [
    "observed = [121, 288, 91]\n",
    "expected = [500 * 0.2, 500 * 0.3, 500 * 0.5]"
   ]
  },
  {
   "cell_type": "code",
   "execution_count": 3,
   "id": "4aa31664-585a-464a-af94-60c575d58647",
   "metadata": {},
   "outputs": [],
   "source": [
    "chi_square_stat, p_value = stats.chisquare(f_obs=observed, f_exp=expected)"
   ]
  },
  {
   "cell_type": "code",
   "execution_count": 4,
   "id": "f1364fbc-4f6d-4379-8e67-6d74c63ab236",
   "metadata": {},
   "outputs": [
    {
     "name": "stdout",
     "output_type": "stream",
     "text": [
      "Chi-Square Statistic: 232.49\n",
      "P-Value: 0.0\n"
     ]
    }
   ],
   "source": [
    "print(\"Chi-Square Statistic:\", round(chi_square_stat, 2))\n",
    "print(\"P-Value:\", round(p_value, 5))"
   ]
  },
  {
   "cell_type": "code",
   "execution_count": 5,
   "id": "394c6fd8-71ae-47af-a7e6-29a9bdff2510",
   "metadata": {},
   "outputs": [
    {
     "name": "stdout",
     "output_type": "stream",
     "text": [
      "Reject H₀: Age distribution has changed from 2000 to 2010.\n"
     ]
    }
   ],
   "source": [
    "alpha = 0.05\n",
    "if p_value < alpha:\n",
    "    print(\"Reject H₀: Age distribution has changed from 2000 to 2010.\")\n",
    "else:\n",
    "    print(\"Fail to Reject H₀: No significant change in age distribution.\")"
   ]
  },
  {
   "cell_type": "code",
   "execution_count": null,
   "id": "4ef9369c-cc42-481a-b381-df8566ee24a2",
   "metadata": {},
   "outputs": [],
   "source": []
  }
 ],
 "metadata": {
  "kernelspec": {
   "display_name": "Python 3 (ipykernel)",
   "language": "python",
   "name": "python3"
  },
  "language_info": {
   "codemirror_mode": {
    "name": "ipython",
    "version": 3
   },
   "file_extension": ".py",
   "mimetype": "text/x-python",
   "name": "python",
   "nbconvert_exporter": "python",
   "pygments_lexer": "ipython3",
   "version": "3.12.4"
  }
 },
 "nbformat": 4,
 "nbformat_minor": 5
}
