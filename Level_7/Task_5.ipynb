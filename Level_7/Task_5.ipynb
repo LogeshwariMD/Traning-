{
 "cells": [
  {
   "cell_type": "markdown",
   "id": "3ee2ee89-b8d6-420f-95dc-670f8eb2f090",
   "metadata": {},
   "source": [
    " Task 5: Covariance Calculation"
   ]
  },
  {
   "cell_type": "code",
   "execution_count": 1,
   "id": "e5dadfb6-679c-46ce-a243-77c951a7e527",
   "metadata": {},
   "outputs": [],
   "source": [
    "import numpy as np"
   ]
  },
  {
   "cell_type": "code",
   "execution_count": 2,
   "id": "c5b406d0-9638-4bad-bfee-3a65c7906a7a",
   "metadata": {},
   "outputs": [],
   "source": [
    "height = np.array([160, 170, 180, 175])\n",
    "weight = np.array([60, 70, 75, 65])"
   ]
  },
  {
   "cell_type": "code",
   "execution_count": 4,
   "id": "5e37682b-3209-4904-a42c-ae7a4a0bf354",
   "metadata": {},
   "outputs": [],
   "source": [
    "covariance = np.cov(height, weight)[0, 1]"
   ]
  },
  {
   "cell_type": "code",
   "execution_count": 5,
   "id": "968e5f8e-f3ad-4b5c-9261-68a013747fb2",
   "metadata": {},
   "outputs": [
    {
     "name": "stdout",
     "output_type": "stream",
     "text": [
      "Covariance: 45.83\n"
     ]
    }
   ],
   "source": [
    "print(\"Covariance:\", round(covariance, 2))"
   ]
  },
  {
   "cell_type": "code",
   "execution_count": 6,
   "id": "a68502ac-5d66-496c-b14c-2312864b811e",
   "metadata": {},
   "outputs": [
    {
     "name": "stdout",
     "output_type": "stream",
     "text": [
      "Positive covariance; as height increases, weight tends to increase.\n"
     ]
    }
   ],
   "source": [
    "if covariance > 0:\n",
    "    print(\"Positive covariance; as height increases, weight tends to increase.\")\n",
    "elif covariance < 0:\n",
    "    print(\"Negative covariance; as height increases, weight tends to decrease.\")\n",
    "else:\n",
    "    print(\"Zero covariance; no linear relationship between height and weight.\")"
   ]
  },
  {
   "cell_type": "code",
   "execution_count": null,
   "id": "11c49208-ed43-4fb1-abfb-d3238ed1fd3e",
   "metadata": {},
   "outputs": [],
   "source": []
  }
 ],
 "metadata": {
  "kernelspec": {
   "display_name": "Python 3 (ipykernel)",
   "language": "python",
   "name": "python3"
  },
  "language_info": {
   "codemirror_mode": {
    "name": "ipython",
    "version": 3
   },
   "file_extension": ".py",
   "mimetype": "text/x-python",
   "name": "python",
   "nbconvert_exporter": "python",
   "pygments_lexer": "ipython3",
   "version": "3.12.4"
  }
 },
 "nbformat": 4,
 "nbformat_minor": 5
}
