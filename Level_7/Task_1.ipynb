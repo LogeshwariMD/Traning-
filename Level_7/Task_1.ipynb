{
 "cells": [
  {
   "cell_type": "markdown",
   "id": "a4179d91-004f-4dc0-8440-dbe5d27823cf",
   "metadata": {},
   "source": [
    " Task 1: One-Sample Z-Test"
   ]
  },
  {
   "cell_type": "code",
   "execution_count": 1,
   "id": "3d0dbe08-a1e0-4b6c-979f-0dbcfdfa441d",
   "metadata": {},
   "outputs": [],
   "source": [
    "import numpy as np\n",
    "from statsmodels.stats.weightstats import ztest"
   ]
  },
  {
   "cell_type": "code",
   "execution_count": 2,
   "id": "04e35e26-0ac4-496a-a3ba-39bdd4f84d4b",
   "metadata": {},
   "outputs": [],
   "source": [
    "np.random.seed(0)  \n",
    "sample_data = np.random.normal(loc=140, scale=15, size=30)\n"
   ]
  },
  {
   "cell_type": "code",
   "execution_count": 3,
   "id": "29a9315e-5607-4f5a-9cff-d81c1e267d3e",
   "metadata": {},
   "outputs": [],
   "source": [
    "population_mean = 100\n",
    "z_score, p_value = ztest(sample_data, value=population_mean)\n"
   ]
  },
  {
   "cell_type": "code",
   "execution_count": 4,
   "id": "7544acaa-c4db-482d-9fe4-f0898b0cd177",
   "metadata": {},
   "outputs": [
    {
     "name": "stdout",
     "output_type": "stream",
     "text": [
      "Z-Score: 15.48\n",
      "P-Value: 0.0\n"
     ]
    }
   ],
   "source": [
    "print(\"Z-Score:\", round(z_score, 2))\n",
    "print(\"P-Value:\", round(p_value, 5))"
   ]
  },
  {
   "cell_type": "code",
   "execution_count": 5,
   "id": "5116407b-ae02-4530-973e-1276d6a4c759",
   "metadata": {},
   "outputs": [
    {
     "name": "stdout",
     "output_type": "stream",
     "text": [
      "Reject H₀: Medication affects IQ (mean = 140 > 100).\n"
     ]
    }
   ],
   "source": [
    "alpha = 0.05\n",
    "if p_value < alpha:\n",
    "    print(\"Reject H₀: Medication affects IQ (mean = 140 > 100).\")\n",
    "else:\n",
    "    print(\"Fail to Reject H₀: No significant effect on IQ.\")"
   ]
  },
  {
   "cell_type": "code",
   "execution_count": null,
   "id": "de3dfe8a-a652-4337-9a4d-cbb830e9b108",
   "metadata": {},
   "outputs": [],
   "source": []
  }
 ],
 "metadata": {
  "kernelspec": {
   "display_name": "Python 3 (ipykernel)",
   "language": "python",
   "name": "python3"
  },
  "language_info": {
   "codemirror_mode": {
    "name": "ipython",
    "version": 3
   },
   "file_extension": ".py",
   "mimetype": "text/x-python",
   "name": "python",
   "nbconvert_exporter": "python",
   "pygments_lexer": "ipython3",
   "version": "3.12.4"
  }
 },
 "nbformat": 4,
 "nbformat_minor": 5
}
