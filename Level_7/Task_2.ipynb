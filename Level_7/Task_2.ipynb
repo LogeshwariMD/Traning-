{
 "cells": [
  {
   "cell_type": "markdown",
   "id": "c6ecd5cb-ba82-4d8b-923d-303d3f794cd9",
   "metadata": {},
   "source": [
    "Task 2: Two-Sample Z-Test"
   ]
  },
  {
   "cell_type": "code",
   "execution_count": 1,
   "id": "ddb4dbc6-721f-4195-b758-8a9904692128",
   "metadata": {},
   "outputs": [],
   "source": [
    "import numpy as np\n",
    "from statsmodels.stats.weightstats import ztest"
   ]
  },
  {
   "cell_type": "code",
   "execution_count": 2,
   "id": "76754422-3c0d-4c6b-bd72-a57175a64174",
   "metadata": {},
   "outputs": [],
   "source": [
    "np.random.seed(0)  \n",
    "traditional_scores = np.random.normal(75, 10, 40) \n",
    "new_method_scores = np.random.normal(82, 12, 35)   \n"
   ]
  },
  {
   "cell_type": "code",
   "execution_count": 3,
   "id": "f47cfe98-abe7-448d-b6e8-0a9f1b5a0bfb",
   "metadata": {},
   "outputs": [],
   "source": [
    "z_score, p_value = ztest(new_method_scores, traditional_scores, alternative='larger')"
   ]
  },
  {
   "cell_type": "code",
   "execution_count": 4,
   "id": "193bf48e-56ef-4781-9259-9ca8f6bc1930",
   "metadata": {},
   "outputs": [
    {
     "name": "stdout",
     "output_type": "stream",
     "text": [
      "Z-Score: -0.18\n",
      "P-Value: 0.56947\n"
     ]
    }
   ],
   "source": [
    "print(\"Z-Score:\", round(z_score, 2))\n",
    "print(\"P-Value:\", round(p_value, 5))"
   ]
  },
  {
   "cell_type": "code",
   "execution_count": 5,
   "id": "5e5d7609-a065-4d1a-bb63-9f16a6bba85f",
   "metadata": {},
   "outputs": [
    {
     "name": "stdout",
     "output_type": "stream",
     "text": [
      "Fail to Reject H₀: No significant improvement with the new method.\n"
     ]
    }
   ],
   "source": [
    "alpha = 0.05\n",
    "if p_value < alpha:\n",
    "    print(\"Reject H₀: The new teaching method significantly improves test scores.\")\n",
    "else:\n",
    "    print(\"Fail to Reject H₀: No significant improvement with the new method.\")"
   ]
  },
  {
   "cell_type": "code",
   "execution_count": null,
   "id": "95bc847e-f7b5-428f-a13f-0b4dadb57a4b",
   "metadata": {},
   "outputs": [],
   "source": []
  }
 ],
 "metadata": {
  "kernelspec": {
   "display_name": "Python 3 (ipykernel)",
   "language": "python",
   "name": "python3"
  },
  "language_info": {
   "codemirror_mode": {
    "name": "ipython",
    "version": 3
   },
   "file_extension": ".py",
   "mimetype": "text/x-python",
   "name": "python",
   "nbconvert_exporter": "python",
   "pygments_lexer": "ipython3",
   "version": "3.12.4"
  }
 },
 "nbformat": 4,
 "nbformat_minor": 5
}
