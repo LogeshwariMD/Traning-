{
 "cells": [
  {
   "cell_type": "markdown",
   "id": "7fe3ab6d-4a56-432a-93e3-89237fb650ec",
   "metadata": {},
   "source": [
    " Task 3: One-Sample T-Test"
   ]
  },
  {
   "cell_type": "code",
   "execution_count": 1,
   "id": "6974e716-efe1-4f9f-a487-02a922d2f8a8",
   "metadata": {},
   "outputs": [],
   "source": [
    "import numpy as np\n",
    "from scipy import stats"
   ]
  },
  {
   "cell_type": "code",
   "execution_count": 2,
   "id": "036cd5fc-cf9d-48c9-9949-9ecddf27d729",
   "metadata": {},
   "outputs": [],
   "source": [
    "np.random.seed(0)  \n",
    "sample_data = np.random.normal(140, 20, 30) "
   ]
  },
  {
   "cell_type": "code",
   "execution_count": 3,
   "id": "0efeb188-ee4f-4510-850b-880bfa3f2ecc",
   "metadata": {},
   "outputs": [],
   "source": [
    "t_score, p_value = stats.ttest_1samp(sample_data, popmean=100)"
   ]
  },
  {
   "cell_type": "code",
   "execution_count": 4,
   "id": "b4ffce50-bf79-40fb-9d96-7fe431a249e2",
   "metadata": {},
   "outputs": [
    {
     "name": "stdout",
     "output_type": "stream",
     "text": [
      "T-Score: 12.16\n",
      "P-Value: 0.0\n"
     ]
    }
   ],
   "source": [
    "print(\"T-Score:\", round(t_score, 2))\n",
    "print(\"P-Value:\", round(p_value, 5))"
   ]
  },
  {
   "cell_type": "code",
   "execution_count": 5,
   "id": "792fa9f9-c4c9-4765-814d-13abcaaa50ec",
   "metadata": {},
   "outputs": [
    {
     "name": "stdout",
     "output_type": "stream",
     "text": [
      "Reject H₀: Medication increases IQ (mean = 140 > 100).\n"
     ]
    }
   ],
   "source": [
    "alpha = 0.05\n",
    "if p_value < alpha:\n",
    "    print(\"Reject H₀: Medication increases IQ (mean = 140 > 100).\")\n",
    "else:\n",
    "    print(\"Fail to Reject H₀: No significant effect on IQ.\")"
   ]
  },
  {
   "cell_type": "code",
   "execution_count": null,
   "id": "6c897e71-617e-4a60-a0c0-d51ddef679e6",
   "metadata": {},
   "outputs": [],
   "source": []
  }
 ],
 "metadata": {
  "kernelspec": {
   "display_name": "Python 3 (ipykernel)",
   "language": "python",
   "name": "python3"
  },
  "language_info": {
   "codemirror_mode": {
    "name": "ipython",
    "version": 3
   },
   "file_extension": ".py",
   "mimetype": "text/x-python",
   "name": "python",
   "nbconvert_exporter": "python",
   "pygments_lexer": "ipython3",
   "version": "3.12.4"
  }
 },
 "nbformat": 4,
 "nbformat_minor": 5
}
