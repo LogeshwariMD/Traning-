{
 "cells": [
  {
   "cell_type": "markdown",
   "id": "17eecfc5-6449-4abc-a4f5-0e8007f7dd85",
   "metadata": {},
   "source": [
    "Task 6: Pearson vs. Spearman Correlation"
   ]
  },
  {
   "cell_type": "code",
   "execution_count": 1,
   "id": "7ad7e815-3f39-4e33-8f00-e137833d27e8",
   "metadata": {},
   "outputs": [],
   "source": [
    "import numpy as np\n",
    "from scipy import stats"
   ]
  },
  {
   "cell_type": "code",
   "execution_count": 2,
   "id": "c199ccf3-721e-46d0-b7e3-3ff5fe97bf2f",
   "metadata": {},
   "outputs": [],
   "source": [
    "height = np.array([160, 170, 180, 175])\n",
    "weight = np.array([60, 70, 75, 65])\n"
   ]
  },
  {
   "cell_type": "code",
   "execution_count": 3,
   "id": "1de869e4-3463-4afb-a979-528bbe6ff2d1",
   "metadata": {},
   "outputs": [],
   "source": [
    "pearson_corr, _ = stats.pearsonr(height, weight)\n",
    "spearman_corr, _ = stats.spearmanr(height, weight)"
   ]
  },
  {
   "cell_type": "code",
   "execution_count": 4,
   "id": "4bc3ec7e-d63d-40f4-8e50-5a80d798fcfa",
   "metadata": {},
   "outputs": [
    {
     "name": "stdout",
     "output_type": "stream",
     "text": [
      "Pearson Correlation: 0.83\n",
      "Spearman Correlation: 0.8\n"
     ]
    }
   ],
   "source": [
    "print(\"Pearson Correlation:\", round(pearson_corr, 2))\n",
    "print(\"Spearman Correlation:\", round(spearman_corr, 2))"
   ]
  },
  {
   "cell_type": "code",
   "execution_count": 5,
   "id": "71db34b0-c00c-4458-973b-b2d6ad1d3974",
   "metadata": {},
   "outputs": [
    {
     "name": "stdout",
     "output_type": "stream",
     "text": [
      "Both show positive correlation; Pearson is higher due to the near-linear relationship.\n"
     ]
    }
   ],
   "source": [
    "print(\"Both show positive correlation; Pearson is higher due to the near-linear relationship.\")"
   ]
  },
  {
   "cell_type": "code",
   "execution_count": null,
   "id": "51368d89-794c-4748-bf9e-650348cb46da",
   "metadata": {},
   "outputs": [],
   "source": []
  }
 ],
 "metadata": {
  "kernelspec": {
   "display_name": "Python 3 (ipykernel)",
   "language": "python",
   "name": "python3"
  },
  "language_info": {
   "codemirror_mode": {
    "name": "ipython",
    "version": 3
   },
   "file_extension": ".py",
   "mimetype": "text/x-python",
   "name": "python",
   "nbconvert_exporter": "python",
   "pygments_lexer": "ipython3",
   "version": "3.12.4"
  }
 },
 "nbformat": 4,
 "nbformat_minor": 5
}
