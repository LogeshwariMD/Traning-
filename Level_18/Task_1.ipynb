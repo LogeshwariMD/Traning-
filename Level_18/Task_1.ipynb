{
 "cells": [
  {
   "cell_type": "code",
   "execution_count": 0,
   "metadata": {
    "application/vnd.databricks.v1+cell": {
     "cellMetadata": {
      "byteLimit": 2048000,
      "rowLimit": 10000
     },
     "inputWidgets": {},
     "nuid": "10fd4dfb-191d-4bc1-a4e2-6332375770c4",
     "showTitle": false,
     "tableResultSettingsMap": {},
     "title": ""
    }
   },
   "outputs": [
    {
     "data": {
      "text/html": [
       "<style scoped>\n",
       "  .table-result-container {\n",
       "    max-height: 300px;\n",
       "    overflow: auto;\n",
       "  }\n",
       "  table, th, td {\n",
       "    border: 1px solid black;\n",
       "    border-collapse: collapse;\n",
       "  }\n",
       "  th, td {\n",
       "    padding: 5px;\n",
       "  }\n",
       "  th {\n",
       "    text-align: left;\n",
       "  }\n",
       "</style><div class='table-result-container'><table class='table-result'><thead style='background-color: white'><tr><th>path</th><th>name</th><th>size</th><th>modificationTime</th></tr></thead><tbody><tr><td>dbfs:/FileStore/tables/cell_phone.xlsx</td><td>cell_phone.xlsx</td><td>297905</td><td>1740663046000</td></tr><tr><td>dbfs:/FileStore/tables/cell_phones-1.csv</td><td>cell_phones-1.csv</td><td>43927</td><td>1740667679000</td></tr><tr><td>dbfs:/FileStore/tables/cell_phones-2.csv</td><td>cell_phones-2.csv</td><td>43927</td><td>1740667926000</td></tr><tr><td>dbfs:/FileStore/tables/cell_phones-3.csv</td><td>cell_phones-3.csv</td><td>43927</td><td>1740717554000</td></tr><tr><td>dbfs:/FileStore/tables/cell_phones-4.csv</td><td>cell_phones-4.csv</td><td>43927</td><td>1740851516000</td></tr><tr><td>dbfs:/FileStore/tables/cell_phones.csv</td><td>cell_phones.csv</td><td>43927</td><td>1740650761000</td></tr><tr><td>dbfs:/FileStore/tables/cleaned_ipl_2021/</td><td>cleaned_ipl_2021/</td><td>0</td><td>0</td></tr><tr><td>dbfs:/FileStore/tables/combined_ipl_commentary.csv/</td><td>combined_ipl_commentary.csv/</td><td>0</td><td>0</td></tr><tr><td>dbfs:/FileStore/tables/combined_ipl_matches.csv/</td><td>combined_ipl_matches.csv/</td><td>0</td><td>0</td></tr><tr><td>dbfs:/FileStore/tables/final_cleaned_ipl_2021_matches.csv/</td><td>final_cleaned_ipl_2021_matches.csv/</td><td>0</td><td>0</td></tr><tr><td>dbfs:/FileStore/tables/final_cleaned_ipl_2021_matches_v2.csv/</td><td>final_cleaned_ipl_2021_matches_v2.csv/</td><td>0</td><td>0</td></tr><tr><td>dbfs:/FileStore/tables/final_combined_ipl_commentary.csv/</td><td>final_combined_ipl_commentary.csv/</td><td>0</td><td>0</td></tr><tr><td>dbfs:/FileStore/tables/final_ipl_2021_csv/</td><td>final_ipl_2021_csv/</td><td>0</td><td>0</td></tr><tr><td>dbfs:/FileStore/tables/ipl_2021_cleaned/</td><td>ipl_2021_cleaned/</td><td>0</td><td>0</td></tr><tr><td>dbfs:/FileStore/tables/ipl_2021_matches-1.csv</td><td>ipl_2021_matches-1.csv</td><td>12482</td><td>1744550038000</td></tr><tr><td>dbfs:/FileStore/tables/ipl_2021_matches-10.csv</td><td>ipl_2021_matches-10.csv</td><td>12482</td><td>1744646907000</td></tr><tr><td>dbfs:/FileStore/tables/ipl_2021_matches-11.csv</td><td>ipl_2021_matches-11.csv</td><td>12482</td><td>1744680388000</td></tr><tr><td>dbfs:/FileStore/tables/ipl_2021_matches-12.csv</td><td>ipl_2021_matches-12.csv</td><td>12482</td><td>1744691091000</td></tr><tr><td>dbfs:/FileStore/tables/ipl_2021_matches-13.csv</td><td>ipl_2021_matches-13.csv</td><td>12482</td><td>1744709819000</td></tr><tr><td>dbfs:/FileStore/tables/ipl_2021_matches-14.csv</td><td>ipl_2021_matches-14.csv</td><td>12482</td><td>1744709893000</td></tr><tr><td>dbfs:/FileStore/tables/ipl_2021_matches-15.csv</td><td>ipl_2021_matches-15.csv</td><td>12482</td><td>1744765099000</td></tr><tr><td>dbfs:/FileStore/tables/ipl_2021_matches-2.csv</td><td>ipl_2021_matches-2.csv</td><td>12482</td><td>1744550172000</td></tr><tr><td>dbfs:/FileStore/tables/ipl_2021_matches-3.csv</td><td>ipl_2021_matches-3.csv</td><td>12482</td><td>1744550284000</td></tr><tr><td>dbfs:/FileStore/tables/ipl_2021_matches-4.csv</td><td>ipl_2021_matches-4.csv</td><td>12482</td><td>1744550446000</td></tr><tr><td>dbfs:/FileStore/tables/ipl_2021_matches-5.csv</td><td>ipl_2021_matches-5.csv</td><td>12482</td><td>1744550977000</td></tr><tr><td>dbfs:/FileStore/tables/ipl_2021_matches-6.csv</td><td>ipl_2021_matches-6.csv</td><td>12482</td><td>1744592471000</td></tr><tr><td>dbfs:/FileStore/tables/ipl_2021_matches-7.csv</td><td>ipl_2021_matches-7.csv</td><td>12482</td><td>1744595707000</td></tr><tr><td>dbfs:/FileStore/tables/ipl_2021_matches-8.csv</td><td>ipl_2021_matches-8.csv</td><td>12482</td><td>1744599530000</td></tr><tr><td>dbfs:/FileStore/tables/ipl_2021_matches-9.csv</td><td>ipl_2021_matches-9.csv</td><td>12482</td><td>1744646828000</td></tr><tr><td>dbfs:/FileStore/tables/ipl_2021_matches.csv</td><td>ipl_2021_matches.csv</td><td>12482</td><td>1744549319000</td></tr><tr><td>dbfs:/FileStore/tables/ipl_2021_matches_cleaned.csv/</td><td>ipl_2021_matches_cleaned.csv/</td><td>0</td><td>0</td></tr><tr><td>dbfs:/FileStore/tables/ipl_2021_matches_cleaned_v2.csv/</td><td>ipl_2021_matches_cleaned_v2.csv/</td><td>0</td><td>0</td></tr><tr><td>dbfs:/FileStore/tables/match_date_time.csv/</td><td>match_date_time.csv/</td><td>0</td><td>0</td></tr><tr><td>dbfs:/FileStore/tables/match_datetime_full.csv/</td><td>match_datetime_full.csv/</td><td>0</td><td>0</td></tr><tr><td>dbfs:/FileStore/tables/match_details.csv/</td><td>match_details.csv/</td><td>0</td><td>0</td></tr><tr><td>dbfs:/FileStore/tables/pop-1.csv</td><td>pop-1.csv</td><td>335353</td><td>1740649112000</td></tr><tr><td>dbfs:/FileStore/tables/pop-2.csv</td><td>pop-2.csv</td><td>335353</td><td>1740649181000</td></tr><tr><td>dbfs:/FileStore/tables/pop-3.csv</td><td>pop-3.csv</td><td>335353</td><td>1740650598000</td></tr><tr><td>dbfs:/FileStore/tables/pop-4.csv</td><td>pop-4.csv</td><td>335353</td><td>1740662995000</td></tr><tr><td>dbfs:/FileStore/tables/pop-5.csv</td><td>pop-5.csv</td><td>335353</td><td>1740667632000</td></tr><tr><td>dbfs:/FileStore/tables/pop-6.csv</td><td>pop-6.csv</td><td>335353</td><td>1740667917000</td></tr><tr><td>dbfs:/FileStore/tables/pop-7.csv</td><td>pop-7.csv</td><td>335353</td><td>1740668298000</td></tr><tr><td>dbfs:/FileStore/tables/pop-8.csv</td><td>pop-8.csv</td><td>335353</td><td>1740717536000</td></tr><tr><td>dbfs:/FileStore/tables/pop-9.csv</td><td>pop-9.csv</td><td>335353</td><td>1740717656000</td></tr><tr><td>dbfs:/FileStore/tables/pop.csv</td><td>pop.csv</td><td>335353</td><td>1740648911000</td></tr><tr><td>dbfs:/FileStore/tables/pop.xlsx</td><td>pop.xlsx</td><td>2064226</td><td>1740851366000</td></tr><tr><td>dbfs:/FileStore/tables/population.csv</td><td>population.csv</td><td>335353</td><td>1740851840000</td></tr></tbody></table></div>"
      ]
     },
     "metadata": {
      "application/vnd.databricks.v1+output": {
       "addedWidgets": {},
       "aggData": [],
       "aggError": "",
       "aggOverflow": false,
       "aggSchema": [],
       "aggSeriesLimitReached": false,
       "aggType": "",
       "arguments": {},
       "columnCustomDisplayInfos": {},
       "data": [
        [
         "dbfs:/FileStore/tables/cell_phone.xlsx",
         "cell_phone.xlsx",
         297905,
         1740663046000
        ],
        [
         "dbfs:/FileStore/tables/cell_phones-1.csv",
         "cell_phones-1.csv",
         43927,
         1740667679000
        ],
        [
         "dbfs:/FileStore/tables/cell_phones-2.csv",
         "cell_phones-2.csv",
         43927,
         1740667926000
        ],
        [
         "dbfs:/FileStore/tables/cell_phones-3.csv",
         "cell_phones-3.csv",
         43927,
         1740717554000
        ],
        [
         "dbfs:/FileStore/tables/cell_phones-4.csv",
         "cell_phones-4.csv",
         43927,
         1740851516000
        ],
        [
         "dbfs:/FileStore/tables/cell_phones.csv",
         "cell_phones.csv",
         43927,
         1740650761000
        ],
        [
         "dbfs:/FileStore/tables/cleaned_ipl_2021/",
         "cleaned_ipl_2021/",
         0,
         0
        ],
        [
         "dbfs:/FileStore/tables/combined_ipl_commentary.csv/",
         "combined_ipl_commentary.csv/",
         0,
         0
        ],
        [
         "dbfs:/FileStore/tables/combined_ipl_matches.csv/",
         "combined_ipl_matches.csv/",
         0,
         0
        ],
        [
         "dbfs:/FileStore/tables/final_cleaned_ipl_2021_matches.csv/",
         "final_cleaned_ipl_2021_matches.csv/",
         0,
         0
        ],
        [
         "dbfs:/FileStore/tables/final_cleaned_ipl_2021_matches_v2.csv/",
         "final_cleaned_ipl_2021_matches_v2.csv/",
         0,
         0
        ],
        [
         "dbfs:/FileStore/tables/final_combined_ipl_commentary.csv/",
         "final_combined_ipl_commentary.csv/",
         0,
         0
        ],
        [
         "dbfs:/FileStore/tables/final_ipl_2021_csv/",
         "final_ipl_2021_csv/",
         0,
         0
        ],
        [
         "dbfs:/FileStore/tables/ipl_2021_cleaned/",
         "ipl_2021_cleaned/",
         0,
         0
        ],
        [
         "dbfs:/FileStore/tables/ipl_2021_matches-1.csv",
         "ipl_2021_matches-1.csv",
         12482,
         1744550038000
        ],
        [
         "dbfs:/FileStore/tables/ipl_2021_matches-10.csv",
         "ipl_2021_matches-10.csv",
         12482,
         1744646907000
        ],
        [
         "dbfs:/FileStore/tables/ipl_2021_matches-11.csv",
         "ipl_2021_matches-11.csv",
         12482,
         1744680388000
        ],
        [
         "dbfs:/FileStore/tables/ipl_2021_matches-12.csv",
         "ipl_2021_matches-12.csv",
         12482,
         1744691091000
        ],
        [
         "dbfs:/FileStore/tables/ipl_2021_matches-13.csv",
         "ipl_2021_matches-13.csv",
         12482,
         1744709819000
        ],
        [
         "dbfs:/FileStore/tables/ipl_2021_matches-14.csv",
         "ipl_2021_matches-14.csv",
         12482,
         1744709893000
        ],
        [
         "dbfs:/FileStore/tables/ipl_2021_matches-15.csv",
         "ipl_2021_matches-15.csv",
         12482,
         1744765099000
        ],
        [
         "dbfs:/FileStore/tables/ipl_2021_matches-2.csv",
         "ipl_2021_matches-2.csv",
         12482,
         1744550172000
        ],
        [
         "dbfs:/FileStore/tables/ipl_2021_matches-3.csv",
         "ipl_2021_matches-3.csv",
         12482,
         1744550284000
        ],
        [
         "dbfs:/FileStore/tables/ipl_2021_matches-4.csv",
         "ipl_2021_matches-4.csv",
         12482,
         1744550446000
        ],
        [
         "dbfs:/FileStore/tables/ipl_2021_matches-5.csv",
         "ipl_2021_matches-5.csv",
         12482,
         1744550977000
        ],
        [
         "dbfs:/FileStore/tables/ipl_2021_matches-6.csv",
         "ipl_2021_matches-6.csv",
         12482,
         1744592471000
        ],
        [
         "dbfs:/FileStore/tables/ipl_2021_matches-7.csv",
         "ipl_2021_matches-7.csv",
         12482,
         1744595707000
        ],
        [
         "dbfs:/FileStore/tables/ipl_2021_matches-8.csv",
         "ipl_2021_matches-8.csv",
         12482,
         1744599530000
        ],
        [
         "dbfs:/FileStore/tables/ipl_2021_matches-9.csv",
         "ipl_2021_matches-9.csv",
         12482,
         1744646828000
        ],
        [
         "dbfs:/FileStore/tables/ipl_2021_matches.csv",
         "ipl_2021_matches.csv",
         12482,
         1744549319000
        ],
        [
         "dbfs:/FileStore/tables/ipl_2021_matches_cleaned.csv/",
         "ipl_2021_matches_cleaned.csv/",
         0,
         0
        ],
        [
         "dbfs:/FileStore/tables/ipl_2021_matches_cleaned_v2.csv/",
         "ipl_2021_matches_cleaned_v2.csv/",
         0,
         0
        ],
        [
         "dbfs:/FileStore/tables/match_date_time.csv/",
         "match_date_time.csv/",
         0,
         0
        ],
        [
         "dbfs:/FileStore/tables/match_datetime_full.csv/",
         "match_datetime_full.csv/",
         0,
         0
        ],
        [
         "dbfs:/FileStore/tables/match_details.csv/",
         "match_details.csv/",
         0,
         0
        ],
        [
         "dbfs:/FileStore/tables/pop-1.csv",
         "pop-1.csv",
         335353,
         1740649112000
        ],
        [
         "dbfs:/FileStore/tables/pop-2.csv",
         "pop-2.csv",
         335353,
         1740649181000
        ],
        [
         "dbfs:/FileStore/tables/pop-3.csv",
         "pop-3.csv",
         335353,
         1740650598000
        ],
        [
         "dbfs:/FileStore/tables/pop-4.csv",
         "pop-4.csv",
         335353,
         1740662995000
        ],
        [
         "dbfs:/FileStore/tables/pop-5.csv",
         "pop-5.csv",
         335353,
         1740667632000
        ],
        [
         "dbfs:/FileStore/tables/pop-6.csv",
         "pop-6.csv",
         335353,
         1740667917000
        ],
        [
         "dbfs:/FileStore/tables/pop-7.csv",
         "pop-7.csv",
         335353,
         1740668298000
        ],
        [
         "dbfs:/FileStore/tables/pop-8.csv",
         "pop-8.csv",
         335353,
         1740717536000
        ],
        [
         "dbfs:/FileStore/tables/pop-9.csv",
         "pop-9.csv",
         335353,
         1740717656000
        ],
        [
         "dbfs:/FileStore/tables/pop.csv",
         "pop.csv",
         335353,
         1740648911000
        ],
        [
         "dbfs:/FileStore/tables/pop.xlsx",
         "pop.xlsx",
         2064226,
         1740851366000
        ],
        [
         "dbfs:/FileStore/tables/population.csv",
         "population.csv",
         335353,
         1740851840000
        ]
       ],
       "datasetInfos": [],
       "dbfsResultPath": null,
       "isJsonSchema": true,
       "metadata": {
        "isDbfsCommandResult": false
       },
       "overflow": false,
       "plotOptions": {
        "customPlotOptions": {},
        "displayType": "table",
        "pivotAggregation": null,
        "pivotColumns": null,
        "xColumns": null,
        "yColumns": null
       },
       "removedWidgets": [],
       "schema": [
        {
         "metadata": "{}",
         "name": "path",
         "type": "\"string\""
        },
        {
         "metadata": "{}",
         "name": "name",
         "type": "\"string\""
        },
        {
         "metadata": "{}",
         "name": "size",
         "type": "\"long\""
        },
        {
         "metadata": "{}",
         "name": "modificationTime",
         "type": "\"long\""
        }
       ],
       "type": "table"
      }
     },
     "output_type": "display_data"
    }
   ],
   "source": [
    "%fs ls /FileStore/tables/\n"
   ]
  },
  {
   "cell_type": "code",
   "execution_count": 0,
   "metadata": {
    "application/vnd.databricks.v1+cell": {
     "cellMetadata": {
      "byteLimit": 2048000,
      "rowLimit": 10000
     },
     "inputWidgets": {},
     "nuid": "8c96bb34-7e60-43a0-aae3-ab0edbbb4815",
     "showTitle": false,
     "tableResultSettingsMap": {},
     "title": ""
    }
   },
   "outputs": [
    {
     "name": "stdout",
     "output_type": "stream",
     "text": [
      "+----+-----------+--------------------+--------+----------+--------------------+--------------------+-----------+-----------+--------------------+--------------+-----------+\n",
      "|year|series_type|         series_name|match_no|match_type|          match_name|          match_href|match_team1|match_team2|match_datetime_start|match_date_end|match_venue|\n",
      "+----+-----------+--------------------+--------+----------+--------------------+--------------------+-----------+-----------+--------------------+--------------+-----------+\n",
      "|2021|        T20|Indian Premier Le...|    null|    League|MUMBAI INDIANS vs...|https://www.cricb...|       null|       null|                null|          null|       null|\n",
      "|2021|        T20|Indian Premier Le...|    null|    League|CHENNAI SUPER KIN...|https://www.cricb...|       null|       null|                null|          null|       null|\n",
      "|2021|        T20|Indian Premier Le...|    null|    League|SUNRISERS HYDERAB...|https://www.cricb...|       null|       null|                null|          null|       null|\n",
      "|2021|        T20|Indian Premier Le...|    null|    League|RAJASTHAN ROYALS ...|https://www.cricb...|       null|       null|                null|          null|       null|\n",
      "|2021|        T20|Indian Premier Le...|    null|    League|KOLKATA KNIGHT RI...|https://www.cricb...|       null|       null|                null|          null|       null|\n",
      "+----+-----------+--------------------+--------+----------+--------------------+--------------------+-----------+-----------+--------------------+--------------+-----------+\n",
      "only showing top 5 rows\n",
      "\n"
     ]
    }
   ],
   "source": [
    "%python\n",
    "df = spark.read.option(\"header\", True).csv(\"/FileStore/tables/ipl_2021_matches.csv\")\n",
    "df.show(5)\n"
   ]
  },
  {
   "cell_type": "code",
   "execution_count": 0,
   "metadata": {
    "application/vnd.databricks.v1+cell": {
     "cellMetadata": {
      "byteLimit": 2048000,
      "rowLimit": 10000
     },
     "inputWidgets": {},
     "nuid": "90a3f49c-3878-4f53-991e-b6e55b486e1a",
     "showTitle": false,
     "tableResultSettingsMap": {},
     "title": ""
    }
   },
   "outputs": [],
   "source": [
    "%python\n",
    "df = spark.read.option(\"header\", True).csv(\"/FileStore/tables/ipl_2021_matches.csv\")"
   ]
  },
  {
   "cell_type": "code",
   "execution_count": 0,
   "metadata": {
    "application/vnd.databricks.v1+cell": {
     "cellMetadata": {
      "byteLimit": 2048000,
      "rowLimit": 10000
     },
     "inputWidgets": {},
     "nuid": "189df290-3b73-490d-a76d-a95b10b47333",
     "showTitle": false,
     "tableResultSettingsMap": {},
     "title": ""
    }
   },
   "outputs": [],
   "source": [
    "%python\n",
    "df.write.mode(\"overwrite\").option(\"header\", True).csv(\"/FileStore/ipl/output_csv\")\n",
    "df.write.mode(\"overwrite\").parquet(\"/FileStore/ipl/output_parquet\")\n"
   ]
  },
  {
   "cell_type": "code",
   "execution_count": 0,
   "metadata": {
    "application/vnd.databricks.v1+cell": {
     "cellMetadata": {
      "byteLimit": 2048000,
      "rowLimit": 10000
     },
     "inputWidgets": {},
     "nuid": "2a2557e7-c71b-47ed-980c-3388a7ae2a67",
     "showTitle": false,
     "tableResultSettingsMap": {},
     "title": ""
    }
   },
   "outputs": [],
   "source": [
    "%python\n",
    "csv_size = dbutils.fs.ls(\"/FileStore/ipl/output_csv\")\n",
    "csv_total_size = sum([file.size for file in csv_size])\n"
   ]
  },
  {
   "cell_type": "code",
   "execution_count": 0,
   "metadata": {
    "application/vnd.databricks.v1+cell": {
     "cellMetadata": {
      "byteLimit": 2048000,
      "rowLimit": 10000
     },
     "inputWidgets": {},
     "nuid": "41d9f140-1809-4ddd-a327-9b028f627523",
     "showTitle": false,
     "tableResultSettingsMap": {},
     "title": ""
    }
   },
   "outputs": [],
   "source": [
    "%python\n",
    "parquet_size = dbutils.fs.ls(\"/FileStore/ipl/output_parquet\")\n",
    "parquet_total_size = sum([file.size for file in parquet_size])\n"
   ]
  },
  {
   "cell_type": "code",
   "execution_count": 0,
   "metadata": {
    "application/vnd.databricks.v1+cell": {
     "cellMetadata": {
      "byteLimit": 2048000,
      "rowLimit": 10000
     },
     "inputWidgets": {},
     "nuid": "078ef447-5fe0-4a82-af31-d28ca640f545",
     "showTitle": false,
     "tableResultSettingsMap": {},
     "title": ""
    }
   },
   "outputs": [
    {
     "name": "stdout",
     "output_type": "stream",
     "text": [
      "CSV size: 12.24 KB\n",
      "Parquet size: 5.96 KB\n",
      "Parquet is 51.32% smaller than CSV\n"
     ]
    }
   ],
   "source": [
    "%python\n",
    "print(f\"CSV size: {csv_total_size / 1024:.2f} KB\")\n",
    "print(f\"Parquet size: {parquet_total_size / 1024:.2f} KB\")\n",
    "print(f\"Parquet is {(csv_total_size - parquet_total_size) / csv_total_size * 100:.2f}% smaller than CSV\")\n"
   ]
  },
  {
   "cell_type": "code",
   "execution_count": 0,
   "metadata": {
    "application/vnd.databricks.v1+cell": {
     "cellMetadata": {
      "byteLimit": 2048000,
      "rowLimit": 10000
     },
     "inputWidgets": {},
     "nuid": "ab8943ee-4e2b-44f3-99d1-75eb52ebad4e",
     "showTitle": false,
     "tableResultSettingsMap": {},
     "title": ""
    }
   },
   "outputs": [],
   "source": [
    "%python\n",
    "df.write.mode(\"overwrite\").option(\"header\", True).csv(\"/FileStore/ipl/output_csv\")\n"
   ]
  },
  {
   "cell_type": "code",
   "execution_count": 0,
   "metadata": {
    "application/vnd.databricks.v1+cell": {
     "cellMetadata": {
      "byteLimit": 2048000,
      "rowLimit": 10000
     },
     "inputWidgets": {},
     "nuid": "2a562dba-2859-4033-b81c-2b6bd2bd09ea",
     "showTitle": false,
     "tableResultSettingsMap": {},
     "title": ""
    }
   },
   "outputs": [
    {
     "name": "stdout",
     "output_type": "stream",
     "text": [
      "dbfs:/FileStore/ipl/output_csv/_SUCCESS\n",
      "dbfs:/FileStore/ipl/output_csv/_committed_2469986191887291569\n",
      "dbfs:/FileStore/ipl/output_csv/_committed_7047963257757382333\n",
      "dbfs:/FileStore/ipl/output_csv/_committed_8424192797692781120\n",
      "dbfs:/FileStore/ipl/output_csv/_committed_vacuum4709105304763400193\n",
      "dbfs:/FileStore/ipl/output_csv/_started_7047963257757382333\n",
      "dbfs:/FileStore/ipl/output_csv/_started_8424192797692781120\n",
      "dbfs:/FileStore/ipl/output_csv/part-00000-tid-8424192797692781120-c87028c1-9585-41d3-b31b-f332020f643f-52-1-c000.csv\n"
     ]
    }
   ],
   "source": [
    "%python\n",
    "files = dbutils.fs.ls(\"/FileStore/ipl/output_csv\")\n",
    "for f in files:\n",
    "    print(f.path)\n"
   ]
  },
  {
   "cell_type": "code",
   "execution_count": 0,
   "metadata": {
    "application/vnd.databricks.v1+cell": {
     "cellMetadata": {
      "byteLimit": 2048000,
      "rowLimit": 10000
     },
     "inputWidgets": {},
     "nuid": "c3c23331-1318-4630-a2b3-076569157b32",
     "showTitle": false,
     "tableResultSettingsMap": {},
     "title": ""
    }
   },
   "outputs": [
    {
     "name": "stdout",
     "output_type": "stream",
     "text": [
      "Out[23]: True"
     ]
    }
   ],
   "source": [
    "%python\n",
    "dbutils.fs.cp(\n",
    "  \"/FileStore/ipl/output_csv/part-00000-tid-8424192797692781120-c87028c1-9585-41d3-b31b-f332020f643f-52-1-c000.csv\",\n",
    "  \"/FileStore/ipl/ipl_2021_output.csv\"\n",
    ")\n"
   ]
  },
  {
   "cell_type": "code",
   "execution_count": 0,
   "metadata": {
    "application/vnd.databricks.v1+cell": {
     "cellMetadata": {
      "byteLimit": 2048000,
      "rowLimit": 10000
     },
     "inputWidgets": {},
     "nuid": "381da750-ec58-4dcd-a0f8-e454b1dc62b9",
     "showTitle": false,
     "tableResultSettingsMap": {},
     "title": ""
    }
   },
   "outputs": [
    {
     "name": "stdout",
     "output_type": "stream",
     "text": [
      "+--------------------+------+-------+--------+----+--------+------+----+\n",
      "|          commentary|bowler|batsman|runs_raw|runs|match_id|  team|year|\n",
      "+--------------------+------+-------+--------+----+--------+------+----+\n",
      "|Bumrah to Dhawan,...|Bumrah| Dhawan|    FOUR|   0|  Bumrah|Bumrah|2021|\n",
      "|Chahal to Raina, ...|Chahal|  Raina|   1 run|   1|  Chahal|Chahal|2021|\n",
      "|Narine to Kohli, ...|Narine|  Kohli|  no run|   0|  Narine|Narine|2021|\n",
      "|Rabada to Rohit, ...|Rabada|  Rohit|     SIX|   0|  Rabada|Rabada|2021|\n",
      "+--------------------+------+-------+--------+----+--------+------+----+\n",
      "\n"
     ]
    }
   ],
   "source": [
    "%python\n",
    "from pyspark.sql.functions import col, regexp_extract, lit, sum as _sum\n",
    "\n",
    "data = [\n",
    "    (\"Bumrah to Dhawan, FOUR! Cracking shot through covers\", \"Bumrah\", \"Dhawan\", \"FOUR\"),\n",
    "    (\"Chahal to Raina, 1 run, nudged to midwicket\", \"Chahal\", \"Raina\", \"1 run\"),\n",
    "    (\"Narine to Kohli, no run, defended solidly\", \"Narine\", \"Kohli\", \"no run\"),\n",
    "    (\"Rabada to Rohit, SIX! Smashed over long-on\", \"Rabada\", \"Rohit\", \"SIX\"),\n",
    "]\n",
    "\n",
    "ball_df = spark.createDataFrame(data, [\"commentary\", \"bowler\", \"batsman\", \"runs_raw\"])\n",
    "\n",
    "ball_df = ball_df.withColumn(\n",
    "    \"runs\",\n",
    "    regexp_extract(\"runs_raw\", r\"(\\d+)\", 1).cast(\"int\")\n",
    ").fillna(0)\n",
    "\n",
    "ball_df = ball_df.withColumn(\"match_id\", col(\"bowler\")) \\\n",
    "                 .withColumn(\"team\", col(\"bowler\")) \\\n",
    "                 .withColumn(\"year\", lit(2021))\n",
    "\n",
    "ball_df.show()"
   ]
  },
  {
   "cell_type": "code",
   "execution_count": 0,
   "metadata": {
    "application/vnd.databricks.v1+cell": {
     "cellMetadata": {
      "byteLimit": 2048000,
      "rowLimit": 10000
     },
     "inputWidgets": {},
     "nuid": "4443a2c2-07fc-4cc1-b87d-95bd12152e48",
     "showTitle": false,
     "tableResultSettingsMap": {},
     "title": ""
    }
   },
   "outputs": [
    {
     "name": "stdout",
     "output_type": "stream",
     "text": [
      "Out[25]: True"
     ]
    }
   ],
   "source": [
    "%python\n",
    "# Replace this with the actual file name inside your output directory (you can check it using dbutils.fs.ls)\n",
    "dbutils.fs.cp(\n",
    "    \"dbfs:/FileStore/ipl/output_csv/part-00000-tid-8424192797692781120-c87028c1-9585-41d3-b31b-f332020f643f-52-1-c000.csv\",\n",
    "    \"dbfs:/FileStore/ipl/ipl_2021_output.csv\"\n",
    ")\n"
   ]
  }
 ],
 "metadata": {
  "application/vnd.databricks.v1+notebook": {
   "computePreferences": null,
   "dashboards": [],
   "environmentMetadata": {
    "base_environment": "",
    "environment_version": "1"
   },
   "inputWidgetPreferences": null,
   "language": "python",
   "notebookMetadata": {
    "mostRecentlyExecutedCommandWithImplicitDF": {
     "commandId": 4251502342243993,
     "dataframes": [
      "_sqldf"
     ]
    },
    "pythonIndentUnit": 4
   },
   "notebookName": "L 18 TASK 1",
   "widgets": {}
  },
  "language_info": {
   "name": "python"
  }
 },
 "nbformat": 4,
 "nbformat_minor": 0
}
