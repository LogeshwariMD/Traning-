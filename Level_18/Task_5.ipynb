{
 "cells": [
  {
   "cell_type": "code",
   "execution_count": 0,
   "metadata": {
    "application/vnd.databricks.v1+cell": {
     "cellMetadata": {
      "byteLimit": 2048000,
      "rowLimit": 10000
     },
     "inputWidgets": {},
     "nuid": "eeb71438-43c6-4ef6-9f25-bc1ae1838814",
     "showTitle": false,
     "tableResultSettingsMap": {},
     "title": ""
    }
   },
   "outputs": [],
   "source": [
    "%python\n",
    "df = spark.read.option(\"header\", True).csv(\"/FileStore/tables/ipl_2021_matches.csv\")\n"
   ]
  },
  {
   "cell_type": "code",
   "execution_count": 0,
   "metadata": {
    "application/vnd.databricks.v1+cell": {
     "cellMetadata": {
      "byteLimit": 2048000,
      "rowLimit": 10000
     },
     "inputWidgets": {},
     "nuid": "52839410-8bc6-4573-acc9-bbad4a570278",
     "showTitle": false,
     "tableResultSettingsMap": {},
     "title": ""
    }
   },
   "outputs": [],
   "source": [
    "%python\n",
    "df.createOrReplaceTempView(\"ipl_matches\")\n"
   ]
  },
  {
   "cell_type": "code",
   "execution_count": 0,
   "metadata": {
    "application/vnd.databricks.v1+cell": {
     "cellMetadata": {
      "byteLimit": 2048000,
      "implicitDf": true,
      "rowLimit": 10000
     },
     "inputWidgets": {},
     "nuid": "9ab9d298-1974-4c8b-9d77-bfc5e048bdd3",
     "showTitle": false,
     "tableResultSettingsMap": {},
     "title": ""
    }
   },
   "outputs": [],
   "source": [
    "%python\n",
    "df_matches = spark.read.option(\"header\", True).csv(\"/FileStore/tables/ipl_2021_matches.csv\")\n",
    "df_matches.createOrReplaceTempView(\"ipl_matches\")\n"
   ]
  },
  {
   "cell_type": "code",
   "execution_count": 0,
   "metadata": {
    "application/vnd.databricks.v1+cell": {
     "cellMetadata": {
      "byteLimit": 2048000,
      "rowLimit": 10000
     },
     "inputWidgets": {},
     "nuid": "d89d72fa-da3b-4d20-8901-e23e8313d3ff",
     "showTitle": false,
     "tableResultSettingsMap": {},
     "title": ""
    }
   },
   "outputs": [],
   "source": [
    "%python\n",
    "commentary = spark.read.option(\"header\", True).option(\"inferSchema\", True).csv(\"/FileStore/tables/commentary.csv\")\n",
    "commentary.createOrReplaceTempView(\"commentary\")\n"
   ]
  },
  {
   "cell_type": "code",
   "execution_count": 0,
   "metadata": {
    "application/vnd.databricks.v1+cell": {
     "cellMetadata": {
      "byteLimit": 2048000,
      "rowLimit": 10000
     },
     "inputWidgets": {},
     "nuid": "4a59e838-5f22-44d7-9fc8-cf37b1cb8294",
     "showTitle": false,
     "tableResultSettingsMap": {},
     "title": ""
    }
   },
   "outputs": [],
   "source": [
    "%python\n",
    "commentary = spark.read.option(\"header\", True).option(\"inferSchema\", True).csv(\"/FileStore/tables/commentary.csv\")\n"
   ]
  },
  {
   "cell_type": "code",
   "execution_count": 0,
   "metadata": {
    "application/vnd.databricks.v1+cell": {
     "cellMetadata": {
      "byteLimit": 2048000,
      "rowLimit": 10000
     },
     "inputWidgets": {},
     "nuid": "d708d906-ce90-41d6-ac35-340082d89709",
     "showTitle": false,
     "tableResultSettingsMap": {},
     "title": ""
    }
   },
   "outputs": [
    {
     "output_type": "stream",
     "name": "stdout",
     "output_type": "stream",
     "text": [
      "Out[1]: [FileInfo(path='dbfs:/FileStore/tables/cell_phone.xlsx', name='cell_phone.xlsx', size=297905, modificationTime=1740663046000),\n FileInfo(path='dbfs:/FileStore/tables/cell_phones-1.csv', name='cell_phones-1.csv', size=43927, modificationTime=1740667679000),\n FileInfo(path='dbfs:/FileStore/tables/cell_phones-2.csv', name='cell_phones-2.csv', size=43927, modificationTime=1740667926000),\n FileInfo(path='dbfs:/FileStore/tables/cell_phones-3.csv', name='cell_phones-3.csv', size=43927, modificationTime=1740717554000),\n FileInfo(path='dbfs:/FileStore/tables/cell_phones-4.csv', name='cell_phones-4.csv', size=43927, modificationTime=1740851516000),\n FileInfo(path='dbfs:/FileStore/tables/cell_phones.csv', name='cell_phones.csv', size=43927, modificationTime=1740650761000),\n FileInfo(path='dbfs:/FileStore/tables/cleaned_ipl_2021/', name='cleaned_ipl_2021/', size=0, modificationTime=0),\n FileInfo(path='dbfs:/FileStore/tables/combined_ipl_commentary.csv/', name='combined_ipl_commentary.csv/', size=0, modificationTime=0),\n FileInfo(path='dbfs:/FileStore/tables/combined_ipl_matches.csv/', name='combined_ipl_matches.csv/', size=0, modificationTime=0),\n FileInfo(path='dbfs:/FileStore/tables/commentary.csv', name='commentary.csv', size=167, modificationTime=1744815623000),\n FileInfo(path='dbfs:/FileStore/tables/commentary.xlsx', name='commentary.xlsx', size=8938, modificationTime=1744815452000),\n FileInfo(path='dbfs:/FileStore/tables/commentary_csv.xlsx', name='commentary_csv.xlsx', size=8938, modificationTime=1744815251000),\n FileInfo(path='dbfs:/FileStore/tables/commentary_output_csv/', name='commentary_output_csv/', size=0, modificationTime=0),\n FileInfo(path='dbfs:/FileStore/tables/commentary_output_parquet/', name='commentary_output_parquet/', size=0, modificationTime=0),\n FileInfo(path='dbfs:/FileStore/tables/final_cleaned_ipl_2021_matches.csv/', name='final_cleaned_ipl_2021_matches.csv/', size=0, modificationTime=0),\n FileInfo(path='dbfs:/FileStore/tables/final_cleaned_ipl_2021_matches_v2.csv/', name='final_cleaned_ipl_2021_matches_v2.csv/', size=0, modificationTime=0),\n FileInfo(path='dbfs:/FileStore/tables/final_combined_ipl_commentary.csv/', name='final_combined_ipl_commentary.csv/', size=0, modificationTime=0),\n FileInfo(path='dbfs:/FileStore/tables/final_ipl_2021_csv/', name='final_ipl_2021_csv/', size=0, modificationTime=0),\n FileInfo(path='dbfs:/FileStore/tables/ipl_2021_cleaned/', name='ipl_2021_cleaned/', size=0, modificationTime=0),\n FileInfo(path='dbfs:/FileStore/tables/ipl_2021_matches-1.csv', name='ipl_2021_matches-1.csv', size=12482, modificationTime=1744550038000),\n FileInfo(path='dbfs:/FileStore/tables/ipl_2021_matches-10.csv', name='ipl_2021_matches-10.csv', size=12482, modificationTime=1744646907000),\n FileInfo(path='dbfs:/FileStore/tables/ipl_2021_matches-11.csv', name='ipl_2021_matches-11.csv', size=12482, modificationTime=1744680388000),\n FileInfo(path='dbfs:/FileStore/tables/ipl_2021_matches-12.csv', name='ipl_2021_matches-12.csv', size=12482, modificationTime=1744691091000),\n FileInfo(path='dbfs:/FileStore/tables/ipl_2021_matches-13.csv', name='ipl_2021_matches-13.csv', size=12482, modificationTime=1744709819000),\n FileInfo(path='dbfs:/FileStore/tables/ipl_2021_matches-14.csv', name='ipl_2021_matches-14.csv', size=12482, modificationTime=1744709893000),\n FileInfo(path='dbfs:/FileStore/tables/ipl_2021_matches-15.csv', name='ipl_2021_matches-15.csv', size=12482, modificationTime=1744765099000),\n FileInfo(path='dbfs:/FileStore/tables/ipl_2021_matches-16.csv', name='ipl_2021_matches-16.csv', size=12482, modificationTime=1744813333000),\n FileInfo(path='dbfs:/FileStore/tables/ipl_2021_matches-17.csv', name='ipl_2021_matches-17.csv', size=12482, modificationTime=1744813490000),\n FileInfo(path='dbfs:/FileStore/tables/ipl_2021_matches-2.csv', name='ipl_2021_matches-2.csv', size=12482, modificationTime=1744550172000),\n FileInfo(path='dbfs:/FileStore/tables/ipl_2021_matches-3.csv', name='ipl_2021_matches-3.csv', size=12482, modificationTime=1744550284000),\n FileInfo(path='dbfs:/FileStore/tables/ipl_2021_matches-4.csv', name='ipl_2021_matches-4.csv', size=12482, modificationTime=1744550446000),\n FileInfo(path='dbfs:/FileStore/tables/ipl_2021_matches-5.csv', name='ipl_2021_matches-5.csv', size=12482, modificationTime=1744550977000),\n FileInfo(path='dbfs:/FileStore/tables/ipl_2021_matches-6.csv', name='ipl_2021_matches-6.csv', size=12482, modificationTime=1744592471000),\n FileInfo(path='dbfs:/FileStore/tables/ipl_2021_matches-7.csv', name='ipl_2021_matches-7.csv', size=12482, modificationTime=1744595707000),\n FileInfo(path='dbfs:/FileStore/tables/ipl_2021_matches-8.csv', name='ipl_2021_matches-8.csv', size=12482, modificationTime=1744599530000),\n FileInfo(path='dbfs:/FileStore/tables/ipl_2021_matches-9.csv', name='ipl_2021_matches-9.csv', size=12482, modificationTime=1744646828000),\n FileInfo(path='dbfs:/FileStore/tables/ipl_2021_matches.csv', name='ipl_2021_matches.csv', size=12482, modificationTime=1744549319000),\n FileInfo(path='dbfs:/FileStore/tables/ipl_2021_matches_cleaned.csv/', name='ipl_2021_matches_cleaned.csv/', size=0, modificationTime=0),\n FileInfo(path='dbfs:/FileStore/tables/ipl_2021_matches_cleaned_v2.csv/', name='ipl_2021_matches_cleaned_v2.csv/', size=0, modificationTime=0),\n FileInfo(path='dbfs:/FileStore/tables/match_date_time.csv/', name='match_date_time.csv/', size=0, modificationTime=0),\n FileInfo(path='dbfs:/FileStore/tables/match_datetime_full.csv/', name='match_datetime_full.csv/', size=0, modificationTime=0),\n FileInfo(path='dbfs:/FileStore/tables/match_details.csv/', name='match_details.csv/', size=0, modificationTime=0),\n FileInfo(path='dbfs:/FileStore/tables/pop-1.csv', name='pop-1.csv', size=335353, modificationTime=1740649112000),\n FileInfo(path='dbfs:/FileStore/tables/pop-2.csv', name='pop-2.csv', size=335353, modificationTime=1740649181000),\n FileInfo(path='dbfs:/FileStore/tables/pop-3.csv', name='pop-3.csv', size=335353, modificationTime=1740650598000),\n FileInfo(path='dbfs:/FileStore/tables/pop-4.csv', name='pop-4.csv', size=335353, modificationTime=1740662995000),\n FileInfo(path='dbfs:/FileStore/tables/pop-5.csv', name='pop-5.csv', size=335353, modificationTime=1740667632000),\n FileInfo(path='dbfs:/FileStore/tables/pop-6.csv', name='pop-6.csv', size=335353, modificationTime=1740667917000),\n FileInfo(path='dbfs:/FileStore/tables/pop-7.csv', name='pop-7.csv', size=335353, modificationTime=1740668298000),\n FileInfo(path='dbfs:/FileStore/tables/pop-8.csv', name='pop-8.csv', size=335353, modificationTime=1740717536000),\n FileInfo(path='dbfs:/FileStore/tables/pop-9.csv', name='pop-9.csv', size=335353, modificationTime=1740717656000),\n FileInfo(path='dbfs:/FileStore/tables/pop.csv', name='pop.csv', size=335353, modificationTime=1740648911000),\n FileInfo(path='dbfs:/FileStore/tables/pop.xlsx', name='pop.xlsx', size=2064226, modificationTime=1740851366000),\n FileInfo(path='dbfs:/FileStore/tables/population.csv', name='population.csv', size=335353, modificationTime=1740851840000)]"
     ]
    }
   ],
   "source": [
    "dbutils.fs.ls(\"/FileStore/tables/\")"
   ]
  },
  {
   "cell_type": "code",
   "execution_count": 0,
   "metadata": {
    "application/vnd.databricks.v1+cell": {
     "cellMetadata": {
      "byteLimit": 2048000,
      "rowLimit": 10000
     },
     "inputWidgets": {},
     "nuid": "53cc5217-9559-443a-9547-579cbdc2c252",
     "showTitle": false,
     "tableResultSettingsMap": {},
     "title": ""
    }
   },
   "outputs": [
    {
     "output_type": "stream",
     "name": "stdout",
     "output_type": "stream",
     "text": [
      "+----+-----------+-----------+---------+------+\n|year|match_team1|match_team2|   result|winner|\n+----+-----------+-----------+---------+------+\n|2021|        CSK|        RCB|completed|   CSK|\n|2021|         MI|        KKR|completed|    MI|\n|2021|        SRH|         DC|     tied|  null|\n|2022|         RR|       PBKS|completed|  PBKS|\n|2022|         GT|        LSG|abandoned|  null|\n|2023|        CSK|         MI|completed|    MI|\n|2023|        RCB|         RR|completed|   RCB|\n+----+-----------+-----------+---------+------+\n\n"
     ]
    }
   ],
   "source": [
    "from pyspark.sql import SparkSession\n",
    "from pyspark.sql.types import StructType, StructField, StringType, IntegerType\n",
    "spark = SparkSession.builder.master(\"local\").appName(\"IPL Analysis\").getOrCreate()\n",
    "data = [\n",
    "    (2021, \"CSK\", \"RCB\", \"completed\", \"CSK\"),\n",
    "    (2021, \"MI\", \"KKR\", \"completed\", \"MI\"),\n",
    "    (2021, \"SRH\", \"DC\", \"tied\", None),\n",
    "    (2022, \"RR\", \"PBKS\", \"completed\", \"PBKS\"),\n",
    "    (2022, \"GT\", \"LSG\", \"abandoned\", None),\n",
    "    (2023, \"CSK\", \"MI\", \"completed\", \"MI\"),\n",
    "    (2023, \"RCB\", \"RR\", \"completed\", \"RCB\")\n",
    "]\n",
    "schema = StructType([\n",
    "    StructField(\"year\", IntegerType(), True),\n",
    "    StructField(\"match_team1\", StringType(), True),\n",
    "    StructField(\"match_team2\", StringType(), True),\n",
    "    StructField(\"result\", StringType(), True),\n",
    "    StructField(\"winner\", StringType(), True),\n",
    "])\n",
    "ipl_df = spark.createDataFrame(data, schema)\n",
    "ipl_df.createOrReplaceTempView(\"ipl\")\n",
    "ipl_df.show()\n"
   ]
  },
  {
   "cell_type": "code",
   "execution_count": 0,
   "metadata": {
    "application/vnd.databricks.v1+cell": {
     "cellMetadata": {
      "byteLimit": 2048000,
      "implicitDf": true,
      "rowLimit": 10000
     },
     "inputWidgets": {},
     "nuid": "6b1c56ea-e6de-4007-8913-5472c5e3c8a3",
     "showTitle": false,
     "tableResultSettingsMap": {},
     "title": ""
    }
   },
   "outputs": [
    {
     "output_type": "display_data",
     "data": {
      "text/html": [
       "<style scoped>\n",
       "  .table-result-container {\n",
       "    max-height: 300px;\n",
       "    overflow: auto;\n",
       "  }\n",
       "  table, th, td {\n",
       "    border: 1px solid black;\n",
       "    border-collapse: collapse;\n",
       "  }\n",
       "  th, td {\n",
       "    padding: 5px;\n",
       "  }\n",
       "  th {\n",
       "    text-align: left;\n",
       "  }\n",
       "</style><div class='table-result-container'><table class='table-result'><thead style='background-color: white'><tr><th>year</th><th>total_teams</th></tr></thead><tbody><tr><td>2021</td><td>6</td></tr><tr><td>2022</td><td>4</td></tr><tr><td>2023</td><td>4</td></tr></tbody></table></div>"
      ]
     },
     "metadata": {
      "application/vnd.databricks.v1+output": {
       "addedWidgets": {},
       "aggData": [],
       "aggError": "",
       "aggOverflow": false,
       "aggSchema": [],
       "aggSeriesLimitReached": false,
       "aggType": "",
       "arguments": {},
       "columnCustomDisplayInfos": {},
       "data": [
        [
         2021,
         6
        ],
        [
         2022,
         4
        ],
        [
         2023,
         4
        ]
       ],
       "datasetInfos": [],
       "dbfsResultPath": null,
       "isJsonSchema": true,
       "metadata": {},
       "overflow": false,
       "plotOptions": {
        "customPlotOptions": {},
        "displayType": "table",
        "pivotAggregation": null,
        "pivotColumns": null,
        "xColumns": null,
        "yColumns": null
       },
       "removedWidgets": [],
       "schema": [
        {
         "metadata": "{}",
         "name": "year",
         "type": "\"integer\""
        },
        {
         "metadata": "{}",
         "name": "total_teams",
         "type": "\"long\""
        }
       ],
       "type": "table"
      }
     },
     "output_type": "display_data"
    }
   ],
   "source": [
    "%sql\n",
    "SELECT \n",
    "  year, \n",
    "  COUNT(DISTINCT match_team1) + COUNT(DISTINCT match_team2) AS total_teams\n",
    "FROM ipl\n",
    "WHERE match_team1 IS NOT NULL AND match_team2 IS NOT NULL AND year IS NOT NULL\n",
    "GROUP BY year\n",
    "ORDER BY year;\n"
   ]
  },
  {
   "cell_type": "code",
   "execution_count": 0,
   "metadata": {
    "application/vnd.databricks.v1+cell": {
     "cellMetadata": {
      "byteLimit": 2048000,
      "implicitDf": true,
      "rowLimit": 10000
     },
     "inputWidgets": {},
     "nuid": "d20b59aa-a05c-4e25-a997-181db4ee29f8",
     "showTitle": false,
     "tableResultSettingsMap": {},
     "title": ""
    }
   },
   "outputs": [
    {
     "output_type": "display_data",
     "data": {
      "text/html": [
       "<style scoped>\n",
       "  .table-result-container {\n",
       "    max-height: 300px;\n",
       "    overflow: auto;\n",
       "  }\n",
       "  table, th, td {\n",
       "    border: 1px solid black;\n",
       "    border-collapse: collapse;\n",
       "  }\n",
       "  th, td {\n",
       "    padding: 5px;\n",
       "  }\n",
       "  th {\n",
       "    text-align: left;\n",
       "  }\n",
       "</style><div class='table-result-container'><table class='table-result'><thead style='background-color: white'><tr><th>year</th><th>abandoned</th><th>tied</th><th>completed</th></tr></thead><tbody><tr><td>2021</td><td>0</td><td>1</td><td>2</td></tr><tr><td>2022</td><td>1</td><td>0</td><td>1</td></tr><tr><td>2023</td><td>0</td><td>0</td><td>2</td></tr></tbody></table></div>"
      ]
     },
     "metadata": {
      "application/vnd.databricks.v1+output": {
       "addedWidgets": {},
       "aggData": [],
       "aggError": "",
       "aggOverflow": false,
       "aggSchema": [],
       "aggSeriesLimitReached": false,
       "aggType": "",
       "arguments": {},
       "columnCustomDisplayInfos": {},
       "data": [
        [
         2021,
         0,
         1,
         2
        ],
        [
         2022,
         1,
         0,
         1
        ],
        [
         2023,
         0,
         0,
         2
        ]
       ],
       "datasetInfos": [],
       "dbfsResultPath": null,
       "isJsonSchema": true,
       "metadata": {},
       "overflow": false,
       "plotOptions": {
        "customPlotOptions": {},
        "displayType": "table",
        "pivotAggregation": null,
        "pivotColumns": null,
        "xColumns": null,
        "yColumns": null
       },
       "removedWidgets": [],
       "schema": [
        {
         "metadata": "{}",
         "name": "year",
         "type": "\"integer\""
        },
        {
         "metadata": "{}",
         "name": "abandoned",
         "type": "\"long\""
        },
        {
         "metadata": "{}",
         "name": "tied",
         "type": "\"long\""
        },
        {
         "metadata": "{}",
         "name": "completed",
         "type": "\"long\""
        }
       ],
       "type": "table"
      }
     },
     "output_type": "display_data"
    }
   ],
   "source": [
    "%sql\n",
    "SELECT \n",
    "  year,\n",
    "  COUNT(CASE WHEN LOWER(result) LIKE '%abandoned%' THEN 1 END) AS abandoned,\n",
    "  COUNT(CASE WHEN LOWER(result) LIKE '%tie%' THEN 1 END) AS tied,\n",
    "  COUNT(CASE WHEN LOWER(result) LIKE '%completed%' THEN 1 END) AS completed\n",
    "FROM ipl\n",
    "GROUP BY year\n",
    "ORDER BY year;\n"
   ]
  },
  {
   "cell_type": "code",
   "execution_count": 0,
   "metadata": {
    "application/vnd.databricks.v1+cell": {
     "cellMetadata": {
      "byteLimit": 2048000,
      "implicitDf": true,
      "rowLimit": 10000
     },
     "inputWidgets": {},
     "nuid": "2cb9eb64-a91c-4e95-969f-9c048da60dea",
     "showTitle": false,
     "tableResultSettingsMap": {},
     "title": ""
    }
   },
   "outputs": [
    {
     "output_type": "display_data",
     "data": {
      "text/html": [
       "<style scoped>\n",
       "  .table-result-container {\n",
       "    max-height: 300px;\n",
       "    overflow: auto;\n",
       "  }\n",
       "  table, th, td {\n",
       "    border: 1px solid black;\n",
       "    border-collapse: collapse;\n",
       "  }\n",
       "  th, td {\n",
       "    padding: 5px;\n",
       "  }\n",
       "  th {\n",
       "    text-align: left;\n",
       "  }\n",
       "</style><div class='table-result-container'><table class='table-result'><thead style='background-color: white'><tr><th>year</th><th>avg_balls_per_match</th></tr></thead><tbody><tr><td>2021</td><td>2.0</td></tr><tr><td>2022</td><td>1.0</td></tr><tr><td>2023</td><td>1.0</td></tr></tbody></table></div>"
      ]
     },
     "metadata": {
      "application/vnd.databricks.v1+output": {
       "addedWidgets": {},
       "aggData": [],
       "aggError": "",
       "aggOverflow": false,
       "aggSchema": [],
       "aggSeriesLimitReached": false,
       "aggType": "",
       "arguments": {},
       "columnCustomDisplayInfos": {},
       "data": [
        [
         2021,
         2.0
        ],
        [
         2022,
         1.0
        ],
        [
         2023,
         1.0
        ]
       ],
       "datasetInfos": [],
       "dbfsResultPath": null,
       "isJsonSchema": true,
       "metadata": {},
       "overflow": false,
       "plotOptions": {
        "customPlotOptions": {},
        "displayType": "table",
        "pivotAggregation": null,
        "pivotColumns": null,
        "xColumns": null,
        "yColumns": null
       },
       "removedWidgets": [],
       "schema": [
        {
         "metadata": "{}",
         "name": "year",
         "type": "\"integer\""
        },
        {
         "metadata": "{}",
         "name": "avg_balls_per_match",
         "type": "\"double\""
        }
       ],
       "type": "table"
      }
     },
     "output_type": "display_data"
    }
   ],
   "source": [
    "%sql\n",
    "SELECT \n",
    "  year,\n",
    "  ROUND(AVG(ball_count), 2) AS avg_balls_per_match\n",
    "FROM (\n",
    "  SELECT \n",
    "    c.match_id,\n",
    "    i.year,\n",
    "    COUNT(*) AS ball_count\n",
    "  FROM commentary c\n",
    "  JOIN ipl i ON c.match_id = i.match_no\n",
    "  GROUP BY c.match_id, i.year\n",
    ") sub\n",
    "GROUP BY year\n",
    "ORDER BY year;\n"
   ]
  },
  {
   "cell_type": "code",
   "execution_count": 0,
   "metadata": {
    "application/vnd.databricks.v1+cell": {
     "cellMetadata": {
      "byteLimit": 2048000,
      "implicitDf": true,
      "rowLimit": 10000
     },
     "inputWidgets": {},
     "nuid": "d26dbb0d-30e6-4596-a893-6247e9072c16",
     "showTitle": false,
     "tableResultSettingsMap": {},
     "title": ""
    }
   },
   "outputs": [
    {
     "output_type": "display_data",
     "data": {
      "text/html": [
       "<style scoped>\n",
       "  .table-result-container {\n",
       "    max-height: 300px;\n",
       "    overflow: auto;\n",
       "  }\n",
       "  table, th, td {\n",
       "    border: 1px solid black;\n",
       "    border-collapse: collapse;\n",
       "  }\n",
       "  th, td {\n",
       "    padding: 5px;\n",
       "  }\n",
       "  th {\n",
       "    text-align: left;\n",
       "  }\n",
       "</style><div class='table-result-container'><table class='table-result'><thead style='background-color: white'><tr><th>year</th><th>team</th><th>matches_won</th></tr></thead><tbody><tr><td>2021</td><td>CSK</td><td>1</td></tr><tr><td>2021</td><td>MI</td><td>1</td></tr><tr><td>2022</td><td>PBKS</td><td>1</td></tr><tr><td>2023</td><td>MI</td><td>1</td></tr><tr><td>2023</td><td>RCB</td><td>1</td></tr></tbody></table></div>"
      ]
     },
     "metadata": {
      "application/vnd.databricks.v1+output": {
       "addedWidgets": {},
       "aggData": [],
       "aggError": "",
       "aggOverflow": false,
       "aggSchema": [],
       "aggSeriesLimitReached": false,
       "aggType": "",
       "arguments": {},
       "columnCustomDisplayInfos": {},
       "data": [
        [
         2021,
         "CSK",
         1
        ],
        [
         2021,
         "MI",
         1
        ],
        [
         2022,
         "PBKS",
         1
        ],
        [
         2023,
         "MI",
         1
        ],
        [
         2023,
         "RCB",
         1
        ]
       ],
       "datasetInfos": [],
       "dbfsResultPath": null,
       "isJsonSchema": true,
       "metadata": {},
       "overflow": false,
       "plotOptions": {
        "customPlotOptions": {},
        "displayType": "table",
        "pivotAggregation": null,
        "pivotColumns": null,
        "xColumns": null,
        "yColumns": null
       },
       "removedWidgets": [],
       "schema": [
        {
         "metadata": "{}",
         "name": "year",
         "type": "\"integer\""
        },
        {
         "metadata": "{}",
         "name": "team",
         "type": "\"string\""
        },
        {
         "metadata": "{}",
         "name": "matches_won",
         "type": "\"long\""
        }
       ],
       "type": "table"
      }
     },
     "output_type": "display_data"
    }
   ],
   "source": [
    "%sql\n",
    "SELECT \n",
    "  year,\n",
    "  winner AS team,\n",
    "  COUNT(*) AS matches_won\n",
    "FROM ipl\n",
    "WHERE winner IS NOT NULL\n",
    "GROUP BY year, winner\n",
    "ORDER BY year, matches_won DESC;\n"
   ]
  }
 ],
 "metadata": {
  "application/vnd.databricks.v1+notebook": {
   "computePreferences": null,
   "dashboards": [],
   "environmentMetadata": {
    "base_environment": "",
    "environment_version": "1"
   },
   "inputWidgetPreferences": null,
   "language": "python",
   "notebookMetadata": {
    "mostRecentlyExecutedCommandWithImplicitDF": {
     "commandId": 864055902607712,
     "dataframes": [
      "_sqldf"
     ]
    },
    "pythonIndentUnit": 4
   },
   "notebookName": "L 18 TASK 5",
   "widgets": {}
  }
 },
 "nbformat": 4,
 "nbformat_minor": 0
}