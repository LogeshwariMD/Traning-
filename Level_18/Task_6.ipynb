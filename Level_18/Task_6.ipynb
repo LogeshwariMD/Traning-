{
 "cells": [
  {
   "cell_type": "code",
   "execution_count": 0,
   "metadata": {
    "application/vnd.databricks.v1+cell": {
     "cellMetadata": {
      "byteLimit": 2048000,
      "rowLimit": 10000
     },
     "inputWidgets": {},
     "nuid": "deb17687-8eb5-40c9-8f69-6609a65c49be",
     "showTitle": false,
     "tableResultSettingsMap": {},
     "title": ""
    }
   },
   "outputs": [],
   "source": [
    "import re\n",
    "from pyspark.sql import SparkSession\n",
    "from pyspark.sql.functions import udf\n",
    "from pyspark.sql.types import StringType, IntegerType\n"
   ]
  },
  {
   "cell_type": "code",
   "execution_count": 0,
   "metadata": {
    "application/vnd.databricks.v1+cell": {
     "cellMetadata": {
      "byteLimit": 2048000,
      "rowLimit": 10000
     },
     "inputWidgets": {},
     "nuid": "83ce202a-5766-48ab-b1dd-39f1922bc783",
     "showTitle": false,
     "tableResultSettingsMap": {},
     "title": ""
    }
   },
   "outputs": [],
   "source": [
    "spark = SparkSession.builder.getOrCreate()"
   ]
  },
  {
   "cell_type": "code",
   "execution_count": 0,
   "metadata": {
    "application/vnd.databricks.v1+cell": {
     "cellMetadata": {
      "byteLimit": 2048000,
      "rowLimit": 10000
     },
     "inputWidgets": {},
     "nuid": "e2335ef2-b1b7-465f-8d68-0d03d372f1cd",
     "showTitle": false,
     "tableResultSettingsMap": {},
     "title": ""
    }
   },
   "outputs": [],
   "source": [
    "commentary_schema = StructType([\n",
    "    StructField(\"match_id\", StringType(), True),\n",
    "    StructField(\"ball\", DoubleType(), True),\n",
    "    StructField(\"commentary\", StringType(), True)\n",
    "])"
   ]
  },
  {
   "cell_type": "code",
   "execution_count": 0,
   "metadata": {
    "application/vnd.databricks.v1+cell": {
     "cellMetadata": {
      "byteLimit": 2048000,
      "rowLimit": 10000
     },
     "inputWidgets": {},
     "nuid": "728c3033-7323-487f-aa3b-613f11e66812",
     "showTitle": false,
     "tableResultSettingsMap": {},
     "title": ""
    }
   },
   "outputs": [],
   "source": [
    "commentary_data = [\n",
    "    (\"M1\", 1.1, \"Rohit Sharma hits a four off Bumrah\"),\n",
    "    (\"M1\", 1.2, \"Dhoni hits a six off Chahal\"),\n",
    "    (\"M1\", 1.3, \"Gill hits a dot ball off Rashid Khan\"),\n",
    "    (\"M2\", 2.1, \"Kohli hits a single off Jadeja\"),\n",
    "    (\"M2\", 2.2, \"Pant hits a three off Ashwin\"),\n",
    "    (\"M2\", 2.3, \"No run off Axar Patel\")\n",
    "]"
   ]
  },
  {
   "cell_type": "code",
   "execution_count": 0,
   "metadata": {
    "application/vnd.databricks.v1+cell": {
     "cellMetadata": {
      "byteLimit": 2048000,
      "rowLimit": 10000
     },
     "inputWidgets": {},
     "nuid": "dc3e3c2f-2a33-4745-a850-844de9c1cbed",
     "showTitle": false,
     "tableResultSettingsMap": {},
     "title": ""
    }
   },
   "outputs": [],
   "source": [
    "commentary_df = spark.createDataFrame(commentary_data, commentary_schema)\n",
    "commentary_df.createOrReplaceTempView(\"commentary\")\n"
   ]
  },
  {
   "cell_type": "code",
   "execution_count": 0,
   "metadata": {
    "application/vnd.databricks.v1+cell": {
     "cellMetadata": {
      "byteLimit": 2048000,
      "rowLimit": 10000
     },
     "inputWidgets": {},
     "nuid": "71d02f29-9eb7-4b61-8af1-677338b6960b",
     "showTitle": false,
     "tableResultSettingsMap": {},
     "title": ""
    }
   },
   "outputs": [],
   "source": [
    "def extract_runs(text):\n",
    "    text = text.lower()\n",
    "    if \"six\" in text:\n",
    "        return 6\n",
    "    elif \"four\" in text:\n",
    "        return 4\n",
    "    elif \"three\" in text:\n",
    "        return 3\n",
    "    elif \"two\" in text:\n",
    "        return 2\n",
    "    elif \"single\" in text or \"one\" in text:\n",
    "        return 1\n",
    "    elif \"no run\" in text or \"dot\" in text:\n",
    "        return 0\n",
    "    else:\n",
    "        return None\n",
    "\n",
    "def extract_batsman(text):\n",
    "    match = re.match(r\"([A-Za-z\\s]+?) hits\", text)\n",
    "    return match.group(1).strip() if match else None\n",
    "\n",
    "def extract_bowler(text):\n",
    "    match = re.search(r\"off ([A-Za-z\\s]+)\", text)\n",
    "    return match.group(1).strip() if match else None\n"
   ]
  },
  {
   "cell_type": "code",
   "execution_count": 0,
   "metadata": {
    "application/vnd.databricks.v1+cell": {
     "cellMetadata": {
      "byteLimit": 2048000,
      "rowLimit": 10000
     },
     "inputWidgets": {},
     "nuid": "f66316e8-4ca8-4304-a72c-ff256aff54ac",
     "showTitle": false,
     "tableResultSettingsMap": {},
     "title": ""
    }
   },
   "outputs": [],
   "source": [
    "extract_runs_udf = udf(extract_runs, IntegerType())\n",
    "extract_batsman_udf = udf(extract_batsman, StringType())\n",
    "extract_bowler_udf = udf(extract_bowler, StringType())"
   ]
  },
  {
   "cell_type": "code",
   "execution_count": 0,
   "metadata": {
    "application/vnd.databricks.v1+cell": {
     "cellMetadata": {
      "byteLimit": 2048000,
      "rowLimit": 10000
     },
     "inputWidgets": {},
     "nuid": "f0782c37-e938-431d-bc34-429cc613b0b1",
     "showTitle": false,
     "tableResultSettingsMap": {},
     "title": ""
    }
   },
   "outputs": [],
   "source": [
    "final_df = commentary_df \\\n",
    "    .withColumn(\"runs\", extract_runs_udf(\"commentary\")) \\\n",
    "    .withColumn(\"batsman\", extract_batsman_udf(\"commentary\")) \\\n",
    "    .withColumn(\"bowler\", extract_bowler_udf(\"commentary\"))\n"
   ]
  },
  {
   "cell_type": "code",
   "execution_count": 0,
   "metadata": {
    "application/vnd.databricks.v1+cell": {
     "cellMetadata": {
      "byteLimit": 2048000,
      "rowLimit": 10000
     },
     "inputWidgets": {},
     "nuid": "009cd6c2-3dc9-4de9-9f5a-fdf92efa8566",
     "showTitle": false,
     "tableResultSettingsMap": {},
     "title": ""
    }
   },
   "outputs": [
    {
     "output_type": "stream",
     "name": "stdout",
     "output_type": "stream",
     "text": [
      "+--------+----+------------------------------------+----+------------+-----------+\n|match_id|ball|commentary                          |runs|batsman     |bowler     |\n+--------+----+------------------------------------+----+------------+-----------+\n|M1      |1.1 |Rohit Sharma hits a four off Bumrah |4   |Rohit Sharma|Bumrah     |\n|M1      |1.2 |Dhoni hits a six off Chahal         |6   |Dhoni       |Chahal     |\n|M1      |1.3 |Gill hits a dot ball off Rashid Khan|0   |Gill        |Rashid Khan|\n|M2      |2.1 |Kohli hits a single off Jadeja      |1   |Kohli       |Jadeja     |\n|M2      |2.2 |Pant hits a three off Ashwin        |3   |Pant        |Ashwin     |\n|M2      |2.3 |No run off Axar Patel               |0   |null        |Axar Patel |\n+--------+----+------------------------------------+----+------------+-----------+\n\n"
     ]
    }
   ],
   "source": [
    "final_df.show(truncate=False)"
   ]
  }
 ],
 "metadata": {
  "application/vnd.databricks.v1+notebook": {
   "computePreferences": null,
   "dashboards": [],
   "environmentMetadata": {
    "base_environment": "",
    "environment_version": "1"
   },
   "inputWidgetPreferences": null,
   "language": "python",
   "notebookMetadata": {
    "pythonIndentUnit": 4
   },
   "notebookName": "L 18 TASK 6",
   "widgets": {}
  }
 },
 "nbformat": 4,
 "nbformat_minor": 0
}