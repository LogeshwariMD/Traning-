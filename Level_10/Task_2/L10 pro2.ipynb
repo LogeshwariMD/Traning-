{
 "cells": [
  {
   "cell_type": "markdown",
   "id": "0dbfc8e3-d541-4ce5-8135-05bcb4f452c0",
   "metadata": {},
   "source": [
    " Project 2: Inferential Statistics"
   ]
  },
  {
   "cell_type": "code",
   "execution_count": 3,
   "id": "239480c2-b8a1-4416-b152-1959be08720f",
   "metadata": {},
   "outputs": [],
   "source": [
    "import pandas as pd\n",
    "import numpy as np\n",
    "from scipy.stats import ttest_ind, norm\n",
    "import statsmodels.api as sm"
   ]
  },
  {
   "cell_type": "code",
   "execution_count": 4,
   "id": "01c89e7b-9f1c-419b-a3a7-bed223157568",
   "metadata": {},
   "outputs": [],
   "source": [
    "url = \"https://raw.githubusercontent.com/datasciencedojo/datasets/master/titanic.csv\"\n",
    "df = pd.read_csv(url)"
   ]
  },
  {
   "cell_type": "code",
   "execution_count": 5,
   "id": "3da130aa-3611-4859-8937-9afc4fdcef64",
   "metadata": {},
   "outputs": [],
   "source": [
    "df.dropna(subset=['Sex', 'Survived'], inplace=True)"
   ]
  },
  {
   "cell_type": "code",
   "execution_count": 6,
   "id": "2bd4bc4a-8486-4743-a1a0-e9de0f77cb64",
   "metadata": {},
   "outputs": [],
   "source": [
    "male_survival = df[df['Sex'] == 'male']['Survived']\n",
    "female_survival = df[df['Sex'] == 'female']['Survived']\n"
   ]
  },
  {
   "cell_type": "code",
   "execution_count": 7,
   "id": "98f7a5a2-d6f5-4460-91fa-2e7914553495",
   "metadata": {},
   "outputs": [
    {
     "name": "stdout",
     "output_type": "stream",
     "text": [
      "Two-Sample T-Test Results:\n",
      "T-Statistic: -19.297816550123354\n",
      "P-Value: 1.4060661308802594e-69\n"
     ]
    }
   ],
   "source": [
    "t_stat, p_value = ttest_ind(male_survival, female_survival)\n",
    "print(\"Two-Sample T-Test Results:\")\n",
    "print(\"T-Statistic:\", t_stat)\n",
    "print(\"P-Value:\", p_value)"
   ]
  },
  {
   "cell_type": "code",
   "execution_count": 8,
   "id": "87a74586-fcc8-49ef-a453-915e222e85aa",
   "metadata": {},
   "outputs": [],
   "source": [
    "male_survived = male_survival.sum()\n",
    "female_survived = female_survival.sum()\n",
    "\n",
    "male_total = len(male_survival)\n",
    "female_total = len(female_survival)\n",
    "\n",
    "prop_male = male_survived / male_total\n",
    "prop_female = female_survived / female_total"
   ]
  },
  {
   "cell_type": "code",
   "execution_count": 9,
   "id": "d3d87f75-5690-4ed4-a691-95af235a24da",
   "metadata": {},
   "outputs": [
    {
     "name": "stdout",
     "output_type": "stream",
     "text": [
      "\n",
      "Z-Test Results:\n",
      "Z-Score: -16.218833930670097\n",
      "P-Value: 0.0\n"
     ]
    }
   ],
   "source": [
    "pooled_prop = (male_survived + female_survived) / (male_total + female_total)\n",
    "std_error = np.sqrt(pooled_prop * (1 - pooled_prop) * (1/male_total + 1/female_total))\n",
    "z_score = (prop_male - prop_female) / std_error\n",
    "p_value_z = 2 * (1 - norm.cdf(abs(z_score)))\n",
    "\n",
    "print(\"\\nZ-Test Results:\")\n",
    "print(\"Z-Score:\", z_score)\n",
    "print(\"P-Value:\", p_value_z)"
   ]
  },
  {
   "cell_type": "code",
   "execution_count": 10,
   "id": "64eda5cf-79af-4000-8709-c34ec73577fb",
   "metadata": {},
   "outputs": [
    {
     "name": "stdout",
     "output_type": "stream",
     "text": [
      "\n",
      "Reject the null hypothesis: There is a significant difference in survival rates between males and females.\n"
     ]
    }
   ],
   "source": [
    "alpha = 0.05\n",
    "if p_value < alpha:\n",
    "    print(\"\\nReject the null hypothesis: There is a significant difference in survival rates between males and females.\")\n",
    "else:\n",
    "    print(\"\\nFail to reject the null hypothesis: No significant difference found.\")\n"
   ]
  },
  {
   "cell_type": "code",
   "execution_count": null,
   "id": "5dbf8cbd-d0a2-4510-99bf-78c531bf1352",
   "metadata": {},
   "outputs": [],
   "source": []
  }
 ],
 "metadata": {
  "kernelspec": {
   "display_name": "Python 3 (ipykernel)",
   "language": "python",
   "name": "python3"
  },
  "language_info": {
   "codemirror_mode": {
    "name": "ipython",
    "version": 3
   },
   "file_extension": ".py",
   "mimetype": "text/x-python",
   "name": "python",
   "nbconvert_exporter": "python",
   "pygments_lexer": "ipython3",
   "version": "3.12.4"
  }
 },
 "nbformat": 4,
 "nbformat_minor": 5
}
