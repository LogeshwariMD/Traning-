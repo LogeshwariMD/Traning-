{
 "cells": [
  {
   "cell_type": "markdown",
   "id": "561a52be-64b7-49a5-834b-de13bca718cd",
   "metadata": {},
   "source": [
    "Task 5: Sampling Techniques"
   ]
  },
  {
   "cell_type": "code",
   "execution_count": 1,
   "id": "151dddc3-b2f2-4a87-9dfb-16e557467b48",
   "metadata": {},
   "outputs": [],
   "source": [
    "import pandas as pd\n",
    "from sklearn.model_selection import train_test_split"
   ]
  },
  {
   "cell_type": "code",
   "execution_count": 2,
   "id": "9b6a5049-a734-4093-a5ed-6eea84a705de",
   "metadata": {},
   "outputs": [],
   "source": [
    "data = {\n",
    "    \"Employee_ID\": range(1, 21),\n",
    "    \"Department\": [\"HR\"] * 5 + [\"IT\"] * 7 + [\"Sales\"] * 8  \n",
    "}\n",
    "\n",
    "df = pd.DataFrame(data)"
   ]
  },
  {
   "cell_type": "code",
   "execution_count": 3,
   "id": "818df4da-eb73-45e0-9a8c-5ac03b2051ce",
   "metadata": {},
   "outputs": [],
   "source": [
    "train, _ = train_test_split(df, test_size=0.5, stratify=df[\"Department\"], random_state=42)\n"
   ]
  },
  {
   "cell_type": "code",
   "execution_count": 4,
   "id": "205904c0-e9bb-45a0-a424-96ef4f38215d",
   "metadata": {},
   "outputs": [
    {
     "name": "stdout",
     "output_type": "stream",
     "text": [
      "Stratified Sample of Employees:\n",
      "    Employee_ID Department\n",
      "12           13      Sales\n",
      "10           11         IT\n",
      "13           14      Sales\n",
      "18           19      Sales\n",
      "1             2         HR\n",
      "8             9         IT\n",
      "5             6         IT\n",
      "4             5         HR\n",
      "7             8         IT\n",
      "17           18      Sales\n"
     ]
    }
   ],
   "source": [
    "print(\"Stratified Sample of Employees:\")\n",
    "print(train)"
   ]
  },
  {
   "cell_type": "code",
   "execution_count": null,
   "id": "02392bfa-b6da-45dd-b9ec-67c31dc0e796",
   "metadata": {},
   "outputs": [],
   "source": []
  }
 ],
 "metadata": {
  "kernelspec": {
   "display_name": "Python 3 (ipykernel)",
   "language": "python",
   "name": "python3"
  },
  "language_info": {
   "codemirror_mode": {
    "name": "ipython",
    "version": 3
   },
   "file_extension": ".py",
   "mimetype": "text/x-python",
   "name": "python",
   "nbconvert_exporter": "python",
   "pygments_lexer": "ipython3",
   "version": "3.12.4"
  }
 },
 "nbformat": 4,
 "nbformat_minor": 5
}
