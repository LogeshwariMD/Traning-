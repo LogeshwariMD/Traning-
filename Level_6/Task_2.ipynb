{
 "cells": [
  {
   "cell_type": "markdown",
   "id": "1cba190f-87da-421d-a4e8-8603cc187dd1",
   "metadata": {},
   "source": [
    " Task 2: Types of Variables\n"
   ]
  },
  {
   "cell_type": "code",
   "execution_count": 1,
   "id": "eb911154-39ac-4b6f-ace5-7fc4ab49e8c9",
   "metadata": {},
   "outputs": [],
   "source": [
    "\n",
    "def classify_variable(variable_name, value):\n",
    "    \"\"\"\n",
    "    Classifies a variable as Quantitative (Discrete/Continuous) or Qualitative.\n",
    "\n",
    "    Parameters:\n",
    "        variable_name (str): The name of the variable.\n",
    "        value (any): The value of the variable to classify.\n",
    "\n",
    "    Returns:\n",
    "        str: Classification of the variable.\n",
    "    \"\"\"\n",
    "    \n",
    "    if isinstance(value, (int, float)):\n",
    "       \n",
    "        if isinstance(value, int):\n",
    "            return f\"{variable_name}: Quantitative (Discrete)\"\n",
    "        else:\n",
    "            return f\"{variable_name}: Quantitative (Continuous)\"\n",
    "    else:\n",
    "        \n",
    "        return f\"{variable_name}: Qualitative\"\n",
    "\n",
    "        \n",
    "       \n",
    "    "
   ]
  },
  {
   "cell_type": "code",
   "execution_count": 2,
   "id": "8d9020a6-9405-495b-bb21-581e825f5c62",
   "metadata": {},
   "outputs": [
    {
     "name": "stdout",
     "output_type": "stream",
     "text": [
      "Sample variables defined!\n"
     ]
    }
   ],
   "source": [
    " \n",
    "number_of_pets = 3               \n",
    "blood_type = \"A+\"                \n",
    "weight_in_kg = 70.5              \n",
    "satisfaction_level = \"High\"      \n",
    "\n",
    "print(\"Sample variables defined!\")\n",
    "\n",
    "   "
   ]
  },
  {
   "cell_type": "code",
   "execution_count": 3,
   "id": "6ffebafe-2820-4882-8069-5e0cec3edb90",
   "metadata": {},
   "outputs": [
    {
     "name": "stdout",
     "output_type": "stream",
     "text": [
      "Number of pets: Quantitative (Discrete)\n",
      "Blood type: Qualitative\n",
      "Weight in kg: Quantitative (Continuous)\n",
      "Satisfaction level: Qualitative\n"
     ]
    }
   ],
   "source": [
    "\n",
    "print(classify_variable(\"Number of pets\", number_of_pets))\n",
    "print(classify_variable(\"Blood type\", blood_type))\n",
    "print(classify_variable(\"Weight in kg\", weight_in_kg))\n",
    "print(classify_variable(\"Satisfaction level\", satisfaction_level))\n"
   ]
  },
  {
   "cell_type": "code",
   "execution_count": null,
   "id": "fd7e27df-ce36-4b97-9082-7572bfc3cb88",
   "metadata": {},
   "outputs": [],
   "source": [
    "\n"
   ]
  },
  {
   "cell_type": "code",
   "execution_count": null,
   "id": "8fb66138-1963-4ea1-ade3-bfac210124eb",
   "metadata": {},
   "outputs": [],
   "source": []
  },
  {
   "cell_type": "code",
   "execution_count": null,
   "id": "b1843f9c-66e9-4514-9d80-f0764ccc37da",
   "metadata": {},
   "outputs": [],
   "source": []
  },
  {
   "cell_type": "code",
   "execution_count": 1,
   "id": "20db85fc-30d0-4325-b265-dae5aee34f4d",
   "metadata": {},
   "outputs": [],
   "source": []
  },
  {
   "cell_type": "code",
   "execution_count": null,
   "id": "49600f38-2fb0-4ccd-9fe6-e38859678d1e",
   "metadata": {},
   "outputs": [],
   "source": []
  },
  {
   "cell_type": "code",
   "execution_count": null,
   "id": "3cc40dca-cc45-4aac-9ea3-d130d279ac8e",
   "metadata": {},
   "outputs": [],
   "source": []
  }
 ],
 "metadata": {
  "kernelspec": {
   "display_name": "Python 3 (ipykernel)",
   "language": "python",
   "name": "python3"
  },
  "language_info": {
   "codemirror_mode": {
    "name": "ipython",
    "version": 3
   },
   "file_extension": ".py",
   "mimetype": "text/x-python",
   "name": "python",
   "nbconvert_exporter": "python",
   "pygments_lexer": "ipython3",
   "version": "3.12.4"
  }
 },
 "nbformat": 4,
 "nbformat_minor": 5
}
