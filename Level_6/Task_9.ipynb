{
 "cells": [
  {
   "cell_type": "markdown",
   "id": "64a59e65-449b-416f-9748-82593a44577b",
   "metadata": {},
   "source": [
    "Task 9: Gaussian Distribution Area"
   ]
  },
  {
   "cell_type": "code",
   "execution_count": 1,
   "id": "84a88970-d83a-4025-8039-b63cb1fe03bb",
   "metadata": {},
   "outputs": [],
   "source": [
    "import scipy.stats as stats"
   ]
  },
  {
   "cell_type": "code",
   "execution_count": 2,
   "id": "17be7ba1-885f-4c55-8da0-b8dd93b300a5",
   "metadata": {},
   "outputs": [],
   "source": [
    "z_score = 0.25"
   ]
  },
  {
   "cell_type": "code",
   "execution_count": 3,
   "id": "f212a4ba-9339-45e9-ba29-af845e2e3bb0",
   "metadata": {},
   "outputs": [],
   "source": [
    "probability_above = stats.norm.sf(z_score) * 100"
   ]
  },
  {
   "cell_type": "code",
   "execution_count": 4,
   "id": "5480c4a1-a252-4973-8abe-413dacdbcfed",
   "metadata": {},
   "outputs": [
    {
     "name": "stdout",
     "output_type": "stream",
     "text": [
      "Approximately 40.13% of scores fall above 4.25.\n"
     ]
    }
   ],
   "source": [
    "print(f\"Approximately {probability_above:.2f}% of scores fall above 4.25.\")"
   ]
  },
  {
   "cell_type": "code",
   "execution_count": null,
   "id": "9c2fe63a-de24-4ead-abb3-e72ecac91ca1",
   "metadata": {},
   "outputs": [],
   "source": []
  }
 ],
 "metadata": {
  "kernelspec": {
   "display_name": "Python 3 (ipykernel)",
   "language": "python",
   "name": "python3"
  },
  "language_info": {
   "codemirror_mode": {
    "name": "ipython",
    "version": 3
   },
   "file_extension": ".py",
   "mimetype": "text/x-python",
   "name": "python",
   "nbconvert_exporter": "python",
   "pygments_lexer": "ipython3",
   "version": "3.12.4"
  }
 },
 "nbformat": 4,
 "nbformat_minor": 5
}
