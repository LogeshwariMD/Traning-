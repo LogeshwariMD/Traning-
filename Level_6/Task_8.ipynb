{
 "cells": [
  {
   "cell_type": "markdown",
   "id": "fdc5cc32-31e4-4f94-ab53-c0adbbc341d0",
   "metadata": {},
   "source": [
    "Task 8: Gaussian Distribution"
   ]
  },
  {
   "cell_type": "code",
   "execution_count": 1,
   "id": "1ff7d58d-0ab5-40da-82db-0bba922bdb29",
   "metadata": {},
   "outputs": [],
   "source": [
    "import scipy.stats as stats"
   ]
  },
  {
   "cell_type": "code",
   "execution_count": 2,
   "id": "b8814b90-5157-45cd-9250-7ba55b5bb1ec",
   "metadata": {},
   "outputs": [],
   "source": [
    "mean = 100\n",
    "std_dev = 15"
   ]
  },
  {
   "cell_type": "code",
   "execution_count": 3,
   "id": "611b1657-4fcb-4bda-97ff-51a4ebe07e4a",
   "metadata": {},
   "outputs": [],
   "source": [
    "prob_85 = stats.norm.cdf(85, mean, std_dev)  # P(X ≤ 85)\n",
    "prob_115 = stats.norm.cdf(115, mean, std_dev)  # P(X ≤ 115)\n"
   ]
  },
  {
   "cell_type": "code",
   "execution_count": 4,
   "id": "2acd8dd3-22e7-4e13-9dda-9a401815174b",
   "metadata": {},
   "outputs": [],
   "source": [
    "percentage = (prob_115 - prob_85) * 100"
   ]
  },
  {
   "cell_type": "code",
   "execution_count": 5,
   "id": "57356374-555c-4501-bbbd-0b8753c1830e",
   "metadata": {},
   "outputs": [
    {
     "name": "stdout",
     "output_type": "stream",
     "text": [
      "Approximately 68.27% of the data lies between 85 and 115.\n"
     ]
    }
   ],
   "source": [
    "print(f\"Approximately {percentage:.2f}% of the data lies between 85 and 115.\")"
   ]
  },
  {
   "cell_type": "code",
   "execution_count": null,
   "id": "2dccef6a-fb83-43ea-b90f-b90d28314511",
   "metadata": {},
   "outputs": [],
   "source": []
  }
 ],
 "metadata": {
  "kernelspec": {
   "display_name": "Python 3 (ipykernel)",
   "language": "python",
   "name": "python3"
  },
  "language_info": {
   "codemirror_mode": {
    "name": "ipython",
    "version": 3
   },
   "file_extension": ".py",
   "mimetype": "text/x-python",
   "name": "python",
   "nbconvert_exporter": "python",
   "pygments_lexer": "ipython3",
   "version": "3.12.4"
  }
 },
 "nbformat": 4,
 "nbformat_minor": 5
}
