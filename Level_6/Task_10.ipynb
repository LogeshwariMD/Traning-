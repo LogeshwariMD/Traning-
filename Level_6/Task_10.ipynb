{
 "cells": [
  {
   "cell_type": "markdown",
   "id": "a599d470-d795-43be-8cf6-7220e9b884d1",
   "metadata": {},
   "source": [
    "Task 10: IQR, Box Plot and Outlier Detection"
   ]
  },
  {
   "cell_type": "code",
   "execution_count": 1,
   "id": "1809f9f6-b74d-48dd-8f7e-ead62651fee9",
   "metadata": {},
   "outputs": [],
   "source": [
    "import numpy as np\n",
    "import matplotlib.pyplot as plt\n",
    "import seaborn as sns"
   ]
  },
  {
   "cell_type": "code",
   "execution_count": 2,
   "id": "40d38ff4-8cd7-4bcf-8431-aa61113ea921",
   "metadata": {},
   "outputs": [],
   "source": [
    "data = [1, 2, 3, 4, 5, 6, 7, 8, 9, 20]"
   ]
  },
  {
   "cell_type": "code",
   "execution_count": 3,
   "id": "6d27d47a-ed78-468c-89be-8a94c727c046",
   "metadata": {},
   "outputs": [],
   "source": [
    "Q1 = np.percentile(data, 25)\n",
    "Q3 = np.percentile(data, 75)\n",
    "IQR = Q3 - Q1"
   ]
  },
  {
   "cell_type": "code",
   "execution_count": 4,
   "id": "edbc4d55-a556-48f6-8b85-23334542e62f",
   "metadata": {},
   "outputs": [],
   "source": [
    "lower_bound = Q1 - 1.5 * IQR\n",
    "upper_bound = Q3 + 1.5 * IQR"
   ]
  },
  {
   "cell_type": "code",
   "execution_count": 5,
   "id": "07ac757c-ff64-4b6f-ae12-ca076a102f76",
   "metadata": {},
   "outputs": [],
   "source": [
    "outliers = [x for x in data if x < lower_bound or x > upper_bound]"
   ]
  },
  {
   "cell_type": "code",
   "execution_count": 6,
   "id": "157e2f6f-a60b-4ca5-bfca-5afb38073447",
   "metadata": {},
   "outputs": [
    {
     "name": "stdout",
     "output_type": "stream",
     "text": [
      "IQR: 4.5\n",
      "Lower Bound: -3.5, Upper Bound: 14.5\n",
      "Outliers: [20]\n"
     ]
    }
   ],
   "source": [
    "print(f\"IQR: {IQR}\")\n",
    "print(f\"Lower Bound: {lower_bound}, Upper Bound: {upper_bound}\")\n",
    "print(f\"Outliers: {outliers}\")"
   ]
  },
  {
   "cell_type": "code",
   "execution_count": 7,
   "id": "417b98d3-2a8e-4bde-a202-06601126430d",
   "metadata": {},
   "outputs": [
    {
     "data": {
      "image/png": "[encoded data removed]",
      "text/plain": [
       "<Figure size 600x400 with 1 Axes>"
      ]
     },
     "metadata": {},
     "output_type": "display_data"
    }
   ],
   "source": [
    "plt.figure(figsize=(6,4))\n",
    "sns.boxplot(data, color='lightblue')\n",
    "plt.title(\"Box Plot for Outlier Detection\")\n",
    "plt.show()"
   ]
  },
  {
   "cell_type": "code",
   "execution_count": null,
   "id": "c10b822e-4337-4b5b-a96f-a547e9fc4866",
   "metadata": {},
   "outputs": [],
   "source": []
  }
 ],
 "metadata": {
  "kernelspec": {
   "display_name": "Python 3 (ipykernel)",
   "language": "python",
   "name": "python3"
  },
  "language_info": {
   "codemirror_mode": {
    "name": "ipython",
    "version": 3
   },
   "file_extension": ".py",
   "mimetype": "text/x-python",
   "name": "python",
   "nbconvert_exporter": "python",
   "pygments_lexer": "ipython3",
   "version": "3.12.4"
  }
 },
 "nbformat": 4,
 "nbformat_minor": 5
}
