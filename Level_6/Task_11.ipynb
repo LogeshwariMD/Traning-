{
 "cells": [
  {
   "cell_type": "markdown",
   "id": "a74ac327-30cd-49a6-803e-df65dc3fb555",
   "metadata": {},
   "source": [
    " Task 11: Outlier Detection with Z-Score"
   ]
  },
  {
   "cell_type": "code",
   "execution_count": 2,
   "id": "3f68fd63-3db8-4c9d-afce-2ff44ea4c893",
   "metadata": {},
   "outputs": [],
   "source": [
    "import numpy as np"
   ]
  },
  {
   "cell_type": "code",
   "execution_count": 3,
   "id": "946dafa7-9da5-4368-9900-bfff051a3e1c",
   "metadata": {},
   "outputs": [],
   "source": [
    "data = [1, 2, 3, 4, 5, 6, 7, 8, 9, 20]"
   ]
  },
  {
   "cell_type": "code",
   "execution_count": 4,
   "id": "5fab9774-389a-46a8-9390-16f48fcf0b16",
   "metadata": {},
   "outputs": [],
   "source": [
    "mean = np.mean(data)\n",
    "std_dev = np.std(data)"
   ]
  },
  {
   "cell_type": "code",
   "execution_count": 5,
   "id": "13b20b97-1ef3-4469-80e7-b7a794a5d93c",
   "metadata": {},
   "outputs": [],
   "source": [
    "z_scores = [(x - mean) / std_dev for x in data]"
   ]
  },
  {
   "cell_type": "code",
   "execution_count": 6,
   "id": "102b31ef-0e03-449c-9882-e198bbe390b0",
   "metadata": {},
   "outputs": [],
   "source": [
    "outliers = [data[i] for i in range(len(data)) if abs(z_scores[i]) > 3]"
   ]
  },
  {
   "cell_type": "code",
   "execution_count": 7,
   "id": "df6c23cc-9bfa-4418-ae3b-55e9c382dd51",
   "metadata": {},
   "outputs": [
    {
     "name": "stdout",
     "output_type": "stream",
     "text": [
      "Mean: 6.50, Standard Deviation: 5.12\n",
      "Z-Scores: [-1.07, -0.88, -0.68, -0.49, -0.29, -0.1, 0.1, 0.29, 0.49, 2.63]\n",
      "No outliers detected; all z-scores are below 3.\n"
     ]
    }
   ],
   "source": [
    "print(f\"Mean: {mean:.2f}, Standard Deviation: {std_dev:.2f}\")\n",
    "print(\"Z-Scores:\", [round(z, 2) for z in z_scores])\n",
    "print(f\"Outliers: {outliers}\" if outliers else \"No outliers detected; all z-scores are below 3.\")"
   ]
  },
  {
   "cell_type": "code",
   "execution_count": null,
   "id": "b799a814-5aa2-4570-9c83-b05cd265ec17",
   "metadata": {},
   "outputs": [],
   "source": []
  }
 ],
 "metadata": {
  "kernelspec": {
   "display_name": "Python 3 (ipykernel)",
   "language": "python",
   "name": "python3"
  },
  "language_info": {
   "codemirror_mode": {
    "name": "ipython",
    "version": 3
   },
   "file_extension": ".py",
   "mimetype": "text/x-python",
   "name": "python",
   "nbconvert_exporter": "python",
   "pygments_lexer": "ipython3",
   "version": "3.12.4"
  }
 },
 "nbformat": 4,
 "nbformat_minor": 5
}
