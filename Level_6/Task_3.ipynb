{
 "cells": [
  {
   "cell_type": "markdown",
   "id": "08017a65-44b6-4848-90af-b0b57978bea1",
   "metadata": {},
   "source": [
    "Task 3: Population vs. Sample"
   ]
  },
  {
   "cell_type": "code",
   "execution_count": 6,
   "id": "5efcf686-47e4-48e0-ba21-1819a26e7d81",
   "metadata": {},
   "outputs": [],
   "source": [
    "def identify_population_sample(total_population, surveyed_sample):\n",
    "    identification = {\n",
    "        'Population': total_population,\n",
    "        'Sample': surveyed_sample\n",
    "    }\n",
    "    return identification"
   ]
  },
  {
   "cell_type": "code",
   "execution_count": 7,
   "id": "2dbaa4c9-4b9a-4db0-8b20-9eb29de92d31",
   "metadata": {},
   "outputs": [],
   "source": [
    "population = \"All families in the city\""
   ]
  },
  {
   "cell_type": "code",
   "execution_count": 8,
   "id": "f748d607-6c58-4951-9b9a-c673470bab67",
   "metadata": {},
   "outputs": [],
   "source": [
    "sample = \"100 surveyed households\""
   ]
  },
  {
   "cell_type": "code",
   "execution_count": 9,
   "id": "371480fb-9e40-488f-9a84-cab2b3597537",
   "metadata": {},
   "outputs": [],
   "source": [
    "result = identify_population_sample(population, sample)"
   ]
  },
  {
   "cell_type": "code",
   "execution_count": 10,
   "id": "3131e670-3b03-4145-b466-9b1f5292746e",
   "metadata": {},
   "outputs": [
    {
     "name": "stdout",
     "output_type": "stream",
     "text": [
      "\n",
      "Population vs. Sample Classification:\n",
      "Population: All families in the city\n",
      "Sample: 100 surveyed households\n"
     ]
    }
   ],
   "source": [
    "print(\"\\nPopulation vs. Sample Classification:\")\n",
    "for key, value in result.items():\n",
    "    print(f\"{key}: {value}\")\n"
   ]
  },
  {
   "cell_type": "code",
   "execution_count": null,
   "id": "3077493e-83e1-4a12-86b5-925a84e5a490",
   "metadata": {},
   "outputs": [],
   "source": []
  },
  {
   "cell_type": "code",
   "execution_count": null,
   "id": "4ccf925b-b60e-49f7-ad02-7f3446854604",
   "metadata": {},
   "outputs": [],
   "source": []
  }
 ],
 "metadata": {
  "kernelspec": {
   "display_name": "Python 3 (ipykernel)",
   "language": "python",
   "name": "python3"
  },
  "language_info": {
   "codemirror_mode": {
    "name": "ipython",
    "version": 3
   },
   "file_extension": ".py",
   "mimetype": "text/x-python",
   "name": "python",
   "nbconvert_exporter": "python",
   "pygments_lexer": "ipython3",
   "version": "3.12.4"
  }
 },
 "nbformat": 4,
 "nbformat_minor": 5
}
