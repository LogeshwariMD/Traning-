{
 "cells": [
  {
   "cell_type": "markdown",
   "id": "409a28e6-1e6b-437b-bf51-a0333cb8a6a3",
   "metadata": {},
   "source": [
    "Task 4: Measures of Central Tendency"
   ]
  },
  {
   "cell_type": "code",
   "execution_count": 6,
   "id": "5e41c266-b684-437e-87b9-cae9372c5184",
   "metadata": {},
   "outputs": [],
   "source": [
    "import numpy as np\n",
    "from scipy import stats"
   ]
  },
  {
   "cell_type": "code",
   "execution_count": 7,
   "id": "caf18215-392b-4907-a167-bdb0ca4475ff",
   "metadata": {},
   "outputs": [],
   "source": [
    "data = [3, 5, 5, 6, 7, 100]"
   ]
  },
  {
   "cell_type": "code",
   "execution_count": 8,
   "id": "a7285cfb-c5b9-4066-8a2a-870ad1c1b001",
   "metadata": {},
   "outputs": [],
   "source": [
    "mean_value = np.mean(data)\n",
    "median_value = np.median(data)\n",
    "mode_value = stats.mode(data, keepdims=True)[0][0]  \n"
   ]
  },
  {
   "cell_type": "code",
   "execution_count": 9,
   "id": "fdee320f-0040-4b7f-b4a0-57703617877a",
   "metadata": {},
   "outputs": [
    {
     "name": "stdout",
     "output_type": "stream",
     "text": [
      "Mean: 21.00\n",
      "Median: 5.5\n",
      "Mode: 5\n"
     ]
    }
   ],
   "source": [
    "print(f\"Mean: {mean_value:.2f}\")\n",
    "print(f\"Median: {median_value}\")\n",
    "print(f\"Mode: {mode_value}\")"
   ]
  },
  {
   "cell_type": "code",
   "execution_count": 10,
   "id": "f7a40a29-0fe4-41d3-958f-846bdeb8637d",
   "metadata": {},
   "outputs": [
    {
     "name": "stdout",
     "output_type": "stream",
     "text": [
      "\n",
      "Interpretation:\n",
      "The mean is much higher (21) due to the outlier 100.\n",
      "The median (5.5) and mode (5) better represent the typical data values.\n"
     ]
    }
   ],
   "source": [
    "print(\"\\nInterpretation:\")\n",
    "print(\"The mean is much higher (21) due to the outlier 100.\")\n",
    "print(\"The median (5.5) and mode (5) better represent the typical data values.\")"
   ]
  },
  {
   "cell_type": "code",
   "execution_count": null,
   "id": "66ce9fbf-f315-4f7a-b5ca-722fab9250cf",
   "metadata": {},
   "outputs": [],
   "source": []
  }
 ],
 "metadata": {
  "kernelspec": {
   "display_name": "Python 3 (ipykernel)",
   "language": "python",
   "name": "python3"
  },
  "language_info": {
   "codemirror_mode": {
    "name": "ipython",
    "version": 3
   },
   "file_extension": ".py",
   "mimetype": "text/x-python",
   "name": "python",
   "nbconvert_exporter": "python",
   "pygments_lexer": "ipython3",
   "version": "3.12.4"
  }
 },
 "nbformat": 4,
 "nbformat_minor": 5
}
