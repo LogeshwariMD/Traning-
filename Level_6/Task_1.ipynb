{
 "cells": [
  {
   "cell_type": "markdown",
   "id": "f2a71087-0f1f-4318-9ac6-a00976aad8a0",
   "metadata": {},
   "source": [
    "Task 1: Types of Statistics"
   ]
  },
  {
   "cell_type": "code",
   "execution_count": 1,
   "id": "0c970e55-e1f1-44b2-90b9-68279fbc5616",
   "metadata": {},
   "outputs": [],
   "source": [
    "import numpy as np\n",
    "import scipy.stats as stats"
   ]
  },
  {
   "cell_type": "code",
   "execution_count": 2,
   "id": "e5fb9bf4-4e06-4f0c-a37d-7c59ab0b1c36",
   "metadata": {},
   "outputs": [],
   "source": [
    "test_scores = [85, 90, 78, 92, 88, 76, 95, 89, 84, 91]"
   ]
  },
  {
   "cell_type": "code",
   "execution_count": 3,
   "id": "a927bfcc-76c9-4020-9b46-37cc8b9a4c26",
   "metadata": {},
   "outputs": [],
   "source": [
    "mean_score = np.mean(test_scores)\n",
    "median_score = np.median(test_scores)\n",
    "std_dev = np.std(test_scores)"
   ]
  },
  {
   "cell_type": "code",
   "execution_count": 4,
   "id": "6ed8d562-0607-4196-949a-76e6e2205ba9",
   "metadata": {},
   "outputs": [
    {
     "name": "stdout",
     "output_type": "stream",
     "text": [
      "Descriptive Statistics:\n",
      "Mean Test Score: 86.80\n",
      "Median Test Score: 88.5\n",
      "Standard Deviation: 5.78\n"
     ]
    }
   ],
   "source": [
    "print(f\"Descriptive Statistics:\")\n",
    "print(f\"Mean Test Score: {mean_score:.2f}\")\n",
    "print(f\"Median Test Score: {median_score}\")\n",
    "print(f\"Standard Deviation: {std_dev:.2f}\")\n"
   ]
  },
  {
   "cell_type": "code",
   "execution_count": 5,
   "id": "71a9b58d-f5dc-4ee6-884f-a19c3000b342",
   "metadata": {},
   "outputs": [],
   "source": [
    "confidence_level = 0.95\n",
    "sample_size = len(test_scores)\n",
    "standard_error = stats.sem(test_scores)  \n",
    "margin_of_error = standard_error * stats.t.ppf((1 + confidence_level) / 2, sample_size - 1)"
   ]
  },
  {
   "cell_type": "code",
   "execution_count": 6,
   "id": "ee440ec2-8c5e-4266-b6c1-c67fee65c369",
   "metadata": {},
   "outputs": [],
   "source": [
    "lower_bound = mean_score - margin_of_error\n",
    "upper_bound = mean_score + margin_of_error"
   ]
  },
  {
   "cell_type": "code",
   "execution_count": 7,
   "id": "e2aee9bb-76dd-4746-9f28-0c4b0a16d32c",
   "metadata": {},
   "outputs": [
    {
     "name": "stdout",
     "output_type": "stream",
     "text": [
      "\n",
      "Inferential Statistics:\n",
      "95% Confidence Interval for Population Mean: (82.44, 91.16)\n",
      "This means we are 95% confident that the true average test score is within this range.\n"
     ]
    }
   ],
   "source": [
    "print(\"\\nInferential Statistics:\")\n",
    "print(f\"95% Confidence Interval for Population Mean: ({lower_bound:.2f}, {upper_bound:.2f})\")\n",
    "print(\"This means we are 95% confident that the true average test score is within this range.\")\n"
   ]
  },
  {
   "cell_type": "code",
   "execution_count": null,
   "id": "08e97ed7-203c-443e-bd89-4eaf8333e98a",
   "metadata": {},
   "outputs": [],
   "source": []
  }
 ],
 "metadata": {
  "kernelspec": {
   "display_name": "Python 3 (ipykernel)",
   "language": "python",
   "name": "python3"
  },
  "language_info": {
   "codemirror_mode": {
    "name": "ipython",
    "version": 3
   },
   "file_extension": ".py",
   "mimetype": "text/x-python",
   "name": "python",
   "nbconvert_exporter": "python",
   "pygments_lexer": "ipython3",
   "version": "3.12.4"
  }
 },
 "nbformat": 4,
 "nbformat_minor": 5
}
