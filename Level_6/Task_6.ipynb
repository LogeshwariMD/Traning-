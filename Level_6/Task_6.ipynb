{
 "cells": [
  {
   "cell_type": "markdown",
   "id": "5a05bfc8-f384-48ad-a6e3-323367197132",
   "metadata": {},
   "source": [
    "Task 6: Measures of Dispersion"
   ]
  },
  {
   "cell_type": "code",
   "execution_count": 1,
   "id": "7d506d07-3b3c-4ebc-b213-4ea42984a25a",
   "metadata": {},
   "outputs": [],
   "source": [
    "import numpy as np"
   ]
  },
  {
   "cell_type": "code",
   "execution_count": 2,
   "id": "cb3163eb-48ea-42b3-9452-13b234c5c09c",
   "metadata": {},
   "outputs": [],
   "source": [
    "data = [2, 4, 6, 8, 10]"
   ]
  },
  {
   "cell_type": "code",
   "execution_count": 3,
   "id": "cdec5ab9-3bab-49d8-a08f-fc9043fbb27e",
   "metadata": {},
   "outputs": [],
   "source": [
    "variance = np.var(data)  \n",
    "std_dev = np.std(data)"
   ]
  },
  {
   "cell_type": "code",
   "execution_count": 4,
   "id": "51bf8df8-f2a0-4a83-a9f5-0b0930a6d56f",
   "metadata": {},
   "outputs": [
    {
     "name": "stdout",
     "output_type": "stream",
     "text": [
      "Variance: 8.000\n",
      "Standard Deviation: 2.828\n"
     ]
    }
   ],
   "source": [
    "print(f\"Variance: {variance:.3f}\")\n",
    "print(f\"Standard Deviation: {std_dev:.3f}\")\n"
   ]
  },
  {
   "cell_type": "code",
   "execution_count": 5,
   "id": "520dcd3e-b4f9-47a2-ad50-12e63afe4dd9",
   "metadata": {},
   "outputs": [
    {
     "name": "stdout",
     "output_type": "stream",
     "text": [
      "\n",
      "Interpretation:\n",
      "Variance measures how spread out the data is (8).\n",
      "Standard deviation (≈ 2.828) shows the typical deviation from the mean (6).\n"
     ]
    }
   ],
   "source": [
    "print(\"\\nInterpretation:\")\n",
    "print(\"Variance measures how spread out the data is (8).\")\n",
    "print(\"Standard deviation (≈ 2.828) shows the typical deviation from the mean (6).\")"
   ]
  },
  {
   "cell_type": "code",
   "execution_count": null,
   "id": "07dffd81-644f-4682-81c5-155eb9b86c7f",
   "metadata": {},
   "outputs": [],
   "source": []
  }
 ],
 "metadata": {
  "kernelspec": {
   "display_name": "Python 3 (ipykernel)",
   "language": "python",
   "name": "python3"
  },
  "language_info": {
   "codemirror_mode": {
    "name": "ipython",
    "version": 3
   },
   "file_extension": ".py",
   "mimetype": "text/x-python",
   "name": "python",
   "nbconvert_exporter": "python",
   "pygments_lexer": "ipython3",
   "version": "3.12.4"
  }
 },
 "nbformat": 4,
 "nbformat_minor": 5
}
