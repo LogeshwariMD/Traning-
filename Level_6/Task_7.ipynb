{
 "cells": [
  {
   "cell_type": "markdown",
   "id": "f4ab939d-f427-45d9-b8e2-065f0ed961a5",
   "metadata": {},
   "source": [
    "Task 7: Z-Score Calculation"
   ]
  },
  {
   "cell_type": "code",
   "execution_count": 1,
   "id": "12c081a0-ae88-45c0-a1bd-6bfb4d1a53e0",
   "metadata": {},
   "outputs": [],
   "source": [
    "import numpy as np"
   ]
  },
  {
   "cell_type": "code",
   "execution_count": 2,
   "id": "3c551c2f-3ade-4972-b1b5-d25d5f10e233",
   "metadata": {},
   "outputs": [],
   "source": [
    "data = np.array([2, 3, 4, 5, 6, 7])"
   ]
  },
  {
   "cell_type": "code",
   "execution_count": 3,
   "id": "8733d005-b652-4886-8e7c-30df3dbcb7ca",
   "metadata": {},
   "outputs": [],
   "source": [
    "mean = np.mean(data)\n",
    "std_dev = np.std(data, ddof=0)"
   ]
  },
  {
   "cell_type": "code",
   "execution_count": 4,
   "id": "0e2f242e-2b16-4f74-a750-db8564f9113f",
   "metadata": {},
   "outputs": [],
   "source": [
    "z_scores = (data - mean) / std_dev"
   ]
  },
  {
   "cell_type": "code",
   "execution_count": 5,
   "id": "5b478775-5e63-4de2-9081-2e139ea1e794",
   "metadata": {},
   "outputs": [
    {
     "name": "stdout",
     "output_type": "stream",
     "text": [
      "Z-Scores: [-1.46385011 -0.87831007 -0.29277002  0.29277002  0.87831007  1.46385011]\n",
      "\n",
      "The z-score for 5 is 0.29, meaning it's 0.29 standard deviations above the mean.\n"
     ]
    }
   ],
   "source": [
    "print(f\"Z-Scores: {z_scores}\")\n",
    "print(f\"\\nThe z-score for 5 is {z_scores[3]:.2f}, meaning it's {z_scores[3]:.2f} standard deviations above the mean.\")"
   ]
  },
  {
   "cell_type": "code",
   "execution_count": null,
   "id": "4ca0f330-3073-4a2e-9acd-42f98b850f68",
   "metadata": {},
   "outputs": [],
   "source": []
  }
 ],
 "metadata": {
  "kernelspec": {
   "display_name": "Python 3 (ipykernel)",
   "language": "python",
   "name": "python3"
  },
  "language_info": {
   "codemirror_mode": {
    "name": "ipython",
    "version": 3
   },
   "file_extension": ".py",
   "mimetype": "text/x-python",
   "name": "python",
   "nbconvert_exporter": "python",
   "pygments_lexer": "ipython3",
   "version": "3.12.4"
  }
 },
 "nbformat": 4,
 "nbformat_minor": 5
}
