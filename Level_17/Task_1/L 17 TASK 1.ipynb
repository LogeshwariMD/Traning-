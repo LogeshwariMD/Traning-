{
 "cells": [
  {
   "cell_type": "code",
   "execution_count": 0,
   "metadata": {
    "application/vnd.databricks.v1+cell": {
     "cellMetadata": {
      "byteLimit": 2048000,
      "rowLimit": 10000
     },
     "inputWidgets": {},
     "nuid": "52417716-5b71-4cac-88d2-fdfb92227dc0",
     "showTitle": false,
     "tableResultSettingsMap": {},
     "title": ""
    }
   },
   "outputs": [
    {
     "output_type": "stream",
     "name": "stdout",
     "output_type": "stream",
     "text": [
      "+----+-----------+--------------------+--------+----------+--------------------+--------------------+-----------+-----------+--------------------+--------------+-----------+\n|year|series_type|         series_name|match_no|match_type|          match_name|          match_href|match_team1|match_team2|match_datetime_start|match_date_end|match_venue|\n+----+-----------+--------------------+--------+----------+--------------------+--------------------+-----------+-----------+--------------------+--------------+-----------+\n|2021|        T20|Indian Premier Le...|    null|    League|MUMBAI INDIANS vs...|https://www.cricb...|       null|       null|                null|          null|       null|\n|2021|        T20|Indian Premier Le...|    null|    League|CHENNAI SUPER KIN...|https://www.cricb...|       null|       null|                null|          null|       null|\n|2021|        T20|Indian Premier Le...|    null|    League|SUNRISERS HYDERAB...|https://www.cricb...|       null|       null|                null|          null|       null|\n|2021|        T20|Indian Premier Le...|    null|    League|RAJASTHAN ROYALS ...|https://www.cricb...|       null|       null|                null|          null|       null|\n|2021|        T20|Indian Premier Le...|    null|    League|KOLKATA KNIGHT RI...|https://www.cricb...|       null|       null|                null|          null|       null|\n+----+-----------+--------------------+--------+----------+--------------------+--------------------+-----------+-----------+--------------------+--------------+-----------+\nonly showing top 5 rows\n\n"
     ]
    }
   ],
   "source": [
    "%python\n",
    "df = spark.read.option(\"header\", True).csv(\"/FileStore/tables/ipl_2021_matches.csv\")\n",
    "df.show(5)"
   ]
  },
  {
   "cell_type": "code",
   "execution_count": 0,
   "metadata": {
    "application/vnd.databricks.v1+cell": {
     "cellMetadata": {
      "byteLimit": 2048000,
      "rowLimit": 10000
     },
     "inputWidgets": {},
     "nuid": "b61f56ae-de5e-4a84-a1ea-0123b9672b6c",
     "showTitle": false,
     "tableResultSettingsMap": {},
     "title": ""
    }
   },
   "outputs": [
    {
     "output_type": "stream",
     "name": "stdout",
     "output_type": "stream",
     "text": [
      "+----------+----------+\n|match_date|match_time|\n+----------+----------+\n|2021-04-09|19:00:00  |\n|2021-04-10|19:30:00  |\n|2021-04-11|20:00:00  |\n|2021-04-12|20:30:00  |\n|2021-04-13|21:00:00  |\n|2021-04-14|21:30:00  |\n|2021-04-15|22:00:00  |\n|2021-04-16|22:30:00  |\n+----------+----------+\n\n"
     ]
    }
   ],
   "source": [
    "from pyspark.sql.functions import expr, col\n",
    "from pyspark.sql.types import StringType\n",
    "dates_df = spark.range(0, 20).withColumn(\"match_date\", expr(\"date_add(to_date('2021-04-09'), cast(id as int))\"))\n",
    "times = [f\"{hour:02d}:{minute:02d}:00\" for hour in range(19, 23) for minute in (0, 30)]\n",
    "times_df = spark.createDataFrame(times[:20], StringType()).toDF(\"match_time\")\n",
    "from pyspark.sql.functions import monotonically_increasing_id, row_number\n",
    "from pyspark.sql.window import Window\n",
    "dates_df = dates_df.withColumn(\"row_num\", row_number().over(Window.orderBy(\"match_date\")))\n",
    "times_df = times_df.withColumn(\"row_num\", row_number().over(Window.orderBy(\"match_time\")))\n",
    "unique_date_time_df = dates_df.join(times_df, on=\"row_num\").select(\"match_date\", \"match_time\")\n",
    "unique_date_time_df.show(20, truncate=False)\n"
   ]
  },
  {
   "cell_type": "code",
   "execution_count": 0,
   "metadata": {
    "application/vnd.databricks.v1+cell": {
     "cellMetadata": {
      "byteLimit": 2048000,
      "rowLimit": 10000
     },
     "inputWidgets": {},
     "nuid": "b8a45969-2a8e-4f31-afda-63cda28557c8",
     "showTitle": false,
     "tableResultSettingsMap": {},
     "title": ""
    }
   },
   "outputs": [],
   "source": [
    "from pyspark.sql.functions import concat_ws\n",
    "unique_date_time_df = unique_date_time_df.withColumn(\n",
    "    \"matchdatetime\", concat_ws(\" \", \"match_date\", \"match_time\")\n",
    ")"
   ]
  },
  {
   "cell_type": "code",
   "execution_count": 0,
   "metadata": {
    "application/vnd.databricks.v1+cell": {
     "cellMetadata": {
      "byteLimit": 2048000,
      "rowLimit": 10000
     },
     "inputWidgets": {},
     "nuid": "b9d998c8-07ba-4f7c-8fda-fa85745dc0b8",
     "showTitle": false,
     "tableResultSettingsMap": {},
     "title": ""
    }
   },
   "outputs": [
    {
     "output_type": "stream",
     "name": "stdout",
     "output_type": "stream",
     "text": [
      "+-------------------+----------+----------+\n|matchdatetime      |match_date|match_time|\n+-------------------+----------+----------+\n|2021-04-09 19:00:00|2021-04-09|19:00:00  |\n|2021-04-10 19:30:00|2021-04-10|19:30:00  |\n|2021-04-11 20:00:00|2021-04-11|20:00:00  |\n|2021-04-12 20:30:00|2021-04-12|20:30:00  |\n|2021-04-13 21:00:00|2021-04-13|21:00:00  |\n|2021-04-14 21:30:00|2021-04-14|21:30:00  |\n|2021-04-15 22:00:00|2021-04-15|22:00:00  |\n|2021-04-16 22:30:00|2021-04-16|22:30:00  |\n+-------------------+----------+----------+\n\n"
     ]
    }
   ],
   "source": [
    "unique_date_time_df.select(\"matchdatetime\", \"match_date\", \"match_time\").show(20, truncate=False)\n"
   ]
  },
  {
   "cell_type": "code",
   "execution_count": 0,
   "metadata": {
    "application/vnd.databricks.v1+cell": {
     "cellMetadata": {
      "byteLimit": 2048000,
      "rowLimit": 10000
     },
     "inputWidgets": {},
     "nuid": "b1b42c29-2374-4184-b210-6aed00f755ae",
     "showTitle": false,
     "tableResultSettingsMap": {},
     "title": ""
    }
   },
   "outputs": [],
   "source": [
    "unique_date_time_df.write.mode(\"overwrite\").option(\"header\", \"true\").csv(\"dbfs:/FileStore/tables/match_datetime_full.csv\")\n"
   ]
  },
  {
   "cell_type": "code",
   "execution_count": 0,
   "metadata": {
    "application/vnd.databricks.v1+cell": {
     "cellMetadata": {
      "byteLimit": 2048000,
      "rowLimit": 10000
     },
     "inputWidgets": {},
     "nuid": "5601ac43-28fc-4f87-a018-a1bdfa55070c",
     "showTitle": false,
     "tableResultSettingsMap": {},
     "title": ""
    }
   },
   "outputs": [],
   "source": [
    "from pyspark.sql.functions import col, to_date, date_format, hour, minute, second"
   ]
  },
  {
   "cell_type": "code",
   "execution_count": 0,
   "metadata": {
    "application/vnd.databricks.v1+cell": {
     "cellMetadata": {
      "byteLimit": 2048000,
      "rowLimit": 10000
     },
     "inputWidgets": {},
     "nuid": "514b1867-7850-4b87-a26d-8cf77ad23503",
     "showTitle": false,
     "tableResultSettingsMap": {},
     "title": ""
    }
   },
   "outputs": [],
   "source": [
    "df = df.withColumn(\"matchdate\", to_date(col(\"matchdatetime\"))) \\\n",
    "       .withColumn(\"matchtime\", date_format(col(\"matchdatetime\"), \"HH:mm:ss\"))"
   ]
  },
  {
   "cell_type": "code",
   "execution_count": 0,
   "metadata": {
    "application/vnd.databricks.v1+cell": {
     "cellMetadata": {
      "byteLimit": 2048000,
      "rowLimit": 10000
     },
     "inputWidgets": {},
     "nuid": "31365341-6f55-46b5-8936-959eeb976b94",
     "showTitle": false,
     "tableResultSettingsMap": {},
     "title": ""
    }
   },
   "outputs": [],
   "source": [
    "df = df.withColumn(\"matchname\", col(\"match_name\"))"
   ]
  },
  {
   "cell_type": "code",
   "execution_count": 0,
   "metadata": {
    "application/vnd.databricks.v1+cell": {
     "cellMetadata": {
      "byteLimit": 2048000,
      "rowLimit": 10000
     },
     "inputWidgets": {},
     "nuid": "9e3daa06-6bf1-4d28-9de1-0c3013cf14b0",
     "showTitle": false,
     "tableResultSettingsMap": {},
     "title": ""
    }
   },
   "outputs": [
    {
     "output_type": "stream",
     "name": "stdout",
     "output_type": "stream",
     "text": [
      "+----------------------------------------------------------------+----------+---------+\n|matchname                                                       |matchdate |matchtime|\n+----------------------------------------------------------------+----------+---------+\n|MUMBAI INDIANS vs ROYAL CHALLENGERS BENGALURU, 1st Match        |2021-04-09|19:30:00 |\n|CHENNAI SUPER KINGS vs DELHI CAPITALS, 2nd Match                |2021-04-09|19:30:00 |\n|SUNRISERS HYDERABAD vs KOLKATA KNIGHT RIDERS, 3rd Match         |2021-04-09|19:30:00 |\n|RAJASTHAN ROYALS vs PUNJAB KINGS, 4th Match                     |2021-04-09|19:30:00 |\n|KOLKATA KNIGHT RIDERS vs MUMBAI INDIANS, 5th Match              |2021-04-09|19:30:00 |\n|SUNRISERS HYDERABAD vs ROYAL CHALLENGERS BENGALURU, 6th Match   |2021-04-09|19:30:00 |\n|RAJASTHAN ROYALS vs DELHI CAPITALS, 7th Match                   |2021-04-09|19:30:00 |\n|PUNJAB KINGS vs CHENNAI SUPER KINGS, 8th Match                  |2021-04-09|19:30:00 |\n|MUMBAI INDIANS vs SUNRISERS HYDERABAD, 9th Match                |2021-04-09|19:30:00 |\n|ROYAL CHALLENGERS BENGALURU vs KOLKATA KNIGHT RIDERS, 10th Match|2021-04-09|19:30:00 |\n|DELHI CAPITALS vs PUNJAB KINGS, 11th Match                      |2021-04-09|19:30:00 |\n|CHENNAI SUPER KINGS vs RAJASTHAN ROYALS, 12th Match             |2021-04-09|19:30:00 |\n|DELHI CAPITALS vs MUMBAI INDIANS, 13th Match                    |2021-04-09|19:30:00 |\n|PUNJAB KINGS vs SUNRISERS HYDERABAD, 14th Match                 |2021-04-09|19:30:00 |\n|KOLKATA KNIGHT RIDERS vs CHENNAI SUPER KINGS, 15th Match        |2021-04-09|19:30:00 |\n|ROYAL CHALLENGERS BENGALURU vs RAJASTHAN ROYALS, 16th Match     |2021-04-09|19:30:00 |\n|PUNJAB KINGS vs MUMBAI INDIANS, 17th Match                      |2021-04-09|19:30:00 |\n|RAJASTHAN ROYALS vs KOLKATA KNIGHT RIDERS, 18th Match           |2021-04-09|19:30:00 |\n|CHENNAI SUPER KINGS vs ROYAL CHALLENGERS BENGALURU, 19th Match  |2021-04-09|19:30:00 |\n|SUNRISERS HYDERABAD vs DELHI CAPITALS, 20th Match               |2021-04-09|19:30:00 |\n+----------------------------------------------------------------+----------+---------+\nonly showing top 20 rows\n\n"
     ]
    }
   ],
   "source": [
    "df.select(\"matchname\", \"matchdate\", \"matchtime\").show(20, truncate=False)\n"
   ]
  },
  {
   "cell_type": "code",
   "execution_count": 0,
   "metadata": {
    "application/vnd.databricks.v1+cell": {
     "cellMetadata": {
      "byteLimit": 2048000,
      "rowLimit": 10000
     },
     "inputWidgets": {},
     "nuid": "001f971d-b517-4711-a98e-51f0d2638c00",
     "showTitle": false,
     "tableResultSettingsMap": {},
     "title": ""
    }
   },
   "outputs": [],
   "source": [
    "df.write.mode(\"overwrite\").option(\"header\", \"true\").csv(\"dbfs:/FileStore/tables/match_details.csv\")\n"
   ]
  }
 ],
 "metadata": {
  "application/vnd.databricks.v1+notebook": {
   "computePreferences": null,
   "dashboards": [],
   "environmentMetadata": {
    "base_environment": "",
    "environment_version": "1"
   },
   "inputWidgetPreferences": null,
   "language": "python",
   "notebookMetadata": {
    "pythonIndentUnit": 4
   },
   "notebookName": "L17 TASK 1",
   "widgets": {}
  }
 },
 "nbformat": 4,
 "nbformat_minor": 0
}