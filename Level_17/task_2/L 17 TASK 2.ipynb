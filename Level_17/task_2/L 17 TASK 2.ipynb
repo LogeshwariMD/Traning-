{
 "cells": [
  {
   "cell_type": "code",
   "execution_count": 0,
   "metadata": {
    "application/vnd.databricks.v1+cell": {
     "cellMetadata": {
      "byteLimit": 2048000,
      "rowLimit": 10000
     },
     "inputWidgets": {},
     "nuid": "aff48938-b1a1-43b0-9688-605543ceb5b1",
     "showTitle": false,
     "tableResultSettingsMap": {},
     "title": ""
    }
   },
   "outputs": [
    {
     "name": "stdout",
     "output_type": "stream",
     "text": [
      "Out[4]: [FileInfo(path='dbfs:/FileStore/tables/cell_phone.xlsx', name='cell_phone.xlsx', size=297905, modificationTime=1740663046000),\n",
      " FileInfo(path='dbfs:/FileStore/tables/cell_phones-1.csv', name='cell_phones-1.csv', size=43927, modificationTime=1740667679000),\n",
      " FileInfo(path='dbfs:/FileStore/tables/cell_phones-2.csv', name='cell_phones-2.csv', size=43927, modificationTime=1740667926000),\n",
      " FileInfo(path='dbfs:/FileStore/tables/cell_phones-3.csv', name='cell_phones-3.csv', size=43927, modificationTime=1740717554000),\n",
      " FileInfo(path='dbfs:/FileStore/tables/cell_phones-4.csv', name='cell_phones-4.csv', size=43927, modificationTime=1740851516000),\n",
      " FileInfo(path='dbfs:/FileStore/tables/cell_phones.csv', name='cell_phones.csv', size=43927, modificationTime=1740650761000),\n",
      " FileInfo(path='dbfs:/FileStore/tables/cleaned_ipl_2021/', name='cleaned_ipl_2021/', size=0, modificationTime=0),\n",
      " FileInfo(path='dbfs:/FileStore/tables/final_cleaned_ipl_2021_matches.csv/', name='final_cleaned_ipl_2021_matches.csv/', size=0, modificationTime=0),\n",
      " FileInfo(path='dbfs:/FileStore/tables/final_cleaned_ipl_2021_matches_v2.csv/', name='final_cleaned_ipl_2021_matches_v2.csv/', size=0, modificationTime=0),\n",
      " FileInfo(path='dbfs:/FileStore/tables/final_ipl_2021_csv/', name='final_ipl_2021_csv/', size=0, modificationTime=0),\n",
      " FileInfo(path='dbfs:/FileStore/tables/ipl_2021_cleaned/', name='ipl_2021_cleaned/', size=0, modificationTime=0),\n",
      " FileInfo(path='dbfs:/FileStore/tables/ipl_2021_matches-1.csv', name='ipl_2021_matches-1.csv', size=12482, modificationTime=1744550038000),\n",
      " FileInfo(path='dbfs:/FileStore/tables/ipl_2021_matches-10.csv', name='ipl_2021_matches-10.csv', size=12482, modificationTime=1744646907000),\n",
      " FileInfo(path='dbfs:/FileStore/tables/ipl_2021_matches-11.csv', name='ipl_2021_matches-11.csv', size=12482, modificationTime=1744680388000),\n",
      " FileInfo(path='dbfs:/FileStore/tables/ipl_2021_matches-2.csv', name='ipl_2021_matches-2.csv', size=12482, modificationTime=1744550172000),\n",
      " FileInfo(path='dbfs:/FileStore/tables/ipl_2021_matches-3.csv', name='ipl_2021_matches-3.csv', size=12482, modificationTime=1744550284000),\n",
      " FileInfo(path='dbfs:/FileStore/tables/ipl_2021_matches-4.csv', name='ipl_2021_matches-4.csv', size=12482, modificationTime=1744550446000),\n",
      " FileInfo(path='dbfs:/FileStore/tables/ipl_2021_matches-5.csv', name='ipl_2021_matches-5.csv', size=12482, modificationTime=1744550977000),\n",
      " FileInfo(path='dbfs:/FileStore/tables/ipl_2021_matches-6.csv', name='ipl_2021_matches-6.csv', size=12482, modificationTime=1744592471000),\n",
      " FileInfo(path='dbfs:/FileStore/tables/ipl_2021_matches-7.csv', name='ipl_2021_matches-7.csv', size=12482, modificationTime=1744595707000),\n",
      " FileInfo(path='dbfs:/FileStore/tables/ipl_2021_matches-8.csv', name='ipl_2021_matches-8.csv', size=12482, modificationTime=1744599530000),\n",
      " FileInfo(path='dbfs:/FileStore/tables/ipl_2021_matches-9.csv', name='ipl_2021_matches-9.csv', size=12482, modificationTime=1744646828000),\n",
      " FileInfo(path='dbfs:/FileStore/tables/ipl_2021_matches.csv', name='ipl_2021_matches.csv', size=12482, modificationTime=1744549319000),\n",
      " FileInfo(path='dbfs:/FileStore/tables/ipl_2021_matches_cleaned.csv/', name='ipl_2021_matches_cleaned.csv/', size=0, modificationTime=0),\n",
      " FileInfo(path='dbfs:/FileStore/tables/ipl_2021_matches_cleaned_v2.csv/', name='ipl_2021_matches_cleaned_v2.csv/', size=0, modificationTime=0),\n",
      " FileInfo(path='dbfs:/FileStore/tables/match_date_time.csv/', name='match_date_time.csv/', size=0, modificationTime=0),\n",
      " FileInfo(path='dbfs:/FileStore/tables/match_datetime_full.csv/', name='match_datetime_full.csv/', size=0, modificationTime=0),\n",
      " FileInfo(path='dbfs:/FileStore/tables/match_details.csv/', name='match_details.csv/', size=0, modificationTime=0),\n",
      " FileInfo(path='dbfs:/FileStore/tables/pop-1.csv', name='pop-1.csv', size=335353, modificationTime=1740649112000),\n",
      " FileInfo(path='dbfs:/FileStore/tables/pop-2.csv', name='pop-2.csv', size=335353, modificationTime=1740649181000),\n",
      " FileInfo(path='dbfs:/FileStore/tables/pop-3.csv', name='pop-3.csv', size=335353, modificationTime=1740650598000),\n",
      " FileInfo(path='dbfs:/FileStore/tables/pop-4.csv', name='pop-4.csv', size=335353, modificationTime=1740662995000),\n",
      " FileInfo(path='dbfs:/FileStore/tables/pop-5.csv', name='pop-5.csv', size=335353, modificationTime=1740667632000),\n",
      " FileInfo(path='dbfs:/FileStore/tables/pop-6.csv', name='pop-6.csv', size=335353, modificationTime=1740667917000),\n",
      " FileInfo(path='dbfs:/FileStore/tables/pop-7.csv', name='pop-7.csv', size=335353, modificationTime=1740668298000),\n",
      " FileInfo(path='dbfs:/FileStore/tables/pop-8.csv', name='pop-8.csv', size=335353, modificationTime=1740717536000),\n",
      " FileInfo(path='dbfs:/FileStore/tables/pop-9.csv', name='pop-9.csv', size=335353, modificationTime=1740717656000),\n",
      " FileInfo(path='dbfs:/FileStore/tables/pop.csv', name='pop.csv', size=335353, modificationTime=1740648911000),\n",
      " FileInfo(path='dbfs:/FileStore/tables/pop.xlsx', name='pop.xlsx', size=2064226, modificationTime=1740851366000),\n",
      " FileInfo(path='dbfs:/FileStore/tables/population.csv', name='population.csv', size=335353, modificationTime=1740851840000)]"
     ]
    }
   ],
   "source": [
    "dbutils.fs.ls(\"dbfs:/FileStore/tables/\")\n"
   ]
  },
  {
   "cell_type": "code",
   "execution_count": 0,
   "metadata": {
    "application/vnd.databricks.v1+cell": {
     "cellMetadata": {
      "byteLimit": 2048000,
      "rowLimit": 10000
     },
     "inputWidgets": {},
     "nuid": "6d5818ab-b751-4a3b-82fe-e479fc2a6249",
     "showTitle": false,
     "tableResultSettingsMap": {},
     "title": ""
    }
   },
   "outputs": [],
   "source": [
    "\n",
    "ipl_matches_df = spark.read.option(\"header\", \"true\").csv(\"dbfs:/FileStore/tables/ipl_2021_matches.csv\")\n"
   ]
  },
  {
   "cell_type": "code",
   "execution_count": 0,
   "metadata": {
    "application/vnd.databricks.v1+cell": {
     "cellMetadata": {
      "byteLimit": 2048000,
      "rowLimit": 10000
     },
     "inputWidgets": {},
     "nuid": "04b079c7-9b17-4669-abce-b5cd23b786b3",
     "showTitle": false,
     "tableResultSettingsMap": {},
     "title": ""
    }
   },
   "outputs": [
    {
     "name": "stdout",
     "output_type": "stream",
     "text": [
      "+----+-----------+--------------------------+--------+----------+--------------------------------------------------------+---------------------------------------------------------------------------------------------+-----------+-----------+--------------------+--------------+-----------+\n",
      "|year|series_type|series_name               |match_no|match_type|match_name                                              |match_href                                                                                   |match_team1|match_team2|match_datetime_start|match_date_end|match_venue|\n",
      "+----+-----------+--------------------------+--------+----------+--------------------------------------------------------+---------------------------------------------------------------------------------------------+-----------+-----------+--------------------+--------------+-----------+\n",
      "|2021|T20        |Indian Premier League 2021|null    |League    |MUMBAI INDIANS vs ROYAL CHALLENGERS BENGALURU, 1st Match|https://www.cricbuzz.com/cricket-scores/35612/mi-vs-rcb-1st-match-indian-premier-league-2021 |null       |null       |null                |null          |null       |\n",
      "|2021|T20        |Indian Premier League 2021|null    |League    |CHENNAI SUPER KINGS vs DELHI CAPITALS, 2nd Match        |https://www.cricbuzz.com/cricket-scores/35617/csk-vs-dc-2nd-match-indian-premier-league-2021 |null       |null       |null                |null          |null       |\n",
      "|2021|T20        |Indian Premier League 2021|null    |League    |SUNRISERS HYDERABAD vs KOLKATA KNIGHT RIDERS, 3rd Match |https://www.cricbuzz.com/cricket-scores/35618/srh-vs-kkr-3rd-match-indian-premier-league-2021|null       |null       |null                |null          |null       |\n",
      "|2021|T20        |Indian Premier League 2021|null    |League    |RAJASTHAN ROYALS vs PUNJAB KINGS, 4th Match             |https://www.cricbuzz.com/cricket-scores/35622/rr-vs-pbks-4th-match-indian-premier-league-2021|null       |null       |null                |null          |null       |\n",
      "|2021|T20        |Indian Premier League 2021|null    |League    |KOLKATA KNIGHT RIDERS vs MUMBAI INDIANS, 5th Match      |https://www.cricbuzz.com/cricket-scores/35627/kkr-vs-mi-5th-match-indian-premier-league-2021 |null       |null       |null                |null          |null       |\n",
      "+----+-----------+--------------------------+--------+----------+--------------------------------------------------------+---------------------------------------------------------------------------------------------+-----------+-----------+--------------------+--------------+-----------+\n",
      "only showing top 5 rows\n",
      "\n"
     ]
    }
   ],
   "source": [
    "ipl_matches_df = spark.read.option(\"header\", \"true\").csv(\"dbfs:/FileStore/tables/ipl_2021_matches.csv\")\n",
    "ipl_matches_df.show(5, truncate=False)\n"
   ]
  },
  {
   "cell_type": "code",
   "execution_count": 0,
   "metadata": {
    "application/vnd.databricks.v1+cell": {
     "cellMetadata": {
      "byteLimit": 2048000,
      "rowLimit": 10000
     },
     "inputWidgets": {},
     "nuid": "4207379f-fd0b-49fe-af5f-c25107234e88",
     "showTitle": false,
     "tableResultSettingsMap": {},
     "title": ""
    }
   },
   "outputs": [],
   "source": [
    "from pyspark.sql.functions import lit"
   ]
  },
  {
   "cell_type": "code",
   "execution_count": 0,
   "metadata": {
    "application/vnd.databricks.v1+cell": {
     "cellMetadata": {
      "byteLimit": 2048000,
      "rowLimit": 10000
     },
     "inputWidgets": {},
     "nuid": "56a7568d-2ec8-4353-b391-e04d0355fc26",
     "showTitle": false,
     "tableResultSettingsMap": {},
     "title": ""
    }
   },
   "outputs": [],
   "source": [
    "ipl_matches_df = spark.read.option(\"header\", \"true\").csv(\"dbfs:/FileStore/tables/ipl_2021_matches.csv\")"
   ]
  },
  {
   "cell_type": "code",
   "execution_count": 0,
   "metadata": {
    "application/vnd.databricks.v1+cell": {
     "cellMetadata": {
      "byteLimit": 2048000,
      "rowLimit": 10000
     },
     "inputWidgets": {},
     "nuid": "0f46f6f6-f0e9-430a-b735-30aa48c8b47c",
     "showTitle": false,
     "tableResultSettingsMap": {},
     "title": ""
    }
   },
   "outputs": [],
   "source": [
    "from pyspark.sql import Row\n",
    "\n",
    "commentary_data = [\n",
    "    Row(match_id=1, over_number=1, ball_number=1, commentary=\"First ball of the match!\"),\n",
    "    Row(match_id=1, over_number=1, ball_number=2, commentary=\"The batsman takes a single.\"),\n",
    "    Row(match_id=1, over_number=1, ball_number=3, commentary=\"Good length delivery, defended.\"),\n",
    "    Row(match_id=2, over_number=2, ball_number=1, commentary=\"New over, fresh batsman at the crease.\"),\n",
    "    Row(match_id=2, over_number=2, ball_number=2, commentary=\"Shot! Boundary to start the over.\"),\n",
    "    Row(match_id=3, over_number=3, ball_number=1, commentary=\"Change of pace from the bowler.\"),\n",
    "    Row(match_id=3, over_number=3, ball_number=2, commentary=\"The batsman drives it down the ground.\")\n",
    "]\n"
   ]
  },
  {
   "cell_type": "code",
   "execution_count": 0,
   "metadata": {
    "application/vnd.databricks.v1+cell": {
     "cellMetadata": {
      "byteLimit": 2048000,
      "rowLimit": 10000
     },
     "inputWidgets": {},
     "nuid": "55ec5bb9-200f-4b58-8a60-34afcbb99bdb",
     "showTitle": false,
     "tableResultSettingsMap": {},
     "title": ""
    }
   },
   "outputs": [],
   "source": [
    "commentary_df = spark.createDataFrame(commentary_data)"
   ]
  },
  {
   "cell_type": "code",
   "execution_count": 0,
   "metadata": {
    "application/vnd.databricks.v1+cell": {
     "cellMetadata": {
      "byteLimit": 2048000,
      "rowLimit": 10000
     },
     "inputWidgets": {},
     "nuid": "b1ccb444-8925-4694-8689-22b535ec4616",
     "showTitle": false,
     "tableResultSettingsMap": {},
     "title": ""
    }
   },
   "outputs": [],
   "source": [
    "match_data = [\n",
    "    Row(match_id=1, match_name=\"MI vs RCB, 1st Match\", match_date=\"2021-04-09\", match_time=\"19:30:00\"),\n",
    "    Row(match_id=2, match_name=\"CSK vs DC, 2nd Match\", match_date=\"2021-04-10\", match_time=\"19:30:00\"),\n",
    "    Row(match_id=3, match_name=\"SRH vs KKR, 3rd Match\", match_date=\"2021-04-11\", match_time=\"20:00:00\")\n",
    "]"
   ]
  },
  {
   "cell_type": "code",
   "execution_count": 0,
   "metadata": {
    "application/vnd.databricks.v1+cell": {
     "cellMetadata": {
      "byteLimit": 2048000,
      "rowLimit": 10000
     },
     "inputWidgets": {},
     "nuid": "3691655f-3a44-4810-af87-5e267b237dee",
     "showTitle": false,
     "tableResultSettingsMap": {},
     "title": ""
    }
   },
   "outputs": [],
   "source": [
    "match_data_df = spark.createDataFrame(match_data)"
   ]
  },
  {
   "cell_type": "code",
   "execution_count": 0,
   "metadata": {
    "application/vnd.databricks.v1+cell": {
     "cellMetadata": {
      "byteLimit": 2048000,
      "rowLimit": 10000
     },
     "inputWidgets": {},
     "nuid": "063e95e7-783f-4fe3-81f8-e2884da934fd",
     "showTitle": false,
     "tableResultSettingsMap": {},
     "title": ""
    }
   },
   "outputs": [],
   "source": [
    "commentary_df = commentary_df.withColumn(\"match_name\", lit(None).cast(\"string\")) \\\n",
    "                              .withColumn(\"match_date\", lit(None).cast(\"string\")) \\\n",
    "                              .withColumn(\"match_time\", lit(None).cast(\"string\"))\n",
    "\n",
    "match_data_df = match_data_df.withColumn(\"over_number\", lit(None).cast(\"int\")) \\\n",
    "                              .withColumn(\"ball_number\", lit(None).cast(\"int\")) \\\n",
    "                              .withColumn(\"commentary\", lit(None).cast(\"string\"))\n"
   ]
  },
  {
   "cell_type": "code",
   "execution_count": 0,
   "metadata": {
    "application/vnd.databricks.v1+cell": {
     "cellMetadata": {
      "byteLimit": 2048000,
      "rowLimit": 10000
     },
     "inputWidgets": {},
     "nuid": "843b71cb-20ee-4607-ae43-e73f2f243287",
     "showTitle": false,
     "tableResultSettingsMap": {},
     "title": ""
    }
   },
   "outputs": [],
   "source": [
    "combined_df = commentary_df.unionByName(match_data_df)"
   ]
  },
  {
   "cell_type": "code",
   "execution_count": 0,
   "metadata": {
    "application/vnd.databricks.v1+cell": {
     "cellMetadata": {
      "byteLimit": 2048000,
      "rowLimit": 10000
     },
     "inputWidgets": {},
     "nuid": "18a02f41-a4b1-4744-9287-0c004bf638a5",
     "showTitle": false,
     "tableResultSettingsMap": {},
     "title": ""
    }
   },
   "outputs": [
    {
     "name": "stdout",
     "output_type": "stream",
     "text": [
      "+--------+-----------+-----------+--------------------------------------+---------------------+----------+----------+\n",
      "|match_id|over_number|ball_number|commentary                            |match_name           |match_date|match_time|\n",
      "+--------+-----------+-----------+--------------------------------------+---------------------+----------+----------+\n",
      "|1       |1          |1          |First ball of the match!              |null                 |null      |null      |\n",
      "|1       |1          |2          |The batsman takes a single.           |null                 |null      |null      |\n",
      "|1       |1          |3          |Good length delivery, defended.       |null                 |null      |null      |\n",
      "|2       |2          |1          |New over, fresh batsman at the crease.|null                 |null      |null      |\n",
      "|2       |2          |2          |Shot! Boundary to start the over.     |null                 |null      |null      |\n",
      "|3       |3          |1          |Change of pace from the bowler.       |null                 |null      |null      |\n",
      "|3       |3          |2          |The batsman drives it down the ground.|null                 |null      |null      |\n",
      "|1       |null       |null       |null                                  |MI vs RCB, 1st Match |2021-04-09|19:30:00  |\n",
      "|2       |null       |null       |null                                  |CSK vs DC, 2nd Match |2021-04-10|19:30:00  |\n",
      "|3       |null       |null       |null                                  |SRH vs KKR, 3rd Match|2021-04-11|20:00:00  |\n",
      "+--------+-----------+-----------+--------------------------------------+---------------------+----------+----------+\n",
      "\n"
     ]
    }
   ],
   "source": [
    "combined_df.show(20, truncate=False)"
   ]
  },
  {
   "cell_type": "code",
   "execution_count": 0,
   "metadata": {
    "application/vnd.databricks.v1+cell": {
     "cellMetadata": {
      "byteLimit": 2048000,
      "rowLimit": 10000
     },
     "inputWidgets": {},
     "nuid": "c3578417-62cf-47bf-8282-e52c7631b0e3",
     "showTitle": false,
     "tableResultSettingsMap": {},
     "title": ""
    }
   },
   "outputs": [],
   "source": [
    "combined_df.write.mode(\"overwrite\").option(\"header\", \"true\").csv(\"dbfs:/FileStore/tables/combined_ipl_commentary.csv\")\n"
   ]
  },
  {
   "cell_type": "code",
   "execution_count": 0,
   "metadata": {
    "application/vnd.databricks.v1+cell": {
     "cellMetadata": {
      "byteLimit": 2048000,
      "rowLimit": 10000
     },
     "inputWidgets": {},
     "nuid": "c0d0a4e4-f33d-4f82-a3a7-551b5732e703",
     "showTitle": false,
     "tableResultSettingsMap": {},
     "title": ""
    }
   },
   "outputs": [
    {
     "name": "stdout",
     "output_type": "stream",
     "text": [
      "+----+---------+----------------------------------------+------+\n",
      "|over|ball_type|commentary                              |team  |\n",
      "+----+---------+----------------------------------------+------+\n",
      "|1.1 |normal   |First ball of the match! Player A faces.|Team A|\n",
      "|1.2 |wide     |The batsman takes a quick single.       |Team B|\n",
      "+----+---------+----------------------------------------+------+\n",
      "\n"
     ]
    }
   ],
   "source": [
    "final_combined_df = combined_df.filter(\n",
    "    (F.col(\"over\").isNotNull()) | (F.col(\"ball_type\").isNotNull()) | (F.col(\"commentary\").isNotNull()) | (F.col(\"team\").isNotNull())\n",
    ")\n",
    "final_combined_df.show(truncate=False)"
   ]
  }
 ],
 "metadata": {
  "application/vnd.databricks.v1+notebook": {
   "computePreferences": null,
   "dashboards": [],
   "environmentMetadata": {
    "base_environment": "",
    "environment_version": "1"
   },
   "inputWidgetPreferences": null,
   "language": "python",
   "notebookMetadata": {
    "pythonIndentUnit": 4
   },
   "notebookName": "L17 TASK 2",
   "widgets": {}
  },
  "language_info": {
   "name": "python"
  }
 },
 "nbformat": 4,
 "nbformat_minor": 0
}
