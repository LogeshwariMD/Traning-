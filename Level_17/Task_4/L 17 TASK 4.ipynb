{
 "cells": [
  {
   "cell_type": "code",
   "execution_count": 0,
   "metadata": {
    "application/vnd.databricks.v1+cell": {
     "cellMetadata": {
      "byteLimit": 2048000,
      "rowLimit": 10000
     },
     "collapsed": true,
     "inputWidgets": {},
     "nuid": "3b8ec8f4-32cd-411f-abd3-24b60280d7a7",
     "showTitle": false,
     "tableResultSettingsMap": {},
     "title": ""
    }
   },
   "outputs": [],
   "source": [
    "ipl_matches_df = spark.read.option(\"header\", \"true\").csv(\"dbfs:/FileStore/tables/ipl_2021_matches.csv\")\n"
   ]
  },
  {
   "cell_type": "code",
   "execution_count": 0,
   "metadata": {
    "application/vnd.databricks.v1+cell": {
     "cellMetadata": {
      "byteLimit": 2048000,
      "rowLimit": 10000
     },
     "inputWidgets": {},
     "nuid": "4e342435-71a2-40e3-aab9-ec561e00906f",
     "showTitle": false,
     "tableResultSettingsMap": {},
     "title": ""
    }
   },
   "outputs": [
    {
     "output_type": "stream",
     "name": "stdout",
     "output_type": "stream",
     "text": [
      "root\n |-- year: string (nullable = true)\n |-- series_type: string (nullable = true)\n |-- series_name: string (nullable = true)\n |-- match_no: string (nullable = true)\n |-- match_type: string (nullable = true)\n |-- match_name: string (nullable = true)\n |-- match_href: string (nullable = true)\n |-- match_team1: string (nullable = true)\n |-- match_team2: string (nullable = true)\n |-- match_datetime_start: string (nullable = true)\n |-- match_date_end: string (nullable = true)\n |-- match_venue: string (nullable = true)\n\n+----+-----------+--------------------------+--------+----------+--------------------------------------------------------+---------------------------------------------------------------------------------------------+-----------+-----------+--------------------+--------------+-----------+\n|year|series_type|series_name               |match_no|match_type|match_name                                              |match_href                                                                                   |match_team1|match_team2|match_datetime_start|match_date_end|match_venue|\n+----+-----------+--------------------------+--------+----------+--------------------------------------------------------+---------------------------------------------------------------------------------------------+-----------+-----------+--------------------+--------------+-----------+\n|2021|T20        |Indian Premier League 2021|null    |League    |MUMBAI INDIANS vs ROYAL CHALLENGERS BENGALURU, 1st Match|https://www.cricbuzz.com/cricket-scores/35612/mi-vs-rcb-1st-match-indian-premier-league-2021 |null       |null       |null                |null          |null       |\n|2021|T20        |Indian Premier League 2021|null    |League    |CHENNAI SUPER KINGS vs DELHI CAPITALS, 2nd Match        |https://www.cricbuzz.com/cricket-scores/35617/csk-vs-dc-2nd-match-indian-premier-league-2021 |null       |null       |null                |null          |null       |\n|2021|T20        |Indian Premier League 2021|null    |League    |SUNRISERS HYDERABAD vs KOLKATA KNIGHT RIDERS, 3rd Match |https://www.cricbuzz.com/cricket-scores/35618/srh-vs-kkr-3rd-match-indian-premier-league-2021|null       |null       |null                |null          |null       |\n|2021|T20        |Indian Premier League 2021|null    |League    |RAJASTHAN ROYALS vs PUNJAB KINGS, 4th Match             |https://www.cricbuzz.com/cricket-scores/35622/rr-vs-pbks-4th-match-indian-premier-league-2021|null       |null       |null                |null          |null       |\n|2021|T20        |Indian Premier League 2021|null    |League    |KOLKATA KNIGHT RIDERS vs MUMBAI INDIANS, 5th Match      |https://www.cricbuzz.com/cricket-scores/35627/kkr-vs-mi-5th-match-indian-premier-league-2021 |null       |null       |null                |null          |null       |\n+----+-----------+--------------------------+--------+----------+--------------------------------------------------------+---------------------------------------------------------------------------------------------+-----------+-----------+--------------------+--------------+-----------+\nonly showing top 5 rows\n\n"
     ]
    }
   ],
   "source": [
    "ipl_matches_df.printSchema()\n",
    "ipl_matches_df.show(5, truncate=False)\n"
   ]
  },
  {
   "cell_type": "code",
   "execution_count": 0,
   "metadata": {
    "application/vnd.databricks.v1+cell": {
     "cellMetadata": {
      "byteLimit": 2048000,
      "rowLimit": 10000
     },
     "inputWidgets": {},
     "nuid": "11332589-fe8e-4967-a0ed-6cfc022b7c8a",
     "showTitle": false,
     "tableResultSettingsMap": {},
     "title": ""
    }
   },
   "outputs": [
    {
     "output_type": "stream",
     "name": "stdout",
     "output_type": "stream",
     "text": [
      "+--------------------------------------+----------------+\n|commentary                            |Bowler          |\n+--------------------------------------+----------------+\n|Jasprit Bumrah to Virat Kohli, 1 run  |Jasprit Bumrah  |\n|Rashid Khan to MS Dhoni, SIX runs     |Rashid Khan     |\n|Trent Boult to Ruturaj Gaikwad, no run|Trent Boult     |\n|Sunil Narine to Rohit Sharma, FOUR    |Sunil Narine    |\n|Yuzvendra Chahal to KL Rahul, OUT     |Yuzvendra Chahal|\n+--------------------------------------+----------------+\n\n"
     ]
    }
   ],
   "source": [
    "from pyspark.sql.functions import regexp_extract\n",
    "\n",
    "df_bowler = df.withColumn(\"Bowler\", regexp_extract(\"commentary\", r\"^(.+?) to\", 1))\n",
    "df_bowler.select(\"commentary\", \"Bowler\").show(truncate=False)\n"
   ]
  },
  {
   "cell_type": "code",
   "execution_count": 0,
   "metadata": {
    "application/vnd.databricks.v1+cell": {
     "cellMetadata": {
      "byteLimit": 2048000,
      "rowLimit": 10000
     },
     "inputWidgets": {},
     "nuid": "a04dc81a-c053-41d4-9f81-9bcd7bd7aa95",
     "showTitle": false,
     "tableResultSettingsMap": {},
     "title": ""
    }
   },
   "outputs": [
    {
     "output_type": "stream",
     "name": "stdout",
     "output_type": "stream",
     "text": [
      "+--------------------------------------+---------------+\n|commentary                            |Batsman        |\n+--------------------------------------+---------------+\n|Jasprit Bumrah to Virat Kohli, 1 run  |Virat Kohli    |\n|Rashid Khan to MS Dhoni, SIX runs     |MS Dhoni       |\n|Trent Boult to Ruturaj Gaikwad, no run|Ruturaj Gaikwad|\n|Sunil Narine to Rohit Sharma, FOUR    |Rohit Sharma   |\n|Yuzvendra Chahal to KL Rahul, OUT     |KL Rahul       |\n+--------------------------------------+---------------+\n\n"
     ]
    }
   ],
   "source": [
    "df_batsman = df.withColumn(\"Batsman\", regexp_extract(\"commentary\", r\"to (.+?),\", 1))\n",
    "df_batsman.select(\"commentary\", \"Batsman\").show(truncate=False)\n"
   ]
  },
  {
   "cell_type": "code",
   "execution_count": 0,
   "metadata": {
    "application/vnd.databricks.v1+cell": {
     "cellMetadata": {
      "byteLimit": 2048000,
      "rowLimit": 10000
     },
     "inputWidgets": {},
     "nuid": "d8e5e833-efd1-49eb-a703-56b65bcfdfcd",
     "showTitle": false,
     "tableResultSettingsMap": {},
     "title": ""
    }
   },
   "outputs": [
    {
     "output_type": "stream",
     "name": "stdout",
     "output_type": "stream",
     "text": [
      "+--------------------------------------+--------+\n|commentary                            |Runs    |\n+--------------------------------------+--------+\n|Jasprit Bumrah to Virat Kohli, 1 run  |1 run   |\n|Rashid Khan to MS Dhoni, SIX runs     |SIX runs|\n|Trent Boult to Ruturaj Gaikwad, no run|no run  |\n|Sunil Narine to Rohit Sharma, FOUR    |FOUR    |\n|Yuzvendra Chahal to KL Rahul, OUT     |OUT     |\n+--------------------------------------+--------+\n\n"
     ]
    }
   ],
   "source": [
    "df_runs = df.withColumn(\"Runs\", regexp_extract(\"commentary\", r\", (.+)\", 1))\n",
    "df_runs.select(\"commentary\", \"Runs\").show(truncate=False)\n"
   ]
  },
  {
   "cell_type": "code",
   "execution_count": 0,
   "metadata": {
    "application/vnd.databricks.v1+cell": {
     "cellMetadata": {
      "byteLimit": 2048000,
      "rowLimit": 10000
     },
     "inputWidgets": {},
     "nuid": "15d34b78-3418-4efd-b534-ccce6d2bc2c4",
     "showTitle": false,
     "tableResultSettingsMap": {},
     "title": ""
    }
   },
   "outputs": [
    {
     "output_type": "stream",
     "name": "stdout",
     "output_type": "stream",
     "text": [
      "+--------------------------------------+--------+-----------+\n|commentary                            |Runs    |Runs_Scored|\n+--------------------------------------+--------+-----------+\n|Jasprit Bumrah to Virat Kohli, 1 run  |1 run   |1          |\n|Rashid Khan to MS Dhoni, SIX runs     |SIX runs|6          |\n|Trent Boult to Ruturaj Gaikwad, no run|no run  |0          |\n|Sunil Narine to Rohit Sharma, FOUR    |FOUR    |4          |\n|Yuzvendra Chahal to KL Rahul, OUT     |OUT     |null       |\n+--------------------------------------+--------+-----------+\n\n"
     ]
    }
   ],
   "source": [
    "from pyspark.sql.functions import when, col\n",
    "\n",
    "df_runs_scored = df.withColumn(\"Runs\", regexp_extract(\"commentary\", r\", (.+)\", 1)) \\\n",
    "    .withColumn(\"Runs_Scored\", \n",
    "        when(col(\"Runs\").rlike(\"SIX\"), 6)\n",
    "        .when(col(\"Runs\").rlike(\"FOUR\"), 4)\n",
    "        .when(col(\"Runs\").rlike(\"3 runs\"), 3)\n",
    "        .when(col(\"Runs\").rlike(\"2 runs\"), 2)\n",
    "        .when(col(\"Runs\").rlike(\"1 run\"), 1)\n",
    "        .when(col(\"Runs\").rlike(\"no run\"), 0)\n",
    "        .otherwise(None)\n",
    "    )\n",
    "\n",
    "df_runs_scored.select(\"commentary\", \"Runs\", \"Runs_Scored\").show(truncate=False)\n"
   ]
  },
  {
   "cell_type": "code",
   "execution_count": 0,
   "metadata": {
    "application/vnd.databricks.v1+cell": {
     "cellMetadata": {
      "byteLimit": 2048000,
      "rowLimit": 10000
     },
     "inputWidgets": {},
     "nuid": "7122fa68-4ba8-4323-a9b3-407ab71518ab",
     "showTitle": false,
     "tableResultSettingsMap": {},
     "title": ""
    }
   },
   "outputs": [
    {
     "output_type": "stream",
     "name": "stdout",
     "output_type": "stream",
     "text": [
      "+--------------------------------------+-----------+\n|commentary                            |Runs_Scored|\n+--------------------------------------+-----------+\n|Jasprit Bumrah to Virat Kohli, 1 run  |1          |\n|Rashid Khan to MS Dhoni, SIX runs     |6          |\n|Trent Boult to Ruturaj Gaikwad, no run|0          |\n|Sunil Narine to Rohit Sharma, FOUR    |4          |\n|Yuzvendra Chahal to KL Rahul, OUT     |null       |\n+--------------------------------------+-----------+\n\n"
     ]
    }
   ],
   "source": [
    "from pyspark.sql.functions import regexp_extract, when, col\n",
    "\n",
    "df_runscored_only = df.withColumn(\"Runs\", regexp_extract(\"commentary\", r\", (.+)\", 1)) \\\n",
    "    .withColumn(\"Runs_Scored\", \n",
    "        when(col(\"Runs\").rlike(\"SIX\"), 6)\n",
    "        .when(col(\"Runs\").rlike(\"FOUR\"), 4)\n",
    "        .when(col(\"Runs\").rlike(\"3 runs\"), 3)\n",
    "        .when(col(\"Runs\").rlike(\"2 runs\"), 2)\n",
    "        .when(col(\"Runs\").rlike(\"1 run\"), 1)\n",
    "        .when(col(\"Runs\").rlike(\"no run\"), 0)\n",
    "        .otherwise(None)\n",
    "    )\n",
    "\n",
    "df_runscored_only.select(\"commentary\", \"Runs_Scored\").show(truncate=False)\n"
   ]
  },
  {
   "cell_type": "code",
   "execution_count": 0,
   "metadata": {
    "application/vnd.databricks.v1+cell": {
     "cellMetadata": {
      "byteLimit": 2048000,
      "rowLimit": 10000
     },
     "inputWidgets": {},
     "nuid": "af1589e0-78db-478e-8bda-93171a0e295a",
     "showTitle": false,
     "tableResultSettingsMap": {},
     "title": ""
    }
   },
   "outputs": [],
   "source": [
    "from pyspark.sql.functions import regexp_extract, when, col"
   ]
  },
  {
   "cell_type": "code",
   "execution_count": 0,
   "metadata": {
    "application/vnd.databricks.v1+cell": {
     "cellMetadata": {
      "byteLimit": 2048000,
      "rowLimit": 10000
     },
     "inputWidgets": {},
     "nuid": "f42ef350-5206-46bb-abd8-2ea8f56a4156",
     "showTitle": false,
     "tableResultSettingsMap": {},
     "title": ""
    }
   },
   "outputs": [],
   "source": [
    "ipl_matches_df = spark.read.option(\"header\", \"true\").csv(\"dbfs:/FileStore/tables/ipl_2021_matches.csv\")\n"
   ]
  },
  {
   "cell_type": "code",
   "execution_count": 0,
   "metadata": {
    "application/vnd.databricks.v1+cell": {
     "cellMetadata": {
      "byteLimit": 2048000,
      "rowLimit": 10000
     },
     "inputWidgets": {},
     "nuid": "183a967f-5af2-46b1-a9be-e8fd2461a02c",
     "showTitle": false,
     "tableResultSettingsMap": {},
     "title": ""
    }
   },
   "outputs": [],
   "source": [
    "df_extracted = df.withColumn(\"Bowler\", regexp_extract(\"commentary\", r\"^([^\\s]+(?:\\s[^\\s]+)*) to\", 1)) \\\n",
    "                 .withColumn(\"Batsman\", regexp_extract(\"commentary\", r\"to ([^,]+)\", 1)) \\\n",
    "                 .withColumn(\"Runs\", regexp_extract(\"commentary\", r\", (.+)\", 1))\n"
   ]
  },
  {
   "cell_type": "code",
   "execution_count": 0,
   "metadata": {
    "application/vnd.databricks.v1+cell": {
     "cellMetadata": {
      "byteLimit": 2048000,
      "rowLimit": 10000
     },
     "inputWidgets": {},
     "nuid": "3320f8a9-e00b-4722-a1b5-b0815750660a",
     "showTitle": false,
     "tableResultSettingsMap": {},
     "title": ""
    }
   },
   "outputs": [],
   "source": [
    "df_final = df_extracted.withColumn(\"Runs_Scored\", \n",
    "    when(col(\"Runs\").rlike(\"SIX\"), 6)\n",
    "    .when(col(\"Runs\").rlike(\"FOUR\"), 4)\n",
    "    .when(col(\"Runs\").rlike(\"3 runs\"), 3)\n",
    "    .when(col(\"Runs\").rlike(\"2 runs\"), 2)\n",
    "    .when(col(\"Runs\").rlike(\"1 run\"), 1)\n",
    "    .when(col(\"Runs\").rlike(\"no run\"), 0)\n",
    "    .otherwise(None)\n",
    ")\n"
   ]
  },
  {
   "cell_type": "code",
   "execution_count": 0,
   "metadata": {
    "application/vnd.databricks.v1+cell": {
     "cellMetadata": {
      "byteLimit": 2048000,
      "rowLimit": 10000
     },
     "inputWidgets": {},
     "nuid": "0f1ad522-fe24-451b-be28-c152f84b002a",
     "showTitle": false,
     "tableResultSettingsMap": {},
     "title": ""
    }
   },
   "outputs": [
    {
     "output_type": "stream",
     "name": "stdout",
     "output_type": "stream",
     "text": [
      "+--------------------------------------+----------------+---------------+--------+-----------+\n|commentary                            |Bowler          |Batsman        |Runs    |Runs_Scored|\n+--------------------------------------+----------------+---------------+--------+-----------+\n|Jasprit Bumrah to Virat Kohli, 1 run  |Jasprit Bumrah  |Virat Kohli    |1 run   |1          |\n|Rashid Khan to MS Dhoni, SIX runs     |Rashid Khan     |MS Dhoni       |SIX runs|6          |\n|Trent Boult to Ruturaj Gaikwad, no run|Trent Boult     |Ruturaj Gaikwad|no run  |0          |\n|Sunil Narine to Rohit Sharma, FOUR    |Sunil Narine    |Rohit Sharma   |FOUR    |4          |\n|Yuzvendra Chahal to KL Rahul, OUT     |Yuzvendra Chahal|KL Rahul       |OUT     |null       |\n+--------------------------------------+----------------+---------------+--------+-----------+\n\n"
     ]
    }
   ],
   "source": [
    "df_final.select(\"commentary\", \"Bowler\", \"Batsman\", \"Runs\", \"Runs_Scored\").show(20, truncate=False)\n"
   ]
  }
 ],
 "metadata": {
  "application/vnd.databricks.v1+notebook": {
   "computePreferences": null,
   "dashboards": [],
   "environmentMetadata": {
    "base_environment": "",
    "environment_version": "1"
   },
   "inputWidgetPreferences": null,
   "language": "python",
   "notebookMetadata": {
    "pythonIndentUnit": 4
   },
   "notebookName": "L 17 TASK 4",
   "widgets": {}
  }
 },
 "nbformat": 4,
 "nbformat_minor": 0
}