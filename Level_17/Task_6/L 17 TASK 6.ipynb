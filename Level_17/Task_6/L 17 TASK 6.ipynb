{
 "cells": [
  {
   "cell_type": "code",
   "execution_count": 0,
   "metadata": {
    "application/vnd.databricks.v1+cell": {
     "cellMetadata": {
      "byteLimit": 2048000,
      "rowLimit": 10000
     },
     "inputWidgets": {},
     "nuid": "c22dec5d-9a01-44c7-b9fe-9f18538bc06e",
     "showTitle": false,
     "tableResultSettingsMap": {},
     "title": ""
    }
   },
   "outputs": [],
   "source": [
    "ipl_matches_df = spark.read.option(\"header\", \"true\").csv(\"dbfs:/FileStore/tables/ipl_2021_matches.csv\")\n"
   ]
  },
  {
   "cell_type": "code",
   "execution_count": 0,
   "metadata": {
    "application/vnd.databricks.v1+cell": {
     "cellMetadata": {
      "byteLimit": 2048000,
      "rowLimit": 10000
     },
     "inputWidgets": {},
     "nuid": "665cd2f6-f7a8-4790-b288-f6912f610e7e",
     "showTitle": false,
     "tableResultSettingsMap": {},
     "title": ""
    }
   },
   "outputs": [
    {
     "output_type": "stream",
     "name": "stdout",
     "output_type": "stream",
     "text": [
      "Out[7]: ['year',\n 'series_type',\n 'series_name',\n 'match_no',\n 'match_type',\n 'match_name',\n 'match_href',\n 'match_team1',\n 'match_team2',\n 'match_datetime_start',\n 'match_date_end',\n 'match_venue']"
     ]
    }
   ],
   "source": [
    "ipl_matches_df.columns\n"
   ]
  },
  {
   "cell_type": "code",
   "execution_count": 0,
   "metadata": {
    "application/vnd.databricks.v1+cell": {
     "cellMetadata": {
      "byteLimit": 2048000,
      "rowLimit": 10000
     },
     "inputWidgets": {},
     "nuid": "bca85d57-5582-417a-a6e9-e9b941710840",
     "showTitle": false,
     "tableResultSettingsMap": {},
     "title": ""
    }
   },
   "outputs": [
    {
     "output_type": "stream",
     "name": "stdout",
     "output_type": "stream",
     "text": [
      "+----+-----------+--------------------------+--------+----------+--------------------------------------------------------+---------------------------------------------------------------------------------------------+-----------+-----------+--------------------+--------------+-----------+\n|year|series_type|series_name               |match_no|match_type|match_name                                              |match_href                                                                                   |match_team1|match_team2|match_datetime_start|match_date_end|match_venue|\n+----+-----------+--------------------------+--------+----------+--------------------------------------------------------+---------------------------------------------------------------------------------------------+-----------+-----------+--------------------+--------------+-----------+\n|2021|T20        |Indian Premier League 2021|null    |League    |MUMBAI INDIANS vs ROYAL CHALLENGERS BENGALURU, 1st Match|https://www.cricbuzz.com/cricket-scores/35612/mi-vs-rcb-1st-match-indian-premier-league-2021 |null       |null       |null                |null          |null       |\n|2021|T20        |Indian Premier League 2021|null    |League    |CHENNAI SUPER KINGS vs DELHI CAPITALS, 2nd Match        |https://www.cricbuzz.com/cricket-scores/35617/csk-vs-dc-2nd-match-indian-premier-league-2021 |null       |null       |null                |null          |null       |\n|2021|T20        |Indian Premier League 2021|null    |League    |SUNRISERS HYDERABAD vs KOLKATA KNIGHT RIDERS, 3rd Match |https://www.cricbuzz.com/cricket-scores/35618/srh-vs-kkr-3rd-match-indian-premier-league-2021|null       |null       |null                |null          |null       |\n|2021|T20        |Indian Premier League 2021|null    |League    |RAJASTHAN ROYALS vs PUNJAB KINGS, 4th Match             |https://www.cricbuzz.com/cricket-scores/35622/rr-vs-pbks-4th-match-indian-premier-league-2021|null       |null       |null                |null          |null       |\n|2021|T20        |Indian Premier League 2021|null    |League    |KOLKATA KNIGHT RIDERS vs MUMBAI INDIANS, 5th Match      |https://www.cricbuzz.com/cricket-scores/35627/kkr-vs-mi-5th-match-indian-premier-league-2021 |null       |null       |null                |null          |null       |\n+----+-----------+--------------------------+--------+----------+--------------------------------------------------------+---------------------------------------------------------------------------------------------+-----------+-----------+--------------------+--------------+-----------+\nonly showing top 5 rows\n\n"
     ]
    }
   ],
   "source": [
    "ipl_matches_df = spark.read.option(\"header\", \"true\").csv(\"dbfs:/FileStore/tables/ipl_2021_matches.csv\")\n",
    "ipl_matches_df.show(5, truncate=False)\n"
   ]
  },
  {
   "cell_type": "code",
   "execution_count": 0,
   "metadata": {
    "application/vnd.databricks.v1+cell": {
     "cellMetadata": {
      "byteLimit": 2048000,
      "rowLimit": 10000
     },
     "inputWidgets": {},
     "nuid": "fe7ea166-2177-4df8-9765-c8707069e6c6",
     "showTitle": false,
     "tableResultSettingsMap": {},
     "title": ""
    }
   },
   "outputs": [
    {
     "output_type": "stream",
     "name": "stdout",
     "output_type": "stream",
     "text": [
      "+----+-----------+--------------+\n|year|match_team1|matches_played|\n+----+-----------+--------------+\n|2021|null       |62            |\n+----+-----------+--------------+\n\n"
     ]
    }
   ],
   "source": [
    "\n",
    "team_match_count = ipl_matches_df.groupBy(\"year\", \"match_team1\").count() \\\n",
    "    .withColumnRenamed(\"count\", \"matches_played\") \\\n",
    "    .orderBy(\"year\", \"match_team1\")\n",
    "\n",
    "team_match_count.show(truncate=False)\n"
   ]
  },
  {
   "cell_type": "code",
   "execution_count": 0,
   "metadata": {
    "application/vnd.databricks.v1+cell": {
     "cellMetadata": {
      "byteLimit": 2048000,
      "rowLimit": 10000
     },
     "inputWidgets": {},
     "nuid": "7cd85f1f-317b-4832-a88c-0ef774d43af3",
     "showTitle": false,
     "tableResultSettingsMap": {},
     "title": ""
    }
   },
   "outputs": [
    {
     "output_type": "stream",
     "name": "stdout",
     "output_type": "stream",
     "text": [
      "+----+-----------+--------------+\n|year|match_team2|matches_played|\n+----+-----------+--------------+\n|2021|null       |62            |\n+----+-----------+--------------+\n\n"
     ]
    }
   ],
   "source": [
    "team_match_count_team2 = ipl_matches_df.groupBy(\"year\", \"match_team2\").count() \\\n",
    "    .withColumnRenamed(\"count\", \"matches_played\") \\\n",
    "    .orderBy(\"year\", \"match_team2\")\n",
    "\n",
    "team_match_count_team2.show(truncate=False)"
   ]
  },
  {
   "cell_type": "code",
   "execution_count": 0,
   "metadata": {
    "application/vnd.databricks.v1+cell": {
     "cellMetadata": {
      "byteLimit": 2048000,
      "rowLimit": 10000
     },
     "inputWidgets": {},
     "nuid": "9c21c10c-378e-4b3c-b745-ab8787b29084",
     "showTitle": false,
     "tableResultSettingsMap": {},
     "title": ""
    }
   },
   "outputs": [
    {
     "output_type": "stream",
     "name": "stdout",
     "output_type": "stream",
     "text": [
      "+--------------------+------+-------+--------+----+--------+------+----+\n|          commentary|bowler|batsman|runs_raw|runs|match_id|  team|year|\n+--------------------+------+-------+--------+----+--------+------+----+\n|Bumrah to Dhawan,...|Bumrah| Dhawan|    FOUR|   0|  Bumrah|Bumrah|2021|\n|Chahal to Raina, ...|Chahal|  Raina|   1 run|   1|  Chahal|Chahal|2021|\n|Narine to Kohli, ...|Narine|  Kohli|  no run|   0|  Narine|Narine|2021|\n|Rabada to Rohit, ...|Rabada|  Rohit|     SIX|   0|  Rabada|Rabada|2021|\n+--------------------+------+-------+--------+----+--------+------+----+\n\n"
     ]
    }
   ],
   "source": [
    "from pyspark.sql.functions import col, regexp_extract, lit, sum as _sum\n",
    "\n",
    "data = [\n",
    "    (\"Bumrah to Dhawan, FOUR! Cracking shot through covers\", \"Bumrah\", \"Dhawan\", \"FOUR\"),\n",
    "    (\"Chahal to Raina, 1 run, nudged to midwicket\", \"Chahal\", \"Raina\", \"1 run\"),\n",
    "    (\"Narine to Kohli, no run, defended solidly\", \"Narine\", \"Kohli\", \"no run\"),\n",
    "    (\"Rabada to Rohit, SIX! Smashed over long-on\", \"Rabada\", \"Rohit\", \"SIX\"),\n",
    "]\n",
    "\n",
    "ball_df = spark.createDataFrame(data, [\"commentary\", \"bowler\", \"batsman\", \"runs_raw\"])\n",
    "\n",
    "ball_df = ball_df.withColumn(\n",
    "    \"runs\",\n",
    "    regexp_extract(\"runs_raw\", r\"(\\d+)\", 1).cast(\"int\")\n",
    ").fillna(0)\n",
    "\n",
    "ball_df = ball_df.withColumn(\"match_id\", col(\"bowler\")) \\\n",
    "                 .withColumn(\"team\", col(\"bowler\")) \\\n",
    "                 .withColumn(\"year\", lit(2021))\n",
    "\n",
    "ball_df.show()"
   ]
  },
  {
   "cell_type": "code",
   "execution_count": 0,
   "metadata": {
    "application/vnd.databricks.v1+cell": {
     "cellMetadata": {
      "byteLimit": 2048000,
      "rowLimit": 10000
     },
     "inputWidgets": {},
     "nuid": "63fab952-d8c0-47e3-8207-3684269d496f",
     "showTitle": false,
     "tableResultSettingsMap": {},
     "title": ""
    }
   },
   "outputs": [
    {
     "output_type": "stream",
     "name": "stdout",
     "output_type": "stream",
     "text": [
      "+----+--------+------+-----------+\n|year|match_id|team  |total_score|\n+----+--------+------+-----------+\n|2021|Bumrah  |Bumrah|0          |\n|2021|Chahal  |Chahal|1          |\n|2021|Narine  |Narine|0          |\n|2021|Rabada  |Rabada|0          |\n+----+--------+------+-----------+\n\n"
     ]
    }
   ],
   "source": [
    "from pyspark.sql import functions as F\n",
    "team_scores_df = ball_df.groupBy(\"year\", \"match_id\", \"team\") \\\n",
    "                        .agg(F.sum(\"runs\").alias(\"total_score\"))\n",
    "\n",
    "team_scores_df.show(truncate=False)\n"
   ]
  },
  {
   "cell_type": "code",
   "execution_count": 0,
   "metadata": {
    "application/vnd.databricks.v1+cell": {
     "cellMetadata": {
      "byteLimit": 2048000,
      "rowLimit": 10000
     },
     "inputWidgets": {},
     "nuid": "0f0c4ef1-8fcb-4f11-bf67-97293c8e579b",
     "showTitle": false,
     "tableResultSettingsMap": {},
     "title": ""
    }
   },
   "outputs": [
    {
     "output_type": "stream",
     "name": "stdout",
     "output_type": "stream",
     "text": [
      "+------+----+\n|  team|2021|\n+------+----+\n|Bumrah| 0.0|\n|Chahal| 1.0|\n|Narine| 0.0|\n|Rabada| 0.0|\n+------+----+\n\n"
     ]
    }
   ],
   "source": [
    "avg_score_pivot = team_scores_df.groupBy(\"team\") \\\n",
    "    .pivot(\"year\") \\\n",
    "    .avg(\"total_score\") \\\n",
    "    .orderBy(\"team\")\n",
    "\n",
    "avg_score_pivot.show()\n"
   ]
  },
  {
   "cell_type": "code",
   "execution_count": 0,
   "metadata": {
    "application/vnd.databricks.v1+cell": {
     "cellMetadata": {
      "byteLimit": 2048000,
      "rowLimit": 10000
     },
     "inputWidgets": {},
     "nuid": "a822db38-7980-4ec9-8f1f-43800ebba95c",
     "showTitle": false,
     "tableResultSettingsMap": {},
     "title": ""
    }
   },
   "outputs": [
    {
     "output_type": "stream",
     "name": "stdout",
     "output_type": "stream",
     "text": [
      "+------+----+\n|  team|2021|\n+------+----+\n|Bumrah|   0|\n|Chahal|   1|\n|Narine|   0|\n|Rabada|   0|\n+------+----+\n\n"
     ]
    }
   ],
   "source": [
    "max_score_pivot = team_scores_df.groupBy(\"team\") \\\n",
    "    .pivot(\"year\") \\\n",
    "    .max(\"total_score\") \\\n",
    "    .orderBy(\"team\")\n",
    "\n",
    "max_score_pivot.show()"
   ]
  }
 ],
 "metadata": {
  "application/vnd.databricks.v1+notebook": {
   "computePreferences": null,
   "dashboards": [],
   "environmentMetadata": {
    "base_environment": "",
    "environment_version": "1"
   },
   "inputWidgetPreferences": null,
   "language": "python",
   "notebookMetadata": {
    "pythonIndentUnit": 4
   },
   "notebookName": "L 17 TASK 6",
   "widgets": {}
  }
 },
 "nbformat": 4,
 "nbformat_minor": 0
}