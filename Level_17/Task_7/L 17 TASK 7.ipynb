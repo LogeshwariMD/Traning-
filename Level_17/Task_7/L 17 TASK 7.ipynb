{
 "cells": [
  {
   "cell_type": "code",
   "execution_count": 0,
   "metadata": {
    "application/vnd.databricks.v1+cell": {
     "cellMetadata": {
      "byteLimit": 2048000,
      "rowLimit": 10000
     },
     "inputWidgets": {},
     "nuid": "2789ebbb-5ca9-4b17-9aaf-25f2fc201e50",
     "showTitle": false,
     "tableResultSettingsMap": {},
     "title": ""
    }
   },
   "outputs": [
    {
     "output_type": "stream",
     "name": "stdout",
     "output_type": "stream",
     "text": [
      "Out[3]: [FileInfo(path='dbfs:/FileStore/tables/cell_phone.xlsx', name='cell_phone.xlsx', size=297905, modificationTime=1740663046000),\n FileInfo(path='dbfs:/FileStore/tables/cell_phones-1.csv', name='cell_phones-1.csv', size=43927, modificationTime=1740667679000),\n FileInfo(path='dbfs:/FileStore/tables/cell_phones-2.csv', name='cell_phones-2.csv', size=43927, modificationTime=1740667926000),\n FileInfo(path='dbfs:/FileStore/tables/cell_phones-3.csv', name='cell_phones-3.csv', size=43927, modificationTime=1740717554000),\n FileInfo(path='dbfs:/FileStore/tables/cell_phones-4.csv', name='cell_phones-4.csv', size=43927, modificationTime=1740851516000),\n FileInfo(path='dbfs:/FileStore/tables/cell_phones.csv', name='cell_phones.csv', size=43927, modificationTime=1740650761000),\n FileInfo(path='dbfs:/FileStore/tables/cleaned_ipl_2021/', name='cleaned_ipl_2021/', size=0, modificationTime=0),\n FileInfo(path='dbfs:/FileStore/tables/combined_ipl_commentary.csv/', name='combined_ipl_commentary.csv/', size=0, modificationTime=0),\n FileInfo(path='dbfs:/FileStore/tables/combined_ipl_matches.csv/', name='combined_ipl_matches.csv/', size=0, modificationTime=0),\n FileInfo(path='dbfs:/FileStore/tables/final_cleaned_ipl_2021_matches.csv/', name='final_cleaned_ipl_2021_matches.csv/', size=0, modificationTime=0),\n FileInfo(path='dbfs:/FileStore/tables/final_cleaned_ipl_2021_matches_v2.csv/', name='final_cleaned_ipl_2021_matches_v2.csv/', size=0, modificationTime=0),\n FileInfo(path='dbfs:/FileStore/tables/final_combined_ipl_commentary.csv/', name='final_combined_ipl_commentary.csv/', size=0, modificationTime=0),\n FileInfo(path='dbfs:/FileStore/tables/final_ipl_2021_csv/', name='final_ipl_2021_csv/', size=0, modificationTime=0),\n FileInfo(path='dbfs:/FileStore/tables/ipl_2021_cleaned/', name='ipl_2021_cleaned/', size=0, modificationTime=0),\n FileInfo(path='dbfs:/FileStore/tables/ipl_2021_matches-1.csv', name='ipl_2021_matches-1.csv', size=12482, modificationTime=1744550038000),\n FileInfo(path='dbfs:/FileStore/tables/ipl_2021_matches-10.csv', name='ipl_2021_matches-10.csv', size=12482, modificationTime=1744646907000),\n FileInfo(path='dbfs:/FileStore/tables/ipl_2021_matches-11.csv', name='ipl_2021_matches-11.csv', size=12482, modificationTime=1744680388000),\n FileInfo(path='dbfs:/FileStore/tables/ipl_2021_matches-12.csv', name='ipl_2021_matches-12.csv', size=12482, modificationTime=1744691091000),\n FileInfo(path='dbfs:/FileStore/tables/ipl_2021_matches-13.csv', name='ipl_2021_matches-13.csv', size=12482, modificationTime=1744709819000),\n FileInfo(path='dbfs:/FileStore/tables/ipl_2021_matches-14.csv', name='ipl_2021_matches-14.csv', size=12482, modificationTime=1744709893000),\n FileInfo(path='dbfs:/FileStore/tables/ipl_2021_matches-2.csv', name='ipl_2021_matches-2.csv', size=12482, modificationTime=1744550172000),\n FileInfo(path='dbfs:/FileStore/tables/ipl_2021_matches-3.csv', name='ipl_2021_matches-3.csv', size=12482, modificationTime=1744550284000),\n FileInfo(path='dbfs:/FileStore/tables/ipl_2021_matches-4.csv', name='ipl_2021_matches-4.csv', size=12482, modificationTime=1744550446000),\n FileInfo(path='dbfs:/FileStore/tables/ipl_2021_matches-5.csv', name='ipl_2021_matches-5.csv', size=12482, modificationTime=1744550977000),\n FileInfo(path='dbfs:/FileStore/tables/ipl_2021_matches-6.csv', name='ipl_2021_matches-6.csv', size=12482, modificationTime=1744592471000),\n FileInfo(path='dbfs:/FileStore/tables/ipl_2021_matches-7.csv', name='ipl_2021_matches-7.csv', size=12482, modificationTime=1744595707000),\n FileInfo(path='dbfs:/FileStore/tables/ipl_2021_matches-8.csv', name='ipl_2021_matches-8.csv', size=12482, modificationTime=1744599530000),\n FileInfo(path='dbfs:/FileStore/tables/ipl_2021_matches-9.csv', name='ipl_2021_matches-9.csv', size=12482, modificationTime=1744646828000),\n FileInfo(path='dbfs:/FileStore/tables/ipl_2021_matches.csv', name='ipl_2021_matches.csv', size=12482, modificationTime=1744549319000),\n FileInfo(path='dbfs:/FileStore/tables/ipl_2021_matches_cleaned.csv/', name='ipl_2021_matches_cleaned.csv/', size=0, modificationTime=0),\n FileInfo(path='dbfs:/FileStore/tables/ipl_2021_matches_cleaned_v2.csv/', name='ipl_2021_matches_cleaned_v2.csv/', size=0, modificationTime=0),\n FileInfo(path='dbfs:/FileStore/tables/match_date_time.csv/', name='match_date_time.csv/', size=0, modificationTime=0),\n FileInfo(path='dbfs:/FileStore/tables/match_datetime_full.csv/', name='match_datetime_full.csv/', size=0, modificationTime=0),\n FileInfo(path='dbfs:/FileStore/tables/match_details.csv/', name='match_details.csv/', size=0, modificationTime=0),\n FileInfo(path='dbfs:/FileStore/tables/pop-1.csv', name='pop-1.csv', size=335353, modificationTime=1740649112000),\n FileInfo(path='dbfs:/FileStore/tables/pop-2.csv', name='pop-2.csv', size=335353, modificationTime=1740649181000),\n FileInfo(path='dbfs:/FileStore/tables/pop-3.csv', name='pop-3.csv', size=335353, modificationTime=1740650598000),\n FileInfo(path='dbfs:/FileStore/tables/pop-4.csv', name='pop-4.csv', size=335353, modificationTime=1740662995000),\n FileInfo(path='dbfs:/FileStore/tables/pop-5.csv', name='pop-5.csv', size=335353, modificationTime=1740667632000),\n FileInfo(path='dbfs:/FileStore/tables/pop-6.csv', name='pop-6.csv', size=335353, modificationTime=1740667917000),\n FileInfo(path='dbfs:/FileStore/tables/pop-7.csv', name='pop-7.csv', size=335353, modificationTime=1740668298000),\n FileInfo(path='dbfs:/FileStore/tables/pop-8.csv', name='pop-8.csv', size=335353, modificationTime=1740717536000),\n FileInfo(path='dbfs:/FileStore/tables/pop-9.csv', name='pop-9.csv', size=335353, modificationTime=1740717656000),\n FileInfo(path='dbfs:/FileStore/tables/pop.csv', name='pop.csv', size=335353, modificationTime=1740648911000),\n FileInfo(path='dbfs:/FileStore/tables/pop.xlsx', name='pop.xlsx', size=2064226, modificationTime=1740851366000),\n FileInfo(path='dbfs:/FileStore/tables/population.csv', name='population.csv', size=335353, modificationTime=1740851840000)]"
     ]
    }
   ],
   "source": [
    "dbutils.fs.ls(\"dbfs:/FileStore/tables/\")\n"
   ]
  },
  {
   "cell_type": "code",
   "execution_count": 0,
   "metadata": {
    "application/vnd.databricks.v1+cell": {
     "cellMetadata": {
      "byteLimit": 2048000,
      "rowLimit": 10000
     },
     "inputWidgets": {},
     "nuid": "769f3402-1ceb-4834-9f9a-1aa0fff4adfc",
     "showTitle": false,
     "tableResultSettingsMap": {},
     "title": ""
    }
   },
   "outputs": [],
   "source": [
    "commentary_df = spark.read.option(\"header\", \"true\").csv(\"dbfs:/FileStore/tables/final_combined_ipl_commentary.csv\")\n"
   ]
  },
  {
   "cell_type": "code",
   "execution_count": 0,
   "metadata": {
    "application/vnd.databricks.v1+cell": {
     "cellMetadata": {
      "byteLimit": 2048000,
      "rowLimit": 10000
     },
     "inputWidgets": {},
     "nuid": "70b5238a-d1e1-46ae-8232-4cb30ca1f31e",
     "showTitle": false,
     "tableResultSettingsMap": {},
     "title": ""
    }
   },
   "outputs": [
    {
     "output_type": "stream",
     "name": "stdout",
     "output_type": "stream",
     "text": [
      "+--------------------+\n|          match_name|\n+--------------------+\n|SUNRISERS HYDERAB...|\n|SUNRISERS HYDERAB...|\n|MUMBAI INDIANS vs...|\n|CHENNAI SUPER KIN...|\n|KOLKATA KNIGHT RI...|\n+--------------------+\nonly showing top 5 rows\n\n+--------------------+\n|          match_name|\n+--------------------+\n|SUNRISERS HYDERAB...|\n|SUNRISERS HYDERAB...|\n|MUMBAI INDIANS vs...|\n|CHENNAI SUPER KIN...|\n|KOLKATA KNIGHT RI...|\n+--------------------+\nonly showing top 5 rows\n\n"
     ]
    }
   ],
   "source": [
    "ipl_matches_df.select(\"match_name\").distinct().show(5)\n",
    "commentary_df.select(\"match_name\").distinct().show(5)\n"
   ]
  },
  {
   "cell_type": "code",
   "execution_count": 0,
   "metadata": {
    "application/vnd.databricks.v1+cell": {
     "cellMetadata": {
      "byteLimit": 2048000,
      "rowLimit": 10000
     },
     "inputWidgets": {},
     "nuid": "53b0a0ce-5ae8-4a75-ab17-90191e56cb89",
     "showTitle": false,
     "tableResultSettingsMap": {},
     "title": ""
    }
   },
   "outputs": [
    {
     "output_type": "stream",
     "name": "stdout",
     "output_type": "stream",
     "text": [
      "✅ LEFT JOIN\n+--------+-------------------+--------------+\n|match_id|commentary         |over_summary  |\n+--------+-------------------+--------------+\n|101     |Dhoni hits a six   |Over 1: 6 runs|\n|102     |Rohit scores a four|Over 1: 4 runs|\n|103     |Kohli gets bowled  |null          |\n+--------+-------------------+--------------+\n\n"
     ]
    }
   ],
   "source": [
    "\n",
    "\n",
    "from pyspark.sql import SparkSession\n",
    "from pyspark.sql import Row\n",
    "\n",
    "spark = SparkSession.builder.getOrCreate()\n",
    "commentary_data = [\n",
    "    Row(match_id=101, commentary=\"Dhoni hits a six\"),\n",
    "    Row(match_id=102, commentary=\"Rohit scores a four\"),\n",
    "    Row(match_id=103, commentary=\"Kohli gets bowled\"),\n",
    "]\n",
    "commentary_df = spark.createDataFrame(commentary_data)\n",
    "overs_data = [\n",
    "    Row(match_id=101, over_summary=\"Over 1: 6 runs\"),\n",
    "    Row(match_id=102, over_summary=\"Over 1: 4 runs\"),\n",
    "]\n",
    "overs_df = spark.createDataFrame(overs_data)\n",
    "left_join_df = commentary_df.join(overs_df, on=\"match_id\", how=\"left\")\n",
    "print(\"✅ LEFT JOIN\")\n",
    "left_join_df.select(\"match_id\", \"commentary\", \"over_summary\").show(truncate=False)\n"
   ]
  },
  {
   "cell_type": "code",
   "execution_count": 0,
   "metadata": {
    "application/vnd.databricks.v1+cell": {
     "cellMetadata": {
      "byteLimit": 2048000,
      "rowLimit": 10000
     },
     "inputWidgets": {},
     "nuid": "afc6ddc2-9a22-47e0-a3e0-89c18c4f7a55",
     "showTitle": false,
     "tableResultSettingsMap": {},
     "title": ""
    }
   },
   "outputs": [
    {
     "output_type": "stream",
     "name": "stdout",
     "output_type": "stream",
     "text": [
      "✅ RIGHT JOIN\n+--------+-------------------+--------------+\n|match_id|commentary         |over_summary  |\n+--------+-------------------+--------------+\n|101     |Dhoni hits a six   |Over 1: 6 runs|\n|102     |Rohit scores a four|Over 1: 4 runs|\n+--------+-------------------+--------------+\n\n"
     ]
    }
   ],
   "source": [
    "right_join_df = commentary_df.join(overs_df, on=\"match_id\", how=\"right\")\n",
    "print(\"✅ RIGHT JOIN\")\n",
    "right_join_df.select(\"match_id\", \"commentary\", \"over_summary\").show(truncate=False)\n"
   ]
  },
  {
   "cell_type": "code",
   "execution_count": 0,
   "metadata": {
    "application/vnd.databricks.v1+cell": {
     "cellMetadata": {
      "byteLimit": 2048000,
      "rowLimit": 10000
     },
     "inputWidgets": {},
     "nuid": "f097d730-354c-4634-8440-fec9f69bf635",
     "showTitle": false,
     "tableResultSettingsMap": {},
     "title": ""
    }
   },
   "outputs": [
    {
     "output_type": "stream",
     "name": "stdout",
     "output_type": "stream",
     "text": [
      "✅ INNER JOIN\n+--------+-------------------+--------------+\n|match_id|commentary         |over_summary  |\n+--------+-------------------+--------------+\n|101     |Dhoni hits a six   |Over 1: 6 runs|\n|102     |Rohit scores a four|Over 1: 4 runs|\n+--------+-------------------+--------------+\n\n"
     ]
    }
   ],
   "source": [
    "inner_join_df = commentary_df.join(overs_df, on=\"match_id\", how=\"inner\")\n",
    "print(\"✅ INNER JOIN\")\n",
    "inner_join_df.select(\"match_id\", \"commentary\", \"over_summary\").show(truncate=False)\n"
   ]
  }
 ],
 "metadata": {
  "application/vnd.databricks.v1+notebook": {
   "computePreferences": null,
   "dashboards": [],
   "environmentMetadata": {
    "base_environment": "",
    "environment_version": "1"
   },
   "inputWidgetPreferences": null,
   "language": "python",
   "notebookMetadata": {
    "pythonIndentUnit": 4
   },
   "notebookName": "L 17 TASK 7",
   "widgets": {}
  }
 },
 "nbformat": 4,
 "nbformat_minor": 0
}