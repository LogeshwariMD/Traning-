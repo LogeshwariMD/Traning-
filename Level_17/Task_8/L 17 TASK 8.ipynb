{
 "cells": [
  {
   "cell_type": "code",
   "execution_count": 0,
   "metadata": {
    "application/vnd.databricks.v1+cell": {
     "cellMetadata": {
      "byteLimit": 2048000,
      "rowLimit": 10000
     },
     "inputWidgets": {},
     "nuid": "70018570-3dcc-4811-a68e-9897d25a5fa5",
     "showTitle": false,
     "tableResultSettingsMap": {},
     "title": ""
    }
   },
   "outputs": [
    {
     "output_type": "stream",
     "name": "stdout",
     "output_type": "stream",
     "text": [
      "+----+-----------+--------------------+--------+----------+--------------------+--------------------+-----------+-----------+--------------------+--------------+-----------+\n|year|series_type|         series_name|match_no|match_type|          match_name|          match_href|match_team1|match_team2|match_datetime_start|match_date_end|match_venue|\n+----+-----------+--------------------+--------+----------+--------------------+--------------------+-----------+-----------+--------------------+--------------+-----------+\n|2021|        T20|Indian Premier Le...|    null|    League|MUMBAI INDIANS vs...|https://www.cricb...|       null|       null|                null|          null|       null|\n|2021|        T20|Indian Premier Le...|    null|    League|CHENNAI SUPER KIN...|https://www.cricb...|       null|       null|                null|          null|       null|\n|2021|        T20|Indian Premier Le...|    null|    League|SUNRISERS HYDERAB...|https://www.cricb...|       null|       null|                null|          null|       null|\n|2021|        T20|Indian Premier Le...|    null|    League|RAJASTHAN ROYALS ...|https://www.cricb...|       null|       null|                null|          null|       null|\n|2021|        T20|Indian Premier Le...|    null|    League|KOLKATA KNIGHT RI...|https://www.cricb...|       null|       null|                null|          null|       null|\n+----+-----------+--------------------+--------+----------+--------------------+--------------------+-----------+-----------+--------------------+--------------+-----------+\nonly showing top 5 rows\n\n"
     ]
    }
   ],
   "source": [
    "ipl_matches_df = spark.read.option(\"header\", \"true\").csv(\"dbfs:/FileStore/tables/ipl_2021_matches.csv\")\n",
    "ipl_matches_df.show(5)\n"
   ]
  },
  {
   "cell_type": "code",
   "execution_count": 0,
   "metadata": {
    "application/vnd.databricks.v1+cell": {
     "cellMetadata": {
      "byteLimit": 2048000,
      "rowLimit": 10000
     },
     "inputWidgets": {},
     "nuid": "04a4b9ba-0db7-40eb-9c9b-0b856e9c8e96",
     "showTitle": false,
     "tableResultSettingsMap": {},
     "title": ""
    }
   },
   "outputs": [],
   "source": [
    "from pyspark.sql import functions as F\n"
   ]
  },
  {
   "cell_type": "code",
   "execution_count": 0,
   "metadata": {
    "application/vnd.databricks.v1+cell": {
     "cellMetadata": {
      "byteLimit": 2048000,
      "rowLimit": 10000
     },
     "inputWidgets": {},
     "nuid": "53a80ad3-786f-424e-8d7e-667c6d092bfd",
     "showTitle": false,
     "tableResultSettingsMap": {},
     "title": ""
    }
   },
   "outputs": [],
   "source": [
    "captains_data = [\n",
    "    (\"Rohit Sharma\", True),\n",
    "    (\"MS Dhoni\", True),\n",
    "    (\"Jasprit Bumrah\", False),\n",
    "    (\"Virat Kohli\", False),\n",
    "    \n",
    "]\n"
   ]
  },
  {
   "cell_type": "code",
   "execution_count": 0,
   "metadata": {
    "application/vnd.databricks.v1+cell": {
     "cellMetadata": {
      "byteLimit": 2048000,
      "rowLimit": 10000
     },
     "inputWidgets": {},
     "nuid": "7391cd86-2de7-48fd-b5a1-fc73eb0855b1",
     "showTitle": false,
     "tableResultSettingsMap": {},
     "title": ""
    }
   },
   "outputs": [],
   "source": [
    "captains_columns = [\"player_name\", \"is_captain\"]\n",
    "\n"
   ]
  },
  {
   "cell_type": "code",
   "execution_count": 0,
   "metadata": {
    "application/vnd.databricks.v1+cell": {
     "cellMetadata": {
      "byteLimit": 2048000,
      "rowLimit": 10000
     },
     "inputWidgets": {},
     "nuid": "d404033c-de97-4616-bb5c-a223804df817",
     "showTitle": false,
     "tableResultSettingsMap": {},
     "title": ""
    }
   },
   "outputs": [],
   "source": [
    "\n",
    "captains_df = spark.createDataFrame(captains_data, captains_columns)"
   ]
  },
  {
   "cell_type": "code",
   "execution_count": 0,
   "metadata": {
    "application/vnd.databricks.v1+cell": {
     "cellMetadata": {
      "byteLimit": 2048000,
      "rowLimit": 10000
     },
     "inputWidgets": {},
     "nuid": "abe10220-64bb-49dd-95be-c41c95c971ab",
     "showTitle": false,
     "tableResultSettingsMap": {},
     "title": ""
    }
   },
   "outputs": [],
   "source": [
    "ipl_matches_players_df = ipl_matches_df.withColumn(\n",
    "    \"player_name\", F.explode(F.split(F.col(\"match_name\"), \" vs \"))\n",
    ")"
   ]
  },
  {
   "cell_type": "code",
   "execution_count": 0,
   "metadata": {
    "application/vnd.databricks.v1+cell": {
     "cellMetadata": {
      "byteLimit": 2048000,
      "rowLimit": 10000
     },
     "inputWidgets": {},
     "nuid": "6e26811f-9d63-4aa8-ab76-3293c499b3b9",
     "showTitle": false,
     "tableResultSettingsMap": {},
     "title": ""
    }
   },
   "outputs": [],
   "source": [
    "players_with_captain_status_df = ipl_matches_players_df \\\n",
    "    .join(captains_df, on=\"player_name\", how=\"left\") \\\n",
    "    .fillna({\"is_captain\": False}) "
   ]
  },
  {
   "cell_type": "code",
   "execution_count": 0,
   "metadata": {
    "application/vnd.databricks.v1+cell": {
     "cellMetadata": {
      "byteLimit": 2048000,
      "rowLimit": 10000
     },
     "inputWidgets": {},
     "nuid": "05d412ba-1adb-4984-b424-b72056d31dda",
     "showTitle": false,
     "tableResultSettingsMap": {},
     "title": ""
    }
   },
   "outputs": [],
   "source": [
    "final_df = players_with_captain_status_df.select(\"match_name\", \"player_name\", \"is_captain\")\n"
   ]
  },
  {
   "cell_type": "code",
   "execution_count": 0,
   "metadata": {
    "application/vnd.databricks.v1+cell": {
     "cellMetadata": {
      "byteLimit": 2048000,
      "rowLimit": 10000
     },
     "inputWidgets": {},
     "nuid": "2c7a2174-723b-4531-8099-26519cc60352",
     "showTitle": false,
     "tableResultSettingsMap": {},
     "title": ""
    }
   },
   "outputs": [
    {
     "output_type": "stream",
     "name": "stdout",
     "output_type": "stream",
     "text": [
      "+----------------------------------------------------------------+--------------------------------------+----------+\n|match_name                                                      |player_name                           |is_captain|\n+----------------------------------------------------------------+--------------------------------------+----------+\n|MUMBAI INDIANS vs ROYAL CHALLENGERS BENGALURU, 1st Match        |MUMBAI INDIANS                        |false     |\n|MUMBAI INDIANS vs ROYAL CHALLENGERS BENGALURU, 1st Match        |ROYAL CHALLENGERS BENGALURU, 1st Match|false     |\n|CHENNAI SUPER KINGS vs DELHI CAPITALS, 2nd Match                |CHENNAI SUPER KINGS                   |false     |\n|CHENNAI SUPER KINGS vs DELHI CAPITALS, 2nd Match                |DELHI CAPITALS, 2nd Match             |false     |\n|SUNRISERS HYDERABAD vs KOLKATA KNIGHT RIDERS, 3rd Match         |SUNRISERS HYDERABAD                   |false     |\n|SUNRISERS HYDERABAD vs KOLKATA KNIGHT RIDERS, 3rd Match         |KOLKATA KNIGHT RIDERS, 3rd Match      |false     |\n|RAJASTHAN ROYALS vs PUNJAB KINGS, 4th Match                     |RAJASTHAN ROYALS                      |false     |\n|RAJASTHAN ROYALS vs PUNJAB KINGS, 4th Match                     |PUNJAB KINGS, 4th Match               |false     |\n|KOLKATA KNIGHT RIDERS vs MUMBAI INDIANS, 5th Match              |KOLKATA KNIGHT RIDERS                 |false     |\n|KOLKATA KNIGHT RIDERS vs MUMBAI INDIANS, 5th Match              |MUMBAI INDIANS, 5th Match             |false     |\n|SUNRISERS HYDERABAD vs ROYAL CHALLENGERS BENGALURU, 6th Match   |SUNRISERS HYDERABAD                   |false     |\n|SUNRISERS HYDERABAD vs ROYAL CHALLENGERS BENGALURU, 6th Match   |ROYAL CHALLENGERS BENGALURU, 6th Match|false     |\n|RAJASTHAN ROYALS vs DELHI CAPITALS, 7th Match                   |RAJASTHAN ROYALS                      |false     |\n|RAJASTHAN ROYALS vs DELHI CAPITALS, 7th Match                   |DELHI CAPITALS, 7th Match             |false     |\n|PUNJAB KINGS vs CHENNAI SUPER KINGS, 8th Match                  |PUNJAB KINGS                          |false     |\n|PUNJAB KINGS vs CHENNAI SUPER KINGS, 8th Match                  |CHENNAI SUPER KINGS, 8th Match        |false     |\n|MUMBAI INDIANS vs SUNRISERS HYDERABAD, 9th Match                |MUMBAI INDIANS                        |false     |\n|MUMBAI INDIANS vs SUNRISERS HYDERABAD, 9th Match                |SUNRISERS HYDERABAD, 9th Match        |false     |\n|ROYAL CHALLENGERS BENGALURU vs KOLKATA KNIGHT RIDERS, 10th Match|ROYAL CHALLENGERS BENGALURU           |false     |\n|ROYAL CHALLENGERS BENGALURU vs KOLKATA KNIGHT RIDERS, 10th Match|KOLKATA KNIGHT RIDERS, 10th Match     |false     |\n+----------------------------------------------------------------+--------------------------------------+----------+\nonly showing top 20 rows\n\n"
     ]
    }
   ],
   "source": [
    "final_df.show(truncate=False)"
   ]
  }
 ],
 "metadata": {
  "application/vnd.databricks.v1+notebook": {
   "computePreferences": null,
   "dashboards": [],
   "environmentMetadata": {
    "base_environment": "",
    "environment_version": "1"
   },
   "inputWidgetPreferences": null,
   "language": "python",
   "notebookMetadata": {
    "pythonIndentUnit": 4
   },
   "notebookName": "L 17 TASK 8",
   "widgets": {}
  }
 },
 "nbformat": 4,
 "nbformat_minor": 0
}