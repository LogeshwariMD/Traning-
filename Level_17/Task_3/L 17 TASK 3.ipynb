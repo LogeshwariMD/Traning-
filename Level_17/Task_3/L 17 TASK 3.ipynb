{
 "cells": [
  {
   "cell_type": "code",
   "execution_count": 0,
   "metadata": {
    "application/vnd.databricks.v1+cell": {
     "cellMetadata": {
      "byteLimit": 2048000,
      "rowLimit": 10000
     },
     "inputWidgets": {},
     "nuid": "c1da4c27-7b04-4d04-9380-668b8e923319",
     "showTitle": false,
     "tableResultSettingsMap": {},
     "title": ""
    }
   },
   "outputs": [
    {
     "output_type": "stream",
     "name": "stdout",
     "output_type": "stream",
     "text": [
      "+----------------------------------------------------------------+\n|match_name                                                      |\n+----------------------------------------------------------------+\n|MUMBAI INDIANS vs ROYAL CHALLENGERS BENGALURU, 1st Match        |\n|CHENNAI SUPER KINGS vs DELHI CAPITALS, 2nd Match                |\n|SUNRISERS HYDERABAD vs KOLKATA KNIGHT RIDERS, 3rd Match         |\n|RAJASTHAN ROYALS vs PUNJAB KINGS, 4th Match                     |\n|KOLKATA KNIGHT RIDERS vs MUMBAI INDIANS, 5th Match              |\n|SUNRISERS HYDERABAD vs ROYAL CHALLENGERS BENGALURU, 6th Match   |\n|RAJASTHAN ROYALS vs DELHI CAPITALS, 7th Match                   |\n|PUNJAB KINGS vs CHENNAI SUPER KINGS, 8th Match                  |\n|MUMBAI INDIANS vs SUNRISERS HYDERABAD, 9th Match                |\n|ROYAL CHALLENGERS BENGALURU vs KOLKATA KNIGHT RIDERS, 10th Match|\n|DELHI CAPITALS vs PUNJAB KINGS, 11th Match                      |\n|CHENNAI SUPER KINGS vs RAJASTHAN ROYALS, 12th Match             |\n|DELHI CAPITALS vs MUMBAI INDIANS, 13th Match                    |\n|PUNJAB KINGS vs SUNRISERS HYDERABAD, 14th Match                 |\n|KOLKATA KNIGHT RIDERS vs CHENNAI SUPER KINGS, 15th Match        |\n|ROYAL CHALLENGERS BENGALURU vs RAJASTHAN ROYALS, 16th Match     |\n|PUNJAB KINGS vs MUMBAI INDIANS, 17th Match                      |\n|RAJASTHAN ROYALS vs KOLKATA KNIGHT RIDERS, 18th Match           |\n|CHENNAI SUPER KINGS vs ROYAL CHALLENGERS BENGALURU, 19th Match  |\n|SUNRISERS HYDERABAD vs DELHI CAPITALS, 20th Match               |\n|PUNJAB KINGS vs KOLKATA KNIGHT RIDERS, 21st Match               |\n|DELHI CAPITALS vs ROYAL CHALLENGERS BENGALURU, 22nd Match       |\n|CHENNAI SUPER KINGS vs SUNRISERS HYDERABAD, 23rd Match          |\n|MUMBAI INDIANS vs RAJASTHAN ROYALS, 24th Match                  |\n|DELHI CAPITALS vs KOLKATA KNIGHT RIDERS, 25th Match             |\n|PUNJAB KINGS vs ROYAL CHALLENGERS BENGALURU, 26th Match         |\n|MUMBAI INDIANS vs CHENNAI SUPER KINGS, 27th Match               |\n|RAJASTHAN ROYALS vs SUNRISERS HYDERABAD, 28th Match             |\n|PUNJAB KINGS vs DELHI CAPITALS, 29th Match                      |\n|KOLKATA KNIGHT RIDERS vs ROYAL CHALLENGERS BENGALURU, 30th Match|\n|SUNRISERS HYDERABAD vs MUMBAI INDIANS, 31st Match               |\n|CHENNAI SUPER KINGS vs MUMBAI INDIANS, 30th Match               |\n|KOLKATA KNIGHT RIDERS vs ROYAL CHALLENGERS BENGALURU, 31st Match|\n|PUNJAB KINGS vs RAJASTHAN ROYALS, 32nd Match                    |\n|DELHI CAPITALS vs SUNRISERS HYDERABAD, 33rd Match               |\n|MUMBAI INDIANS vs KOLKATA KNIGHT RIDERS, 34th Match             |\n|ROYAL CHALLENGERS BENGALURU vs CHENNAI SUPER KINGS, 35th Match  |\n|DELHI CAPITALS vs RAJASTHAN ROYALS, 36th Match                  |\n|SUNRISERS HYDERABAD vs PUNJAB KINGS, 37th Match                 |\n|CHENNAI SUPER KINGS vs KOLKATA KNIGHT RIDERS, 38th Match        |\n|ROYAL CHALLENGERS BENGALURU vs MUMBAI INDIANS, 39th Match       |\n|SUNRISERS HYDERABAD vs RAJASTHAN ROYALS, 40th Match             |\n|KOLKATA KNIGHT RIDERS vs DELHI CAPITALS, 41st Match             |\n|MUMBAI INDIANS vs PUNJAB KINGS, 42nd Match                      |\n|RAJASTHAN ROYALS vs ROYAL CHALLENGERS BENGALURU, 43rd Match     |\n|SUNRISERS HYDERABAD vs CHENNAI SUPER KINGS, 44th Match          |\n|KOLKATA KNIGHT RIDERS vs PUNJAB KINGS, 45th Match               |\n|MUMBAI INDIANS vs DELHI CAPITALS, 46th Match                    |\n|RAJASTHAN ROYALS vs CHENNAI SUPER KINGS, 47th Match             |\n|ROYAL CHALLENGERS BENGALURU vs PUNJAB KINGS, 48th Match         |\n+----------------------------------------------------------------+\nonly showing top 50 rows\n\n"
     ]
    }
   ],
   "source": [
    "ipl_matches_df.select(\"match_name\").filter(col(\"match_name\").isNotNull()).show(50, truncate=False)\n"
   ]
  },
  {
   "cell_type": "code",
   "execution_count": 0,
   "metadata": {
    "application/vnd.databricks.v1+cell": {
     "cellMetadata": {
      "byteLimit": 2048000,
      "rowLimit": 10000
     },
     "inputWidgets": {},
     "nuid": "15c120fc-5a32-4a9d-9459-06403b39a494",
     "showTitle": false,
     "tableResultSettingsMap": {},
     "title": ""
    }
   },
   "outputs": [
    {
     "output_type": "stream",
     "name": "stdout",
     "output_type": "stream",
     "text": [
      "+----+-----------+--------------------+--------+----------+--------------------+--------------------+-----------+-----------+--------------------+--------------+-----------+\n|year|series_type|         series_name|match_no|match_type|          match_name|          match_href|match_team1|match_team2|match_datetime_start|match_date_end|match_venue|\n+----+-----------+--------------------+--------+----------+--------------------+--------------------+-----------+-----------+--------------------+--------------+-----------+\n|2021|        T20|Indian Premier Le...|    null|    League|MUMBAI INDIANS vs...|https://www.cricb...|       null|       null|                null|          null|       null|\n|2021|        T20|Indian Premier Le...|    null|    League|CHENNAI SUPER KIN...|https://www.cricb...|       null|       null|                null|          null|       null|\n|2021|        T20|Indian Premier Le...|    null|    League|SUNRISERS HYDERAB...|https://www.cricb...|       null|       null|                null|          null|       null|\n|2021|        T20|Indian Premier Le...|    null|    League|RAJASTHAN ROYALS ...|https://www.cricb...|       null|       null|                null|          null|       null|\n|2021|        T20|Indian Premier Le...|    null|    League|KOLKATA KNIGHT RI...|https://www.cricb...|       null|       null|                null|          null|       null|\n+----+-----------+--------------------+--------+----------+--------------------+--------------------+-----------+-----------+--------------------+--------------+-----------+\nonly showing top 5 rows\n\n"
     ]
    }
   ],
   "source": [
    "df = spark.read.option(\"header\", \"true\").csv(\"dbfs:/FileStore/tables/ipl_2021_matches.csv\")\n",
    "df.show(5)"
   ]
  },
  {
   "cell_type": "code",
   "execution_count": 0,
   "metadata": {
    "application/vnd.databricks.v1+cell": {
     "cellMetadata": {
      "byteLimit": 2048000,
      "rowLimit": 10000
     },
     "inputWidgets": {},
     "nuid": "b5bc1bb2-d2a5-4f5e-84ea-a5ee4fa51609",
     "showTitle": false,
     "tableResultSettingsMap": {},
     "title": ""
    }
   },
   "outputs": [],
   "source": [
    "mock_tied_match = [Row(\n",
    "    year=\"2021\",\n",
    "    series_type=\"T20\",\n",
    "    series_name=\"Indian Premier League 2021\",\n",
    "    match_no=\"50\",\n",
    "    match_type=\"Playoff\",\n",
    "    match_name=\"DELHI CAPITALS vs RAJASTHAN ROYALS, Tied Match (Super Over)\",\n",
    "    match_href=\"https://www.cricbuzz.com/cricket-scores/99999/dc-vs-rr-tied-match-super-over\",\n",
    "    match_team1=\"DELHI CAPITALS\",\n",
    "    match_team2=\"RAJASTHAN ROYALS\",\n",
    "    match_datetime_start=\"2021-05-10T19:30:00\",\n",
    "    match_date_end=\"2021-05-10\",\n",
    "    match_venue=\"Wankhede Stadium\"\n",
    ")]\n"
   ]
  },
  {
   "cell_type": "code",
   "execution_count": 0,
   "metadata": {
    "application/vnd.databricks.v1+cell": {
     "cellMetadata": {
      "byteLimit": 2048000,
      "rowLimit": 10000
     },
     "inputWidgets": {},
     "nuid": "72ccec32-e40f-49ac-8fd9-c1ec6a7ea7c0",
     "showTitle": false,
     "tableResultSettingsMap": {},
     "title": ""
    }
   },
   "outputs": [],
   "source": [
    "mock_df = spark.createDataFrame(mock_tied_match)\n"
   ]
  },
  {
   "cell_type": "code",
   "execution_count": 0,
   "metadata": {
    "application/vnd.databricks.v1+cell": {
     "cellMetadata": {
      "byteLimit": 2048000,
      "rowLimit": 10000
     },
     "inputWidgets": {},
     "nuid": "3d51ff40-2d75-4b58-a653-26e6efcd2b0c",
     "showTitle": false,
     "tableResultSettingsMap": {},
     "title": ""
    }
   },
   "outputs": [],
   "source": [
    "combined_df = ipl_matches_df.unionByName(mock_df)"
   ]
  },
  {
   "cell_type": "code",
   "execution_count": 0,
   "metadata": {
    "application/vnd.databricks.v1+cell": {
     "cellMetadata": {
      "byteLimit": 2048000,
      "rowLimit": 10000
     },
     "inputWidgets": {},
     "nuid": "3eddf9a1-4f17-46ef-9c26-e5d271e5343d",
     "showTitle": false,
     "tableResultSettingsMap": {},
     "title": ""
    }
   },
   "outputs": [],
   "source": [
    "tied_matches_df = combined_df.filter(\n",
    "    lower(col(\"match_name\")).like(\"%tie%\") | lower(col(\"match_name\")).like(\"%super over%\")\n",
    ")\n"
   ]
  },
  {
   "cell_type": "code",
   "execution_count": 0,
   "metadata": {
    "application/vnd.databricks.v1+cell": {
     "cellMetadata": {
      "byteLimit": 2048000,
      "rowLimit": 10000
     },
     "inputWidgets": {},
     "nuid": "a40ada30-e7eb-45f0-9949-b58acc2d4b28",
     "showTitle": false,
     "tableResultSettingsMap": {},
     "title": ""
    }
   },
   "outputs": [
    {
     "output_type": "stream",
     "name": "stdout",
     "output_type": "stream",
     "text": [
      "+-----------------------------------------------------------+----------------------------------------------------------------------------+----------------+\n|match_name                                                 |match_href                                                                  |match_venue     |\n+-----------------------------------------------------------+----------------------------------------------------------------------------+----------------+\n|DELHI CAPITALS vs RAJASTHAN ROYALS, Tied Match (Super Over)|https://www.cricbuzz.com/cricket-scores/99999/dc-vs-rr-tied-match-super-over|Wankhede Stadium|\n+-----------------------------------------------------------+----------------------------------------------------------------------------+----------------+\n\n"
     ]
    }
   ],
   "source": [
    "tie_breakers_df = tied_matches_df.select(\"match_name\", \"match_href\", \"match_venue\")\n",
    "tie_breakers_df.show(truncate=False)"
   ]
  },
  {
   "cell_type": "code",
   "execution_count": 0,
   "metadata": {
    "application/vnd.databricks.v1+cell": {
     "cellMetadata": {
      "byteLimit": 2048000,
      "rowLimit": 10000
     },
     "inputWidgets": {},
     "nuid": "286208ac-efa9-4f11-a838-37b205917c74",
     "showTitle": false,
     "tableResultSettingsMap": {},
     "title": ""
    }
   },
   "outputs": [
    {
     "output_type": "stream",
     "name": "stdout",
     "output_type": "stream",
     "text": [
      "+--------------------------------------------------------+\n|match_name                                              |\n+--------------------------------------------------------+\n|MUMBAI INDIANS vs ROYAL CHALLENGERS BENGALURU, 1st Match|\n|CHENNAI SUPER KINGS vs DELHI CAPITALS, 2nd Match        |\n|SUNRISERS HYDERABAD vs KOLKATA KNIGHT RIDERS, 3rd Match |\n|RAJASTHAN ROYALS vs PUNJAB KINGS, 4th Match             |\n|KOLKATA KNIGHT RIDERS vs MUMBAI INDIANS, 5th Match      |\n+--------------------------------------------------------+\nonly showing top 5 rows\n\n"
     ]
    }
   ],
   "source": [
    "df.select(\"match_name\").show(5, truncate=False)\n"
   ]
  },
  {
   "cell_type": "code",
   "execution_count": 0,
   "metadata": {
    "application/vnd.databricks.v1+cell": {
     "cellMetadata": {
      "byteLimit": 2048000,
      "rowLimit": 10000
     },
     "inputWidgets": {},
     "nuid": "a922bf6b-7d43-455e-8946-ab862dd891a8",
     "showTitle": false,
     "tableResultSettingsMap": {},
     "title": ""
    }
   },
   "outputs": [
    {
     "output_type": "stream",
     "name": "stdout",
     "output_type": "stream",
     "text": [
      "+----------------------------------------------------------------+----------+\n|match_name                                                      |match_type|\n+----------------------------------------------------------------+----------+\n|CHENNAI SUPER KINGS vs KOLKATA KNIGHT RIDERS, Final             |League    |\n|DELHI CAPITALS vs KOLKATA KNIGHT RIDERS, Qualifier 2            |League    |\n|DELHI CAPITALS vs CHENNAI SUPER KINGS, Qualifier 1              |League    |\n|ROYAL CHALLENGERS BENGALURU vs KOLKATA KNIGHT RIDERS, Eliminator|League    |\n+----------------------------------------------------------------+----------+\n\n"
     ]
    }
   ],
   "source": [
    "tie_breaker_matches = df.filter(\n",
    "    df.match_name.contains(\"Final\") | \n",
    "    df.match_name.contains(\"Qualifier\") | \n",
    "    df.match_name.contains(\"Eliminator\")\n",
    ")\n",
    "tie_breaker_matches = tie_breaker_matches.select(\"match_name\", \"match_type\").distinct()\n",
    "tie_breaker_matches.show(truncate=False)\n",
    "\n"
   ]
  },
  {
   "cell_type": "code",
   "execution_count": 0,
   "metadata": {
    "application/vnd.databricks.v1+cell": {
     "cellMetadata": {
      "byteLimit": 2048000,
      "rowLimit": 10000
     },
     "inputWidgets": {},
     "nuid": "e60952ed-ed94-4c20-aac6-691a8d8b1dad",
     "showTitle": false,
     "tableResultSettingsMap": {},
     "title": ""
    }
   },
   "outputs": [
    {
     "output_type": "stream",
     "name": "stdout",
     "output_type": "stream",
     "text": [
      "List of Tie Breakers: \nCHENNAI SUPER KINGS vs KOLKATA KNIGHT RIDERS, Final\nLeague\nDELHI CAPITALS vs KOLKATA KNIGHT RIDERS, Qualifier 2\nLeague\nDELHI CAPITALS vs CHENNAI SUPER KINGS, Qualifier 1\nLeague\nROYAL CHALLENGERS BENGALURU vs KOLKATA KNIGHT RIDERS, Eliminator\nLeague\n"
     ]
    }
   ],
   "source": [
    "tie_breakers = tie_breaker_matches.rdd.flatMap(lambda x: x).collect()\n",
    "\n",
    "print(\"List of Tie Breakers: \")\n",
    "for tie in tie_breakers:\n",
    "    print(tie)"
   ]
  }
 ],
 "metadata": {
  "application/vnd.databricks.v1+notebook": {
   "computePreferences": null,
   "dashboards": [],
   "environmentMetadata": {
    "base_environment": "",
    "environment_version": "1"
   },
   "inputWidgetPreferences": null,
   "language": "python",
   "notebookMetadata": {
    "pythonIndentUnit": 4
   },
   "notebookName": "L 17 TASK 3",
   "widgets": {}
  }
 },
 "nbformat": 4,
 "nbformat_minor": 0
}