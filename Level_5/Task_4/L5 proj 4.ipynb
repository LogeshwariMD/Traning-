{
 "cells": [
  {
   "cell_type": "markdown",
   "id": "7aa1972e-f552-418b-8b9d-f3dccbead28f",
   "metadata": {},
   "source": [
    "Project 4: Parallel Data Processor"
   ]
  },
  {
   "cell_type": "code",
   "execution_count": 18,
   "id": "e07fb57b-d04d-4ab6-bc2d-5974fb585993",
   "metadata": {},
   "outputs": [],
   "source": [
    "import threading\n",
    "import logging\n",
    "import pandas as pd"
   ]
  },
  {
   "cell_type": "code",
   "execution_count": 19,
   "id": "c800b893-9e2b-4fbe-8515-6a0facdeaac6",
   "metadata": {},
   "outputs": [],
   "source": [
    "logging.basicConfig(filename=\"processor.log\", level=logging.INFO,\n",
    "                    format=\"%(asctime)s - %(levelname)s - %(message)s\")\n",
    "\n",
    "def process_csv(file_name, column_name):\n",
    "    \"\"\"Reads CSV, calculates mean, and logs process.\"\"\"\n",
    "    logging.info(f\"Processing started for {file_name}\")\n",
    "    \n",
    "    try:\n",
    "        df = pd.read_csv(file_name)\n",
    "        mean_value = df[column_name].mean()\n",
    "        logging.info(f\"Processing completed for {file_name} - Mean: {mean_value}\")\n",
    "        print(f\"Mean of {column_name} in {file_name}: {mean_value}\")\n",
    "    except Exception as e:\n",
    "        logging.error(f\"Error processing {file_name}: {e}\")\n",
    "\n"
   ]
  },
  {
   "cell_type": "code",
   "execution_count": 20,
   "id": "7555418d-6d1f-453e-b7cc-cea36798f129",
   "metadata": {},
   "outputs": [],
   "source": [
    "csv_files = [\"data1.csv\", \"data2.csv\"]\n",
    "column_to_process = \"Value\"\n"
   ]
  },
  {
   "cell_type": "code",
   "execution_count": 21,
   "id": "6601d5c1-3165-4d72-979e-e3c7a25dae75",
   "metadata": {},
   "outputs": [
    {
     "name": "stdout",
     "output_type": "stream",
     "text": [
      "Mean of Value in data2.csv: 74.3\n",
      "Mean of Value in data1.csv: 47.4\n"
     ]
    }
   ],
   "source": [
    "thread1 = threading.Thread(target=process_csv, args=(csv_files[0], column_to_process))\n",
    "thread2 = threading.Thread(target=process_csv, args=(csv_files[1], column_to_process))\n",
    "thread1.start()\n",
    "thread2.start()\n",
    "thread1.join()\n",
    "thread2.join()\n"
   ]
  },
  {
   "cell_type": "code",
   "execution_count": 22,
   "id": "f4e68d0f-dd96-47d1-983b-b6102c393ec2",
   "metadata": {},
   "outputs": [
    {
     "name": "stdout",
     "output_type": "stream",
     "text": [
      "Processing complete. Check processor.log for details.\n"
     ]
    }
   ],
   "source": [
    "print(\"Processing complete. Check processor.log for details.\")"
   ]
  },
  {
   "cell_type": "code",
   "execution_count": null,
   "id": "b31729f5-8c39-4d5b-9ebc-b29d26daa22c",
   "metadata": {},
   "outputs": [],
   "source": []
  }
 ],
 "metadata": {
  "kernelspec": {
   "display_name": "Python 3 (ipykernel)",
   "language": "python",
   "name": "python3"
  },
  "language_info": {
   "codemirror_mode": {
    "name": "ipython",
    "version": 3
   },
   "file_extension": ".py",
   "mimetype": "text/x-python",
   "name": "python",
   "nbconvert_exporter": "python",
   "pygments_lexer": "ipython3",
   "version": "3.12.4"
  }
 },
 "nbformat": 4,
 "nbformat_minor": 5
}
