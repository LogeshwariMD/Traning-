{
 "cells": [
  {
   "cell_type": "markdown",
   "id": "b59010e1-6675-4a11-a807-c2861277241a",
   "metadata": {},
   "source": [
    " Project 5: Custom Data Class Dashboard"
   ]
  },
  {
   "cell_type": "code",
   "execution_count": 5,
   "id": "82e77824-078f-4243-b753-6fc95ce7a7e2",
   "metadata": {},
   "outputs": [],
   "source": [
    "import pandas as pd\n",
    "import matplotlib.pyplot as plt\n",
    "from dataclasses import dataclass"
   ]
  },
  {
   "cell_type": "code",
   "execution_count": 6,
   "id": "3ee0bedc-c445-4943-a3f1-542bc82d3fbe",
   "metadata": {},
   "outputs": [],
   "source": [
    "df = pd.read_csv('Housing.csv')"
   ]
  },
  {
   "cell_type": "code",
   "execution_count": 8,
   "id": "9a90bbc8-ca17-43e4-b255-2342d00d3ac1",
   "metadata": {},
   "outputs": [
    {
     "data": {
      "text/plain": [
       "Index(['price', 'area', 'bedrooms', 'bathrooms', 'stories', 'mainroad',\n",
       "       'guestroom', 'basement', 'hotwaterheating', 'airconditioning',\n",
       "       'parking', 'prefarea', 'furnishingstatus'],\n",
       "      dtype='object')"
      ]
     },
     "execution_count": 8,
     "metadata": {},
     "output_type": "execute_result"
    }
   ],
   "source": [
    "df.columns"
   ]
  },
  {
   "cell_type": "code",
   "execution_count": 12,
   "id": "778d0414-21f2-4c50-b0fb-a86fad66ef46",
   "metadata": {},
   "outputs": [],
   "source": [
    "@dataclass\n",
    "class DatasetStats:\n",
    "    mean: float\n",
    "    max: float\n",
    "    min: float\n",
    "\n",
    "    def show_stats(self):\n",
    "        \"\"\"Displays dataset statistics.\"\"\"\n",
    "        print(f\"Mean: {self.mean}\")\n",
    "        print(f\"Max: {self.max}\")\n",
    "        print(f\"Min: {self.min}\")\n",
    "\n",
    "    def plot_histogram(self, column):\n",
    "        \"\"\"Plots a histogram for the specified column.\"\"\"\n",
    "        if column in df.columns:\n",
    "            plt.hist(df[column], bins=5, color=\"skyblue\", edgecolor=\"black\")\n",
    "            plt.xlabel(column)\n",
    "            plt.ylabel(\"Frequency\")\n",
    "            plt.title(f\"Histogram of {column}\")\n",
    "            plt.show()\n",
    "        else:\n",
    "            print(f\"Column '{column}' not found in dataset.\")\n",
    "price_stats = DatasetStats(\n",
    "    mean=df[\"price\"].mean(),\n",
    "    max=df[\"price\"].max(),\n",
    "    min=df[\"price\"].min()\n",
    ")\n",
    "\n"
   ]
  },
  {
   "cell_type": "code",
   "execution_count": 16,
   "id": "a5e19ccd-401d-42c1-902d-5bb3b6c43241",
   "metadata": {},
   "outputs": [
    {
     "name": "stdout",
     "output_type": "stream",
     "text": [
      "\n",
      "--- Custom Data Class Dashboard ---\n",
      "1. Show dataset statistics\n",
      "2. Plot histogram (price)\n",
      "3. Exit\n"
     ]
    },
    {
     "name": "stdin",
     "output_type": "stream",
     "text": [
      "Enter your choice (1/2/3):  1\n"
     ]
    },
    {
     "name": "stdout",
     "output_type": "stream",
     "text": [
      "Mean: 4766729.247706422\n",
      "Max: 13300000\n",
      "Min: 1750000\n",
      "\n",
      "--- Custom Data Class Dashboard ---\n",
      "1. Show dataset statistics\n",
      "2. Plot histogram (price)\n",
      "3. Exit\n"
     ]
    },
    {
     "name": "stdin",
     "output_type": "stream",
     "text": [
      "Enter your choice (1/2/3):  2\n"
     ]
    },
    {
     "data": {
      "image/png": "[encoded data removed]",
      "text/plain": [
       "<Figure size 640x480 with 1 Axes>"
      ]
     },
     "metadata": {},
     "output_type": "display_data"
    },
    {
     "name": "stdout",
     "output_type": "stream",
     "text": [
      "\n",
      "--- Custom Data Class Dashboard ---\n",
      "1. Show dataset statistics\n",
      "2. Plot histogram (price)\n",
      "3. Exit\n"
     ]
    },
    {
     "name": "stdin",
     "output_type": "stream",
     "text": [
      "Enter your choice (1/2/3):  3\n"
     ]
    },
    {
     "name": "stdout",
     "output_type": "stream",
     "text": [
      "Exiting dashboard. Goodbye!\n"
     ]
    }
   ],
   "source": [
    "def interactive_menu():\n",
    "    while True:\n",
    "        print(\"\\n--- Custom Data Class Dashboard ---\")\n",
    "        print(\"1. Show dataset statistics\")\n",
    "        print(\"2. Plot histogram (price)\")\n",
    "        print(\"3. Exit\")\n",
    "        \n",
    "        choice = input(\"Enter your choice (1/2/3): \").strip()\n",
    "        \n",
    "        if choice == \"1\":\n",
    "            price_stats.show_stats()\n",
    "        elif choice == \"2\":\n",
    "            price_stats.plot_histogram(\"price\")\n",
    "        elif choice == \"3\":\n",
    "            print(\"Exiting dashboard. Goodbye!\")\n",
    "            break\n",
    "        else:\n",
    "            print(\"Invalid choice. Please try again.\")\n",
    "\n",
    "interactive_menu()"
   ]
  },
  {
   "cell_type": "code",
   "execution_count": 18,
   "id": "7c2e6d5d-b0ed-424c-9b3a-0918e640df9d",
   "metadata": {},
   "outputs": [
    {
     "data": {
      "text/plain": [
       "4766729.247706422"
      ]
     },
     "execution_count": 18,
     "metadata": {},
     "output_type": "execute_result"
    }
   ],
   "source": [
    "mean=df[\"price\"].mean()\n",
    "mean\n"
   ]
  },
  {
   "cell_type": "code",
   "execution_count": 19,
   "id": "6e5982f1-fffc-44c0-80d6-9d7d4658e663",
   "metadata": {},
   "outputs": [
    {
     "data": {
      "text/plain": [
       "13300000"
      ]
     },
     "execution_count": 19,
     "metadata": {},
     "output_type": "execute_result"
    }
   ],
   "source": [
    "max=df[\"price\"].max()\n",
    "max"
   ]
  },
  {
   "cell_type": "code",
   "execution_count": 20,
   "id": "b26ae5a6-6cd0-4785-8bb7-9f8b67fb9bb4",
   "metadata": {},
   "outputs": [
    {
     "data": {
      "text/plain": [
       "1750000"
      ]
     },
     "execution_count": 20,
     "metadata": {},
     "output_type": "execute_result"
    }
   ],
   "source": [
    "min=df[\"price\"].min()\n",
    "min\n",
    "\n"
   ]
  },
  {
   "cell_type": "markdown",
   "id": "188b117f-75e6-4d34-b9a1-b3f195562961",
   "metadata": {},
   "source": []
  }
 ],
 "metadata": {
  "kernelspec": {
   "display_name": "Python 3 (ipykernel)",
   "language": "python",
   "name": "python3"
  },
  "language_info": {
   "codemirror_mode": {
    "name": "ipython",
    "version": 3
   },
   "file_extension": ".py",
   "mimetype": "text/x-python",
   "name": "python",
   "nbconvert_exporter": "python",
   "pygments_lexer": "ipython3",
   "version": "3.12.4"
  }
 },
 "nbformat": 4,
 "nbformat_minor": 5
}
