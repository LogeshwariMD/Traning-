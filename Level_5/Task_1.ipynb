{
 "cells": [
  {
   "cell_type": "markdown",
   "id": "dab340d5-35a0-4d16-a6b1-87a1ecba0e78",
   "metadata": {},
   "source": [
    " Project 1: Personal Budget Tracker"
   ]
  },
  {
   "cell_type": "code",
   "execution_count": 1,
   "id": "389f0d75-ea47-4bc3-9efd-77fa11056eeb",
   "metadata": {},
   "outputs": [],
   "source": [
    "income = {\n",
    "    \"salary\": 3000,\n",
    "    \"freelance\": 500\n",
    "}"
   ]
  },
  {
   "cell_type": "code",
   "execution_count": 2,
   "id": "980ae151-dc2d-49b0-8afb-89b454570f09",
   "metadata": {},
   "outputs": [],
   "source": [
    "expenses = {\n",
    "    \"rent\": 1200,\n",
    "    \"food\": 800,\n",
    "    \"transport\": 200,\n",
    "    \"entertainment\": 100\n",
    "}"
   ]
  },
  {
   "cell_type": "code",
   "execution_count": 3,
   "id": "a11fc0ec-26fe-41c9-8ecd-801b1b6b908a",
   "metadata": {},
   "outputs": [],
   "source": [
    "def calculate_total_income(income_dict):\n",
    "    return sum(income_dict.values())\n"
   ]
  },
  {
   "cell_type": "code",
   "execution_count": 4,
   "id": "3d2c66ef-b09f-42ba-9882-59ceee9bdb2a",
   "metadata": {},
   "outputs": [],
   "source": [
    "def calculate_total_expenses(expenses_dict):\n",
    "    return sum(expenses_dict.values())"
   ]
  },
  {
   "cell_type": "code",
   "execution_count": 5,
   "id": "9c3a720f-f904-4ca3-93e6-4f3a6e21fcef",
   "metadata": {},
   "outputs": [],
   "source": [
    "total_income = calculate_total_income(income)\n",
    "total_expenses = calculate_total_expenses(expenses)\n",
    "balance = total_income - total_expenses"
   ]
  },
  {
   "cell_type": "code",
   "execution_count": 6,
   "id": "e9c7c0a0-a20f-4811-845c-5a9ba160549e",
   "metadata": {},
   "outputs": [
    {
     "name": "stdout",
     "output_type": "stream",
     "text": [
      "Income: 3500, Expenses: 2300, Balance: 1200\n"
     ]
    }
   ],
   "source": [
    "print(f\"Income: {total_income}, Expenses: {total_expenses}, Balance: {balance}\")"
   ]
  },
  {
   "cell_type": "code",
   "execution_count": null,
   "id": "1ccb9292-48b9-43d9-9080-d19d07b6dccb",
   "metadata": {},
   "outputs": [],
   "source": []
  }
 ],
 "metadata": {
  "kernelspec": {
   "display_name": "Python 3 (ipykernel)",
   "language": "python",
   "name": "python3"
  },
  "language_info": {
   "codemirror_mode": {
    "name": "ipython",
    "version": 3
   },
   "file_extension": ".py",
   "mimetype": "text/x-python",
   "name": "python",
   "nbconvert_exporter": "python",
   "pygments_lexer": "ipython3",
   "version": "3.12.4"
  }
 },
 "nbformat": 4,
 "nbformat_minor": 5
}
